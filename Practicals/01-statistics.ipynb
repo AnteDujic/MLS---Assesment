{
 "cells": [
  {
   "cell_type": "markdown",
   "id": "dadc12d7-08a8-4958-a7ee-ee519ca9b667",
   "metadata": {},
   "source": [
    "# STATISTICS\n",
    "## AUTHOR: ANTE DUJIC\n",
    "<hr style=\"border:2px solid black\"> </hr>"
   ]
  },
  {
   "cell_type": "markdown",
   "id": "1720afb9-d9c3-417b-9546-1f4ac490149b",
   "metadata": {
    "tags": []
   },
   "source": [
    "## LADY TASTING TEA EXPERIMENT\n",
    "\n",
    "<center><img src=\"https://miro.medium.com/max/1100/1*tZ1G1TnuAfjsCx1UHcGxVw.png\" width=\"800\"/></center>"
   ]
  },
  {
   "cell_type": "markdown",
   "id": "4fd67c4e-32ee-457d-93aa-003e45d782b3",
   "metadata": {},
   "source": [
    "The Lady Tasting Tea problem is a randomized experiment designed by Ronald A. Fisher and reported in his book The Design of Experiments.\n",
    "\n",
    "Fisher describes the problem as follows:"
   ]
  },
  {
   "cell_type": "markdown",
   "id": "fa466ef1-ec56-4679-97ea-eddddc43cae6",
   "metadata": {},
   "source": [
    "> *A lady declares that by tasting a cup of tea made with milk she can discriminate whether the milk or the tea infusion was first added to the cup: We will consider the problem of designing an experiment by means of which this assertion can be tested. For this purpose let us first lay down a simple form of experiment with a view to studying its limitations and its characteristics, both those which appear to be essential to the experimental method, when well developed, and those which are not essential but auxiliary.*\n",
    "\n",
    "> *Our experiment consists in mixing eight cups of tea, four in one way and four in the other, and presenting them to the subject for judgment in a random order. The subject has been told in advance of what the test will consist, namely that she will be asked to taste eight cups, that these shall be four of each kind, and that they shall be presented to her in a random order, that is in an order not determined arbitrarily by human choice, but by the actual manipulation of the physical apparatus used in games of chance, cards, dice, roulettes, etc., or, more expeditiously, from a published collection of random sampling numbers purporting to give the actual results of such manipulation. Her task is to divide the 8 cups into two sets of 4, agreeing, if possible, with the treatments received.*"
   ]
  },
  {
   "cell_type": "markdown",
   "id": "563329d1-6985-4957-8959-63221c7b1414",
   "metadata": {},
   "source": [
    "<hr style=\"border:2px solid gray\"> </hr>"
   ]
  },
  {
   "cell_type": "markdown",
   "id": "15e6616c-b91d-4ff4-818d-21103edda1cf",
   "metadata": {},
   "source": [
    "### NUMBER OF COMBINATIONS\n",
    "\n",
    "<hr style=\"border-top: 1px solid rgb(0, 91, 94);\" />"
   ]
  },
  {
   "cell_type": "markdown",
   "id": "79639425-556f-442a-8def-b92bd954304d",
   "metadata": {},
   "source": [
    "As Fisher stated in his book, there are 8 cups of tea used in this experiment [1]:\n",
    "- 4 cups with the milk poured first\n",
    "- 4 cups with the tea poured first"
   ]
  },
  {
   "cell_type": "markdown",
   "id": "5b4b362f-5ead-4575-a63e-a4761a6272e7",
   "metadata": {},
   "source": [
    "<center><img src=\"https://s3.us-east-2.amazonaws.com/brainder/2015/tastingtea/tea_cups.png\" width=\"500\"/></center>"
   ]
  },
  {
   "cell_type": "markdown",
   "id": "0e5d2712-6657-4235-85ff-5fdf1fba3aad",
   "metadata": {},
   "source": [
    "Once the first group of four cups is selected, the second group is made up of the remaining four cups. This means we only actually need to count how many different ways there are to select four cups out of eight. Cups in the experiment have no order, but we will label them with integers 0 to 7 simply for the convenience."
   ]
  },
  {
   "cell_type": "code",
   "execution_count": 1,
   "id": "35fc741e-beed-43f5-a481-9a77ecfd5ed0",
   "metadata": {},
   "outputs": [
    {
     "data": {
      "text/plain": [
       "[0, 1, 2, 3, 4, 5, 6, 7]"
      ]
     },
     "execution_count": 1,
     "metadata": {},
     "output_type": "execute_result"
    }
   ],
   "source": [
    "# The eight cups\n",
    "cups = list(range(8))\n",
    "cups"
   ]
  },
  {
   "cell_type": "markdown",
   "id": "dc89e072-ad11-4bbe-b69d-1940a4cfd7ef",
   "metadata": {},
   "source": [
    "Suppose the lady is *randomly* trying to pick the four cups with milk in first. By randomly, we mean that she can not really tell which cups have the milk in first. The number of ways of selecting four unordered items from eight is given by the [Choose](http://mathworld.wolfram.com/Choose.html) function in mathematics."
   ]
  },
  {
   "cell_type": "code",
   "execution_count": 2,
   "id": "5eceb8bb-6e2e-486f-ad41-5fe931d8e7de",
   "metadata": {},
   "outputs": [
    {
     "data": {
      "text/plain": [
       "70.0"
      ]
     },
     "execution_count": 2,
     "metadata": {},
     "output_type": "execute_result"
    }
   ],
   "source": [
    "# Possible combinations\n",
    "(8*7*6*5)/(4*3*2*1)"
   ]
  },
  {
   "cell_type": "markdown",
   "id": "e9cacfce-f524-4d8a-b1c5-1c88635d764d",
   "metadata": {},
   "source": [
    "There are [2]:\n",
    "- 8 x 7 x 6 x 5 = 1680 ways of choosing 4 cups out of 8\n",
    "- 4 x 3 x 2 x 1 = 24 different ways of ordering each set of 4 cups\n",
    "\n",
    "Therefore:\n",
    "- 1680 / 24 = 70 ways of selecting 4 out of 8 if the order doesn't matter"
   ]
  },
  {
   "cell_type": "markdown",
   "id": "af8f2ae8-38c6-43ca-a9e9-f2e973bfc3a7",
   "metadata": {},
   "source": [
    "This means there is only a probability of 1/70 of getting the right answer. "
   ]
  },
  {
   "cell_type": "markdown",
   "id": "216c2b24-3f7a-48bf-a085-f81866c85ae9",
   "metadata": {},
   "source": [
    "All 70 possibilities can be enumarated using the combinations function from the *itertool* Python package. It takes a list $l$ of items and a number $n$. It returns/generates each way of selecting $n$ unordered items from $l$."
   ]
  },
  {
   "cell_type": "code",
   "execution_count": 3,
   "id": "2a057919-4b34-4699-8d4f-bf1429cae87e",
   "metadata": {},
   "outputs": [
    {
     "data": {
      "text/plain": [
       "[(0, 1, 2, 3),\n",
       " (0, 1, 2, 4),\n",
       " (0, 1, 2, 5),\n",
       " (0, 1, 2, 6),\n",
       " (0, 1, 2, 7),\n",
       " (0, 1, 3, 4),\n",
       " (0, 1, 3, 5),\n",
       " (0, 1, 3, 6),\n",
       " (0, 1, 3, 7),\n",
       " (0, 1, 4, 5),\n",
       " (0, 1, 4, 6),\n",
       " (0, 1, 4, 7),\n",
       " (0, 1, 5, 6),\n",
       " (0, 1, 5, 7),\n",
       " (0, 1, 6, 7)]"
      ]
     },
     "execution_count": 3,
     "metadata": {},
     "output_type": "execute_result"
    }
   ],
   "source": [
    "import itertools\n",
    "\n",
    "# All possible combinations\n",
    "poss = list(itertools.combinations(cups, 4))\n",
    "# Print first 15\n",
    "poss[0:15]"
   ]
  },
  {
   "cell_type": "markdown",
   "id": "90ab4d27-45de-4d6d-b76f-810542a6ce89",
   "metadata": {},
   "source": [
    "### HYPOTHESES\n",
    "\n",
    "<hr style=\"border-top: 1px solid rgb(0, 91, 94);\" />"
   ]
  },
  {
   "cell_type": "markdown",
   "id": "25f8ffa4-dcd6-4507-ad6f-f58e9cfa8076",
   "metadata": {},
   "source": [
    "In his book, Fisher describes the *null hypothesis*. The null hypothesis is the statement to be countered by the experiment. [3]  In the lady tasting tea experiment, the null hypothesis was that the lady could not tell the difference between a cup of tea with the milk poured in first and the one that had the tea poured in first."
   ]
  },
  {
   "cell_type": "markdown",
   "id": "c39e1caa-f06a-4d6e-a9e8-6665411988b7",
   "metadata": {},
   "source": [
    "**Null Hypothesis:** Lady can not tell if the cup had milk in it first or last.\n",
    "\n",
    "Once we collect the experimental data we evaluate how likely we were to see such data if the null hypothesis is true. If it is very unlikely, then we may reject the null hypothesis. Typically we have an alternative hypothesis that we suggest rejecting the null hypothesis is evidence for.\n",
    "\n",
    "\n",
    "**Alternative Hypothesis:** Lady can tell the difference.\n",
    "\n",
    "\n",
    "Should the subject pick the correct four cups with milk in them first, there is only a 1 in 70 (~1.4%) chance of them having done that if they were simply guessing. Fisher considered that unlikely enough to reject the null hypothesis if they manage it."
   ]
  },
  {
   "cell_type": "code",
   "execution_count": 4,
   "id": "c49dfcf9-a8c5-42de-b620-b5abccebea73",
   "metadata": {},
   "outputs": [
    {
     "data": {
      "text/plain": [
       "0.014285714285714285"
      ]
     },
     "execution_count": 4,
     "metadata": {},
     "output_type": "execute_result"
    }
   ],
   "source": [
    "# Only one of the 70 randomly selected possibilities is the desired result\n",
    "1 / 70"
   ]
  },
  {
   "cell_type": "code",
   "execution_count": 5,
   "id": "e5e54a08-b4ea-4d4b-9dfd-e8084d843c6c",
   "metadata": {},
   "outputs": [
    {
     "data": {
      "text/plain": [
       "70"
      ]
     },
     "execution_count": 5,
     "metadata": {},
     "output_type": "execute_result"
    }
   ],
   "source": [
    "# Math module\n",
    "import math\n",
    "\n",
    "# Number of ways of selecting 4 cups from 8\n",
    "math.comb(8, 4)"
   ]
  },
  {
   "cell_type": "code",
   "execution_count": 6,
   "id": "c783fa9c-981d-4a11-bfe3-7d6e6f00f5a2",
   "metadata": {},
   "outputs": [
    {
     "data": {
      "text/plain": [
       "0.014285714285714285"
      ]
     },
     "execution_count": 6,
     "metadata": {},
     "output_type": "execute_result"
    }
   ],
   "source": [
    "# The probability is then\n",
    "1.0 / math.comb(8, 4)"
   ]
  },
  {
   "cell_type": "markdown",
   "id": "ab3f81e4-dfab-43ad-8626-9ed05781671f",
   "metadata": {},
   "source": [
    "### DISTRIBUTION\n",
    "\n",
    "<hr style=\"border-top: 1px solid rgb(0, 91, 94);\" />"
   ]
  },
  {
   "cell_type": "markdown",
   "id": "5f56787b-fbdf-4192-9af3-71c0ac03e7aa",
   "metadata": {},
   "source": [
    "We may be tempted to allow the possibility of rejecting the null hypothesis if the subject gets three cups right. That would be a mistake, as the following plot shows. It shows the null distribution, the number of ways of guessing for each number of correct cups.\n",
    "\n",
    "We can see from the plot that there is ~20% (16/70) chance of guessing at least three correct cups, and it can be said that is not unlikely enough to reject the null hypothesis."
   ]
  },
  {
   "cell_type": "code",
   "execution_count": 7,
   "id": "fed7a6d4-55de-4ecf-890e-8e81be281efd",
   "metadata": {},
   "outputs": [
    {
     "data": {
      "image/png": "[encoded data removed]",
      "text/plain": [
       "<Figure size 432x288 with 1 Axes>"
      ]
     },
     "metadata": {
      "needs_background": "light"
     },
     "output_type": "display_data"
    }
   ],
   "source": [
    "# For random selection\n",
    "import random\n",
    "# For plotting\n",
    "import seaborn as sns\n",
    "\n",
    "# Total number of cups\n",
    "cups = list(range(8))\n",
    "\n",
    "# Pick a random correct answer from the list of 70 to simulate the experiment\n",
    "milkfirst = set(random.choice(poss))\n",
    "\n",
    "# Count the overlap between the correct answer, and each of the 70 possiblities\n",
    "counts = [len(milkfirst & set(i)) for i in itertools.combinations(cups, 4)]\n",
    "\n",
    "# Plotting\n",
    "sns.set(rc={'figure.figsize':(25, 6)})\n",
    "ax = sns.countplot(x=counts)\n",
    "ax.set(xlabel='Number correct cups', ylabel='Count')\n",
    "ax.bar_label(ax.containers[0]);"
   ]
  },
  {
   "cell_type": "markdown",
   "id": "98a66620-c0b1-4727-a408-a5515da4758c",
   "metadata": {},
   "source": [
    "<hr style=\"border-top: 20px solid #add8e6;\" />\n",
    "\n",
    "<hr style=\"border-top: 1px solid #001a79;\" />\n",
    "<h4 style=\"color: #001a79;\">EXERCISE 1</h4>"
   ]
  },
  {
   "cell_type": "markdown",
   "id": "9a6d92c7-85f0-403e-af9d-7c4366e4104e",
   "metadata": {},
   "source": [
    "<h5 style=\"color: #001a79;\">The above gives about a 1.5% chance of randomly selecting the correct cups. Calculate the minimum number of cups of tea required to ensure the probability of randomly selecting the correct cups is less than or equal to 1%.</h5>\n",
    "<hr style=\"border-top: 1px solid #001a79;\" />"
   ]
  },
  {
   "cell_type": "markdown",
   "id": "19c38b54-3c32-4115-a4ae-33080ddce897",
   "metadata": {},
   "source": [
    "The following is adapted from https://stackoverflow.com/a/4941932"
   ]
  },
  {
   "cell_type": "code",
   "execution_count": 8,
   "id": "10a6605c-1a3c-4426-be8b-cab1de882c7a",
   "metadata": {},
   "outputs": [
    {
     "data": {
      "text/plain": [
       "252"
      ]
     },
     "execution_count": 8,
     "metadata": {},
     "output_type": "execute_result"
    }
   ],
   "source": [
    "# Number of ways of selecting 5 cups from 10\n",
    "math.comb(10, 5)"
   ]
  },
  {
   "cell_type": "code",
   "execution_count": 9,
   "id": "0c57aa5d-1071-4c66-9602-2efbce4f5f2c",
   "metadata": {},
   "outputs": [
    {
     "data": {
      "text/plain": [
       "0.003968253968253968"
      ]
     },
     "execution_count": 9,
     "metadata": {},
     "output_type": "execute_result"
    }
   ],
   "source": [
    "# Probability of randomly selecting correct 5 cups is:\n",
    "1.0 / math.comb(10, 5)"
   ]
  },
  {
   "cell_type": "markdown",
   "id": "a931ddf8-554d-48f0-9049-df446762667c",
   "metadata": {
    "tags": []
   },
   "source": [
    "So, if the experiment was done with 10 cups total, 5 with milk in first and 5 with tea in first, then the chance of selecting correctly randomly is much less than 1%."
   ]
  },
  {
   "cell_type": "markdown",
   "id": "0cf1e74c-07c6-4511-98f4-66489f661439",
   "metadata": {},
   "source": [
    "We could design the experiment to have 9 cups in total, with 4 with milk in first and 5 with tea in first - or vice versa."
   ]
  },
  {
   "cell_type": "code",
   "execution_count": 10,
   "id": "857f33bf-65fb-4f0a-bb60-4615a0d6b87e",
   "metadata": {},
   "outputs": [
    {
     "data": {
      "text/plain": [
       "126"
      ]
     },
     "execution_count": 10,
     "metadata": {},
     "output_type": "execute_result"
    }
   ],
   "source": [
    "# Number of ways of selecting 4 cups from 9\n",
    "math.comb(9, 4)"
   ]
  },
  {
   "cell_type": "code",
   "execution_count": 11,
   "id": "f122a648-1184-46f4-bcc8-c1a23c5561c6",
   "metadata": {},
   "outputs": [
    {
     "data": {
      "text/plain": [
       "184756"
      ]
     },
     "execution_count": 11,
     "metadata": {},
     "output_type": "execute_result"
    }
   ],
   "source": [
    "# Note the number of ways of selecting 5 cups from 9\n",
    "math.comb(20, 10)\n",
    "# It's the same as selecting 4 out of 9"
   ]
  },
  {
   "cell_type": "code",
   "execution_count": 12,
   "id": "2bdbfc50-c5de-4b7d-9950-af2970330149",
   "metadata": {},
   "outputs": [
    {
     "data": {
      "text/plain": [
       "0.007936507936507936"
      ]
     },
     "execution_count": 12,
     "metadata": {},
     "output_type": "execute_result"
    }
   ],
   "source": [
    "# Probability::\n",
    "1.0 / math.comb(9, 4)"
   ]
  },
  {
   "cell_type": "markdown",
   "id": "1844f3ba-7823-4a5e-8562-4400de9d3d35",
   "metadata": {},
   "source": [
    "This is less than 1% too."
   ]
  },
  {
   "cell_type": "markdown",
   "id": "cf66fc43-de79-4fd4-9fa8-fbb8bdd3c448",
   "metadata": {},
   "source": [
    "We already know that the probability of selecting 4 out of 8 is greater then 1%."
   ]
  },
  {
   "cell_type": "markdown",
   "id": "7983b995-e73a-4a4e-b972-024c39c2d3fc",
   "metadata": {},
   "source": [
    "| 5 out of 10 | 4 or 5 out of 9 | 4 out of 8 | \n",
    "| :-: | :-: | :-: | \n",
    "| 0.3 %  |  0.7 % |  1.42 % |                                                                            "
   ]
  },
  {
   "cell_type": "markdown",
   "id": "67d60d91-9401-4577-a01c-2b851e5dbd5e",
   "metadata": {},
   "source": [
    "<hr style=\"border-top: 1px solid  #d48a72;\" />\n",
    "<h5 style=\"color: #d48a72;\">ANSWER: The minimum cups of tea required to ensure the probability of randomly selecting the correct cups is less than or equal to 1% is 9 cups, or if we want to design the test with even number of cups, it is 10. <h5>\n",
    "<hr style=\"border-top: 1px solid  #d48a72;\" />"
   ]
  },
  {
   "cell_type": "markdown",
   "id": "efbf7f10-eb1d-40ec-bf19-49f94e76201c",
   "metadata": {},
   "source": [
    "<hr style=\"border-top: 1px solid #001a79;\" />\n",
    "<h5 style=\"color: #001a79;\">Bonus: How many would be required if you were to let the taster get one cup wrong while maintaining the 1% threshold?</h5>\n",
    "<hr style=\"border-top: 1px solid #001a79;\" />"
   ]
  },
  {
   "cell_type": "markdown",
   "id": "4ea278c8-9689-42eb-9889-bd306b664ede",
   "metadata": {},
   "source": [
    "We'll first look into the situation with 8 cups in total. If we allow 1 cup to be selected wrong (3 cups have to be correct) there are (4 x 4) 16 possible ways of doing that (when order doesn't matter) - see table below. We need to account the situation if all cups are selected correctly and there is only one way of doing that. So there are 17 possible ways of getting the correct answer if we allow one mistake to be made, which is 17/70 = 0.24 (24%)."
   ]
  },
  {
   "cell_type": "markdown",
   "id": "40110baf-c714-4577-945e-4e3d79705cb4",
   "metadata": {},
   "source": [
    "| [1] [2] [3] [4]   |   [5] [6] [7] [8] |\n",
    "| :-: | :-: |\n",
    "| [1] [2] [3] | [5] |\n",
    "| [1] [2] [4] | [5] |\n",
    "| [1] [3] [4] | [5] |\n",
    "| [2] [3] [5] | [5] |\n",
    "| **[1] [2] [3]** | **[6]** |\n",
    "| **[1] [2] [4]** | **[6]** |\n",
    "| **. . .** | **...** |"
   ]
  },
  {
   "cell_type": "markdown",
   "id": "a192e00c-0b4c-4cb1-8945-b06dcff770ad",
   "metadata": {},
   "source": [
    "$$ PROBABILITY: {{1 + (4x4)} \\over 70} = 0.2428 $$"
   ]
  },
  {
   "cell_type": "markdown",
   "id": "a373777e-dce0-432e-9b7b-a8b9af295bed",
   "metadata": {},
   "source": [
    "$ p = {{1 + (cups selected)^2} \\over (possible combinations)} * 100  $"
   ]
  },
  {
   "cell_type": "code",
   "execution_count": 13,
   "id": "bf554503-1315-486a-9106-4759457a5db7",
   "metadata": {},
   "outputs": [
    {
     "data": {
      "text/plain": [
       "24.285714285714285"
      ]
     },
     "execution_count": 13,
     "metadata": {},
     "output_type": "execute_result"
    }
   ],
   "source": [
    "# Apply formula to 8 cups\n",
    "total_cups = 8\n",
    "cup_pick = int(total_cups / 2)\n",
    "(1+(cup_pick**2))/ math.comb(total_cups, cup_pick) *100"
   ]
  },
  {
   "cell_type": "markdown",
   "id": "252941b1-2289-44b4-8cf8-6ce71a146684",
   "metadata": {},
   "source": [
    "We can increase the number of cups and apply the same logic to this. So, for the 10 cups in total, there are 25 possible ways of getting 4 cups correct and 1 wrong, and 1 possible way of getting all cups correct. That is 26 possible combinations, which is ~10%. We can keep increasing the cups and apply the same formula until we are satisfied with the result."
   ]
  },
  {
   "cell_type": "code",
   "execution_count": 14,
   "id": "e0c0f594-4955-40c5-9938-5f32ee2b7e1b",
   "metadata": {},
   "outputs": [
    {
     "name": "stdout",
     "output_type": "stream",
     "text": [
      "Total cups: 1 Probability:  100.0 %\n",
      "Total cups: 2 Probability:  100.0 %\n",
      "Total cups: 3 Probability:  66.66666666666666 %\n",
      "Total cups: 4 Probability:  83.33333333333334 %\n",
      "Total cups: 5 Probability:  50.0 %\n",
      "Total cups: 6 Probability:  50.0 %\n",
      "Total cups: 7 Probability:  28.57142857142857 %\n",
      "Total cups: 8 Probability:  24.285714285714285 %\n",
      "Total cups: 9 Probability:  13.492063492063492 %\n",
      "Total cups: 10 Probability:  10.317460317460316 %\n",
      "Total cups: 11 Probability:  5.627705627705628 %\n",
      "Total cups: 12 Probability:  4.004329004329004 %\n",
      "Total cups: 13 Probability:  2.156177156177156 %\n",
      "Total cups: 14 Probability:  1.4568764568764567 %\n"
     ]
    }
   ],
   "source": [
    "# Increase the number of cups and apply the above formula (we'll start from the beggining)\n",
    "for i in range (1,100):\n",
    "    total_cups = i\n",
    "    cup_pick = int(total_cups / 2)\n",
    "    p = (1+(cup_pick**2))/ math.comb(total_cups, cup_pick) * 100\n",
    "    if p < 1:\n",
    "        break\n",
    "    print (\"Total cups:\", total_cups, \"Probability: \", p, \"%\")"
   ]
  },
  {
   "cell_type": "code",
   "execution_count": 15,
   "id": "87970efd-c3c6-47f1-8f87-d892833c9fa2",
   "metadata": {},
   "outputs": [
    {
     "data": {
      "text/plain": [
       "0.777000777000777"
      ]
     },
     "execution_count": 15,
     "metadata": {},
     "output_type": "execute_result"
    }
   ],
   "source": [
    "# 15 cups total\n",
    "total_cups = 15\n",
    "cup_pick = int(total_cups / 2)\n",
    "(1+(cup_pick**2))/ math.comb(total_cups, cup_pick) * 100"
   ]
  },
  {
   "cell_type": "code",
   "execution_count": 16,
   "id": "6e80dccb-ad30-4693-96fe-618019e48e39",
   "metadata": {},
   "outputs": [
    {
     "data": {
      "text/plain": [
       "0.5050505050505051"
      ]
     },
     "execution_count": 16,
     "metadata": {},
     "output_type": "execute_result"
    }
   ],
   "source": [
    "# 16 cups total\n",
    "total_cups = 16\n",
    "cup_pick = int(total_cups / 2)\n",
    "(1+(cup_pick**2))/ math.comb(total_cups, cup_pick) * 100"
   ]
  },
  {
   "cell_type": "markdown",
   "id": "ad152f80-e379-4218-9ef9-43acb50180b4",
   "metadata": {},
   "source": [
    "<hr style=\"border-top: 1px solid  #d48a72;\" />\n",
    "<h5 style=\"color: #d48a72;\">ANSWER: To allow one cup to be selected incorrectly, but keeping the treshold of 1%, we should have at least 15 cups in total, or if we want to keep the number of cups even, then 16. <h5>\n",
    "<hr style=\"border-top: 1px solid  #d48a72;\" />"
   ]
  },
  {
   "cell_type": "markdown",
   "id": "bd22755c-92e3-48f2-a647-e7124e88c90e",
   "metadata": {},
   "source": [
    "<hr style=\"border-top: 20px solid #add8e6;\" />"
   ]
  },
  {
   "cell_type": "markdown",
   "id": "c6ea5673-254c-4eb5-9440-52dcf293bae3",
   "metadata": {},
   "source": [
    "<hr style=\"border-top: 1px solid #001a79;\" />\n",
    "\n",
    "<h4 style=\"color: #001a79;\">EXERCISE 2</h4>"
   ]
  },
  {
   "cell_type": "markdown",
   "id": "7fcc2b29-e223-43da-9d26-c392622db370",
   "metadata": {},
   "source": [
    "<h5 style=\"color: #001a79;\">Use <a href=\"https://docs.scipy.org/doc/scipy/reference/generated/scipy.stats.fisher_exact.html\" style=\"color: #ff791e\">scipy's version of Fisher's exact test</a> to simulate the Lady Tasting Tea problem.</h5>\n",
    "<hr style=\"border-top: 1px solid #001a79;\" />"
   ]
  },
  {
   "cell_type": "markdown",
   "id": "482f0d18-dab1-4a0f-ae5d-9952a682f1e2",
   "metadata": {},
   "source": [
    "#### scipy.stats.fisher_exact(table, alternative='two-sided')"
   ]
  },
  {
   "cell_type": "markdown",
   "id": "8b0efbba-827b-40b3-980e-22a8b6d77963",
   "metadata": {},
   "source": [
    "This function performs a Fisher exact test on a 2x2 contingency table. It takes two parameters:\n",
    "- *table* - which is a 2x2 contingency table\n",
    "- *alternative* - defines the alternative hypothesis. Possible choices:\n",
    "    - *two-sided*: the odds ratio of the underlying population is not one - default\n",
    "    - *less*: the odds ratio of the underlying population is less than one\n",
    "    - *greater*: the odds ratio of the underlying population is greater than one\n",
    "***"
   ]
  },
  {
   "cell_type": "code",
   "execution_count": 17,
   "id": "01aa1e02-43cd-49fc-9830-580d894dc085",
   "metadata": {},
   "outputs": [],
   "source": [
    "# Statisctical methods\n",
    "import scipy.stats as ss"
   ]
  },
  {
   "cell_type": "markdown",
   "id": "f9badb22-98f4-4176-a7ab-dedd7de32291",
   "metadata": {},
   "source": [
    "Our contingency table:"
   ]
  },
  {
   "cell_type": "markdown",
   "id": "c0de719f-637a-40d9-b7b9-17596433f150",
   "metadata": {},
   "source": [
    "|  | TEA | MILK | \n",
    "| :-: | :-: | :-: | \n",
    "| **TEA** |  4 |  0 |\n",
    "| **MILK** |  0 |  4 |"
   ]
  },
  {
   "cell_type": "code",
   "execution_count": 18,
   "id": "198645c4-e5b2-4b25-9445-fd865eab4646",
   "metadata": {},
   "outputs": [
    {
     "data": {
      "text/plain": [
       "(inf, 0.028571428571428567)"
      ]
     },
     "execution_count": 18,
     "metadata": {},
     "output_type": "execute_result"
    }
   ],
   "source": [
    "# Perform the test on the table above\n",
    "ss.fisher_exact([[4, 0], [0, 4]])"
   ]
  },
  {
   "cell_type": "markdown",
   "id": "9f855171-5905-4243-b725-2ddfc92abe31",
   "metadata": {},
   "source": [
    "We can see that the p-value generated when running the fisher-exact function is exactly double of what we have calculated before."
   ]
  },
  {
   "cell_type": "code",
   "execution_count": 19,
   "id": "fcc78196-b912-4622-8150-708d4a2902c0",
   "metadata": {},
   "outputs": [
    {
     "data": {
      "text/plain": [
       "(0.014285714285714285, 0.014285714285714284)"
      ]
     },
     "execution_count": 19,
     "metadata": {},
     "output_type": "execute_result"
    }
   ],
   "source": [
    "1.0 / math.comb(8, 4), (ss.fisher_exact([[4, 0], [0, 4]])[1])/2"
   ]
  },
  {
   "cell_type": "markdown",
   "id": "ae36587f-32e7-49b5-b406-4429200a1e5b",
   "metadata": {},
   "source": [
    "When not specified differently the fisher_exact *alternative* parameter is set to be *two-sided*. This gives a p-value doubled to the one we were expecting. This could be due to the fact that selecting all correct cups have 2 possible situations (if not specified differently). Selecting all the cups correctly has the same possibility as selecting none. To exclude one situation and only allow selecting the cups we want to be selected, this needs to be specified when testing and we do that by setting the alternative to *greater*."
   ]
  },
  {
   "cell_type": "code",
   "execution_count": 20,
   "id": "18f63b92-0f08-4bd5-8b2a-59d6e9100bac",
   "metadata": {},
   "outputs": [
    {
     "data": {
      "text/plain": [
       "0.014285714285714284"
      ]
     },
     "execution_count": 20,
     "metadata": {},
     "output_type": "execute_result"
    }
   ],
   "source": [
    "p = ss.fisher_exact([[4, 0], [0, 4]], alternative = \"greater\")\n",
    "p[1]"
   ]
  },
  {
   "cell_type": "markdown",
   "id": "a288fef7-a871-4fd2-9abb-019ef440737c",
   "metadata": {},
   "source": [
    "<hr style=\"border-top: 20px solid #add8e6;\" />"
   ]
  },
  {
   "cell_type": "markdown",
   "id": "176492e1-0bea-4475-bf87-34ff8f497be4",
   "metadata": {},
   "source": [
    "<hr style=\"border:2px solid gray\"> </hr>"
   ]
  },
  {
   "cell_type": "markdown",
   "id": "adc1c241-c569-45dd-ad63-c22a7bf24b1a",
   "metadata": {
    "tags": []
   },
   "source": [
    "## STUDENT $t$-TEST\n",
    "\n",
    "<center><img src=\"https://upload.wikimedia.org/wikipedia/commons/4/42/William_Sealy_Gosset.jpg\" width=\"300\"/></center>\n",
    "\n",
    "|William Sealy Gosset |\n",
    "| :-: |\n",
    "| Developed the \"t-statistic\" and published it under the pseudonym of \"Student\" |"
   ]
  },
  {
   "cell_type": "markdown",
   "id": "a91cc937-be83-4ad9-8ffb-7acda67b17af",
   "metadata": {
    "tags": []
   },
   "source": [
    "$T$-tests are among the most common statistical tests performed in world. They are used to determine if there is a significant difference between the means of two groups and how they are related. T-tests are used when the data sets follow a normal distribution and have unknown variances. [4]\n",
    "\n",
    "We will focus on the practicalities of performing $t$-tests in Python further in this notebook."
   ]
  },
  {
   "cell_type": "markdown",
   "id": "d050cc77-c088-4e3d-91b8-a8a534473b79",
   "metadata": {},
   "source": [
    "<hr style=\"border:2px solid gray\"> </hr>"
   ]
  },
  {
   "cell_type": "code",
   "execution_count": 21,
   "id": "a181582c-4970-4b99-afe9-b4d930b3785e",
   "metadata": {},
   "outputs": [],
   "source": [
    "# To work with arrays\n",
    "import numpy as np\n",
    "\n",
    "# To work with dataframes\n",
    "import pandas as pd\n",
    "\n",
    "# Statistics\n",
    "import scipy.stats as ss\n",
    "import statsmodels.stats.weightstats as stat\n",
    "\n",
    "# Plotting\n",
    "import matplotlib.pyplot as plt\n",
    "import seaborn as sns"
   ]
  },
  {
   "cell_type": "markdown",
   "id": "f6e13367-8912-46c9-ad22-bf8d789cec4d",
   "metadata": {},
   "source": [
    "$t$-tests perform calculations on samples from two populations to test whether the populations are likely similar. In the real world, we only see the samples and we cannot see the populations."
   ]
  },
  {
   "cell_type": "code",
   "execution_count": 22,
   "id": "23d497bf-4e00-429b-824c-09711f7cdc59",
   "metadata": {},
   "outputs": [
    {
     "data": {
      "image/png": "[encoded data removed]",
      "text/plain": [
       "<Figure size 1800x360 with 1 Axes>"
      ]
     },
     "metadata": {
      "needs_background": "light"
     },
     "output_type": "display_data"
    }
   ],
   "source": [
    "# Data\n",
    "x = np.linspace(-2.0, 4.0, 1000)\n",
    "\n",
    "# Plot size\n",
    "fig, ax = plt.subplots(figsize=(25,5))\n",
    "\n",
    "# Plotting\n",
    "y_a = ss.norm.pdf(x, 1, 0.4)\n",
    "y_b = ss.norm.pdf(x, 2, 0.4)\n",
    "ax.plot(x, y_a)\n",
    "ax.plot(x, y_b)\n",
    "\n",
    "plt.show()"
   ]
  },
  {
   "cell_type": "markdown",
   "id": "a134c502-5a47-4fbd-9243-3b600f2aafa5",
   "metadata": {},
   "source": [
    "The blue and red lines represent the population of sample *a* and *b* we have generated. Curves are normally distributed. The area under the curve gives the probability of seeing the value in that range. "
   ]
  },
  {
   "cell_type": "markdown",
   "id": "70d0c506-4603-4f6e-8c8c-4ace34d27f57",
   "metadata": {},
   "source": [
    "### CRITICAL VALUE\n",
    "\n",
    "<hr style=\"border-top: 1px solid rgb(0, 91, 94);\" />"
   ]
  },
  {
   "cell_type": "markdown",
   "id": "4520d733-492a-41db-91d9-2a6c6daa6115",
   "metadata": {
    "tags": []
   },
   "source": [
    "The critical value is used to make a decision regarding the calculation of the $t$ statistic from the samples. It is the probility value below which we reject the null hypothesis. [5] It is decided before the test is being done, but is usually set to be 0,05.\n",
    "\n",
    "If the probability of seeing such a $t$ value given the hypothesis that there is no difference between the means is low, then data is suggesting that you should reject that hypothesis."
   ]
  },
  {
   "cell_type": "code",
   "execution_count": 23,
   "id": "9358b75e-d6ff-442d-805e-664048f88ade",
   "metadata": {},
   "outputs": [
    {
     "data": {
      "image/png": "[encoded data removed]",
      "text/plain": [
       "<Figure size 1800x576 with 1 Axes>"
      ]
     },
     "metadata": {
      "needs_background": "light"
     },
     "output_type": "display_data"
    }
   ],
   "source": [
    "# The critical probability value\n",
    "critical = 0.05\n",
    "\n",
    "d_sm = 50\n",
    "# Create the figure\n",
    "fig, ax = plt.subplots(figsize=(25,8))\n",
    "\n",
    "# A range of x-values - these represent the t statistic\n",
    "min_x = -5.0\n",
    "max_x = 5.0\n",
    "x = np.linspace(min_x, max_x, 1000)\n",
    "\n",
    "# The probability density function of the t statistic\n",
    "# Here we use the degrees of freedom from above\n",
    "t = ss.t.pdf(x, d_sm)\n",
    "# Plot it.\n",
    "ax.plot(x, t)\n",
    "\n",
    "# Get the tails\n",
    "tf = pd.DataFrame({'x': x, 't': t})\n",
    "tcrit = abs(ss.t.ppf(critical / 2.0, d_sm))\n",
    "tail_one = tf[tf['x'] >= tcrit]\n",
    "tail_two = tf[tf['x'] <= -tcrit]\n",
    "# Plot them\n",
    "ax.fill_between(tail_one['x'], tail_one['t'], 0, facecolor = \"red\")\n",
    "ax.fill_between(tail_two['x'], tail_two['t'], 0,  facecolor = \"red\")\n",
    "plt.ylabel(\"PROBABILITY FUNCTION\")\n",
    "# Customize the plot\n",
    "ax.text (x = 2.5, y = 0.01, s = \"REJECT Ho\\n\", fontsize = 14)\n",
    "ax.text (x = -3.5, y = 0.01, s = \"REJECT Ho\\n\", fontsize = 14)\n",
    "ax.axvline (2, ls = \"--\", alpha = 0.5)\n",
    "ax.axvline (-2, ls = \"--\", alpha = 0.5)\n",
    "\n",
    "plt.show()"
   ]
  },
  {
   "cell_type": "markdown",
   "id": "f42a581f-1543-4b1c-af92-de752c777b93",
   "metadata": {},
   "source": [
    "### ERRORS\n",
    "\n",
    "<hr style=\"border-top: 1px solid rgb(0, 91, 94);\" />"
   ]
  },
  {
   "cell_type": "markdown",
   "id": "ab9ff34b-0c3a-438c-b290-617551004686",
   "metadata": {},
   "source": [
    "Even though hypothesis tests are meant to be reliable, there are two types of errors that can still occur:\n",
    "- Type I error - FALSE POSITIVE\n",
    "- Type II error - FALSE NEGATIVE"
   ]
  },
  {
   "cell_type": "markdown",
   "id": "129a1bb6-0500-466c-a853-86351fc904a7",
   "metadata": {},
   "source": [
    "#### TYPE I ERROR"
   ]
  },
  {
   "cell_type": "markdown",
   "id": "8bfe64ab-93c1-45c0-bd4d-09746ed95893",
   "metadata": {},
   "source": [
    "They happen when the tester validates a statistically significant difference even though there isn’t one. [6] The null hypothesis is true but rejected. This means that you will wrongfully assume that your hypothesis testing has worked even though it hasn’t - thus false positive."
   ]
  },
  {
   "cell_type": "code",
   "execution_count": 24,
   "id": "759b0061-b337-40c5-8c1f-8314af7a9b56",
   "metadata": {},
   "outputs": [
    {
     "name": "stdout",
     "output_type": "stream",
     "text": [
      "5.22% times we rejected the null hypothesis, even though we shouldn't.\n"
     ]
    }
   ],
   "source": [
    "# Let's run 10000 t-tests where the population means are equal.\n",
    "# We should make the wrong decision (reject the hypothesis) (100 * critical) percent of the time.\n",
    "\n",
    "# The number of trials to run\n",
    "trials = 10000\n",
    "# The number of values in each sample\n",
    "N = 100\n",
    "# Population 1 mean, population 2 mean, standard deviation in both\n",
    "mean1, mean2, stddev = 2.0, 2.0, 0.3\n",
    "# Critical probability value\n",
    "critical = 0.05\n",
    "\n",
    "# Running total of type I errors commited\n",
    "rejects = 0\n",
    "\n",
    "# Loop throguh trials\n",
    "for i in range(trials):\n",
    "    # Generate sample 1\n",
    "    sample1 = np.random.normal(loc=mean1, scale=stddev, size=N)\n",
    "    # Generate sample 2\n",
    "    sample2 = np.random.normal(loc=mean2, scale=stddev, size=N)\n",
    "    # Run the t-test.\n",
    "    t, p = ss.ttest_ind(sample1, sample2)\n",
    "    # If p is less than critical, reject\n",
    "    if p <= critical:\n",
    "        rejects = rejects + 1\n",
    "\n",
    "# Print results.\n",
    "typei = 100.0 * (rejects / trials)\n",
    "print(f\"{typei:0.2f}% times we rejected the null hypothesis, even though we shouldn't.\")"
   ]
  },
  {
   "cell_type": "markdown",
   "id": "c9887cbc-c9a2-4003-93df-6ae9bac15a94",
   "metadata": {},
   "source": [
    "#### TYPE II ERROR"
   ]
  },
  {
   "cell_type": "markdown",
   "id": "2e887a6a-7e59-4672-acd3-b303627ea75c",
   "metadata": {},
   "source": [
    "Type II errors happen when the null hypothesis is false and you subsequently fail to reject it. [6] It is also called False negative. The chance of a false negative is harder to quantify. It depends on how close the means are."
   ]
  },
  {
   "cell_type": "code",
   "execution_count": 25,
   "id": "d94d8dc7-8f68-43a7-bf7e-ae9ccb486aef",
   "metadata": {},
   "outputs": [
    {
     "name": "stdout",
     "output_type": "stream",
     "text": [
      "35.59% of the time we don't reject the null hypothesis, even though we should.\n"
     ]
    }
   ],
   "source": [
    "# Let's run 10000 t-tests where the population means are NOT equal.\n",
    "# How often will we not reject the hypothesis?\n",
    "\n",
    "# The number of trials to run\n",
    "trials = 10000\n",
    "# The number of values in each sample\n",
    "N = 100\n",
    "# Population 1 mean, population 2 mean, standard deviation in both\n",
    "mean1, mean2, stddev = 2.0, 2.1, 0.3\n",
    "# Critical probability value.\n",
    "critical = 0.05\n",
    "\n",
    "# Running total of type I errors commited\n",
    "notrejects = 0\n",
    "\n",
    "# Loop throguh trials\n",
    "for i in range(trials):\n",
    "    # Generate sample 1\n",
    "    sample1 = np.random.normal(loc=mean1, scale=stddev, size=N)\n",
    "    # Generate sample 2\n",
    "    sample2 = np.random.normal(loc=mean2, scale=stddev, size=N)\n",
    "    # Run the t-test\n",
    "    t, p = ss.ttest_ind(sample1, sample2)\n",
    "    # If p is greater than critical, do not reject\n",
    "    if p > critical:\n",
    "        notrejects = notrejects + 1\n",
    "\n",
    "# Print results\n",
    "typeii = 100.0 * (notrejects / trials)\n",
    "print(f\"{typeii:0.2f}% of the time we don't reject the null hypothesis, even though we should.\")"
   ]
  },
  {
   "cell_type": "markdown",
   "id": "ef68f49e-1c2b-4110-8dc9-6ffd543fcd31",
   "metadata": {},
   "source": [
    "### THE $T$-TEST\n",
    "\n",
    "<hr style=\"border-top: 1px solid rgb(0, 91, 94);\" />"
   ]
  },
  {
   "cell_type": "markdown",
   "id": "84c66ca0-6f07-4025-b4fe-a11ee28373e2",
   "metadata": {},
   "source": [
    "There are three main types of t-test:\n",
    "\n",
    "- One sample t-test tests the mean of a single group against a known mean.\n",
    "- Independent Samples t-test compares the means for two groups.\n",
    "- Paired sample t-test compares means from the same group at different times.\n"
   ]
  },
  {
   "cell_type": "markdown",
   "id": "7e59e942-f8fe-40df-b4f9-439b502add03",
   "metadata": {},
   "source": [
    "### INDEPENDENT SAMPLES T - TEST\n",
    "\n",
    "<hr style=\"border-top: 1px solid rgb(0, 91, 94);\" />"
   ]
  },
  {
   "cell_type": "markdown",
   "id": "3a09ee37-3af9-4932-824a-3d3c6e3ce17d",
   "metadata": {},
   "source": [
    "We will create a fake data set with specific properties to investigate numerical methods. There are multiple data that can be scraped online for this purpose, but simulating our own data gives us more control."
   ]
  },
  {
   "cell_type": "code",
   "execution_count": 26,
   "id": "b5a45b45-71fd-4c28-8cab-a3c6e41d5fca",
   "metadata": {},
   "outputs": [
    {
     "data": {
      "text/html": [
       "<div>\n",
       "<style scoped>\n",
       "    .dataframe tbody tr th:only-of-type {\n",
       "        vertical-align: middle;\n",
       "    }\n",
       "\n",
       "    .dataframe tbody tr th {\n",
       "        vertical-align: top;\n",
       "    }\n",
       "\n",
       "    .dataframe thead th {\n",
       "        text-align: right;\n",
       "    }\n",
       "</style>\n",
       "<table border=\"1\" class=\"dataframe\">\n",
       "  <thead>\n",
       "    <tr style=\"text-align: right;\">\n",
       "      <th></th>\n",
       "      <th>Category</th>\n",
       "      <th>Value</th>\n",
       "    </tr>\n",
       "  </thead>\n",
       "  <tbody>\n",
       "    <tr>\n",
       "      <th>0</th>\n",
       "      <td>A</td>\n",
       "      <td>0.917051</td>\n",
       "    </tr>\n",
       "    <tr>\n",
       "      <th>1</th>\n",
       "      <td>A</td>\n",
       "      <td>0.909149</td>\n",
       "    </tr>\n",
       "    <tr>\n",
       "      <th>2</th>\n",
       "      <td>A</td>\n",
       "      <td>1.571133</td>\n",
       "    </tr>\n",
       "    <tr>\n",
       "      <th>3</th>\n",
       "      <td>A</td>\n",
       "      <td>0.716852</td>\n",
       "    </tr>\n",
       "    <tr>\n",
       "      <th>4</th>\n",
       "      <td>A</td>\n",
       "      <td>1.002458</td>\n",
       "    </tr>\n",
       "    <tr>\n",
       "      <th>...</th>\n",
       "      <td>...</td>\n",
       "      <td>...</td>\n",
       "    </tr>\n",
       "    <tr>\n",
       "      <th>75</th>\n",
       "      <td>B</td>\n",
       "      <td>1.812687</td>\n",
       "    </tr>\n",
       "    <tr>\n",
       "      <th>76</th>\n",
       "      <td>B</td>\n",
       "      <td>2.316688</td>\n",
       "    </tr>\n",
       "    <tr>\n",
       "      <th>77</th>\n",
       "      <td>B</td>\n",
       "      <td>2.513491</td>\n",
       "    </tr>\n",
       "    <tr>\n",
       "      <th>78</th>\n",
       "      <td>B</td>\n",
       "      <td>1.954203</td>\n",
       "    </tr>\n",
       "    <tr>\n",
       "      <th>79</th>\n",
       "      <td>B</td>\n",
       "      <td>2.352153</td>\n",
       "    </tr>\n",
       "  </tbody>\n",
       "</table>\n",
       "<p>80 rows × 2 columns</p>\n",
       "</div>"
      ],
      "text/plain": [
       "   Category     Value\n",
       "0         A  0.917051\n",
       "1         A  0.909149\n",
       "2         A  1.571133\n",
       "3         A  0.716852\n",
       "4         A  1.002458\n",
       "..      ...       ...\n",
       "75        B  1.812687\n",
       "76        B  2.316688\n",
       "77        B  2.513491\n",
       "78        B  1.954203\n",
       "79        B  2.352153\n",
       "\n",
       "[80 rows x 2 columns]"
      ]
     },
     "execution_count": 26,
     "metadata": {},
     "output_type": "execute_result"
    }
   ],
   "source": [
    "# Parameters for two different lists of numbers\n",
    "m_a, s_a, m_b, s_b = 1.0, 0.4, 2.0, 0.4\n",
    "# Sample size.\n",
    "N = 40\n",
    "\n",
    "# Create two lists of numbers based on bell-shaped probability curves\n",
    "a = np.random.normal(loc=m_a, scale=s_a, size=N)\n",
    "b = np.random.normal(loc=m_b, scale=s_b, size=N)\n",
    "\n",
    "# Stick both samples in one data frame\n",
    "df = pd.DataFrame({'Category': ['A'] * len(a) + ['B'] * len(b), 'Value': np.hstack([a,b])})\n",
    "\n",
    "df"
   ]
  },
  {
   "cell_type": "markdown",
   "id": "0c5fef82-8000-4092-ba69-88fe69c76c18",
   "metadata": {},
   "source": [
    "Looking at the generated data above gives us an idea how the data is spread, but it is still not very illuminating. Visualising the data will give us better insight."
   ]
  },
  {
   "cell_type": "code",
   "execution_count": 27,
   "id": "03a24d98-7ef2-4c57-9198-873be54517aa",
   "metadata": {},
   "outputs": [
    {
     "data": {
      "image/png": "[encoded data removed]",
      "text/plain": [
       "<Figure size 360x360 with 1 Axes>"
      ]
     },
     "metadata": {
      "needs_background": "light"
     },
     "output_type": "display_data"
    }
   ],
   "source": [
    "# One type of plot available in seaborn\n",
    "sns.catplot(x='Category', y='Value', jitter=False, data=df);"
   ]
  },
  {
   "cell_type": "markdown",
   "id": "23167609-db90-4dce-9cc3-611a4136158c",
   "metadata": {},
   "source": [
    "We can clearly see how numbers in group A are concentrated around the value 1, while numbers in the group B are concentrated around value 2."
   ]
  },
  {
   "cell_type": "markdown",
   "id": "08f2b387-fe40-4a95-85de-3b578490b4ad",
   "metadata": {},
   "source": [
    "### CALCULATION"
   ]
  },
  {
   "cell_type": "markdown",
   "id": "c8d38511-464c-43b9-926f-b9706f05e402",
   "metadata": {},
   "source": [
    "There are many ways of doing $t$-test in Python. Below are formula implementations, where $t$-test is calculated *\"by hand\"*."
   ]
  },
  {
   "cell_type": "markdown",
   "id": "7f37b1ed-710f-4d30-81c1-627ce63229a7",
   "metadata": {},
   "source": [
    "##### BY HAND"
   ]
  },
  {
   "cell_type": "code",
   "execution_count": 28,
   "id": "ff37ca42-1f42-4592-b351-9fcc3e463188",
   "metadata": {},
   "outputs": [
    {
     "data": {
      "text/plain": [
       "-11.157085569176369"
      ]
     },
     "execution_count": 28,
     "metadata": {},
     "output_type": "execute_result"
    }
   ],
   "source": [
    "# Calculate t statistic \"by hand\"\n",
    "# https://en.wikipedia.org/wiki/Test_statistic\n",
    "\n",
    "# Length of the arrays\n",
    "n1 = len(a)\n",
    "n2 = len(b)\n",
    "\n",
    "# Means of the samples\n",
    "m1 = np.sum(a) / n1\n",
    "m2 = np.sum(b) / n2\n",
    "\n",
    "# Sample standard deviations\n",
    "s1 = np.sqrt(np.sum((a - m1)**2) / (n1 - 1))\n",
    "s2 = np.sqrt(np.sum((b - m2)**2) / (n2 - 1))\n",
    "\n",
    "df = n1 + n2 - 2\n",
    "sp2 = ((n1 - 1) * s1**2 + (n2 - 1) * s2**2) / df\n",
    "t = (m1 - m2) / (np.sqrt(sp2) * np.sqrt(1.0/n1 + 1.0/n2))\n",
    "\n",
    "t"
   ]
  },
  {
   "cell_type": "code",
   "execution_count": 29,
   "id": "4be2c1c7-7aae-4795-8120-91a0315a2aa2",
   "metadata": {},
   "outputs": [
    {
     "data": {
      "text/plain": [
       "-11.15708556917637"
      ]
     },
     "execution_count": 29,
     "metadata": {},
     "output_type": "execute_result"
    }
   ],
   "source": [
    "# Calculate t statistic \"by hand\"\n",
    "# https://www.youtube.com/watch?v=pTmLQvMM-1M&ab_channel=BozemanScience\n",
    "\n",
    "import statistics as st\n",
    "import math\n",
    "\n",
    "# Mean\n",
    "m1 = st.mean(a)\n",
    "m2 = st.mean(b)\n",
    "\n",
    "# Standard deviations\n",
    "s1 = st.stdev(a)\n",
    "s2 = st.stdev(b)\n",
    "\n",
    "# Variance\n",
    "v1 = s1**2\n",
    "v2 = s2**2\n",
    "\n",
    "# Quantity\n",
    "n1 = len(a)\n",
    "n2 = len(b)\n",
    "\n",
    "t = (m1-m2)/(math.sqrt((v1/n1)+(v2/n2)))\n",
    "t"
   ]
  },
  {
   "cell_type": "markdown",
   "id": "48ec16a1-24ea-4b27-a02f-077d6b7099e7",
   "metadata": {},
   "source": [
    "The more simple way would be using a single function call. There are many different functions in Python used for this purpose, and the ones shown below are *scipy* and *statmodels*."
   ]
  },
  {
   "cell_type": "markdown",
   "id": "717359dd-f20c-49c5-87fa-7c443f91b1a8",
   "metadata": {},
   "source": [
    "##### SCIPY"
   ]
  },
  {
   "cell_type": "code",
   "execution_count": 30,
   "id": "63a7ca19-1879-453f-bd96-19de1cf28c4f",
   "metadata": {},
   "outputs": [
    {
     "name": "stdout",
     "output_type": "stream",
     "text": [
      "t-value: -11.15708556917637\tp-value: 7.934912563719268e-18\n",
      "P_scipy: 0.00\n"
     ]
    }
   ],
   "source": [
    "# The scipy.stats version\n",
    "t_ss, p_ss = ss.ttest_ind(a, b)\n",
    "print(f\"t-value: {t_ss}\\tp-value: {p_ss}\")\n",
    "print(f\"P_scipy: {p_ss:0.2f}\")"
   ]
  },
  {
   "cell_type": "markdown",
   "id": "cbed8b01-f5e8-4f6e-9868-b998de5d0301",
   "metadata": {},
   "source": [
    "##### STATMODELS"
   ]
  },
  {
   "cell_type": "code",
   "execution_count": 31,
   "id": "fcc5bc1c-ba23-4541-b633-109baa197546",
   "metadata": {},
   "outputs": [
    {
     "name": "stdout",
     "output_type": "stream",
     "text": [
      "t-value: -11.157085569176369\tp-value: 7.93491256371938e-18\tDeg Free: 78.0\n",
      "P_statsmodels: 0.00\n"
     ]
    }
   ],
   "source": [
    "# The statsmodels version\n",
    "t_sm, p_sm, d_sm = stat.ttest_ind(a, b)\n",
    "print(f\"t-value: {t_sm}\\tp-value: {p_sm}\\tDeg Free: {d_sm}\")\n",
    "print(f\"P_statsmodels: {p_sm:0.2f}\")"
   ]
  },
  {
   "cell_type": "markdown",
   "id": "1725949d-97eb-49b7-83da-ca03cc63436a",
   "metadata": {},
   "source": [
    "### PAIRED SAMPLES T - TEST\n",
    "\n",
    "<hr style=\"border-top: 1px solid rgb(0, 91, 94);\" />"
   ]
  },
  {
   "cell_type": "code",
   "execution_count": 32,
   "id": "be86808f-0d02-4ec4-bcd9-9a8f72277d0b",
   "metadata": {},
   "outputs": [
    {
     "data": {
      "text/html": [
       "<div>\n",
       "<style scoped>\n",
       "    .dataframe tbody tr th:only-of-type {\n",
       "        vertical-align: middle;\n",
       "    }\n",
       "\n",
       "    .dataframe tbody tr th {\n",
       "        vertical-align: top;\n",
       "    }\n",
       "\n",
       "    .dataframe thead th {\n",
       "        text-align: right;\n",
       "    }\n",
       "</style>\n",
       "<table border=\"1\" class=\"dataframe\">\n",
       "  <thead>\n",
       "    <tr style=\"text-align: right;\">\n",
       "      <th></th>\n",
       "      <th>Unnamed: 0</th>\n",
       "      <th>extra</th>\n",
       "      <th>group</th>\n",
       "      <th>ID</th>\n",
       "    </tr>\n",
       "  </thead>\n",
       "  <tbody>\n",
       "    <tr>\n",
       "      <th>0</th>\n",
       "      <td>1</td>\n",
       "      <td>0.7</td>\n",
       "      <td>1</td>\n",
       "      <td>1</td>\n",
       "    </tr>\n",
       "    <tr>\n",
       "      <th>1</th>\n",
       "      <td>2</td>\n",
       "      <td>-1.6</td>\n",
       "      <td>1</td>\n",
       "      <td>2</td>\n",
       "    </tr>\n",
       "    <tr>\n",
       "      <th>2</th>\n",
       "      <td>3</td>\n",
       "      <td>-0.2</td>\n",
       "      <td>1</td>\n",
       "      <td>3</td>\n",
       "    </tr>\n",
       "    <tr>\n",
       "      <th>3</th>\n",
       "      <td>4</td>\n",
       "      <td>-1.2</td>\n",
       "      <td>1</td>\n",
       "      <td>4</td>\n",
       "    </tr>\n",
       "    <tr>\n",
       "      <th>4</th>\n",
       "      <td>5</td>\n",
       "      <td>-0.1</td>\n",
       "      <td>1</td>\n",
       "      <td>5</td>\n",
       "    </tr>\n",
       "    <tr>\n",
       "      <th>5</th>\n",
       "      <td>6</td>\n",
       "      <td>3.4</td>\n",
       "      <td>1</td>\n",
       "      <td>6</td>\n",
       "    </tr>\n",
       "    <tr>\n",
       "      <th>6</th>\n",
       "      <td>7</td>\n",
       "      <td>3.7</td>\n",
       "      <td>1</td>\n",
       "      <td>7</td>\n",
       "    </tr>\n",
       "    <tr>\n",
       "      <th>7</th>\n",
       "      <td>8</td>\n",
       "      <td>0.8</td>\n",
       "      <td>1</td>\n",
       "      <td>8</td>\n",
       "    </tr>\n",
       "    <tr>\n",
       "      <th>8</th>\n",
       "      <td>9</td>\n",
       "      <td>0.0</td>\n",
       "      <td>1</td>\n",
       "      <td>9</td>\n",
       "    </tr>\n",
       "    <tr>\n",
       "      <th>9</th>\n",
       "      <td>10</td>\n",
       "      <td>2.0</td>\n",
       "      <td>1</td>\n",
       "      <td>10</td>\n",
       "    </tr>\n",
       "    <tr>\n",
       "      <th>10</th>\n",
       "      <td>11</td>\n",
       "      <td>1.9</td>\n",
       "      <td>2</td>\n",
       "      <td>1</td>\n",
       "    </tr>\n",
       "    <tr>\n",
       "      <th>11</th>\n",
       "      <td>12</td>\n",
       "      <td>0.8</td>\n",
       "      <td>2</td>\n",
       "      <td>2</td>\n",
       "    </tr>\n",
       "    <tr>\n",
       "      <th>12</th>\n",
       "      <td>13</td>\n",
       "      <td>1.1</td>\n",
       "      <td>2</td>\n",
       "      <td>3</td>\n",
       "    </tr>\n",
       "    <tr>\n",
       "      <th>13</th>\n",
       "      <td>14</td>\n",
       "      <td>0.1</td>\n",
       "      <td>2</td>\n",
       "      <td>4</td>\n",
       "    </tr>\n",
       "    <tr>\n",
       "      <th>14</th>\n",
       "      <td>15</td>\n",
       "      <td>-0.1</td>\n",
       "      <td>2</td>\n",
       "      <td>5</td>\n",
       "    </tr>\n",
       "    <tr>\n",
       "      <th>15</th>\n",
       "      <td>16</td>\n",
       "      <td>4.4</td>\n",
       "      <td>2</td>\n",
       "      <td>6</td>\n",
       "    </tr>\n",
       "    <tr>\n",
       "      <th>16</th>\n",
       "      <td>17</td>\n",
       "      <td>5.5</td>\n",
       "      <td>2</td>\n",
       "      <td>7</td>\n",
       "    </tr>\n",
       "    <tr>\n",
       "      <th>17</th>\n",
       "      <td>18</td>\n",
       "      <td>1.6</td>\n",
       "      <td>2</td>\n",
       "      <td>8</td>\n",
       "    </tr>\n",
       "    <tr>\n",
       "      <th>18</th>\n",
       "      <td>19</td>\n",
       "      <td>4.6</td>\n",
       "      <td>2</td>\n",
       "      <td>9</td>\n",
       "    </tr>\n",
       "    <tr>\n",
       "      <th>19</th>\n",
       "      <td>20</td>\n",
       "      <td>3.4</td>\n",
       "      <td>2</td>\n",
       "      <td>10</td>\n",
       "    </tr>\n",
       "  </tbody>\n",
       "</table>\n",
       "</div>"
      ],
      "text/plain": [
       "    Unnamed: 0  extra  group  ID\n",
       "0            1    0.7      1   1\n",
       "1            2   -1.6      1   2\n",
       "2            3   -0.2      1   3\n",
       "3            4   -1.2      1   4\n",
       "4            5   -0.1      1   5\n",
       "5            6    3.4      1   6\n",
       "6            7    3.7      1   7\n",
       "7            8    0.8      1   8\n",
       "8            9    0.0      1   9\n",
       "9           10    2.0      1  10\n",
       "10          11    1.9      2   1\n",
       "11          12    0.8      2   2\n",
       "12          13    1.1      2   3\n",
       "13          14    0.1      2   4\n",
       "14          15   -0.1      2   5\n",
       "15          16    4.4      2   6\n",
       "16          17    5.5      2   7\n",
       "17          18    1.6      2   8\n",
       "18          19    4.6      2   9\n",
       "19          20    3.4      2  10"
      ]
     },
     "execution_count": 32,
     "metadata": {},
     "output_type": "execute_result"
    }
   ],
   "source": [
    "dfsleep = pd.read_csv(\"https://vincentarelbundock.github.io/Rdatasets/csv/datasets/sleep.csv\")\n",
    "dfsleep"
   ]
  },
  {
   "cell_type": "code",
   "execution_count": 33,
   "id": "42b71793-ceff-48e2-a1c4-dfa0655577ba",
   "metadata": {},
   "outputs": [
    {
     "data": {
      "text/plain": [
       "array([ 0.7, -1.6, -0.2, -1.2, -0.1,  3.4,  3.7,  0.8,  0. ,  2. ])"
      ]
     },
     "execution_count": 33,
     "metadata": {},
     "output_type": "execute_result"
    }
   ],
   "source": [
    "# Extract the first sample from the data set\n",
    "drugA = dfsleep[dfsleep[\"group\"] == 1]\n",
    "drugA = drugA.sort_values(\"ID\")\n",
    "drugA = drugA[\"extra\"].to_numpy()\n",
    "drugA"
   ]
  },
  {
   "cell_type": "code",
   "execution_count": 34,
   "id": "bd900333-c0ab-444e-a085-4bedd8ed4579",
   "metadata": {},
   "outputs": [
    {
     "data": {
      "text/plain": [
       "array([ 1.9,  0.8,  1.1,  0.1, -0.1,  4.4,  5.5,  1.6,  4.6,  3.4])"
      ]
     },
     "execution_count": 34,
     "metadata": {},
     "output_type": "execute_result"
    }
   ],
   "source": [
    "# Extract the second sample from the data set\n",
    "drugB = dfsleep[dfsleep[\"group\"] == 2]\n",
    "drugB = drugB.sort_values(\"ID\")\n",
    "drugB = drugB[\"extra\"].to_numpy()\n",
    "drugB"
   ]
  },
  {
   "cell_type": "code",
   "execution_count": 35,
   "id": "e681e24c-632b-4e03-b00d-a9d0e374d8da",
   "metadata": {},
   "outputs": [
    {
     "data": {
      "text/plain": [
       "Ttest_relResult(statistic=-4.062127683382037, pvalue=0.00283289019738427)"
      ]
     },
     "execution_count": 35,
     "metadata": {},
     "output_type": "execute_result"
    }
   ],
   "source": [
    "# Run a paired samples t-test\n",
    "ss.ttest_rel(drugA, drugB)"
   ]
  },
  {
   "cell_type": "code",
   "execution_count": 36,
   "id": "20fdef3c-f16f-461f-82db-fdfdbb031aaf",
   "metadata": {},
   "outputs": [
    {
     "data": {
      "text/plain": [
       "Ttest_1sampResult(statistic=4.062127683382037, pvalue=0.00283289019738427)"
      ]
     },
     "execution_count": 36,
     "metadata": {},
     "output_type": "execute_result"
    }
   ],
   "source": [
    "# In one way, this is equivalent to a one sample t-test\n",
    "ss.ttest_1samp(drugB - drugA, 0)"
   ]
  },
  {
   "cell_type": "code",
   "execution_count": 37,
   "id": "9c00d168-58ed-45cd-95a9-f65d8cc43a9b",
   "metadata": {},
   "outputs": [
    {
     "data": {
      "text/plain": [
       "(4.062127683382037, 0.00283289019738427, 9.0)"
      ]
     },
     "execution_count": 37,
     "metadata": {},
     "output_type": "execute_result"
    }
   ],
   "source": [
    "# That's how statsmodels suggests you do the test\n",
    "stat.DescrStatsW(drugB - drugA).ttest_mean(0)"
   ]
  },
  {
   "cell_type": "markdown",
   "id": "9a17e97d-cec1-4bee-954c-1dd74b0713c5",
   "metadata": {},
   "source": [
    "### PROBLEMS WITH MULTIPLE T-TESTS\n",
    "\n",
    "<hr style=\"border-top: 1px solid rgb(0, 91, 94);\" />"
   ]
  },
  {
   "cell_type": "code",
   "execution_count": 38,
   "id": "57667caf-cc99-4d39-ab68-03860347f97b",
   "metadata": {},
   "outputs": [
    {
     "data": {
      "image/png": "[encoded data removed]",
      "text/plain": [
       "<Figure size 360x360 with 1 Axes>"
      ]
     },
     "metadata": {
      "needs_background": "light"
     },
     "output_type": "display_data"
    }
   ],
   "source": [
    "# Size of each sample\n",
    "N = 100\n",
    "\n",
    "# Create three samples\n",
    "sampA = np.random.normal(1.0, 0.2, N)\n",
    "sampB = np.random.normal(1.0, 0.2, N)\n",
    "sampC = np.random.normal(2.0, 0.2, N)\n",
    "\n",
    "# Put samples in a single data frame\n",
    "sample = ['A'] * N + ['B'] * N + ['C'] * N\n",
    "values = np.hstack([sampA, sampB, sampC])\n",
    "dfsamps = pd.DataFrame({'Sample': sample, 'Value': values})\n",
    "\n",
    "# Visualise samples\n",
    "sns.catplot(x='Sample', y='Value', jitter=False, data=dfsamps);"
   ]
  },
  {
   "cell_type": "code",
   "execution_count": 39,
   "id": "18a86125-f06f-4187-8f3d-fa0c67865c7a",
   "metadata": {},
   "outputs": [
    {
     "name": "stdout",
     "output_type": "stream",
     "text": [
      "p_AB: 0.80\tp_AC: 0.00\tp_BC: 0.00\n"
     ]
    }
   ],
   "source": [
    "# t-Tests - one for each pair\n",
    "t_AB, p_AB = ss.ttest_ind(sampA, sampB)\n",
    "t_AC, p_AC = ss.ttest_ind(sampA, sampC)\n",
    "t_BC, p_BC = ss.ttest_ind(sampB, sampC)\n",
    "\n",
    "print(f\"p_AB: {p_AB:.2f}\\tp_AC: {p_AC:.2f}\\tp_BC: {p_BC:.2f}\")"
   ]
  },
  {
   "cell_type": "markdown",
   "id": "d7fecfe3-4552-4aab-a629-2e740fbc5afa",
   "metadata": {},
   "source": [
    "Let's run 10000 t-tests where the population means are equal. We should make the wrong decision (reject the hypothesis) (100 * critical) percent of the time. We expect to incorrectly reject the null hypothesis 5% of the time."
   ]
  },
  {
   "cell_type": "code",
   "execution_count": 40,
   "id": "8f6dba7a-279b-4a44-b353-deca2cf76151",
   "metadata": {},
   "outputs": [
    {
     "name": "stdout",
     "output_type": "stream",
     "text": [
      "12.41%\n"
     ]
    }
   ],
   "source": [
    "# The number of trials to run\n",
    "trials = 10000\n",
    "# The number of values in each sample\n",
    "N = 100\n",
    "# Population 1 mean, population 2 mean, population 3 mean, standard deviation in both\n",
    "mean1, mean2, mean3, stddev = 2.0, 2.0, 2.0, 0.3\n",
    "# Critical probability value\n",
    "critical = 0.05\n",
    "\n",
    "# Running total of type I errors commited\n",
    "rejects = 0\n",
    "\n",
    "# Loop throguh trials\n",
    "for i in range(trials):\n",
    "    # Generate sample 1\n",
    "    sample1 = np.random.normal(loc=mean1, scale=stddev, size=N)\n",
    "    # Generate sample 2\n",
    "    sample2 = np.random.normal(loc=mean2, scale=stddev, size=N)\n",
    "    # Generate sample 3\n",
    "    sample3 = np.random.normal(loc=mean3, scale=stddev, size=N)\n",
    "    # Run the t-tests\n",
    "    t1, p1 = ss.ttest_ind(sample1, sample2)\n",
    "    t2, p2 = ss.ttest_ind(sample1, sample3)\n",
    "    t3, p3 = ss.ttest_ind(sample2, sample3)\n",
    "    # If any is less than critical, reject.\n",
    "    if p1 <= critical or p2 <= critical or p3 <= critical:\n",
    "        rejects = rejects + 1\n",
    "\n",
    "# Print results\n",
    "typei = 100.0 * (rejects / trials)\n",
    "print(f\"{typei:0.2f}%\")"
   ]
  },
  {
   "cell_type": "markdown",
   "id": "e2cef96f-0305-451d-8412-579e50c7bc8a",
   "metadata": {},
   "source": [
    "### ANOVA\n",
    "\n",
    "<hr style=\"border-top: 1px solid rgb(0, 91, 94);\" />"
   ]
  },
  {
   "cell_type": "markdown",
   "id": "5f439b54-97bf-479c-9ed9-753b9d2023dc",
   "metadata": {},
   "source": [
    "If we have more then three samples we might be tempted to run the t test. Generally, that would be wrong. This is because it's hard to say how errors will stack up. In this case we use ANOVA."
   ]
  },
  {
   "cell_type": "code",
   "execution_count": 41,
   "id": "3ef1562b-2868-4609-ac75-602ae323106d",
   "metadata": {},
   "outputs": [
    {
     "name": "stdout",
     "output_type": "stream",
     "text": [
      "F:930.87 P:0.00\n"
     ]
    }
   ],
   "source": [
    "# https://docs.scipy.org/doc/scipy/reference/generated/scipy.stats.f_oneway.html\n",
    "F, P = ss.f_oneway(sampA, sampB, sampC)\n",
    "print(f\"F:{F:.2f} P:{P:.2f}\")"
   ]
  },
  {
   "cell_type": "markdown",
   "id": "83104999-9d4a-498f-b4a0-6a67c42bbe09",
   "metadata": {},
   "source": [
    "Let's run 10000 ANOVAs where the population means are equal. We should make the wrong decision (reject the hypothesis) (100 * critical) percent of the time. We expect to incorrectly reject the null hypothesis 5% of the time."
   ]
  },
  {
   "cell_type": "code",
   "execution_count": 42,
   "id": "b184f039-763e-4d24-9252-98c45458cc48",
   "metadata": {},
   "outputs": [
    {
     "name": "stdout",
     "output_type": "stream",
     "text": [
      "4.92%\n"
     ]
    }
   ],
   "source": [
    "# The number of trials to run\n",
    "trials = 10000\n",
    "# The number of values in each sample\n",
    "N = 100\n",
    "# Population 1 mean, population 2 mean, population 3 mean, standard deviation in both\n",
    "mean1, mean2, mean3, stddev = 2.0, 2.0, 2.0, 0.3\n",
    "# Critical probability value\n",
    "critical = 0.05\n",
    "\n",
    "# Running total of type I errors commited\n",
    "rejects = 0\n",
    "\n",
    "# Loop throguh trials\n",
    "for i in range(trials):\n",
    "    # Generate sample 1\n",
    "    sample1 = np.random.normal(loc=mean1, scale=stddev, size=N)\n",
    "    # Generate sample 2\n",
    "    sample2 = np.random.normal(loc=mean2, scale=stddev, size=N)\n",
    "    # Generate sample 3\n",
    "    sample3 = np.random.normal(loc=mean3, scale=stddev, size=N)\n",
    "    # Run the test\n",
    "    F, p = ss.f_oneway(sample1, sample2, sample3)\n",
    "    # If any is less than critical, reject\n",
    "    if p <= critical:\n",
    "        rejects = rejects + 1\n",
    "\n",
    "# Print results\n",
    "typei = 100.0 * (rejects / trials)\n",
    "print(f\"{typei:0.2f}%\")"
   ]
  },
  {
   "cell_type": "markdown",
   "id": "31fd7c69-1b23-46c1-b06c-ddbe2324edad",
   "metadata": {},
   "source": [
    "***"
   ]
  },
  {
   "cell_type": "markdown",
   "id": "5c2c9f2d-910e-4c6e-bee2-6086728dbae5",
   "metadata": {},
   "source": [
    "<hr style=\"border-top: 20px solid #add8e6;\" />"
   ]
  },
  {
   "cell_type": "markdown",
   "id": "4d749174-e4b3-4e2b-8d0d-290d72510f09",
   "metadata": {},
   "source": [
    "<hr style=\"border-top: 1px solid #001a79;\" />\n",
    "<h4 style=\"color: #001a79;\">EXERCISE 3</h4>"
   ]
  },
  {
   "cell_type": "markdown",
   "id": "1a62a6d8-f49b-4e7f-be79-e65ad1b29085",
   "metadata": {},
   "source": [
    "<h5 style=\"color: #001a79;\">Take the code from the Examples section of the scipy stats documentation for independent samples t-tests, add it to your own notebook and add explain how it works using MarkDown cells and code comments. Improve it in any way you think it could be improved.</h5>\n",
    "<hr style=\"border-top: 1px solid #001a79;\" />"
   ]
  },
  {
   "cell_type": "markdown",
   "id": "17515a33-7151-4bce-86f0-318aa6a6a99b",
   "metadata": {},
   "source": [
    "\n",
    "#### [scipy.stats.ttest_ind(a, b, axis=0, equal_var=True, nan_policy='propagate', permutations=None, random_state=None, alternative='two-sided', trim=0)](https://docs.scipy.org/doc/scipy/reference/generated/scipy.stats.ttest_ind.html)"
   ]
  },
  {
   "cell_type": "markdown",
   "id": "0311d574-3115-464c-a75b-05da41020faa",
   "metadata": {},
   "source": [
    "The indepentent T-test is a parametric test used to test for a statistically significant difference in the means between 2 groups. [7] Parametric tests are those that make assumptions about the parameters of the population distribution from which the sample is drawn. [8] This is a test for the null hypothesis that 2 independent samples have identical average (expected) values. This test assumes that the populations have identical variances by default."
   ]
  },
  {
   "cell_type": "code",
   "execution_count": 43,
   "id": "96e8f96e-3cc0-43ca-94ea-bcb10dc7f365",
   "metadata": {},
   "outputs": [],
   "source": [
    "from scipy import stats\n",
    "rng = np.random.default_rng()"
   ]
  },
  {
   "cell_type": "markdown",
   "id": "825029cc-38ef-48ba-8360-bd92a628609f",
   "metadata": {},
   "source": [
    "#### TEST WITH SAMPLE WITH IDENTICAL MEANS\n",
    "***"
   ]
  },
  {
   "cell_type": "markdown",
   "id": "0a65a1ad-7f8f-40f6-bf97-01bc9f4a42d6",
   "metadata": {},
   "source": [
    "##### NORMALLY DISTRIBUTED DATA"
   ]
  },
  {
   "cell_type": "code",
   "execution_count": 44,
   "id": "a8a0303d-0a8c-45cb-8bc8-c4d8acf80b00",
   "metadata": {},
   "outputs": [],
   "source": [
    "# Generate a normal continuous random variables.\n",
    "    # https://docs.scipy.org/doc/scipy/reference/generated/scipy.stats.norm.html\n",
    "    # The location (loc) keyword specifies the mean. The scale (scale) keyword specifies the standard deviation.\n",
    "rvs1 = stats.norm.rvs(loc=5, scale=10, size=500, random_state=rng)\n",
    "rvs2 = stats.norm.rvs(loc=5, scale=10, size=500, random_state=rng)\n",
    "rvs3 = stats.norm.rvs(loc=5, scale=20, size=500, random_state=rng)\n",
    "rvs4 = stats.norm.rvs(loc=5, scale=20, size=100, random_state=rng)\n",
    "rvs5 = stats.norm.rvs(loc=8, scale=20, size=100, random_state=rng)"
   ]
  },
  {
   "cell_type": "code",
   "execution_count": 45,
   "id": "43200a6e-f635-44db-9506-eba98563d144",
   "metadata": {},
   "outputs": [
    {
     "data": {
      "image/png": "[encoded data removed]",
      "text/plain": [
       "<Figure size 1800x432 with 1 Axes>"
      ]
     },
     "metadata": {
      "needs_background": "light"
     },
     "output_type": "display_data"
    }
   ],
   "source": [
    "plt.figure(figsize = (25,6))\n",
    "sns.kdeplot(rvs1, label=\"loc=5, scale=10, size=500\")\n",
    "sns.kdeplot(rvs2, label=\"loc=5, scale=10, size=500\")\n",
    "sns.kdeplot(rvs3, label=\"loc=5, scale=20, size=500\")\n",
    "sns.kdeplot(rvs4, label=\"loc=5, scale=20, size=100\")\n",
    "sns.kdeplot(rvs5, label=\"loc=8, scale=20, size=100\")\n",
    "plt.legend();"
   ]
  },
  {
   "cell_type": "markdown",
   "id": "74bf1ba9-f621-41bf-bee1-8387996ac18d",
   "metadata": {},
   "source": [
    "The equal variance t-test is an independent t-test and is used when the number of samples in each group is the same, or the variance of the two data sets is similar. [9]"
   ]
  },
  {
   "cell_type": "markdown",
   "id": "96076f8a-0b43-4198-9e98-f482bc10cb3c",
   "metadata": {},
   "source": [
    "The unequal variance t-test is an independent t-test and is used when the number of samples in each group is different, and the variance of the two data sets is also different. This test is also called Welch's t-test. [9]"
   ]
  },
  {
   "cell_type": "markdown",
   "id": "488ea272-b85c-4b0e-829e-7ddaf4a84c71",
   "metadata": {},
   "source": [
    "##### SAME MEAN AND STD"
   ]
  },
  {
   "cell_type": "code",
   "execution_count": 46,
   "id": "6ccdda4a-5784-4723-ace1-060b1bb396c0",
   "metadata": {},
   "outputs": [
    {
     "data": {
      "image/png": "[encoded data removed]",
      "text/plain": [
       "<Figure size 1800x432 with 1 Axes>"
      ]
     },
     "metadata": {
      "needs_background": "light"
     },
     "output_type": "display_data"
    }
   ],
   "source": [
    "plt.figure(figsize = (25,6))\n",
    "sns.kdeplot(rvs1, label=\"mean~5, std~10, sample_size=500\")\n",
    "sns.kdeplot(rvs2, label=\"mean~5, std~10, sample_size=500\")\n",
    "plt.title(\"SAME MEAN AND STD\")\n",
    "plt.legend();"
   ]
  },
  {
   "cell_type": "code",
   "execution_count": 47,
   "id": "32ab22e7-36b8-4d31-a684-57365a5af54a",
   "metadata": {},
   "outputs": [
    {
     "name": "stdout",
     "output_type": "stream",
     "text": [
      "t-statistic:  -0.6800764970017206 p-value:  0.49661374728451424\n",
      "t-statistic:  -0.6800764970017206 p-value:  0.4966140945748413\n"
     ]
    }
   ],
   "source": [
    "# Perform a standard independent 2 sample test that assumes equal population variances - equal_var = True (default)\n",
    "test1 = stats.ttest_ind(rvs1, rvs2, equal_var=True)\n",
    "# Perform Welch’s t-test, which does not assume equal population variance - equal_var = False\n",
    "test2 = stats.ttest_ind(rvs1, rvs2, equal_var=False)\n",
    "print(\"t-statistic: \", test1[0], \"p-value: \", test1[1])\n",
    "print(\"t-statistic: \", test2[0], \"p-value: \", test2[1])"
   ]
  },
  {
   "cell_type": "markdown",
   "id": "52034d97-511d-4795-ae99-bb00b71af243",
   "metadata": {},
   "source": [
    "We can see above, that applying the standard independent 2 sample test or the Welch's t-test both give almost identical results, if the two samples with similar mean and standard deviation."
   ]
  },
  {
   "cell_type": "markdown",
   "id": "9fda31df-a659-475c-bd8b-144cb6e57647",
   "metadata": {},
   "source": [
    "##### SAME MEAN AND DIFFERENT STD"
   ]
  },
  {
   "cell_type": "code",
   "execution_count": 48,
   "id": "0a09cb07-664d-44cd-a88b-0fbe8cfdac3e",
   "metadata": {},
   "outputs": [
    {
     "data": {
      "image/png": "[encoded data removed]",
      "text/plain": [
       "<Figure size 1800x432 with 1 Axes>"
      ]
     },
     "metadata": {
      "needs_background": "light"
     },
     "output_type": "display_data"
    }
   ],
   "source": [
    "plt.figure(figsize = (25,6))\n",
    "sns.kdeplot(rvs1, label=\"mean~5, std~10, sample_size=500\")\n",
    "sns.kdeplot(rvs3, label=\"mean~5, std~20, sample_size=500\")\n",
    "plt.title(\"SAME MEAN AND DIFFERENT STD\")\n",
    "plt.legend();"
   ]
  },
  {
   "cell_type": "code",
   "execution_count": 49,
   "id": "18b3d8de-4492-470f-b314-a795764b2cd8",
   "metadata": {},
   "outputs": [
    {
     "name": "stdout",
     "output_type": "stream",
     "text": [
      "t-statistic:  0.3656748408889926 p-value:  0.7146852130862097\n",
      "t-statistic:  0.3656748408889926 p-value:  0.7147144904362264\n"
     ]
    }
   ],
   "source": [
    "test1 = stats.ttest_ind(rvs1, rvs3)\n",
    "test2 = stats.ttest_ind(rvs1, rvs3, equal_var=False)\n",
    "print(\"t-statistic: \", test1[0], \"p-value: \", test1[1])\n",
    "print(\"t-statistic: \", test2[0], \"p-value: \", test2[1])"
   ]
  },
  {
   "cell_type": "markdown",
   "id": "c2257909-4fcf-49a9-bf6d-e3b988c124df",
   "metadata": {},
   "source": [
    "We see that applying the student t-test  underestimates p-value, compared to Welch's t-test. T-statistic however remains almost identical."
   ]
  },
  {
   "cell_type": "markdown",
   "id": "3daf0cd8-c7f9-4369-9fa6-d17153eeb6e2",
   "metadata": {},
   "source": [
    "##### SAME MEAN, DIFFERENT STD AND SAMPLE SIZE"
   ]
  },
  {
   "cell_type": "code",
   "execution_count": 50,
   "id": "841336ed-38e6-457a-a2ba-0c43ff9e5d1a",
   "metadata": {},
   "outputs": [
    {
     "data": {
      "image/png": "[encoded data removed]",
      "text/plain": [
       "<Figure size 1800x432 with 1 Axes>"
      ]
     },
     "metadata": {
      "needs_background": "light"
     },
     "output_type": "display_data"
    }
   ],
   "source": [
    "plt.figure(figsize = (25,6))\n",
    "sns.kdeplot(rvs1, label=\"mean~5, std~10, sample_size=500\")\n",
    "sns.kdeplot(rvs4, label=\"mean~5, std~20, sample_size=100\")\n",
    "plt.title(\"SAME MEAN, DIFFERENT STD AND SAMPLE SIZE\")\n",
    "plt.legend();"
   ]
  },
  {
   "cell_type": "markdown",
   "id": "21bf27c8-11bb-4dd9-a1c4-0b21c9799a65",
   "metadata": {
    "tags": []
   },
   "source": [
    "When n1 != n2, the equal variance t-statistic is no longer equal to the unequal variance t-statistic."
   ]
  },
  {
   "cell_type": "code",
   "execution_count": 51,
   "id": "967ad87f-b6fd-4e91-8656-926c88dd33c1",
   "metadata": {},
   "outputs": [
    {
     "name": "stdout",
     "output_type": "stream",
     "text": [
      "t-statistic:  -0.49721117556282346 p-value:  0.6192228956001904\n",
      "t-statistic:  -0.32839732423622947 p-value:  0.743238425955256\n"
     ]
    }
   ],
   "source": [
    "test1 = stats.ttest_ind(rvs1, rvs4)\n",
    "test2 = stats.ttest_ind(rvs1, rvs4, equal_var=False)\n",
    "print(\"t-statistic: \", test1[0], \"p-value: \", test1[1])\n",
    "print(\"t-statistic: \", test2[0], \"p-value: \", test2[1])"
   ]
  },
  {
   "cell_type": "markdown",
   "id": "ac0ca585-2049-4229-bd6c-a54b60264ea8",
   "metadata": {},
   "source": [
    "We see that the p-value is again underestimated using the Student's t-test compared to the Welch's t-test but, this time we also see differences in the t-statistic."
   ]
  },
  {
   "cell_type": "markdown",
   "id": "c061ebcc-240a-4ed2-9731-3822ab3030f8",
   "metadata": {},
   "source": [
    "##### DIFFERENT MEAN, STD AND SAMPLE SIZE"
   ]
  },
  {
   "cell_type": "code",
   "execution_count": 52,
   "id": "d14d18b4-2eb0-4b90-8c10-b9ec97f826ad",
   "metadata": {},
   "outputs": [
    {
     "data": {
      "image/png": "[encoded data removed]",
      "text/plain": [
       "<Figure size 1800x432 with 1 Axes>"
      ]
     },
     "metadata": {
      "needs_background": "light"
     },
     "output_type": "display_data"
    }
   ],
   "source": [
    "plt.figure(figsize = (25,6))\n",
    "sns.kdeplot(rvs1, label=\"mean~5, std~10, sample_size=500\")\n",
    "sns.kdeplot(rvs5, label=\"mean~8, std~20, sample_size=100\")\n",
    "plt.title(\"DIFFERENT MEAN, STD AND SAMPLE SIZE\")\n",
    "plt.legend();"
   ]
  },
  {
   "cell_type": "markdown",
   "id": "db15ab7c-e8bd-4728-ba66-5068607c0017",
   "metadata": {},
   "source": [
    "T-test with different means, variance, and n:"
   ]
  },
  {
   "cell_type": "code",
   "execution_count": 53,
   "id": "9f03807a-01cc-4a61-bf57-2ca91f8f2f97",
   "metadata": {},
   "outputs": [
    {
     "name": "stdout",
     "output_type": "stream",
     "text": [
      "t-statistic:  -3.2892409731784316 p-value:  0.001063593874244842\n",
      "t-statistic:  -2.133088754774671 p-value:  0.035166137743260995\n"
     ]
    }
   ],
   "source": [
    "test1 = stats.ttest_ind(rvs1, rvs5)\n",
    "test2 = stats.ttest_ind(rvs1, rvs5, equal_var=False)\n",
    "print(\"t-statistic: \", test1[0], \"p-value: \", test1[1])\n",
    "print(\"t-statistic: \", test2[0], \"p-value: \", test2[1])"
   ]
  },
  {
   "cell_type": "markdown",
   "id": "bbbc00c5-7b4e-4b92-bd03-bdd5964fa828",
   "metadata": {},
   "source": [
    "We see that the p-value is lower using the student's t-test compared to the Welch's t-test and t-statistic is different."
   ]
  },
  {
   "cell_type": "markdown",
   "id": "bd37cabd-7d99-4aa2-b336-d511068dacbb",
   "metadata": {},
   "source": [
    "When performing a permutation test, more permutations typically yields more accurate results. The permutaion number is the number of times the test is being performed. We'll use a np.random.Generator to ensure reproducibility. "
   ]
  },
  {
   "cell_type": "code",
   "execution_count": 54,
   "id": "31a12422-8ca0-4a5a-8840-1c24dfd13a03",
   "metadata": {},
   "outputs": [
    {
     "name": "stdout",
     "output_type": "stream",
     "text": [
      "t-statistic:  -3.2892409731784316 p-value:  0.0006999300069993001\n"
     ]
    }
   ],
   "source": [
    "test3 = stats.ttest_ind(rvs1, rvs5, permutations=10000, random_state=rng)\n",
    "print(\"t-statistic: \", test3[0], \"p-value: \", test3[1])"
   ]
  },
  {
   "cell_type": "markdown",
   "id": "828984e3-e5ca-420a-aff2-c37a5481defb",
   "metadata": {},
   "source": [
    "***"
   ]
  },
  {
   "cell_type": "markdown",
   "id": "17afa9d2-2a4c-497d-8143-8ba5c376c483",
   "metadata": {},
   "source": [
    "***"
   ]
  },
  {
   "cell_type": "markdown",
   "id": "20b3f328-768a-4959-af1c-cf514d85501a",
   "metadata": {},
   "source": [
    "What if one of the samples tested have an extreme tail."
   ]
  },
  {
   "cell_type": "code",
   "execution_count": 55,
   "id": "ab25dbe9-6e2b-4770-a9f3-e718a6a837cf",
   "metadata": {},
   "outputs": [],
   "source": [
    "a = (56, 128.6, 12, 123.8, 64.34, 78, 763.3)\n",
    "b = (1.1, 2.9, 4.2)"
   ]
  },
  {
   "cell_type": "code",
   "execution_count": 56,
   "id": "61b3bac8-9ec5-4cd3-852a-dd8de88a0866",
   "metadata": {},
   "outputs": [
    {
     "data": {
      "text/plain": [
       "Ttest_indResult(statistic=1.099305186099593, pvalue=0.30361296704535845)"
      ]
     },
     "execution_count": 56,
     "metadata": {},
     "output_type": "execute_result"
    }
   ],
   "source": [
    "stats.ttest_ind(a, b)"
   ]
  },
  {
   "cell_type": "markdown",
   "id": "9765e3e8-4f65-45a0-a96e-231b0d371010",
   "metadata": {},
   "source": [
    "When both the normality and equal variances assumptions are violated, we can use a combination of the Trimmed Means t-Test and Welch’s t-Test, called the Yuen-Welch Test. [10] This will limit the effect that outliers have on the t-distribution. Use the trim keyword to perform a trimmed (Yuen) t-test. For example, to use 20% trimming, we set trim=.2."
   ]
  },
  {
   "cell_type": "code",
   "execution_count": 57,
   "id": "a13b3b8a-4e51-4e85-a87e-619f28c1108d",
   "metadata": {},
   "outputs": [
    {
     "data": {
      "text/plain": [
       "Ttest_indResult(statistic=3.4463884028073513, pvalue=0.01369338726499547)"
      ]
     },
     "execution_count": 57,
     "metadata": {},
     "output_type": "execute_result"
    }
   ],
   "source": [
    "stats.ttest_ind(a, b, trim=.2)"
   ]
  },
  {
   "cell_type": "markdown",
   "id": "7f3419e6-9166-451d-853f-c91bbfbe53b7",
   "metadata": {},
   "source": [
    "The conclusion is that we need to ensure the correct test is performed based on the data tested, otherwise we could encounter the type I error or type II error."
   ]
  },
  {
   "cell_type": "markdown",
   "id": "3d24f2b1-51b4-4f9a-9085-fcce7efae039",
   "metadata": {},
   "source": [
    "<hr style=\"border-top: 20px solid #add8e6;\" />"
   ]
  },
  {
   "cell_type": "markdown",
   "id": "de27d871-7519-409f-a0b1-6e359087213d",
   "metadata": {},
   "source": [
    "## REFERENCES"
   ]
  },
  {
   "cell_type": "markdown",
   "id": "ab681e53-32e8-451b-9608-268311083415",
   "metadata": {},
   "source": [
    "1. https://brainder.org/2015/08/23/the-lady-tasting-tea-and-fishers-exact-test/\n",
    "2. https://www.kdnuggets.com/2019/05/lady-tasting-tea-science.html\n",
    "3. https://jonykoren.medium.com/lady-tasting-tea-e46f89fbe9e8\n",
    "4. https://www.investopedia.com/terms/t/t-test.asp\n",
    "5. https://online.stat.psu.edu/statprogram/reviews/statistical-concepts/hypothesis-testing/critical-value-approach\n",
    "6. https://www.abtasty.com/blog/type-1-and-type-2-errors/\n",
    "7. https://libguides.library.kent.edu/spss/independentttest\n",
    "8. https://www.healthknowledge.org.uk/public-health-textbook/research-methods/1b-statistical-methods/parametric-nonparametric-tests\n",
    "9. https://libguides.library.kent.edu/spss/independentttest\n",
    "10. https://www.real-statistics.com/students-t-distribution/problems-data-t-tests/yuen-welchs-test/"
   ]
  }
 ],
 "metadata": {
  "kernelspec": {
   "display_name": "Python 3",
   "language": "python",
   "name": "python3"
  },
  "language_info": {
   "codemirror_mode": {
    "name": "ipython",
    "version": 3
   },
   "file_extension": ".py",
   "mimetype": "text/x-python",
   "name": "python",
   "nbconvert_exporter": "python",
   "pygments_lexer": "ipython3",
   "version": "3.8.8"
  }
 },
 "nbformat": 4,
 "nbformat_minor": 5
}
