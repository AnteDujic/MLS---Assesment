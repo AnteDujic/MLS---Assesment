{
 "cells": [
  {
   "cell_type": "markdown",
   "id": "dadc12d7-08a8-4958-a7ee-ee519ca9b667",
   "metadata": {},
   "source": [
    "# STATISTICS\n",
    "## AUTHOR: ANTE DUJIC\n",
    "<hr style=\"border:2px solid black\"> </hr>"
   ]
  },
  {
   "cell_type": "markdown",
   "id": "1720afb9-d9c3-417b-9546-1f4ac490149b",
   "metadata": {
    "tags": []
   },
   "source": [
    "## LADY TASTING TEA EXPERIMENT\n",
    "\n",
    "<center><img src=\"https://miro.medium.com/max/1100/1*tZ1G1TnuAfjsCx1UHcGxVw.png\" width=\"800\"/></center>"
   ]
  },
  {
   "cell_type": "markdown",
   "id": "4fd67c4e-32ee-457d-93aa-003e45d782b3",
   "metadata": {},
   "source": [
    "The Lady Tasting Tea problem is a randomized experiment designed by Ronald A. Fisher and reported in his book The Design of Experiments.\n",
    "\n",
    "Fisher describes the problem as follows:"
   ]
  },
  {
   "cell_type": "markdown",
   "id": "fa466ef1-ec56-4679-97ea-eddddc43cae6",
   "metadata": {},
   "source": [
    "> *A lady declares that by tasting a cup of tea made with milk she can discriminate whether the milk or the tea infusion was first added to the cup: We will consider the problem of designing an experiment by means of which this assertion can be tested. For this purpose let us first lay down a simple form of experiment with a view to studying its limitations and its characteristics, both those which appear to be essential to the experimental method, when well developed, and those which are not essential but auxiliary.*\n",
    "\n",
    "> *Our experiment consists in mixing eight cups of tea, four in one way and four in the other, and presenting them to the subject for judgment in a random order. The subject has been told in advance of what the test will consist, namely that she will be asked to taste eight cups, that these shall be four of each kind, and that they shall be presented to her in a random order, that is in an order not determined arbitrarily by human choice, but by the actual manipulation of the physical apparatus used in games of chance, cards, dice, roulettes, etc., or, more expeditiously, from a published collection of random sampling numbers purporting to give the actual results of such manipulation. Her task is to divide the 8 cups into two sets of 4, agreeing, if possible, with the treatments received.*"
   ]
  },
  {
   "cell_type": "markdown",
   "id": "563329d1-6985-4957-8959-63221c7b1414",
   "metadata": {},
   "source": [
    "<hr style=\"border:2px solid gray\"> </hr>"
   ]
  },
  {
   "cell_type": "markdown",
   "id": "15e6616c-b91d-4ff4-818d-21103edda1cf",
   "metadata": {},
   "source": [
    "### NUMBER OF COMBINATIONS\n",
    "\n",
    "<hr style=\"border-top: 1px solid rgb(0, 91, 94);\" />"
   ]
  },
  {
   "cell_type": "markdown",
   "id": "79639425-556f-442a-8def-b92bd954304d",
   "metadata": {},
   "source": [
    "As Fisher stated in his book, there are 8 cups of tea used in this experiment:\n",
    "- 4 cups with the milk poured first\n",
    "- 4 cups with the tea poured first"
   ]
  },
  {
   "cell_type": "markdown",
   "id": "5b4b362f-5ead-4575-a63e-a4761a6272e7",
   "metadata": {},
   "source": [
    "<center><img src=\"https://s3.us-east-2.amazonaws.com/brainder/2015/tastingtea/tea_cups.png\" width=\"500\"/></center>"
   ]
  },
  {
   "cell_type": "markdown",
   "id": "0e5d2712-6657-4235-85ff-5fdf1fba3aad",
   "metadata": {},
   "source": [
    "Once the first group of four cups is selected, the second group is made up of the remaining four cups. This means we only actually need to count how many different ways there are to select four cups out of eight. Cups in the experiment have no order, but we will label them with integers 0 to 7 simply for the convenience."
   ]
  },
  {
   "cell_type": "code",
   "execution_count": 1,
   "id": "35fc741e-beed-43f5-a481-9a77ecfd5ed0",
   "metadata": {},
   "outputs": [
    {
     "data": {
      "text/plain": [
       "[0, 1, 2, 3, 4, 5, 6, 7]"
      ]
     },
     "execution_count": 1,
     "metadata": {},
     "output_type": "execute_result"
    }
   ],
   "source": [
    "# The eight cups\n",
    "cups = list(range(8))\n",
    "cups"
   ]
  },
  {
   "cell_type": "markdown",
   "id": "dc89e072-ad11-4bbe-b69d-1940a4cfd7ef",
   "metadata": {},
   "source": [
    "Suppose the lady is *randomly* trying to pick the four cups with milk in first. By randomly, we mean that she can not really tell which cups have the milk in first. The number of ways of selecting four unordered items from eight is given by the [Choose](http://mathworld.wolfram.com/Choose.html) function in mathematics."
   ]
  },
  {
   "cell_type": "code",
   "execution_count": 2,
   "id": "5eceb8bb-6e2e-486f-ad41-5fe931d8e7de",
   "metadata": {},
   "outputs": [
    {
     "data": {
      "text/plain": [
       "70.0"
      ]
     },
     "execution_count": 2,
     "metadata": {},
     "output_type": "execute_result"
    }
   ],
   "source": [
    "(8*7*6*5)/(4*3*2*1)"
   ]
  },
  {
   "cell_type": "markdown",
   "id": "e9cacfce-f524-4d8a-b1c5-1c88635d764d",
   "metadata": {},
   "source": [
    "There are:\n",
    "- 8 x 7 x 6 x 5 = 1680 ways of choosing 4 cups out of 8\n",
    "- 4 x 3 x 2 x 1 = 24 different ways of ordering each set of 4 cups\n",
    "\n",
    "Therefore:\n",
    "- 1680 / 24 = 70 ways of selecting 4 out of 8 if the order doesn't matter"
   ]
  },
  {
   "cell_type": "markdown",
   "id": "af8f2ae8-38c6-43ca-a9e9-f2e973bfc3a7",
   "metadata": {},
   "source": [
    "This means there is only a probability of 1/70 of getting the right answer. "
   ]
  },
  {
   "cell_type": "markdown",
   "id": "216c2b24-3f7a-48bf-a085-f81866c85ae9",
   "metadata": {},
   "source": [
    "All 70 possibilities can be enumarated using the combinations function from the *itertool* Python package. It takes a list $l$ of items and a number $n$. It returns/generates each way of selecting $n$ unordered items from $l$."
   ]
  },
  {
   "cell_type": "code",
   "execution_count": 3,
   "id": "2a057919-4b34-4699-8d4f-bf1429cae87e",
   "metadata": {},
   "outputs": [
    {
     "data": {
      "text/plain": [
       "[(0, 1, 2, 3),\n",
       " (0, 1, 2, 4),\n",
       " (0, 1, 2, 5),\n",
       " (0, 1, 2, 6),\n",
       " (0, 1, 2, 7),\n",
       " (0, 1, 3, 4),\n",
       " (0, 1, 3, 5),\n",
       " (0, 1, 3, 6),\n",
       " (0, 1, 3, 7),\n",
       " (0, 1, 4, 5),\n",
       " (0, 1, 4, 6),\n",
       " (0, 1, 4, 7),\n",
       " (0, 1, 5, 6),\n",
       " (0, 1, 5, 7),\n",
       " (0, 1, 6, 7),\n",
       " (0, 2, 3, 4),\n",
       " (0, 2, 3, 5),\n",
       " (0, 2, 3, 6),\n",
       " (0, 2, 3, 7),\n",
       " (0, 2, 4, 5),\n",
       " (0, 2, 4, 6),\n",
       " (0, 2, 4, 7),\n",
       " (0, 2, 5, 6),\n",
       " (0, 2, 5, 7),\n",
       " (0, 2, 6, 7),\n",
       " (0, 3, 4, 5),\n",
       " (0, 3, 4, 6),\n",
       " (0, 3, 4, 7),\n",
       " (0, 3, 5, 6),\n",
       " (0, 3, 5, 7),\n",
       " (0, 3, 6, 7),\n",
       " (0, 4, 5, 6),\n",
       " (0, 4, 5, 7),\n",
       " (0, 4, 6, 7),\n",
       " (0, 5, 6, 7),\n",
       " (1, 2, 3, 4),\n",
       " (1, 2, 3, 5),\n",
       " (1, 2, 3, 6),\n",
       " (1, 2, 3, 7),\n",
       " (1, 2, 4, 5),\n",
       " (1, 2, 4, 6),\n",
       " (1, 2, 4, 7),\n",
       " (1, 2, 5, 6),\n",
       " (1, 2, 5, 7),\n",
       " (1, 2, 6, 7),\n",
       " (1, 3, 4, 5),\n",
       " (1, 3, 4, 6),\n",
       " (1, 3, 4, 7),\n",
       " (1, 3, 5, 6),\n",
       " (1, 3, 5, 7),\n",
       " (1, 3, 6, 7),\n",
       " (1, 4, 5, 6),\n",
       " (1, 4, 5, 7),\n",
       " (1, 4, 6, 7),\n",
       " (1, 5, 6, 7),\n",
       " (2, 3, 4, 5),\n",
       " (2, 3, 4, 6),\n",
       " (2, 3, 4, 7),\n",
       " (2, 3, 5, 6),\n",
       " (2, 3, 5, 7),\n",
       " (2, 3, 6, 7),\n",
       " (2, 4, 5, 6),\n",
       " (2, 4, 5, 7),\n",
       " (2, 4, 6, 7),\n",
       " (2, 5, 6, 7),\n",
       " (3, 4, 5, 6),\n",
       " (3, 4, 5, 7),\n",
       " (3, 4, 6, 7),\n",
       " (3, 5, 6, 7),\n",
       " (4, 5, 6, 7)]"
      ]
     },
     "execution_count": 3,
     "metadata": {},
     "output_type": "execute_result"
    }
   ],
   "source": [
    "import itertools\n",
    "\n",
    "poss = list(itertools.combinations(cups, 4))\n",
    "poss"
   ]
  },
  {
   "cell_type": "markdown",
   "id": "90ab4d27-45de-4d6d-b76f-810542a6ce89",
   "metadata": {},
   "source": [
    "### HYPOTHESES\n",
    "\n",
    "<hr style=\"border-top: 1px solid rgb(0, 91, 94);\" />"
   ]
  },
  {
   "cell_type": "markdown",
   "id": "25f8ffa4-dcd6-4507-ad6f-f58e9cfa8076",
   "metadata": {},
   "source": [
    "In his book, Fisher describes the *null hypothesis*. The null hypothesis is the statement to be countered by the experiment.  In the lady tasting tea experiment, the null hypothesis was that the lady could not tell the difference between a cup of tea with the milk poured in first and the one that had the tea poured in first."
   ]
  },
  {
   "cell_type": "markdown",
   "id": "c39e1caa-f06a-4d6e-a9e8-6665411988b7",
   "metadata": {},
   "source": [
    "**Null Hypothesis:** Lady can not tell if the cup had milk in it first or last.\n",
    "\n",
    "Once we collect the experimental data we evaluate how likely we were to see such data if the null hypothesis is true. If it is very unlikely, then we may reject the null hypothesis. Typically we have an alternative hypothesis that we suggest rejecting the null hypothesis is evidence for.\n",
    "\n",
    "\n",
    "**Alternative Hypothesis:** Lady can tell the difference.\n",
    "\n",
    "\n",
    "Should the subject pick the correct four cups with milk in them first, there is only a 1 in 70 (~1.4%) chance of them having done that if they were simply guessing. Fisher considered that unlikely enough to reject the null hypothesis if they manage it."
   ]
  },
  {
   "cell_type": "code",
   "execution_count": 4,
   "id": "c49dfcf9-a8c5-42de-b620-b5abccebea73",
   "metadata": {},
   "outputs": [
    {
     "data": {
      "text/plain": [
       "0.014285714285714285"
      ]
     },
     "execution_count": 4,
     "metadata": {},
     "output_type": "execute_result"
    }
   ],
   "source": [
    "# Only one of the 70 randomly selected possibilities is the desired result.\n",
    "1 / 70"
   ]
  },
  {
   "cell_type": "code",
   "execution_count": 5,
   "id": "e5e54a08-b4ea-4d4b-9dfd-e8084d843c6c",
   "metadata": {},
   "outputs": [
    {
     "data": {
      "text/plain": [
       "70"
      ]
     },
     "execution_count": 5,
     "metadata": {},
     "output_type": "execute_result"
    }
   ],
   "source": [
    "# Math module\n",
    "import math\n",
    "\n",
    "# Number of ways of selecting 4 cups from 8.\n",
    "math.comb(8, 4)"
   ]
  },
  {
   "cell_type": "code",
   "execution_count": 6,
   "id": "c783fa9c-981d-4a11-bfe3-7d6e6f00f5a2",
   "metadata": {},
   "outputs": [
    {
     "data": {
      "text/plain": [
       "0.014285714285714285"
      ]
     },
     "execution_count": 6,
     "metadata": {},
     "output_type": "execute_result"
    }
   ],
   "source": [
    "# The probability is then:\n",
    "1.0 / math.comb(8, 4)"
   ]
  },
  {
   "cell_type": "markdown",
   "id": "9e8130c9-d01b-473a-8c56-008ff36176c8",
   "metadata": {},
   "source": [
    "<hr style=\"border-top: 1px solid #001a79;\" />\n",
    "\n",
    "#### EXERCISE 1"
   ]
  },
  {
   "cell_type": "markdown",
   "id": "bb4d383a-7892-429b-b37a-2619a4f30d0d",
   "metadata": {},
   "source": [
    "##### The above gives about a 1.5% chance of randomly selecting the correct cups. Calculate the minimum number of cups of tea required to ensure the probability of randomly selecting the correct cups is less than or equal to 1%.\n",
    "<hr style=\"border-top: 1px solid #001a79;\" />"
   ]
  },
  {
   "cell_type": "markdown",
   "id": "19c38b54-3c32-4115-a4ae-33080ddce897",
   "metadata": {},
   "source": [
    "The following is adapted from https://stackoverflow.com/a/4941932"
   ]
  },
  {
   "cell_type": "code",
   "execution_count": 7,
   "id": "10a6605c-1a3c-4426-be8b-cab1de882c7a",
   "metadata": {},
   "outputs": [
    {
     "data": {
      "text/plain": [
       "252"
      ]
     },
     "execution_count": 7,
     "metadata": {},
     "output_type": "execute_result"
    }
   ],
   "source": [
    "# Number of ways of selecting 5 cups from 10.\n",
    "math.comb(10, 5)"
   ]
  },
  {
   "cell_type": "code",
   "execution_count": 8,
   "id": "0c57aa5d-1071-4c66-9602-2efbce4f5f2c",
   "metadata": {},
   "outputs": [
    {
     "data": {
      "text/plain": [
       "0.003968253968253968"
      ]
     },
     "execution_count": 8,
     "metadata": {},
     "output_type": "execute_result"
    }
   ],
   "source": [
    "# Probability of randomly selecting correct 5 cups is:\n",
    "1.0 / math.comb(10, 5)"
   ]
  },
  {
   "cell_type": "markdown",
   "id": "a931ddf8-554d-48f0-9049-df446762667c",
   "metadata": {
    "tags": []
   },
   "source": [
    "So, if the experiment was done with 10 cups total, 5 with milk in first and 5 with tea in first, then the chance of selecting correctly randomly is much less than 1%."
   ]
  },
  {
   "cell_type": "markdown",
   "id": "0cf1e74c-07c6-4511-98f4-66489f661439",
   "metadata": {},
   "source": [
    "We could design the experiment to have 9 cups in total, with 4 with milk in first and 5 with tea in first - or vice versa."
   ]
  },
  {
   "cell_type": "code",
   "execution_count": 9,
   "id": "857f33bf-65fb-4f0a-bb60-4615a0d6b87e",
   "metadata": {},
   "outputs": [
    {
     "data": {
      "text/plain": [
       "126"
      ]
     },
     "execution_count": 9,
     "metadata": {},
     "output_type": "execute_result"
    }
   ],
   "source": [
    "# Number of ways of selecting 4 cups from 9.\n",
    "math.comb(9, 4)"
   ]
  },
  {
   "cell_type": "code",
   "execution_count": 10,
   "id": "f122a648-1184-46f4-bcc8-c1a23c5561c6",
   "metadata": {},
   "outputs": [
    {
     "data": {
      "text/plain": [
       "126"
      ]
     },
     "execution_count": 10,
     "metadata": {},
     "output_type": "execute_result"
    }
   ],
   "source": [
    "# Note the number of ways of selecting 5 cups from 9:\n",
    "math.comb(9, 5)"
   ]
  },
  {
   "cell_type": "code",
   "execution_count": 11,
   "id": "2bdbfc50-c5de-4b7d-9950-af2970330149",
   "metadata": {},
   "outputs": [
    {
     "data": {
      "text/plain": [
       "0.007936507936507936"
      ]
     },
     "execution_count": 11,
     "metadata": {},
     "output_type": "execute_result"
    }
   ],
   "source": [
    "# Probability::\n",
    "1.0 / math.comb(9, 4)"
   ]
  },
  {
   "cell_type": "markdown",
   "id": "1844f3ba-7823-4a5e-8562-4400de9d3d35",
   "metadata": {},
   "source": [
    "This is less than 1% too."
   ]
  },
  {
   "cell_type": "markdown",
   "id": "7983b995-e73a-4a4e-b972-024c39c2d3fc",
   "metadata": {},
   "source": [
    "|4 out of 8 | 5 out of 10 | 4 or 5 out of 9  | \n",
    "| :-: | :-: | :-: | \n",
    "| 1.42 % | 0.3 %  | 0.7 % |                                                                              "
   ]
  },
  {
   "cell_type": "markdown",
   "id": "987930ba-6ca9-4605-9e80-24b956cdca92",
   "metadata": {},
   "source": [
    "<hr style=\"border-top: 1px solid #001a79;\" />\n",
    "\n",
    "##### *Bonus:* How many would be required if you were to let the taster get one cup wrong while maintaining the 1% threshold?\n",
    "<hr style=\"border-top: 1px solid #001a79;\" />"
   ]
  },
  {
   "cell_type": "code",
   "execution_count": 12,
   "id": "e1af4da0-3d6e-4405-90ef-2a2d1343186e",
   "metadata": {},
   "outputs": [
    {
     "data": {
      "text/plain": [
       "0.003968253968253968"
      ]
     },
     "execution_count": 12,
     "metadata": {},
     "output_type": "execute_result"
    }
   ],
   "source": [
    "# The probability:\n",
    "1.0 / math.comb(10, 5)"
   ]
  },
  {
   "cell_type": "code",
   "execution_count": 13,
   "id": "90a1856b-2a92-4731-a23c-8aa11cd6a3f7",
   "metadata": {},
   "outputs": [
    {
     "data": {
      "text/plain": [
       "0.004761904761904762"
      ]
     },
     "execution_count": 13,
     "metadata": {},
     "output_type": "execute_result"
    }
   ],
   "source": [
    "# The probability is then:\n",
    "1.0 / math.comb(10, 4)"
   ]
  },
  {
   "cell_type": "markdown",
   "id": "0440950a-ef81-4c87-9d33-b4b6eb6a9bee",
   "metadata": {},
   "source": [
    "### DISTRIBUTION\n",
    "\n",
    "<hr style=\"border-top: 1px solid rgb(0, 91, 94);\" />"
   ]
  },
  {
   "cell_type": "markdown",
   "id": "d55be687-a8c1-4bf0-ae0e-36c823e85fe9",
   "metadata": {},
   "source": [
    "We may be tempted to allow the possibility of rejecting the null hypothesis if the subject gets three cups right. That would be a mistake, as the following plot shows. It shows the null distribution, the number of ways of guessing for each number of correct cups.\n",
    "\n",
    "We can see from the plot that there is ~17% chance of guessing at least three correct cups, and it can be said that is not unlikely enough to reject the null hypothesis."
   ]
  },
  {
   "cell_type": "code",
   "execution_count": 14,
   "id": "cbebbb4d-2299-4c51-b58a-2a7997d60b65",
   "metadata": {},
   "outputs": [
    {
     "data": {
      "image/png": "[encoded data removed]",
      "text/plain": [
       "<Figure size 720x432 with 1 Axes>"
      ]
     },
     "metadata": {},
     "output_type": "display_data"
    }
   ],
   "source": [
    "import random\n",
    "import seaborn as sns\n",
    "\n",
    "sns.set(rc={'figure.figsize':(10, 6)})\n",
    "\n",
    "# Pick a random correct answer from the list of 70 to simulate the experiment.\n",
    "milkfirst = set(random.choice(poss))\n",
    "\n",
    "# Count the overlap between the correct answer, and each of the 70 possiblities.\n",
    "counts = [len(milkfirst & set(i)) for i in itertools.combinations(cups, 4)]\n",
    "\n",
    "# Creat the plot.\n",
    "sns.countplot(x=counts);"
   ]
  },
  {
   "cell_type": "markdown",
   "id": "b765dd80-134b-46a8-92bc-1d77ff13949d",
   "metadata": {},
   "source": [
    "<hr style=\"border-top: 1px solid #001a79;\" />\n",
    "\n",
    "#### EXERCISE 2"
   ]
  },
  {
   "cell_type": "markdown",
   "id": "04bcf8ef-ca1e-4305-b341-1028ba158823",
   "metadata": {},
   "source": [
    "##### Use <a href=\"https://docs.scipy.org/doc/scipy/reference/generated/scipy.stats.fisher_exact.html\" style=\"color: #ff791e\">scipy's version of Fisher's exact test</a> to simulate the Lady Tasting Tea problem.\n",
    "<hr style=\"border-top: 1px solid #001a79;\" />"
   ]
  },
  {
   "cell_type": "code",
   "execution_count": 15,
   "id": "aaabb3f6-2f34-43c6-8026-3d860228d6e5",
   "metadata": {},
   "outputs": [],
   "source": [
    "# Statisctical methods\n",
    "import scipy.stats as ss"
   ]
  },
  {
   "cell_type": "code",
   "execution_count": 16,
   "id": "198645c4-e5b2-4b25-9445-fd865eab4646",
   "metadata": {},
   "outputs": [
    {
     "data": {
      "text/plain": [
       "(inf, 0.028571428571428536)"
      ]
     },
     "execution_count": 16,
     "metadata": {},
     "output_type": "execute_result"
    }
   ],
   "source": [
    "ss.fisher_exact([[4, 0], [0, 4]])"
   ]
  },
  {
   "cell_type": "code",
   "execution_count": 17,
   "id": "5eec0bc6-aa0e-4238-9c59-df781b0da8b1",
   "metadata": {},
   "outputs": [
    {
     "data": {
      "text/plain": [
       "0.014285714285714285"
      ]
     },
     "execution_count": 17,
     "metadata": {},
     "output_type": "execute_result"
    }
   ],
   "source": [
    "1.0 / math.comb(8, 4)"
   ]
  },
  {
   "cell_type": "code",
   "execution_count": 18,
   "id": "18f63b92-0f08-4bd5-8b2a-59d6e9100bac",
   "metadata": {},
   "outputs": [
    {
     "data": {
      "text/plain": [
       "0.014285714285714268"
      ]
     },
     "execution_count": 18,
     "metadata": {},
     "output_type": "execute_result"
    }
   ],
   "source": [
    "p2 = ss.fisher_exact([[4, 0], [0, 4]], alternative = \"greater\")\n",
    "p2[1]"
   ]
  },
  {
   "cell_type": "markdown",
   "id": "cd4fe578-0824-444f-b860-4b2bb26ffb6b",
   "metadata": {},
   "source": [
    "https://stats.stackexchange.com/questions/325744/when-is-a-one-sided-test-used-versus-a-two-sided-test-in-a-fishers-exact-test"
   ]
  },
  {
   "cell_type": "markdown",
   "id": "020c093e-ad0b-4170-a327-971209e05be6",
   "metadata": {},
   "source": [
    "<hr style=\"border:2px solid gray\"> </hr>"
   ]
  },
  {
   "cell_type": "markdown",
   "id": "adc1c241-c569-45dd-ad63-c22a7bf24b1a",
   "metadata": {
    "tags": []
   },
   "source": [
    "## STUDENT $t$-TEST\n",
    "\n",
    "<center><img src=\"https://upload.wikimedia.org/wikipedia/commons/4/42/William_Sealy_Gosset.jpg\" width=\"300\"/></center>\n",
    "\n",
    "|William Sealy Gosset |\n",
    "| :-: |\n",
    "| Developed the \"t-statistic\" and published it under the pseudonym of \"Student\" |"
   ]
  },
  {
   "cell_type": "markdown",
   "id": "a91cc937-be83-4ad9-8ffb-7acda67b17af",
   "metadata": {
    "tags": []
   },
   "source": [
    "$T$-tests are among the most common statistical tests performed in world. They are used to determine if there is a significant difference between the means of two groups and how they are related. T-tests are used when the data sets follow a normal distribution and have unknown variances\n",
    "\n",
    "We will focus on the practicalities of performing $t$-tests in Python further in this notebook."
   ]
  },
  {
   "cell_type": "markdown",
   "id": "d050cc77-c088-4e3d-91b8-a8a534473b79",
   "metadata": {},
   "source": [
    "<hr style=\"border:2px solid gray\"> </hr>"
   ]
  },
  {
   "cell_type": "code",
   "execution_count": 19,
   "id": "a181582c-4970-4b99-afe9-b4d930b3785e",
   "metadata": {},
   "outputs": [],
   "source": [
    "# To work with arrays.\n",
    "import numpy as np\n",
    "\n",
    "# To work with dataframes.\n",
    "import pandas as pd\n",
    "\n",
    "# Statistics.\n",
    "import scipy.stats as ss\n",
    "import statsmodels.stats.weightstats as stat\n",
    "\n",
    "# Plotting.\n",
    "import matplotlib.pyplot as plt\n",
    "import seaborn as sns"
   ]
  },
  {
   "cell_type": "markdown",
   "id": "f6e13367-8912-46c9-ad22-bf8d789cec4d",
   "metadata": {},
   "source": [
    "$t$-tests perform calculations on samples from two populations to test whether the populations are likely similar.\n",
    "\n",
    "In the real world, we only see the samples and we cannot see the populations."
   ]
  },
  {
   "cell_type": "code",
   "execution_count": 20,
   "id": "23d497bf-4e00-429b-824c-09711f7cdc59",
   "metadata": {},
   "outputs": [
    {
     "data": {
      "image/png": "[encoded data removed]",
      "text/plain": [
       "<Figure size 720x432 with 1 Axes>"
      ]
     },
     "metadata": {},
     "output_type": "display_data"
    }
   ],
   "source": [
    "# Let's create a plot with the following x values.\n",
    "x = np.linspace(-2.0, 4.0, 1000)\n",
    "\n",
    "# We'll have plots of two different populations on one set of axes.\n",
    "y_a = ss.norm.pdf(x, 1, 0.4)\n",
    "y_b = ss.norm.pdf(x, 2, 0.4)\n",
    "\n",
    "fig, ax = plt.subplots(figsize=(10,6))\n",
    "\n",
    "ax.plot(x, y_a)\n",
    "ax.plot(x, y_b)\n",
    "\n",
    "plt.show()"
   ]
  },
  {
   "cell_type": "markdown",
   "id": "70d0c506-4603-4f6e-8c8c-4ace34d27f57",
   "metadata": {},
   "source": [
    "### CRITICAL VALUE\n",
    "\n",
    "<hr style=\"border-top: 1px solid rgb(0, 91, 94);\" />"
   ]
  },
  {
   "cell_type": "markdown",
   "id": "4520d733-492a-41db-91d9-2a6c6daa6115",
   "metadata": {
    "tags": []
   },
   "source": [
    "The critical value is used to make a decision regarding the calculation of the $t$ statistic from the samples.\n",
    "\n",
    "If the probability of seeing such a $t$ value given the hypothesis that there is no difference between the means is low, then data is suggesting that you should reject that hypothesis."
   ]
  },
  {
   "cell_type": "markdown",
   "id": "18eea14c-cdb6-4267-a8c5-c80610c097d5",
   "metadata": {},
   "source": [
    "<center><img src=\"https://www.reneshbedre.com/assets/posts/ttest/ttest_teaser.webp?ezimgfmt=ng%3Awebp%2Fngcb2%2Frs%3Adevice%2Frscb2-1\" width=\"500\"/></center>"
   ]
  },
  {
   "cell_type": "code",
   "execution_count": 21,
   "id": "9358b75e-d6ff-442d-805e-664048f88ade",
   "metadata": {},
   "outputs": [
    {
     "data": {
      "image/png": "[encoded data removed]",
      "text/plain": [
       "<Figure size 720x432 with 1 Axes>"
      ]
     },
     "metadata": {},
     "output_type": "display_data"
    }
   ],
   "source": [
    "# The critical probability value.\n",
    "critical = 0.05\n",
    "\n",
    "d_sm = 30\n",
    "# Create the figure.\n",
    "fig, ax = plt.subplots(figsize=(10,6))\n",
    "\n",
    "# A range of x-values - these represent the t statistic.\n",
    "min_x = -5.0\n",
    "max_x = 5.0\n",
    "x = np.linspace(min_x, max_x, 1000)\n",
    "\n",
    "# The probability density function of the t statistic.\n",
    "# Here we use the degrees of freedom from above.\n",
    "t = ss.t.pdf(x, d_sm)\n",
    "# Plot it.\n",
    "ax.plot(x, t, color='red')\n",
    "\n",
    "# Get the tails.\n",
    "tf = pd.DataFrame({'x': x, 't': t})\n",
    "tcrit = abs(ss.t.ppf(critical / 2.0, d_sm))\n",
    "tail_one = tf[tf['x'] >= tcrit]\n",
    "tail_two = tf[tf['x'] <= -tcrit]\n",
    "# Plot them.\n",
    "ax.fill_between(tail_one['x'], tail_one['t'], 0, facecolor=\"red\")\n",
    "ax.fill_between(tail_two['x'], tail_two['t'], 0, facecolor=\"red\")\n",
    "\n",
    "plt.show()"
   ]
  },
  {
   "cell_type": "markdown",
   "id": "c09e1955-8190-4f01-8cbe-22ae442511c6",
   "metadata": {},
   "source": [
    "## ERRORS\n",
    "\n",
    "https://www.abtasty.com/blog/type-1-and-type-2-errors/#:~:text=Understanding%20Type%20I%20Errors&text=Simply%20put%2C%20type%201%20errors,though%20there%20isn't%20one.&text=Type%201%20errors%20have%20a,of%20confidence%20that%20you%20set."
   ]
  },
  {
   "cell_type": "markdown",
   "id": "1db628d1-24f7-4f46-ad5f-6bbceda103e3",
   "metadata": {},
   "source": [
    "### TYPES OF T - TEST\n",
    "\n",
    "<hr style=\"border-top: 1px solid rgb(0, 91, 94);\" />"
   ]
  },
  {
   "cell_type": "markdown",
   "id": "7e59e942-f8fe-40df-b4f9-439b502add03",
   "metadata": {},
   "source": [
    "### SIMULATED DATA\n",
    "\n",
    "<hr style=\"border-top: 1px solid rgb(0, 91, 94);\" />"
   ]
  },
  {
   "cell_type": "markdown",
   "id": "3a09ee37-3af9-4932-824a-3d3c6e3ce17d",
   "metadata": {},
   "source": [
    "We will create a fake data set with specific properties to investigate numerical methods. There are multiple data that can be scraped online for this purpose, but simulating our own data gives us more control."
   ]
  },
  {
   "cell_type": "code",
   "execution_count": 23,
   "id": "b5a45b45-71fd-4c28-8cab-a3c6e41d5fca",
   "metadata": {},
   "outputs": [
    {
     "data": {
      "text/html": [
       "<div>\n",
       "<style scoped>\n",
       "    .dataframe tbody tr th:only-of-type {\n",
       "        vertical-align: middle;\n",
       "    }\n",
       "\n",
       "    .dataframe tbody tr th {\n",
       "        vertical-align: top;\n",
       "    }\n",
       "\n",
       "    .dataframe thead th {\n",
       "        text-align: right;\n",
       "    }\n",
       "</style>\n",
       "<table border=\"1\" class=\"dataframe\">\n",
       "  <thead>\n",
       "    <tr style=\"text-align: right;\">\n",
       "      <th></th>\n",
       "      <th>Category</th>\n",
       "      <th>Value</th>\n",
       "    </tr>\n",
       "  </thead>\n",
       "  <tbody>\n",
       "    <tr>\n",
       "      <th>0</th>\n",
       "      <td>A</td>\n",
       "      <td>1.006800</td>\n",
       "    </tr>\n",
       "    <tr>\n",
       "      <th>1</th>\n",
       "      <td>A</td>\n",
       "      <td>1.649464</td>\n",
       "    </tr>\n",
       "    <tr>\n",
       "      <th>2</th>\n",
       "      <td>A</td>\n",
       "      <td>2.136591</td>\n",
       "    </tr>\n",
       "    <tr>\n",
       "      <th>3</th>\n",
       "      <td>A</td>\n",
       "      <td>0.250291</td>\n",
       "    </tr>\n",
       "    <tr>\n",
       "      <th>4</th>\n",
       "      <td>A</td>\n",
       "      <td>1.502826</td>\n",
       "    </tr>\n",
       "    <tr>\n",
       "      <th>...</th>\n",
       "      <td>...</td>\n",
       "      <td>...</td>\n",
       "    </tr>\n",
       "    <tr>\n",
       "      <th>75</th>\n",
       "      <td>B</td>\n",
       "      <td>1.704551</td>\n",
       "    </tr>\n",
       "    <tr>\n",
       "      <th>76</th>\n",
       "      <td>B</td>\n",
       "      <td>1.712164</td>\n",
       "    </tr>\n",
       "    <tr>\n",
       "      <th>77</th>\n",
       "      <td>B</td>\n",
       "      <td>2.278190</td>\n",
       "    </tr>\n",
       "    <tr>\n",
       "      <th>78</th>\n",
       "      <td>B</td>\n",
       "      <td>1.579406</td>\n",
       "    </tr>\n",
       "    <tr>\n",
       "      <th>79</th>\n",
       "      <td>B</td>\n",
       "      <td>1.968456</td>\n",
       "    </tr>\n",
       "  </tbody>\n",
       "</table>\n",
       "<p>80 rows × 2 columns</p>\n",
       "</div>"
      ],
      "text/plain": [
       "   Category     Value\n",
       "0         A  1.006800\n",
       "1         A  1.649464\n",
       "2         A  2.136591\n",
       "3         A  0.250291\n",
       "4         A  1.502826\n",
       "..      ...       ...\n",
       "75        B  1.704551\n",
       "76        B  1.712164\n",
       "77        B  2.278190\n",
       "78        B  1.579406\n",
       "79        B  1.968456\n",
       "\n",
       "[80 rows x 2 columns]"
      ]
     },
     "execution_count": 23,
     "metadata": {},
     "output_type": "execute_result"
    }
   ],
   "source": [
    "# Parameters for two different lists of numbers.\n",
    "m_a, s_a, m_b, s_b = 1.0, 0.4, 2.0, 0.4\n",
    "# Sample size.\n",
    "N = 40\n",
    "\n",
    "# Create two lists of numbers based on bell-shaped probability curves.\n",
    "a = np.random.normal(loc=m_a, scale=s_a, size=N)\n",
    "b = np.random.normal(loc=m_b, scale=s_b, size=N)\n",
    "\n",
    "# Stick both samples in one data frame.\n",
    "df = pd.DataFrame({'Category': ['A'] * len(a) + ['B'] * len(b), 'Value': np.hstack([a,b])})\n",
    "\n",
    "df"
   ]
  },
  {
   "cell_type": "markdown",
   "id": "0c5fef82-8000-4092-ba69-88fe69c76c18",
   "metadata": {},
   "source": [
    "Looking at the generated data above gives us an idea how the data is spread, but it is still not very illuminating. Visualising the data will give us better insight."
   ]
  },
  {
   "cell_type": "code",
   "execution_count": 24,
   "id": "03a24d98-7ef2-4c57-9198-873be54517aa",
   "metadata": {},
   "outputs": [
    {
     "data": {
      "image/png": "[encoded data removed]",
      "text/plain": [
       "<Figure size 360x360 with 1 Axes>"
      ]
     },
     "metadata": {},
     "output_type": "display_data"
    }
   ],
   "source": [
    "# One type of plot available in seaborn.\n",
    "sns.catplot(x='Category', y='Value', jitter=False, data=df);"
   ]
  },
  {
   "cell_type": "markdown",
   "id": "23167609-db90-4dce-9cc3-611a4136158c",
   "metadata": {},
   "source": [
    "We can clearly see how numbers in group A are concentrated around the value 1, while numbers in the group B are concentrated around value 2."
   ]
  },
  {
   "cell_type": "markdown",
   "id": "d524d97b-2889-4d66-948e-e589778a6926",
   "metadata": {},
   "source": [
    "### THE $T$-TEST\n",
    "\n",
    "<hr style=\"border-top: 1px solid rgb(0, 91, 94);\" />"
   ]
  },
  {
   "cell_type": "markdown",
   "id": "c8d38511-464c-43b9-926f-b9706f05e402",
   "metadata": {},
   "source": [
    "There are many ways of doing $t$-test in Python. Below are formula implementations, where $t$-test is calculated *\"by hand\"*."
   ]
  },
  {
   "cell_type": "code",
   "execution_count": 25,
   "id": "ff37ca42-1f42-4592-b351-9fcc3e463188",
   "metadata": {},
   "outputs": [
    {
     "data": {
      "text/plain": [
       "-9.581694575351566"
      ]
     },
     "execution_count": 25,
     "metadata": {},
     "output_type": "execute_result"
    }
   ],
   "source": [
    "# Calculate t statistic \"by hand\".\n",
    "# https://en.wikipedia.org/wiki/Test_statistic\n",
    "\n",
    "# Length of the arrays.\n",
    "n1 = len(a)\n",
    "n2 = len(b)\n",
    "\n",
    "# Means of the samples.\n",
    "m1 = np.sum(a) / n1\n",
    "m2 = np.sum(b) / n2\n",
    "\n",
    "# Sample standard deviations.\n",
    "s1 = np.sqrt(np.sum((a - m1)**2) / (n1 - 1))\n",
    "s2 = np.sqrt(np.sum((b - m2)**2) / (n2 - 1))\n",
    "\n",
    "df = n1 + n2 - 2\n",
    "sp2 = ((n1 - 1) * s1**2 + (n2 - 1) * s2**2) / df\n",
    "t = (m1 - m2) / (np.sqrt(sp2) * np.sqrt(1.0/n1 + 1.0/n2))\n",
    "\n",
    "t"
   ]
  },
  {
   "cell_type": "code",
   "execution_count": 26,
   "id": "4be2c1c7-7aae-4795-8120-91a0315a2aa2",
   "metadata": {},
   "outputs": [
    {
     "data": {
      "text/plain": [
       "-9.58169457535157"
      ]
     },
     "execution_count": 26,
     "metadata": {},
     "output_type": "execute_result"
    }
   ],
   "source": [
    "# Calculate t statistic \"by hand\".\n",
    "# https://www.youtube.com/watch?v=pTmLQvMM-1M&ab_channel=BozemanScience\n",
    "\n",
    "import statistics as st\n",
    "import math\n",
    "\n",
    "# Mean\n",
    "m1 = st.mean(a)\n",
    "m2 = st.mean(b)\n",
    "\n",
    "# Standard deviations\n",
    "s1 = st.stdev(a)\n",
    "s2 = st.stdev(b)\n",
    "\n",
    "# Variance\n",
    "v1 = s1**2\n",
    "v2 = s2**2\n",
    "\n",
    "# Quantity\n",
    "n1 = len(a)\n",
    "n2 = len(b)\n",
    "\n",
    "t = (m1-m2)/(math.sqrt((v1/n1)+(v2/n2)))\n",
    "t"
   ]
  },
  {
   "cell_type": "markdown",
   "id": "48ec16a1-24ea-4b27-a02f-077d6b7099e7",
   "metadata": {},
   "source": [
    "The more simple way would be using a single function call. There are many different functions in Python used for this purpose, and the ones shown below are *scipy* and *statmodels*."
   ]
  },
  {
   "cell_type": "markdown",
   "id": "717359dd-f20c-49c5-87fa-7c443f91b1a8",
   "metadata": {},
   "source": [
    "##### SCIPY"
   ]
  },
  {
   "cell_type": "code",
   "execution_count": 27,
   "id": "63a7ca19-1879-453f-bd96-19de1cf28c4f",
   "metadata": {},
   "outputs": [
    {
     "name": "stdout",
     "output_type": "stream",
     "text": [
      "t-value: -9.581694575351566\tp-value: 8.068165305770211e-15\n",
      "P_scipy: 0.00\n"
     ]
    }
   ],
   "source": [
    "# The scipy.stats version.\n",
    "t_ss, p_ss = ss.ttest_ind(a, b)\n",
    "print(f\"t-value: {t_ss}\\tp-value: {p_ss}\")\n",
    "print(f\"P_scipy: {p_ss:0.2f}\")"
   ]
  },
  {
   "cell_type": "markdown",
   "id": "cbed8b01-f5e8-4f6e-9868-b998de5d0301",
   "metadata": {},
   "source": [
    "##### STATMODELS"
   ]
  },
  {
   "cell_type": "code",
   "execution_count": 28,
   "id": "fcc5bc1c-ba23-4541-b633-109baa197546",
   "metadata": {},
   "outputs": [
    {
     "name": "stdout",
     "output_type": "stream",
     "text": [
      "t-value: -9.581694575351564\tp-value: 8.068165305770355e-15\tDeg Free: 78.0\n",
      "P_statsmodels: 0.00\n"
     ]
    }
   ],
   "source": [
    "# The statsmodels version.\n",
    "t_sm, p_sm, d_sm = stat.ttest_ind(a, b)\n",
    "print(f\"t-value: {t_sm}\\tp-value: {p_sm}\\tDeg Free: {d_sm}\")\n",
    "print(f\"P_statsmodels: {p_sm:0.2f}\")"
   ]
  },
  {
   "cell_type": "code",
   "execution_count": null,
   "id": "7f68bad8-1b71-4b1a-8f41-e899e4fa43b8",
   "metadata": {},
   "outputs": [],
   "source": []
  },
  {
   "cell_type": "markdown",
   "id": "61d9ab4b-8e0c-4cc6-972e-29aa34544db7",
   "metadata": {},
   "source": [
    "### PROBLEMS WITH MULTIPLE T-TESTS\n",
    "\n",
    "<hr style=\"border-top: 1px solid rgb(0, 91, 94);\" />"
   ]
  },
  {
   "cell_type": "code",
   "execution_count": null,
   "id": "198f06be-2223-45a7-8840-9eb9ce9a5c6c",
   "metadata": {},
   "outputs": [],
   "source": []
  },
  {
   "cell_type": "markdown",
   "id": "e2cef96f-0305-451d-8412-579e50c7bc8a",
   "metadata": {},
   "source": [
    "### ANOVA\n",
    "\n",
    "<hr style=\"border-top: 1px solid rgb(0, 91, 94);\" />"
   ]
  },
  {
   "cell_type": "code",
   "execution_count": null,
   "id": "efd4ceb8-6980-47e5-8829-a12c4ff85a61",
   "metadata": {},
   "outputs": [],
   "source": []
  },
  {
   "cell_type": "markdown",
   "id": "e469e1f9-a6f0-41c5-a1f8-0b0b0b7213d0",
   "metadata": {},
   "source": [
    "### EXERCISE\n",
    "\n",
    "<hr style=\"border-top: 1px solid rgb(0, 91, 94);\" />"
   ]
  },
  {
   "cell_type": "markdown",
   "id": "de27d871-7519-409f-a0b1-6e359087213d",
   "metadata": {},
   "source": [
    "## REFERENCES"
   ]
  },
  {
   "cell_type": "markdown",
   "id": "acef8cd3-d661-4ea6-9889-472b7ee05767",
   "metadata": {},
   "source": [
    "TEA TEST\n",
    "- https://jonykoren.medium.com/lady-tasting-tea-e46f89fbe9e8\n",
    "- https://brainder.org/2015/08/23/the-lady-tasting-tea-and-fishers-exact-test/\n",
    "- https://www.kdnuggets.com/2019/05/lady-tasting-tea-science.html\n",
    "\n",
    "STUDENT T - TEST\n",
    "- https://en.wikipedia.org/wiki/Student%27s_t-test\n",
    "- https://www.statisticshowto.com/probability-and-statistics/t-test/\n",
    "- https://www.investopedia.com/terms/t/t-test.asp"
   ]
  },
  {
   "cell_type": "code",
   "execution_count": null,
   "id": "1340379e-5c1e-4dd5-82fa-36046352fc85",
   "metadata": {},
   "outputs": [],
   "source": []
  }
 ],
 "metadata": {
  "kernelspec": {
   "display_name": "Python 3",
   "language": "python",
   "name": "python3"
  },
  "language_info": {
   "codemirror_mode": {
    "name": "ipython",
    "version": 3
   },
   "file_extension": ".py",
   "mimetype": "text/x-python",
   "name": "python",
   "nbconvert_exporter": "python",
   "pygments_lexer": "ipython3",
   "version": "3.8.8"
  }
 },
 "nbformat": 4,
 "nbformat_minor": 5
}
