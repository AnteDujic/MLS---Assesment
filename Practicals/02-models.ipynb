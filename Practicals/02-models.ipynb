{
 "cells": [
  {
   "cell_type": "markdown",
   "id": "0cde0b95-2960-40b7-97fd-0ec0575678e8",
   "metadata": {},
   "source": [
    "# MODELS\n",
    "## AUTHOR: ANTE DUJIC\n",
    "<hr style=\"border:2px solid black\"> </hr>"
   ]
  },
  {
   "cell_type": "markdown",
   "id": "8dc2a791-483f-488b-ba85-eeb6c1963a54",
   "metadata": {},
   "source": [
    "<center><img src=\"https://larspsyll.files.wordpress.com/2014/09/amath.jpg\" width=\"300\"/></center>"
   ]
  },
  {
   "cell_type": "markdown",
   "id": "75ed4dd8-9726-4f29-8701-43465aefcb53",
   "metadata": {},
   "source": [
    "\"Mathematical modelling is the process of describing a real world problem in mathematical terms, usually in the form of equations, and then using these equations both to help understand the original problem, and also to discover new features about the problem.\" [2] A model is not only used to explain and understand a certain problem, but also to make predictions about behaviour [1] Mathematical models are used in the natural sciences (e.g. physics, biology, earth science, chemistry) and engineering disciplines (e.g. computer science, electrical engineering), as well as in non-physical systems such as the social sciences (e.g. economics, psychology, sociology, political science). [3] The focus in this notebook is the linear mathematical model."
   ]
  },
  {
   "cell_type": "markdown",
   "id": "b81632a5-06e7-41df-a847-dfa293e6c63f",
   "metadata": {},
   "source": [
    "### LINEAR REGRESSION\n",
    "\n",
    "<hr style=\"border-top: 1px solid rgb(0, 91, 94);\" />"
   ]
  },
  {
   "cell_type": "markdown",
   "id": "4625b27e-0e00-495e-9008-b54d693cf4c4",
   "metadata": {},
   "source": [
    "Linear models describe a continuous response variable as a function of one or more predictor variables. They can help you understand and predict the behavior of complex systems. [4] A very common equotion is the one for the straight line:"
   ]
  },
  {
   "cell_type": "markdown",
   "id": "14ecc7d3-02ce-4b86-ac8c-370f11da4bfb",
   "metadata": {},
   "source": [
    "###  $$y = mx + c$$\n",
    "\n",
    "| m is the gradient of the line (how steep the line is). c is the y-intercept (the point in which the line crosses the y-axis). x and y relate to coordinates on the line |\n",
    "| :-: |\n",
    "|  |\n",
    "\n",
    "\n",
    "\n",
    "Inputting a value x into the above equotion, we get a result for y."
   ]
  },
  {
   "cell_type": "code",
   "execution_count": 1,
   "id": "4549f1b9-a0af-4e4a-81fb-8f1182057ec6",
   "metadata": {},
   "outputs": [],
   "source": [
    "# For plotting.\n",
    "import matplotlib.pyplot as plt\n",
    "\n",
    "# To work with arrays.\n",
    "import numpy as np"
   ]
  },
  {
   "cell_type": "code",
   "execution_count": 2,
   "id": "201905e3-df04-479a-81e7-e38c2b0135ec",
   "metadata": {
    "tags": []
   },
   "outputs": [
    {
     "data": {
      "image/png": "[encoded data removed]",
      "text/plain": [
       "<Figure size 720x432 with 1 Axes>"
      ]
     },
     "metadata": {
      "needs_background": "light"
     },
     "output_type": "display_data"
    }
   ],
   "source": [
    "# Plot size.\n",
    "fig, ax = plt.subplots(figsize=(10, 6))\n",
    "# Draw axes.\n",
    "plt.plot([-1, 10], [0, 0], 'k-')\n",
    "plt.plot([0, 0], [-1, 10], 'k-')\n",
    "\n",
    "# Plot the two points (1,3) and (2,5).\n",
    "plt.plot([1, 2], [3, 5], 'ko')\n",
    "# Draw green line connecting the points}.\n",
    "plt.plot([-1, 10], [-1, 21], 'g-')\n",
    "\n",
    "# Plot the red and the blue lines.\n",
    "plt.plot([1, 1], [-1, 3], 'b:')\n",
    "plt.plot([-1, 1], [3, 3], 'r:')\n",
    "\n",
    "# Set plot limits.\n",
    "plt.xlim([-1, 4])\n",
    "plt.ylim([-1, 6])\n",
    "\n",
    "# Show the plot.\n",
    "plt.show()"
   ]
  },
  {
   "cell_type": "markdown",
   "id": "e06de7ce-dc7f-4a30-8f82-7d880ac5efcf",
   "metadata": {},
   "source": [
    "Statistical method to create a linear model is called linear regression. The term regression is used when you try to find the relationship between variables. That relationship is used to predict the outcome of some future events in machine learning. [6] Linear Regression is a supervised machine learning algorithm where the predicted output is continuous and has a constant slope. It’s used to predict values within a continuous range. [5] "
   ]
  },
  {
   "cell_type": "markdown",
   "id": "6114817b-c6c1-40f3-8d3b-f9aab4f9775d",
   "metadata": {},
   "source": [
    "Simple linear regression uses traditional slope-intercept form. *m* and *c* are the variables our algorithm will try to “learn” to produce the most accurate predictions. x represents our input data and y represents our prediction. [5] DELETE"
   ]
  },
  {
   "cell_type": "markdown",
   "id": "7161a9d5-5e2b-4fb5-8ee2-d986cba9e0d2",
   "metadata": {},
   "source": [
    "### ANALYSIS\n",
    "\n",
    "<hr style=\"border-top: 1px solid rgb(0, 91, 94);\" />"
   ]
  },
  {
   "cell_type": "markdown",
   "id": "9185ae99-f732-4db8-8428-ce5412eb7fb2",
   "metadata": {},
   "source": [
    "#### SIMULATING DATA"
   ]
  },
  {
   "cell_type": "code",
   "execution_count": 3,
   "id": "dd8cbf06-0631-414c-a9a0-b0129b0f407c",
   "metadata": {},
   "outputs": [
    {
     "data": {
      "text/plain": [
       "(array([ 0.,  1.,  2.,  3.,  4.,  5.,  6.,  7.,  8.,  9., 10., 11., 12.,\n",
       "        13., 14., 15., 16., 17., 18., 19., 20.]),\n",
       " array([  8.58740579,  11.80234381,  20.462923  ,  30.66227667,\n",
       "         33.91709252,  36.25503805,  40.49894448,  41.76923502,\n",
       "         54.57038844,  54.33247758,  56.28202707,  66.60991447,\n",
       "         75.49808564,  76.41379718,  78.27579031,  90.54975968,\n",
       "         86.41437225,  91.31065553, 105.64041181, 110.98731616,\n",
       "        114.00024601]))"
      ]
     },
     "execution_count": 3,
     "metadata": {},
     "output_type": "execute_result"
    }
   ],
   "source": [
    "x = np.arange(0.0, 21.0, 1.0)\n",
    "y = 5.0 * x + 10.0 + np.random.normal(0.0, 5.0, x.size)\n",
    "x, y"
   ]
  },
  {
   "cell_type": "code",
   "execution_count": 4,
   "id": "eabe7bc5-426c-49a8-8226-a1e6b2d2949f",
   "metadata": {},
   "outputs": [
    {
     "data": {
      "image/png": "[encoded data removed]",
      "text/plain": [
       "<Figure size 720x432 with 1 Axes>"
      ]
     },
     "metadata": {
      "needs_background": "light"
     },
     "output_type": "display_data"
    }
   ],
   "source": [
    "# Create the plot.\n",
    "plt.rcParams['figure.figsize'] = (10, 6)\n",
    "plt.plot(x, y, 'k.')\n",
    "\n",
    "# Set some properties for the plot.\n",
    "plt.xlabel('Value x')\n",
    "plt.ylabel('Value y')\n",
    "\n",
    "# Show the plot.\n",
    "plt.show()"
   ]
  },
  {
   "cell_type": "markdown",
   "id": "547e6829-2e48-4b1d-a9ba-f6689b14a27a",
   "metadata": {},
   "source": [
    "Points on the plot above don't strictly follow the straight line, but they are also not far from it. We can conclude  that the generated data follows a linear line."
   ]
  },
  {
   "cell_type": "markdown",
   "id": "f241bf1a-4619-403c-91f0-b69272385c72",
   "metadata": {},
   "source": [
    "#### BEST FIT LINE"
   ]
  },
  {
   "cell_type": "markdown",
   "id": "f8e2f547-eb7b-4113-b8c1-4874b2e98303",
   "metadata": {},
   "source": [
    "Using the formula for the linear line, we can draw various straight lines that would fit the simulated data"
   ]
  },
  {
   "cell_type": "code",
   "execution_count": 5,
   "id": "bfd1559d-eaa2-4c91-9633-e4d1530f9d43",
   "metadata": {},
   "outputs": [
    {
     "data": {
      "image/png": "[encoded data removed]",
      "text/plain": [
       "<Figure size 720x432 with 1 Axes>"
      ]
     },
     "metadata": {
      "needs_background": "light"
     },
     "output_type": "display_data"
    }
   ],
   "source": [
    "# Create a plot for data (dots)\n",
    "plt.plot(x, y, 'k.', label=\"Data\")\n",
    "\n",
    "# Overlay some lines on the plot.\n",
    "a = np.arange(0.0, 21.0, 1.0)\n",
    "plt.plot(a, 5.0 * a + 10.0, 'r-', label=r\"$5x + 10$\")\n",
    "plt.plot(a, 6.0 * a +  5.0, 'g-', label=r\"$6x +  5$\")\n",
    "plt.plot(a, 5.0 * a + 15.0, 'b-', label=r\"$5x + 15$\")\n",
    "\n",
    "# Add a legend.\n",
    "plt.legend()\n",
    "\n",
    "# Add axis labels.\n",
    "plt.xlabel('Value x')\n",
    "plt.ylabel('Value y')\n",
    "\n",
    "# Show the plot.\n",
    "plt.show()"
   ]
  },
  {
   "cell_type": "markdown",
   "id": "60608d6e-09e3-4ca2-a5cb-97b644de96b3",
   "metadata": {},
   "source": [
    "It's visible from the above plot how each of the lines roughly fit the data, but the question is which one of those is the best one, and is there one that would with this data better. The usual approach is to use the *least-squares method*, which minimizes the squared difference between the actual data points and a straight line. The formula is:"
   ]
  },
  {
   "cell_type": "markdown",
   "id": "e92aca3c-a810-405e-bb4f-84b19fd8b7b4",
   "metadata": {},
   "source": [
    "###  $$ \\sum_i (y_i - mx_i - c)^2 $$"
   ]
  },
  {
   "cell_type": "markdown",
   "id": "517bfbfa-7bf0-44c8-b0e9-89741956bb05",
   "metadata": {},
   "source": [
    "| The corresponding value to $x_i$ in the dataset is $y_i$. The value $m x_i + c$ is what the model says $y_i$ should have been. The difference between  the value that was observed ($y_i$) and the value that the model gives ($m x_i + c$), is $y_i - mx_i - c$. |\n",
    "| :-: |\n",
    "|  |\n",
    "\n"
   ]
  },
  {
   "cell_type": "markdown",
   "id": "892f63c4-bc37-45d6-85b5-05984c0805b5",
   "metadata": {},
   "source": [
    "\n",
    "##### TO DRAW\n",
    "<center><img src=\"https://atmos.washington.edu/~robwood/teaching/451/labs/images/concepts12.jpg\" width=\"300\"/></center>"
   ]
  },
  {
   "cell_type": "code",
   "execution_count": 6,
   "id": "13714f18-c23d-4f92-9a81-9bcd5e1cff96",
   "metadata": {},
   "outputs": [
    {
     "data": {
      "image/png": "[encoded data removed]",
      "text/plain": [
       "<Figure size 720x432 with 1 Axes>"
      ]
     },
     "metadata": {
      "needs_background": "light"
     },
     "output_type": "display_data"
    }
   ],
   "source": [
    "# Plot the data (dots)\n",
    "plt.plot(x, y, 'k.', label=\"Data\")\n",
    "\n",
    "# Draw the red line (best fit line).\n",
    "a = np.arange(0.0, 21, 1.0)\n",
    "plt.plot(a, 5.0 * a + 10.0, 'k-')\n",
    "\n",
    "# Draw dotted lines\n",
    "plt.plot([10, 10], [0, 60], 'k:')\n",
    "plt.plot([0, 10], [60, 60], 'k:')\n",
    "plt.plot([0, 10], [50, 50], 'k:')\n",
    "\n",
    "\n",
    "# Add a legend.\n",
    "plt.legend()\n",
    "\n",
    "# Add axis labels.\n",
    "plt.xlabel('Value x')\n",
    "plt.ylabel('Value y')\n",
    "\n",
    "# Show the plot.\n",
    "plt.show()"
   ]
  },
  {
   "cell_type": "markdown",
   "id": "96c6fe20-f636-4bc6-9c0d-e2e61a5abcc1",
   "metadata": {},
   "source": [
    "We can calculate the cost of the given lines using the formula above and determine which one is the best fitted."
   ]
  },
  {
   "cell_type": "code",
   "execution_count": 7,
   "id": "e34e402b-a080-4234-a58b-f76873bf8b3b",
   "metadata": {},
   "outputs": [
    {
     "name": "stdout",
     "output_type": "stream",
     "text": [
      "Cost with m =  5.00 and c = 10.00:   285.98 - RED LINE\n",
      "Cost with m =  6.00 and c =  5.00:  1135.81 - GREEN LINE\n",
      "Cost with m =  5.00 and c = 15.00:   562.58 - BLUE LINE\n"
     ]
    }
   ],
   "source": [
    "# Calculate the cost of the lines above for the data above.\n",
    "cost = lambda m,c: np.sum([(y[i] - m * x[i] - c)**2 for i in range(x.size)])\n",
    "\n",
    "print(\"Cost with m = %5.2f and c = %5.2f: %8.2f - RED LINE\" % (5.0, 10.0, cost(5.0, 10.0)))\n",
    "print(\"Cost with m = %5.2f and c = %5.2f: %8.2f - GREEN LINE\" % (6.0,  5.0, cost(6.0,  5.0)))\n",
    "print(\"Cost with m = %5.2f and c = %5.2f: %8.2f - BLUE LINE\" % (5.0, 15.0, cost(5.0, 15.0)))"
   ]
  },
  {
   "cell_type": "markdown",
   "id": "2bd14b24-d000-463b-9f87-01ac497203af",
   "metadata": {},
   "source": [
    "We can see that the red line, representing values m = 5 and c = 10 has the minimum value of the three. This just confirms what we already knew, considering we have simulated data ourselves. This however doesn't necessarily means the best fitted line is the red one. We use the cost formula to calculate this."
   ]
  },
  {
   "cell_type": "markdown",
   "id": "a93da93c-44e9-41aa-a0d3-de647f41d6e7",
   "metadata": {},
   "source": [
    "### MINIMISING THE COST\n",
    "\n",
    "<hr style=\"border-top: 1px solid rgb(0, 91, 94);\" />"
   ]
  },
  {
   "cell_type": "markdown",
   "id": "036690f5-c60c-4f39-8d23-b5e21a421e41",
   "metadata": {},
   "source": [
    "We first calculate the mean (average) values of our $x$ values and that of our $y$ values. Then we subtract the mean of $x$ from each of the $x$ values, and the mean of $y$ from each of the $y$ values. Then we take the *dot product* of the new $x$ values and the new $y$ values and divide it by the dot product of the new $x$ values with themselves. That gives us $m$, and we use $m$ to calculate $c$.\n",
    "\n",
    "We calculate $m$ and $c$ below."
   ]
  },
  {
   "cell_type": "markdown",
   "id": "635aadee-de6e-4c1e-9608-e4ca6f2d9881",
   "metadata": {},
   "source": [
    "#### CALCULATE $m$ and $c$ BY HAND"
   ]
  },
  {
   "cell_type": "code",
   "execution_count": 8,
   "id": "f0f3636a-d3bd-471c-9c2d-8e730d4bca24",
   "metadata": {},
   "outputs": [
    {
     "name": "stdout",
     "output_type": "stream",
     "text": [
      "m = 5.127770 | c = 9.905181.\n"
     ]
    }
   ],
   "source": [
    "# First calculate the means (a.k.a. averages) of w and d.\n",
    "x_avg = np.mean(x)\n",
    "y_avg = np.mean(y)\n",
    "\n",
    "# Subtract means from x and y.\n",
    "x_zero = x - x_avg\n",
    "y_zero = y - y_avg\n",
    "\n",
    "# The best m is found by the following calculation.\n",
    "m = np.sum(x_zero * y_zero) / np.sum(x_zero * x_zero)\n",
    "# Use m from above to calculate the best c.\n",
    "c = y_avg - m * x_avg\n",
    "\n",
    "print(\"m = %8.6f | c = %6.6f.\" % (m, c))"
   ]
  },
  {
   "cell_type": "markdown",
   "id": "e2a23386-20ff-463d-805d-e1b74b7d8f4f",
   "metadata": {},
   "source": [
    "#### NUMPY.POLYFIT"
   ]
  },
  {
   "cell_type": "markdown",
   "id": "893fbd6b-15b4-4d33-a4be-286c92a32c5b",
   "metadata": {},
   "source": [
    "Python *Numpy* library can be used to do the above calculation in one line of code. It can also be used to fit lines in many dimensions."
   ]
  },
  {
   "cell_type": "code",
   "execution_count": 9,
   "id": "956761de-f3e3-4bef-a4de-1887591b4426",
   "metadata": {},
   "outputs": [
    {
     "name": "stdout",
     "output_type": "stream",
     "text": [
      "m = 5.127770 | c = 9.905181.\n"
     ]
    }
   ],
   "source": [
    "m, c = np.polyfit(x, y, 1)\n",
    "print(\"m = %8.6f | c = %6.6f.\" % (m, c))"
   ]
  },
  {
   "cell_type": "code",
   "execution_count": 10,
   "id": "c0ecc1d8-8b43-4d2a-9cbe-af0a8743ef1d",
   "metadata": {},
   "outputs": [
    {
     "data": {
      "image/png": "[encoded data removed]",
      "text/plain": [
       "<Figure size 720x432 with 1 Axes>"
      ]
     },
     "metadata": {
      "needs_background": "light"
     },
     "output_type": "display_data"
    }
   ],
   "source": [
    "# Plot the best fit line.\n",
    "plt.plot(x, y, 'k.', label='Original data')\n",
    "plt.plot(x, m * x + c, 'r-', label='Best fit line')\n",
    "\n",
    "# Add axis labels and a legend.\n",
    "plt.xlabel('Value x')\n",
    "plt.ylabel('Value y')\n",
    "plt.legend()\n",
    "\n",
    "# Show the plot.\n",
    "plt.show()"
   ]
  },
  {
   "cell_type": "markdown",
   "id": "7d29041b-8b1f-4cdd-9e18-71a58e97ac67",
   "metadata": {},
   "source": [
    "#### SCIPY.OPTIMIZE.MINIMIZE"
   ]
  },
  {
   "cell_type": "code",
   "execution_count": 11,
   "id": "b37cdcae-134a-464e-b3f0-66ecd7aedf40",
   "metadata": {
    "tags": []
   },
   "outputs": [],
   "source": [
    "# Optimization.\n",
    "import scipy.optimize as so\n",
    "\n",
    "# Numerical arrays.\n",
    "import numpy as np"
   ]
  },
  {
   "cell_type": "code",
   "execution_count": 12,
   "id": "a2b1a3a7-3c65-42d2-8730-bc0c6b61e5f9",
   "metadata": {},
   "outputs": [],
   "source": [
    "def cost(MC):\n",
    "    # Unpack the values m and c.\n",
    "    m, c = MC\n",
    "    # We need the data points in this function.\n",
    "    cost = np.sum((y - m * x - c)**2)\n",
    "    # Return that value.\n",
    "    return cost"
   ]
  },
  {
   "cell_type": "code",
   "execution_count": 13,
   "id": "02b58822-4644-4d4b-b42d-e80288bfdcd8",
   "metadata": {
    "tags": []
   },
   "outputs": [
    {
     "data": {
      "text/plain": [
       "      fun: 244.02972389605083\n",
       " hess_inv: array([[ 0.00064935, -0.00649351],\n",
       "       [-0.00649351,  0.0887446 ]])\n",
       "      jac: array([5.72204590e-06, 1.90734863e-06])\n",
       "  message: 'Optimization terminated successfully.'\n",
       "     nfev: 21\n",
       "      nit: 5\n",
       "     njev: 7\n",
       "   status: 0\n",
       "  success: True\n",
       "        x: array([5.12776996, 9.90518143])"
      ]
     },
     "execution_count": 13,
     "metadata": {},
     "output_type": "execute_result"
    }
   ],
   "source": [
    "# https://docs.scipy.org/doc/scipy/reference/generated/scipy.optimize.minimize.html#scipy.optimize.minimize\n",
    "result = so.minimize(cost, (2.0, 2.0))\n",
    "# Show the results.\n",
    "result"
   ]
  },
  {
   "cell_type": "code",
   "execution_count": 14,
   "id": "552f7799-224d-44ad-9492-5e8f8e9ec8f9",
   "metadata": {
    "tags": []
   },
   "outputs": [
    {
     "data": {
      "text/plain": [
       "(5.127769964069947, 9.905181433870837)"
      ]
     },
     "execution_count": 14,
     "metadata": {},
     "output_type": "execute_result"
    }
   ],
   "source": [
    "# Extract the optimized m and c.\n",
    "m_o, c_o = result.x\n",
    "# Print them.\n",
    "m_o, c_o"
   ]
  },
  {
   "cell_type": "code",
   "execution_count": 15,
   "id": "17d31131-c425-45bc-a92d-7d1330f23740",
   "metadata": {
    "tags": []
   },
   "outputs": [
    {
     "data": {
      "image/png": "[encoded data removed]",
      "text/plain": [
       "<Figure size 720x432 with 1 Axes>"
      ]
     },
     "metadata": {
      "needs_background": "light"
     },
     "output_type": "display_data"
    }
   ],
   "source": [
    "# Plot the best fit line from the optimization.\n",
    "fig, ax = plt.subplots(figsize=(10, 6))\n",
    "ax.plot(x, y, 'k.', label='Original data')\n",
    "ax.plot(x, m_o * x + c_o, 'b-', label='Optimized line')\n",
    "# ax.plot(x, m_a * x + c_a, 'g-', label='Analytical line')\n",
    "ax.legend()\n",
    "\n",
    "# Show the plot.\n",
    "plt.show()"
   ]
  },
  {
   "cell_type": "markdown",
   "id": "0cf91ba0-3208-4269-902d-d2a1a8d08e54",
   "metadata": {},
   "source": [
    "#### SCIPY.OPTIMIZE.CURVE_FIT"
   ]
  },
  {
   "cell_type": "code",
   "execution_count": 16,
   "id": "da562c4f-bd81-4eed-82d4-64779eccbe57",
   "metadata": {},
   "outputs": [],
   "source": [
    "# https://docs.scipy.org/doc/scipy/reference/generated/scipy.optimize.curve_fit.html\n",
    "# Create the model function.\n",
    "def f(x, m, c):\n",
    "    return m * x + c"
   ]
  },
  {
   "cell_type": "code",
   "execution_count": 17,
   "id": "9ac4fc07-8dc5-4142-a7eb-2fdb0aa5e249",
   "metadata": {},
   "outputs": [
    {
     "data": {
      "text/plain": [
       "(array([5.12777001, 9.90518096]),\n",
       " array([[ 0.01668009, -0.16680091],\n",
       "        [-0.16680091,  2.27961239]]))"
      ]
     },
     "execution_count": 17,
     "metadata": {},
     "output_type": "execute_result"
    }
   ],
   "source": [
    "# Run curve_fit.\n",
    "result = so.curve_fit(f, x, y)\n",
    "result"
   ]
  },
  {
   "cell_type": "code",
   "execution_count": 18,
   "id": "c3107046-68d3-46bb-bf2b-de8947efd9bc",
   "metadata": {
    "tags": []
   },
   "outputs": [
    {
     "data": {
      "text/plain": [
       "(5.127770005916644, 9.905180962074454)"
      ]
     },
     "execution_count": 18,
     "metadata": {},
     "output_type": "execute_result"
    }
   ],
   "source": [
    "# Pull out the parameters.\n",
    "m_f, c_f = result[0]\n",
    "# Print values.\n",
    "m_f, c_f"
   ]
  },
  {
   "cell_type": "code",
   "execution_count": 19,
   "id": "b1c799c3-557c-43d8-aef7-20c1c7d864f8",
   "metadata": {
    "tags": []
   },
   "outputs": [
    {
     "data": {
      "image/png": "[encoded data removed]",
      "text/plain": [
       "<Figure size 576x432 with 1 Axes>"
      ]
     },
     "metadata": {
      "needs_background": "light"
     },
     "output_type": "display_data"
    }
   ],
   "source": [
    "# Plot the best fit line from the optimization.\n",
    "fig, ax = plt.subplots(figsize=(8, 6))\n",
    "ax.plot(x, y, 'k.', label='Original data')\n",
    "ax.plot(x, m_f * x + c_f, 'r-', label='Curve Fit line')\n",
    "#ax.plot(x, m_a * x + c_a, 'g-', label='Analytical line')\n",
    "ax.legend()\n",
    "\n",
    "# Show the plot.\n",
    "plt.show()"
   ]
  },
  {
   "cell_type": "markdown",
   "id": "66292eb2-2545-4605-83b4-4e88731f6800",
   "metadata": {},
   "source": [
    "<hr style=\"border-top: 1px solid #001a79;\" />\n",
    "\n",
    "<h4 style=\"color: #001a79;\">EXERCISE 1</h4>"
   ]
  },
  {
   "cell_type": "markdown",
   "id": "cb9a2e10-c0d3-4fbe-a3ba-4f9401882a3d",
   "metadata": {},
   "source": [
    "<h5 style=\"color: #001a79;\">Use numpy and matplotlib to plot the absolute value function. Research and explain why the absolute value function is not typically used in fitting straight lines to data.</h5>\n",
    "<hr style=\"border-top: 1px solid #001a79;\" />"
   ]
  },
  {
   "cell_type": "code",
   "execution_count": 20,
   "id": "0ed1fbc5-d46c-4b45-a2fa-d1a0a9b4dcba",
   "metadata": {},
   "outputs": [
    {
     "data": {
      "image/png": "[encoded data removed]",
      "text/plain": [
       "<Figure size 720x432 with 1 Axes>"
      ]
     },
     "metadata": {
      "needs_background": "light"
     },
     "output_type": "display_data"
    }
   ],
   "source": [
    "# Draw some axes.\n",
    "plt.plot([-10, 10], [0, 0], 'k-')\n",
    "plt.plot([0, 0], [-10, 10], 'k-')\n",
    "\n",
    "x1 = np.arange(-10, 11, 1.0)\n",
    "y1 = abs(x1)\n",
    "plt.plot(x1, y1, label=\"y=|x|\")\n",
    "plt.legend()\n",
    "# Set some reasonable plot limits.\n",
    "plt.xlim([-10, 10])\n",
    "plt.ylim([-3, 10])\n",
    "\n",
    "# Show the plot.\n",
    "plt.show()"
   ]
  },
  {
   "cell_type": "markdown",
   "id": "0d7ef182-f10d-4842-8c53-a3a524df6ae9",
   "metadata": {},
   "source": [
    "There is a consensus that absolute value is harder to calculate compared to the least squares. When solving an optimization problems  we take the derivative to find the points where it is equal to 0. When differentiating, absolute value are way harder to differentiate compared to the  squares, especially due to their non-linearity. Also, least squares regression lines are more efficient. They don't require as great of a number of samples to get a good estimate of the true regression line."
   ]
  },
  {
   "cell_type": "markdown",
   "id": "341000c9-4685-48ee-8530-e99b36881380",
   "metadata": {},
   "source": [
    "https://math.stackexchange.com/questions/3580109/why-does-regression-use-least-squares-instead-of-least-absolute-values"
   ]
  },
  {
   "cell_type": "markdown",
   "id": "366dbf46-663f-4c4c-88e1-506eb0a9163f",
   "metadata": {},
   "source": [
    "https://mirca.github.io/lad/ipython_notebooks/getting-started.html"
   ]
  },
  {
   "cell_type": "markdown",
   "id": "257fd5cc-8d57-4dca-8bbe-94be7dce373d",
   "metadata": {},
   "source": [
    "<hr style=\"border-top: 1px solid #001a79;\" />\n",
    "\n",
    "<h4 style=\"color: #001a79;\">EXERCISE 2</h4>"
   ]
  },
  {
   "cell_type": "markdown",
   "id": "63d212bc-8320-4c81-96a6-a53234e8e6d2",
   "metadata": {},
   "source": [
    "<h5 style=\"color: #001a79;\">Fit a straight line to the following data points, using all three methods used above. Do you think a straight line is a good model for these points?</h5>\n",
    "<h5 style=\"color: #001a79;\">x = [2.0, 3.0, 4.0, 5.0, 6.0, 7.0, 8.0, 9.0, 10.0, 11.0, 12.0, 13.0, 14.0, 15.0, 16.0, 17.0, 18.0, 19.0, 20.0]</h5>\n",
    "<h5 style=\"color: #001a79;\">y = [0.7, 1.1, 1.5, 1.6, 1.7, 2.0, 2.3, 2.4, 2.2, 2.1, 2.4, 2.6, 2.2, 2.7, 2.5, 2.7, 2.8, 2.9, 3.1]</h5>\n",
    "<hr style=\"border-top: 1px solid #001a79;\" />"
   ]
  },
  {
   "cell_type": "code",
   "execution_count": 21,
   "id": "89d8ed59-1485-4a36-8081-01857303dc84",
   "metadata": {},
   "outputs": [],
   "source": [
    "x = [2.0, 3.0, 4.0, 5.0, 6.0, 7.0, 8.0, 9.0, 10.0, 11.0, 12.0, 13.0, 14.0, 15.0, 16.0, 17.0, 18.0, 19.0, 20.0]\n",
    "y = [0.7, 1.1, 1.5, 1.6, 1.7, 2.0, 2.3, 2.4, 2.2, 2.1, 2.4, 2.6, 2.2, 2.7, 2.5, 2.7, 2.8, 2.9, 3.1]"
   ]
  },
  {
   "cell_type": "code",
   "execution_count": 22,
   "id": "5c51a1b4-6400-40aa-a0fd-5b1bdeb3c24b",
   "metadata": {},
   "outputs": [],
   "source": [
    "ax.plot(x, y, 'k.', label='Original data')\n",
    "\n",
    "plt.show()"
   ]
  },
  {
   "cell_type": "markdown",
   "id": "47a009f3-7dfb-4878-a71d-d389bef3009a",
   "metadata": {},
   "source": [
    "##### METHOD 1"
   ]
  },
  {
   "cell_type": "code",
   "execution_count": 23,
   "id": "66206e87-6e4a-4d09-8cd1-469f2069bc80",
   "metadata": {},
   "outputs": [
    {
     "data": {
      "text/plain": [
       "array([0.10315789, 1.04947368])"
      ]
     },
     "execution_count": 23,
     "metadata": {},
     "output_type": "execute_result"
    }
   ],
   "source": [
    "np.polyfit(x, y, 1)"
   ]
  },
  {
   "cell_type": "markdown",
   "id": "073c16fb-c76b-4f95-8dce-ebdc683aa8f9",
   "metadata": {},
   "source": [
    "##### METHOD 2"
   ]
  },
  {
   "cell_type": "code",
   "execution_count": 24,
   "id": "5d91b7d3-3ee4-4823-b21f-4a63c04c4ff9",
   "metadata": {},
   "outputs": [],
   "source": [
    "x = np.array(x)\n",
    "y = np.array(y)"
   ]
  },
  {
   "cell_type": "code",
   "execution_count": 25,
   "id": "1d27fbf7-4644-4eaa-9348-fa5bc8a0cf30",
   "metadata": {},
   "outputs": [
    {
     "data": {
      "text/plain": [
       "      fun: 1.03957894736911\n",
       " hess_inv: array([[ 0.00087719, -0.00964912],\n",
       "       [-0.00964912,  0.13245614]])\n",
       "      jac: array([1.49011612e-08, 0.00000000e+00])\n",
       "  message: 'Optimization terminated successfully.'\n",
       "     nfev: 21\n",
       "      nit: 5\n",
       "     njev: 7\n",
       "   status: 0\n",
       "  success: True\n",
       "        x: array([0.10315786, 1.04947406])"
      ]
     },
     "execution_count": 25,
     "metadata": {},
     "output_type": "execute_result"
    }
   ],
   "source": [
    "# https://docs.scipy.org/doc/scipy/reference/generated/scipy.optimize.minimize.html#scipy.optimize.minimize\n",
    "result = so.minimize(cost, (2, 2))\n",
    "# Show the results.\n",
    "result"
   ]
  },
  {
   "cell_type": "code",
   "execution_count": 26,
   "id": "ef6075b6-320b-414d-8073-530488cd9bd9",
   "metadata": {},
   "outputs": [
    {
     "data": {
      "text/plain": [
       "(0.10315785999003411, 1.0494740589312146)"
      ]
     },
     "execution_count": 26,
     "metadata": {},
     "output_type": "execute_result"
    }
   ],
   "source": [
    "# Extract the optimized m and c.\n",
    "m_o, c_o = result.x\n",
    "# Print them.\n",
    "m_o, c_o"
   ]
  },
  {
   "cell_type": "markdown",
   "id": "8631f6bb-6d51-4921-ba0c-b7214ef4d88d",
   "metadata": {},
   "source": [
    "##### METHOD 3"
   ]
  },
  {
   "cell_type": "code",
   "execution_count": 27,
   "id": "29ffdb2e-3e5e-41d0-88ad-70ee784548c6",
   "metadata": {},
   "outputs": [],
   "source": [
    "def f(x, m, c):\n",
    "    return m * x + c"
   ]
  },
  {
   "cell_type": "code",
   "execution_count": 28,
   "id": "9cde60a7-5378-4cae-81b6-8f62d1f3f09f",
   "metadata": {},
   "outputs": [
    {
     "data": {
      "text/plain": [
       "(array([0.10315789, 1.04947369]),\n",
       " array([[ 0.00010728, -0.00118012],\n",
       "        [-0.00118012,  0.01619984]]))"
      ]
     },
     "execution_count": 28,
     "metadata": {},
     "output_type": "execute_result"
    }
   ],
   "source": [
    "result = so.curve_fit(f, x, y)\n",
    "result"
   ]
  },
  {
   "cell_type": "code",
   "execution_count": 29,
   "id": "5fae540c-cbc8-46d1-9492-71f5f00d34e5",
   "metadata": {},
   "outputs": [
    {
     "data": {
      "text/plain": [
       "(0.10315789458399933, 1.0494736859688867)"
      ]
     },
     "execution_count": 29,
     "metadata": {},
     "output_type": "execute_result"
    }
   ],
   "source": [
    "# Pull out the parameters.\n",
    "m_f, c_f = result[0]\n",
    "# Print values.\n",
    "m_f, c_f"
   ]
  },
  {
   "cell_type": "code",
   "execution_count": 30,
   "id": "9ca83f8e-a3bd-41aa-9a1b-54e7c27157d1",
   "metadata": {},
   "outputs": [
    {
     "data": {
      "image/png": "[encoded data removed]",
      "text/plain": [
       "<Figure size 576x432 with 1 Axes>"
      ]
     },
     "metadata": {
      "needs_background": "light"
     },
     "output_type": "display_data"
    }
   ],
   "source": [
    "# Plot the best fit line from the optimization.\n",
    "fig, ax = plt.subplots(figsize=(8, 6))\n",
    "ax.plot(x, y, 'k.', label='Original data')\n",
    "ax.plot(x, m_f * x + c_f, 'r-', label='Curve Fit line')\n",
    "#ax.plot(x, m_a * x + c_a, 'g-', label='Analytical line')\n",
    "ax.legend()\n",
    "\n",
    "# Show the plot.\n",
    "plt.show()"
   ]
  },
  {
   "cell_type": "markdown",
   "id": "cfcfffe7-ebfb-487a-abbf-1284f8a4a340",
   "metadata": {},
   "source": [
    "<hr style=\"border-top: 1px solid #001a79;\" />"
   ]
  },
  {
   "cell_type": "markdown",
   "id": "92ff26d7-208d-4989-8bec-f0a35340c2f4",
   "metadata": {},
   "source": [
    "### REFERENCES"
   ]
  },
  {
   "cell_type": "markdown",
   "id": "5009b643-530d-4676-8ebe-e5d662b1c7d1",
   "metadata": {},
   "source": [
    "1. https://www.igi-global.com/dictionary/mathematical-model/18021\n",
    "2. https://www.mathscareers.org.uk/what-is-mathematical-modelling/\n",
    "3. https://en.wikipedia.org/wiki/Mathematical_model\n",
    "4. https://www.mathworks.com/discovery/linear-model.html\n",
    "5. https://ml-cheatsheet.readthedocs.io/en/latest/linear_regression.html\n",
    "6. https://www.w3schools.com/python/python_ml_linear_regression.asp\n",
    "7. https://thirdspacelearning.com/gcse-maths/algebra/y-mx-c/\n"
   ]
  },
  {
   "cell_type": "markdown",
   "id": "d2c1dc92-48af-4ef5-8d75-4f9aaeb8fc67",
   "metadata": {},
   "source": [
    "https://scicomp.stackexchange.com/questions/21085/cost-function-why-use-power-of-two-absx-xhat-x-better"
   ]
  },
  {
   "cell_type": "markdown",
   "id": "17b3b241-66e2-4e86-9ffb-c10ac257da84",
   "metadata": {},
   "source": [
    "https://stats.stackexchange.com/questions/118/why-square-the-difference-instead-of-taking-the-absolute-value-in-standard-devia#:~:text=Having%20a%20square%20as%20opposed,of%20estimation%20and%20regression%20analysis."
   ]
  },
  {
   "cell_type": "markdown",
   "id": "3cdf86bd-feb5-473d-b7a6-48a4b505baeb",
   "metadata": {},
   "source": [
    "https://www.quora.com/Why-do-we-use-square-error-instead-of-absolute-value-when-we-calculate-R-2-in-regression-analysis"
   ]
  },
  {
   "cell_type": "markdown",
   "id": "a6b1abbc-6a15-42af-8d59-3d5bfd08bbde",
   "metadata": {
    "tags": []
   },
   "source": [
    "https://matheducators.stackexchange.com/questions/16948/why-is-absolute-value-difficult"
   ]
  },
  {
   "cell_type": "code",
   "execution_count": null,
   "id": "44f96d6b-a8dd-4a43-8641-6df7a2eec27f",
   "metadata": {},
   "outputs": [],
   "source": []
  }
 ],
 "metadata": {
  "kernelspec": {
   "display_name": "Python 3",
   "language": "python",
   "name": "python3"
  },
  "language_info": {
   "codemirror_mode": {
    "name": "ipython",
    "version": 3
   },
   "file_extension": ".py",
   "mimetype": "text/x-python",
   "name": "python",
   "nbconvert_exporter": "python",
   "pygments_lexer": "ipython3",
   "version": "3.8.8"
  }
 },
 "nbformat": 4,
 "nbformat_minor": 5
}
