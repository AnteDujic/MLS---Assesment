{
 "cells": [
  {
   "cell_type": "code",
   "execution_count": null,
   "id": "3cbc99aa-a5f1-41b7-92dd-6a950f306e43",
   "metadata": {},
   "outputs": [],
   "source": []
  },
  {
   "cell_type": "markdown",
   "id": "0cde0b95-2960-40b7-97fd-0ec0575678e8",
   "metadata": {},
   "source": [
    "# MODELS\n",
    "## AUTHOR: ANTE DUJIC\n",
    "<hr style=\"border:2px solid black\"> </hr>"
   ]
  },
  {
   "cell_type": "markdown",
   "id": "8dc2a791-483f-488b-ba85-eeb6c1963a54",
   "metadata": {},
   "source": [
    "<center><img src=\"https://larspsyll.files.wordpress.com/2014/09/amath.jpg\" width=\"300\"/></center>"
   ]
  },
  {
   "cell_type": "markdown",
   "id": "75ed4dd8-9726-4f29-8701-43465aefcb53",
   "metadata": {},
   "source": [
    "Mathematical modelling is the process of describing a real world problem in mathematical terms, usually in the form of equations, and then using these equations both to help understand the original problem, and also to discover new features about the problem. [2] A model may help to explain a system and to study the effects of different components, and to make predictions about behavior. [1] Mathematical models are used in the natural sciences (such as physics, biology, earth science, chemistry) and engineering disciplines (such as computer science, electrical engineering), as well as in non-physical systems such as the social sciences (such as economics, psychology, sociology, political science). [3] There are many different mathematical models and the focus in this notebook will be on the linear one."
   ]
  },
  {
   "cell_type": "markdown",
   "id": "b81632a5-06e7-41df-a847-dfa293e6c63f",
   "metadata": {},
   "source": [
    "### LINEAR REGRESSION\n",
    "\n",
    "<hr style=\"border-top: 1px solid rgb(0, 91, 94);\" />"
   ]
  },
  {
   "cell_type": "markdown",
   "id": "4625b27e-0e00-495e-9008-b54d693cf4c4",
   "metadata": {},
   "source": [
    "Linear models describe a continuous response variable as a function of one or more predictor variables. They can help you understand and predict the behavior of complex systems. [4] "
   ]
  },
  {
   "cell_type": "markdown",
   "id": "14ecc7d3-02ce-4b86-ac8c-370f11da4bfb",
   "metadata": {},
   "source": [
    "Formula for the straight line: y = mx + c\n",
    "\n",
    "The equation y = mx + c is the general equation of any straight line where m is the gradient of the line (how steep the line is) and c is the y-intercept (the point in which the line crosses the y-axis). \n",
    "y = mx + c is a linear equation and the variables x and y relate to coordinates on the line.\n",
    "When we input a value for x into the equation y = mx + c, we get a result for y. [7]"
   ]
  },
  {
   "cell_type": "code",
   "execution_count": 7,
   "id": "201905e3-df04-479a-81e7-e38c2b0135ec",
   "metadata": {},
   "outputs": [
    {
     "data": {
      "image/png": "[encoded data removed]",
      "text/plain": [
       "<Figure size 720x360 with 1 Axes>"
      ]
     },
     "metadata": {
      "needs_background": "light"
     },
     "output_type": "display_data"
    }
   ],
   "source": [
    "# Import matplotlib.\n",
    "import matplotlib.pyplot as plt\n",
    "\n",
    "fig, ax = plt.subplots(figsize=(10, 5))\n",
    "# Draw some axes.\n",
    "plt.plot([-1, 10], [0, 0], 'k-')\n",
    "plt.plot([0, 0], [-1, 10], 'k-')\n",
    "\n",
    "# Plot the red, blue and green lines.\n",
    "plt.plot([1, 1], [-1, 3], 'b:')\n",
    "plt.plot([-1, 1], [3, 3], 'r:')\n",
    "\n",
    "# Plot the two points (1,3) and (2,5).\n",
    "plt.plot([1, 2], [3, 5], 'ko')\n",
    "# Join them with an (extending) green lines.\n",
    "plt.plot([-1, 10], [-1, 21], 'g-')\n",
    "\n",
    "# Set some reasonable plot limits.\n",
    "plt.xlim([-1, 10])\n",
    "plt.ylim([-1, 10])\n",
    "\n",
    "# Show the plot.\n",
    "plt.show()"
   ]
  },
  {
   "cell_type": "markdown",
   "id": "e06de7ce-dc7f-4a30-8f82-7d880ac5efcf",
   "metadata": {},
   "source": [
    "Statistical method to create a linear model is linear regression. [4] Linear Regression is a supervised machine learning algorithm where the predicted output is continuous and has a constant slope. It’s used to predict values within a continuous range. [5] The term regression is used when you try to find the relationship between variables. In Machine Learning, and in statistical modeling, that relationship is used to predict the outcome of future events. [6]"
   ]
  },
  {
   "cell_type": "code",
   "execution_count": null,
   "id": "e2ec089f-0c78-4321-a84a-165afead7320",
   "metadata": {},
   "outputs": [],
   "source": []
  },
  {
   "cell_type": "markdown",
   "id": "7161a9d5-5e2b-4fb5-8ee2-d986cba9e0d2",
   "metadata": {},
   "source": [
    "### ANALYSIS\n",
    "\n",
    "<hr style=\"border-top: 1px solid rgb(0, 91, 94);\" />"
   ]
  },
  {
   "cell_type": "markdown",
   "id": "9185ae99-f732-4db8-8428-ce5412eb7fb2",
   "metadata": {},
   "source": [
    "#### SIMULATING DATA"
   ]
  },
  {
   "cell_type": "markdown",
   "id": "70c20d45-f0e9-4e24-af6c-2f82b5307a83",
   "metadata": {},
   "source": [
    "#### VISUALIZING THE DATA"
   ]
  },
  {
   "cell_type": "markdown",
   "id": "d6be0b59-c950-478e-9714-7d1261004a8d",
   "metadata": {},
   "source": [
    "#### BEST LINES"
   ]
  },
  {
   "cell_type": "markdown",
   "id": "62c17c89-4263-4a67-b0e7-caecffd38325",
   "metadata": {},
   "source": [
    "#### COST"
   ]
  },
  {
   "cell_type": "markdown",
   "id": "7251d0c8-661f-4e33-a5cc-82c29a0bc1f0",
   "metadata": {},
   "source": [
    "#### COST"
   ]
  },
  {
   "cell_type": "code",
   "execution_count": null,
   "id": "956761de-f3e3-4bef-a4de-1887591b4426",
   "metadata": {},
   "outputs": [],
   "source": []
  },
  {
   "cell_type": "markdown",
   "id": "048e3d56-1f4c-4573-82f8-97f54fcc9221",
   "metadata": {},
   "source": [
    "### OPTIMIZATION\n",
    "\n",
    "<hr style=\"border-top: 1px solid rgb(0, 91, 94);\" />"
   ]
  },
  {
   "cell_type": "code",
   "execution_count": null,
   "id": "3c1dc782-4fa6-437d-a2c0-d4df9f5b83b4",
   "metadata": {},
   "outputs": [],
   "source": []
  },
  {
   "cell_type": "code",
   "execution_count": null,
   "id": "598b2723-7e02-405a-afd4-731403088e9a",
   "metadata": {},
   "outputs": [],
   "source": []
  },
  {
   "cell_type": "code",
   "execution_count": null,
   "id": "08a25981-5d8c-413d-855a-62e9545b4ad2",
   "metadata": {},
   "outputs": [],
   "source": []
  },
  {
   "cell_type": "code",
   "execution_count": null,
   "id": "89d8ed59-1485-4a36-8081-01857303dc84",
   "metadata": {},
   "outputs": [],
   "source": []
  },
  {
   "cell_type": "code",
   "execution_count": null,
   "id": "5c51a1b4-6400-40aa-a0fd-5b1bdeb3c24b",
   "metadata": {},
   "outputs": [],
   "source": []
  },
  {
   "cell_type": "code",
   "execution_count": null,
   "id": "b04f4ffd-aa0d-4be9-a41d-846eae50eb3b",
   "metadata": {},
   "outputs": [],
   "source": []
  },
  {
   "cell_type": "code",
   "execution_count": null,
   "id": "8b1756ec-0cae-4588-a177-cb08cfb848a4",
   "metadata": {},
   "outputs": [],
   "source": []
  },
  {
   "cell_type": "markdown",
   "id": "92ff26d7-208d-4989-8bec-f0a35340c2f4",
   "metadata": {},
   "source": [
    "### REFERENCES"
   ]
  },
  {
   "cell_type": "markdown",
   "id": "5009b643-530d-4676-8ebe-e5d662b1c7d1",
   "metadata": {},
   "source": [
    "1. https://www.igi-global.com/dictionary/mathematical-model/18021\n",
    "2. https://www.mathscareers.org.uk/what-is-mathematical-modelling/\n",
    "3. https://en.wikipedia.org/wiki/Mathematical_model\n",
    "4. https://www.mathworks.com/discovery/linear-model.html\n",
    "5. https://ml-cheatsheet.readthedocs.io/en/latest/linear_regression.html\n",
    "6. https://www.w3schools.com/python/python_ml_linear_regression.asp\n",
    "7. https://thirdspacelearning.com/gcse-maths/algebra/y-mx-c/\n"
   ]
  },
  {
   "cell_type": "code",
   "execution_count": null,
   "id": "8c5fbc3e-e67b-44a0-8291-0c76a3b2ff8f",
   "metadata": {},
   "outputs": [],
   "source": []
  }
 ],
 "metadata": {
  "kernelspec": {
   "display_name": "Python 3",
   "language": "python",
   "name": "python3"
  },
  "language_info": {
   "codemirror_mode": {
    "name": "ipython",
    "version": 3
   },
   "file_extension": ".py",
   "mimetype": "text/x-python",
   "name": "python",
   "nbconvert_exporter": "python",
   "pygments_lexer": "ipython3",
   "version": "3.8.8"
  }
 },
 "nbformat": 4,
 "nbformat_minor": 5
}
