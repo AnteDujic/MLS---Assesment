{
 "cells": [
  {
   "cell_type": "code",
   "execution_count": null,
   "id": "3cbc99aa-a5f1-41b7-92dd-6a950f306e43",
   "metadata": {},
   "outputs": [],
   "source": []
  },
  {
   "cell_type": "markdown",
   "id": "0cde0b95-2960-40b7-97fd-0ec0575678e8",
   "metadata": {},
   "source": [
    "# MODELS\n",
    "## AUTHOR: ANTE DUJIC\n",
    "<hr style=\"border:2px solid black\"> </hr>"
   ]
  },
  {
   "cell_type": "code",
   "execution_count": null,
   "id": "7230d6bd-c6ff-4ff9-a107-f2bcb98d0012",
   "metadata": {},
   "outputs": [],
   "source": []
  }
 ],
 "metadata": {
  "kernelspec": {
   "display_name": "Python 3",
   "language": "python",
   "name": "python3"
  },
  "language_info": {
   "codemirror_mode": {
    "name": "ipython",
    "version": 3
   },
   "file_extension": ".py",
   "mimetype": "text/x-python",
   "name": "python",
   "nbconvert_exporter": "python",
   "pygments_lexer": "ipython3",
   "version": "3.8.8"
  }
 },
 "nbformat": 4,
 "nbformat_minor": 5
}
