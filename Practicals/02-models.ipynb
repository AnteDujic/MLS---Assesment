{
 "cells": [
  {
   "cell_type": "markdown",
   "id": "0cde0b95-2960-40b7-97fd-0ec0575678e8",
   "metadata": {},
   "source": [
    "# MODELS\n",
    "## AUTHOR: ANTE DUJIC\n",
    "<hr style=\"border:2px solid black\"> </hr>"
   ]
  },
  {
   "cell_type": "markdown",
   "id": "8dc2a791-483f-488b-ba85-eeb6c1963a54",
   "metadata": {},
   "source": [
    "<center><img src=\"https://larspsyll.files.wordpress.com/2014/09/amath.jpg\" width=\"300\"/></center>"
   ]
  },
  {
   "cell_type": "markdown",
   "id": "75ed4dd8-9726-4f29-8701-43465aefcb53",
   "metadata": {},
   "source": [
    "Mathematical modelling is the process of describing a real world problem in mathematical terms, usually in the form of equations, and then using these equations both to help understand the original problem, and also to discover new features about the problem. [2] A model may help to explain a system and to study the effects of different components, and to make predictions about behavior. [1] Mathematical models are used in the natural sciences (such as physics, biology, earth science, chemistry) and engineering disciplines (such as computer science, electrical engineering), as well as in non-physical systems such as the social sciences (such as economics, psychology, sociology, political science). [3] There are many different mathematical models and the focus in this notebook will be on the linear one."
   ]
  },
  {
   "cell_type": "markdown",
   "id": "b81632a5-06e7-41df-a847-dfa293e6c63f",
   "metadata": {},
   "source": [
    "### LINEAR REGRESSION\n",
    "\n",
    "<hr style=\"border-top: 1px solid rgb(0, 91, 94);\" />"
   ]
  },
  {
   "cell_type": "markdown",
   "id": "4625b27e-0e00-495e-9008-b54d693cf4c4",
   "metadata": {},
   "source": [
    "Linear models describe a continuous response variable as a function of one or more predictor variables. They can help you understand and predict the behavior of complex systems. [4] "
   ]
  },
  {
   "cell_type": "markdown",
   "id": "14ecc7d3-02ce-4b86-ac8c-370f11da4bfb",
   "metadata": {},
   "source": [
    "A very common equotion is the one for the straight line:\n",
    "\n",
    "###  $$y = mx + c$$\n",
    "\n",
    "| m is the gradient of the line (how steep the line is). c is the y-intercept (the point in which the line crosses the y-axis). x and y relate to coordinates on the line |\n",
    "| :-: |\n",
    "|  |\n",
    "\n",
    "\n",
    "\n",
    "When we input a value for x into the equation y = mx + c, we get a result for y. [7]"
   ]
  },
  {
   "cell_type": "code",
   "execution_count": 1,
   "id": "201905e3-df04-479a-81e7-e38c2b0135ec",
   "metadata": {
    "tags": []
   },
   "outputs": [
    {
     "data": {
      "image/png": "[encoded data removed]",
      "text/plain": [
       "<Figure size 720x432 with 1 Axes>"
      ]
     },
     "metadata": {
      "needs_background": "light"
     },
     "output_type": "display_data"
    }
   ],
   "source": [
    "# Import matplotlib.\n",
    "import matplotlib.pyplot as plt\n",
    "\n",
    "fig, ax = plt.subplots(figsize=(10, 6))\n",
    "# Draw some axes.\n",
    "plt.plot([-1, 10], [0, 0], 'k-')\n",
    "plt.plot([0, 0], [-1, 10], 'k-')\n",
    "\n",
    "# Plot the red, blue and green lines.\n",
    "plt.plot([1, 1], [-1, 3], 'b:')\n",
    "plt.plot([-1, 1], [3, 3], 'r:')\n",
    "\n",
    "# Plot the two points (1,3) and (2,5).\n",
    "plt.plot([1, 2], [3, 5], 'ko')\n",
    "# Join them with an (extending) green lines.\n",
    "plt.plot([-1, 10], [-1, 21], 'g-')\n",
    "\n",
    "# Set some reasonable plot limits.\n",
    "plt.xlim([-1, 4])\n",
    "plt.ylim([-1, 6])\n",
    "\n",
    "# Show the plot.\n",
    "plt.show()"
   ]
  },
  {
   "cell_type": "markdown",
   "id": "e06de7ce-dc7f-4a30-8f82-7d880ac5efcf",
   "metadata": {},
   "source": [
    "Statistical method to create a linear model is linear regression. [4] Linear Regression is a supervised machine learning algorithm where the predicted output is continuous and has a constant slope. It’s used to predict values within a continuous range. [5] The term regression is used when you try to find the relationship between variables. In Machine Learning, and in statistical modeling, that relationship is used to predict the outcome of future events. [6]"
   ]
  },
  {
   "cell_type": "markdown",
   "id": "6114817b-c6c1-40f3-8d3b-f9aab4f9775d",
   "metadata": {},
   "source": [
    "Simple linear regression uses traditional slope-intercept form, where m and c are the variables our algorithm will try to “learn” to produce the most accurate predictions. x represents our input data and y represents our prediction. [5]"
   ]
  },
  {
   "cell_type": "markdown",
   "id": "7161a9d5-5e2b-4fb5-8ee2-d986cba9e0d2",
   "metadata": {},
   "source": [
    "### ANALYSIS\n",
    "\n",
    "<hr style=\"border-top: 1px solid rgb(0, 91, 94);\" />"
   ]
  },
  {
   "cell_type": "markdown",
   "id": "9185ae99-f732-4db8-8428-ce5412eb7fb2",
   "metadata": {},
   "source": [
    "#### SIMULATING DATA"
   ]
  },
  {
   "cell_type": "code",
   "execution_count": 2,
   "id": "598814eb-b3b9-459d-a49b-5a0ed15fc36b",
   "metadata": {},
   "outputs": [],
   "source": [
    "# numpy efficiently deals with numerical multi-dimensional arrays.\n",
    "import numpy as np\n",
    "\n",
    "# matplotlib is a plotting library, and pyplot is its easy-to-use module.\n",
    "import matplotlib.pyplot as plt"
   ]
  },
  {
   "cell_type": "code",
   "execution_count": 3,
   "id": "dd8cbf06-0631-414c-a9a0-b0129b0f407c",
   "metadata": {},
   "outputs": [
    {
     "data": {
      "text/plain": [
       "(array([ 0.,  1.,  2.,  3.,  4.,  5.,  6.,  7.,  8.,  9., 10., 11., 12.,\n",
       "        13., 14., 15., 16., 17., 18., 19., 20.]),\n",
       " array([ -4.11044431,  10.42951478,  20.51158075,  24.64897169,\n",
       "         29.61358863,  35.33335304,  45.660517  ,  44.50235563,\n",
       "         43.54173448,  51.06839342,  63.77663125,  64.57926334,\n",
       "         62.4472751 ,  74.79368224,  82.2259971 ,  80.50947027,\n",
       "         83.02336084,  86.67927303,  98.86168511, 114.90415666,\n",
       "        110.1362394 ]))"
      ]
     },
     "execution_count": 3,
     "metadata": {},
     "output_type": "execute_result"
    }
   ],
   "source": [
    "x = np.arange(0.0, 21.0, 1.0)\n",
    "y = 5.0 * x + 10.0 + np.random.normal(0.0, 5.0, x.size)\n",
    "x, y"
   ]
  },
  {
   "cell_type": "code",
   "execution_count": null,
   "id": "00620e2d-3573-47db-84f6-0fb0f35ca220",
   "metadata": {},
   "outputs": [],
   "source": []
  },
  {
   "cell_type": "markdown",
   "id": "70c20d45-f0e9-4e24-af6c-2f82b5307a83",
   "metadata": {},
   "source": [
    "#### VISUALIZING THE DATA"
   ]
  },
  {
   "cell_type": "code",
   "execution_count": 4,
   "id": "eabe7bc5-426c-49a8-8226-a1e6b2d2949f",
   "metadata": {},
   "outputs": [
    {
     "data": {
      "image/png": "[encoded data removed]",
      "text/plain": [
       "<Figure size 720x432 with 1 Axes>"
      ]
     },
     "metadata": {
      "needs_background": "light"
     },
     "output_type": "display_data"
    }
   ],
   "source": [
    "# Create the plot.\n",
    "plt.rcParams['figure.figsize'] = (10, 6)\n",
    "plt.plot(x, y, 'k.')\n",
    "\n",
    "# Set some properties for the plot.\n",
    "plt.xlabel('Weight (KG)')\n",
    "plt.ylabel('Distance (CM)')\n",
    "\n",
    "# Show the plot.\n",
    "plt.show()"
   ]
  },
  {
   "cell_type": "markdown",
   "id": "547e6829-2e48-4b1d-a9ba-f6689b14a27a",
   "metadata": {},
   "source": [
    "We can draw a conclusion from the above plot, that the generated data follows a linear line. Points don't strictly follow the straight line, but they are also not far from it."
   ]
  },
  {
   "cell_type": "markdown",
   "id": "f241bf1a-4619-403c-91f0-b69272385c72",
   "metadata": {},
   "source": [
    "#### BEST FIT LINE"
   ]
  },
  {
   "cell_type": "markdown",
   "id": "f8e2f547-eb7b-4113-b8c1-4874b2e98303",
   "metadata": {},
   "source": [
    "Using the formula for the linear line, we can draw various straight lines that would fit the simulated data"
   ]
  },
  {
   "cell_type": "code",
   "execution_count": 5,
   "id": "bfd1559d-eaa2-4c91-9633-e4d1530f9d43",
   "metadata": {},
   "outputs": [
    {
     "data": {
      "image/png": "[encoded data removed]",
      "text/plain": [
       "<Figure size 720x432 with 1 Axes>"
      ]
     },
     "metadata": {
      "needs_background": "light"
     },
     "output_type": "display_data"
    }
   ],
   "source": [
    "# Plot w versus d with black dots.\n",
    "plt.plot(x, y, 'k.', label=\"Data\")\n",
    "\n",
    "# Overlay some lines on the plot.\n",
    "a = np.arange(0.0, 21.0, 1.0)\n",
    "plt.plot(a, 5.0 * a + 10.0, 'r-', label=r\"$5x + 10$\")\n",
    "plt.plot(a, 6.0 * a +  5.0, 'g-', label=r\"$6x +  5$\")\n",
    "plt.plot(a, 5.0 * a + 15.0, 'b-', label=r\"$5x + 15$\")\n",
    "\n",
    "# Add a legend.\n",
    "plt.legend()\n",
    "\n",
    "# Add axis labels.\n",
    "plt.xlabel('Weight (KG)')\n",
    "plt.ylabel('Distance (CM)')\n",
    "\n",
    "# Show the plot.\n",
    "plt.show()"
   ]
  },
  {
   "cell_type": "markdown",
   "id": "60608d6e-09e3-4ca2-a5cb-97b644de96b3",
   "metadata": {},
   "source": [
    "It's visible from the above plot how each of the lines roughly fit the data, but the question is which one of those is the best one, and is there one that would with this data better. The usual approach is to use the *least-squares method*, which minimizes the squared difference between the actual data points and a straight line. The formula is:"
   ]
  },
  {
   "cell_type": "markdown",
   "id": "e92aca3c-a810-405e-bb4f-84b19fd8b7b4",
   "metadata": {},
   "source": [
    "###  $$ \\sum_i (y_i - mx_i - c)^2 $$"
   ]
  },
  {
   "cell_type": "markdown",
   "id": "517bfbfa-7bf0-44c8-b0e9-89741956bb05",
   "metadata": {},
   "source": [
    "| The corresponding value to $x_i$ in the dataset is $y_i$. The value $m x_i + c$ is what the model says $y_i$ should have been. The difference between  the value that was observed ($y_i$) and the value that the model gives ($m x_i + c$), is $y_i - mx_i - c$. |\n",
    "| :-: |\n",
    "|  |\n",
    "\n"
   ]
  },
  {
   "cell_type": "markdown",
   "id": "892f63c4-bc37-45d6-85b5-05984c0805b5",
   "metadata": {},
   "source": [
    "\n",
    "##### TO DRAW\n",
    "<center><img src=\"https://atmos.washington.edu/~robwood/teaching/451/labs/images/concepts12.jpg\" width=\"300\"/></center>"
   ]
  },
  {
   "cell_type": "code",
   "execution_count": 6,
   "id": "13714f18-c23d-4f92-9a81-9bcd5e1cff96",
   "metadata": {},
   "outputs": [
    {
     "data": {
      "image/png": "[encoded data removed]",
      "text/plain": [
       "<Figure size 720x432 with 1 Axes>"
      ]
     },
     "metadata": {
      "needs_background": "light"
     },
     "output_type": "display_data"
    }
   ],
   "source": [
    "# Plot w versus d with black dots.\n",
    "plt.plot(x, y, 'k.', label=\"Data\")\n",
    "\n",
    "# Overlay some lines on the plot.\n",
    "a = np.arange(0.0, 21, 1.0)\n",
    "plt.plot(a, 5.0 * a + 10.0, 'r-')\n",
    "\n",
    "plt.plot([10, 10], [0, 60], 'b:')\n",
    "plt.plot([0, 10], [60, 60], 'r:')\n",
    "\n",
    "\n",
    "# Add a legend.\n",
    "plt.legend()\n",
    "\n",
    "# Add axis labels.\n",
    "plt.xlabel('Weight (KG)')\n",
    "plt.ylabel('Distance (CM)')\n",
    "\n",
    "# Show the plot.\n",
    "plt.show()"
   ]
  },
  {
   "cell_type": "code",
   "execution_count": null,
   "id": "95bc6246-ad0c-420a-8c25-130561388a42",
   "metadata": {},
   "outputs": [],
   "source": []
  },
  {
   "cell_type": "code",
   "execution_count": null,
   "id": "f9892cf3-cdeb-4320-94be-ed8630c7821d",
   "metadata": {},
   "outputs": [],
   "source": []
  },
  {
   "cell_type": "code",
   "execution_count": null,
   "id": "ce26c8ef-9c80-4772-962d-e1b710f5b21e",
   "metadata": {},
   "outputs": [],
   "source": []
  },
  {
   "cell_type": "markdown",
   "id": "96c6fe20-f636-4bc6-9c0d-e2e61a5abcc1",
   "metadata": {},
   "source": [
    "We can calculate the cost of the given lines using the formula above and determine which one is the best fitted."
   ]
  },
  {
   "cell_type": "code",
   "execution_count": 7,
   "id": "e34e402b-a080-4234-a58b-f76873bf8b3b",
   "metadata": {},
   "outputs": [
    {
     "name": "stdout",
     "output_type": "stream",
     "text": [
      "Cost with m =  5.00 and c = 10.00:   624.06\n",
      "Cost with m =  6.00 and c =  5.00:  2030.59\n",
      "Cost with m =  5.00 and c = 15.00:  1517.69\n"
     ]
    }
   ],
   "source": [
    "# Calculate the cost of the lines above for the data above.\n",
    "cost = lambda m,c: np.sum([(y[i] - m * x[i] - c)**2 for i in range(x.size)])\n",
    "\n",
    "print(\"Cost with m = %5.2f and c = %5.2f: %8.2f\" % (5.0, 10.0, cost(5.0, 10.0)))\n",
    "print(\"Cost with m = %5.2f and c = %5.2f: %8.2f\" % (6.0,  5.0, cost(6.0,  5.0)))\n",
    "print(\"Cost with m = %5.2f and c = %5.2f: %8.2f\" % (5.0, 15.0, cost(5.0, 15.0)))"
   ]
  },
  {
   "cell_type": "markdown",
   "id": "2bd14b24-d000-463b-9f87-01ac497203af",
   "metadata": {},
   "source": [
    "We can see that the red line, representing values m = 5 and c = 10 has the minimum value of the three. This just confirms what we already knew, considering we have simulated data ourselves. This however doesn't necessarily means the best fitted line is the red one. We use the cost formula to calculate this."
   ]
  },
  {
   "cell_type": "markdown",
   "id": "7251d0c8-661f-4e33-a5cc-82c29a0bc1f0",
   "metadata": {},
   "source": [
    "#### MINIMISING THE COST"
   ]
  },
  {
   "cell_type": "markdown",
   "id": "036690f5-c60c-4f39-8d23-b5e21a421e41",
   "metadata": {},
   "source": [
    "We first calculate the mean (average) values of our $x$ values and that of our $y$ values. Then we subtract the mean of $x$ from each of the $x$ values, and the mean of $y$ from each of the $y$ values. Then we take the *dot product* of the new $x$ values and the new $y$ values and divide it by the dot product of the new $x$ values with themselves. That gives us $m$, and we use $m$ to calculate $c$.\n",
    "\n",
    "We calculate $m$ and $c$ below."
   ]
  },
  {
   "cell_type": "markdown",
   "id": "635aadee-de6e-4c1e-9608-e4ca6f2d9881",
   "metadata": {},
   "source": [
    "##### CALCULATE $m$ and $c$ BY HAND"
   ]
  },
  {
   "cell_type": "code",
   "execution_count": 8,
   "id": "f0f3636a-d3bd-471c-9c2d-8e730d4bca24",
   "metadata": {},
   "outputs": [
    {
     "name": "stdout",
     "output_type": "stream",
     "text": [
      "m is 5.166946 and c is 6.575137.\n"
     ]
    }
   ],
   "source": [
    "# Calculate the best values for m and c.\n",
    "\n",
    "# First calculate the means (a.k.a. averages) of w and d.\n",
    "x_avg = np.mean(x)\n",
    "y_avg = np.mean(y)\n",
    "\n",
    "# Subtract means from w and d.\n",
    "x_zero = x - x_avg\n",
    "y_zero = y - y_avg\n",
    "\n",
    "# The best m is found by the following calculation.\n",
    "m = np.sum(x_zero * y_zero) / np.sum(x_zero * x_zero)\n",
    "# Use m from above to calculate the best c.\n",
    "c = y_avg - m * x_avg\n",
    "\n",
    "print(\"m is %8.6f and c is %6.6f.\" % (m, c))"
   ]
  },
  {
   "cell_type": "markdown",
   "id": "e2a23386-20ff-463d-805d-e1b74b7d8f4f",
   "metadata": {},
   "source": [
    "##### CALCULATE $m$ and $c$ USING PYTHON LIBRARY"
   ]
  },
  {
   "cell_type": "markdown",
   "id": "893fbd6b-15b4-4d33-a4be-286c92a32c5b",
   "metadata": {},
   "source": [
    "Python *Numpy* library can be used to do the above calculation in one line of code. It can also be used to fit lines in many dimensions."
   ]
  },
  {
   "cell_type": "code",
   "execution_count": 9,
   "id": "956761de-f3e3-4bef-a4de-1887591b4426",
   "metadata": {},
   "outputs": [
    {
     "data": {
      "text/plain": [
       "array([5.16694627, 6.57513726])"
      ]
     },
     "execution_count": 9,
     "metadata": {},
     "output_type": "execute_result"
    }
   ],
   "source": [
    "np.polyfit(x, y, 1)"
   ]
  },
  {
   "cell_type": "code",
   "execution_count": 10,
   "id": "c0ecc1d8-8b43-4d2a-9cbe-af0a8743ef1d",
   "metadata": {},
   "outputs": [
    {
     "data": {
      "image/png": "[encoded data removed]",
      "text/plain": [
       "<Figure size 720x432 with 1 Axes>"
      ]
     },
     "metadata": {
      "needs_background": "light"
     },
     "output_type": "display_data"
    }
   ],
   "source": [
    "# Plot the best fit line.\n",
    "plt.plot(x, y, 'k.', label='Original data')\n",
    "plt.plot(x, m * x + c, 'b-', label='Best fit line')\n",
    "\n",
    "# Add axis labels and a legend.\n",
    "plt.xlabel('x')\n",
    "plt.ylabel('y')\n",
    "plt.legend()\n",
    "\n",
    "# Show the plot.\n",
    "plt.show()"
   ]
  },
  {
   "cell_type": "markdown",
   "id": "66292eb2-2545-4605-83b4-4e88731f6800",
   "metadata": {},
   "source": [
    "<hr style=\"border-top: 1px solid #001a79;\" />\n",
    "\n",
    "<h4 style=\"color: #001a79;\">EXERCISE 1</h4>"
   ]
  },
  {
   "cell_type": "markdown",
   "id": "cb9a2e10-c0d3-4fbe-a3ba-4f9401882a3d",
   "metadata": {},
   "source": [
    "<h5 style=\"color: #001a79;\">Use numpy and matplotlib to plot the absolute value function. Research and explain why the absolute value function is not typically used in fitting straight lines to data.</h5>\n",
    "<hr style=\"border-top: 1px solid #001a79;\" />"
   ]
  },
  {
   "cell_type": "code",
   "execution_count": 11,
   "id": "0ed1fbc5-d46c-4b45-a2fa-d1a0a9b4dcba",
   "metadata": {},
   "outputs": [
    {
     "data": {
      "image/png": "[encoded data removed]",
      "text/plain": [
       "<Figure size 720x432 with 1 Axes>"
      ]
     },
     "metadata": {
      "needs_background": "light"
     },
     "output_type": "display_data"
    }
   ],
   "source": [
    "fig, ax = plt.subplots(figsize=(10, 6))\n",
    "# Draw some axes.\n",
    "plt.plot([-10, 10], [0, 0], 'k-')\n",
    "plt.plot([0, 0], [-10, 10], 'k-')\n",
    "\n",
    "x = np.arange(-10, 11, 1.0)\n",
    "y = abs(x)\n",
    "plt.plot(x, y, label=\"y=|x|\")\n",
    "plt.legend()\n",
    "# Set some reasonable plot limits.\n",
    "plt.xlim([-10, 10])\n",
    "plt.ylim([-3, 10])\n",
    "\n",
    "\n",
    "\n",
    "# Show the plot.\n",
    "plt.show()"
   ]
  },
  {
   "cell_type": "code",
   "execution_count": null,
   "id": "6224b920-f30e-4e09-89f1-1fe1c8ed8208",
   "metadata": {},
   "outputs": [],
   "source": []
  },
  {
   "cell_type": "markdown",
   "id": "341000c9-4685-48ee-8530-e99b36881380",
   "metadata": {},
   "source": [
    "https://math.stackexchange.com/questions/3580109/why-does-regression-use-least-squares-instead-of-least-absolute-values"
   ]
  },
  {
   "cell_type": "markdown",
   "id": "5971168d-68ab-4623-8c38-20d8035567d2",
   "metadata": {},
   "source": [
    "<hr style=\"border-top: 1px solid #001a79;\" />"
   ]
  },
  {
   "cell_type": "markdown",
   "id": "048e3d56-1f4c-4573-82f8-97f54fcc9221",
   "metadata": {},
   "source": [
    "### OPTIMIZATION\n",
    "\n",
    "<hr style=\"border-top: 1px solid rgb(0, 91, 94);\" />"
   ]
  },
  {
   "cell_type": "markdown",
   "id": "3f0ec68b-91fc-4577-8003-b89b21cb0cb4",
   "metadata": {},
   "source": [
    "In this section we will use three different Python methods to minimize the cost function."
   ]
  },
  {
   "cell_type": "markdown",
   "id": "860c7fb5-e4d5-4ec8-b944-6a96bda373d8",
   "metadata": {},
   "source": [
    "#### SCIPY.OPTIMIZE.MINIMIZE"
   ]
  },
  {
   "cell_type": "code",
   "execution_count": null,
   "id": "766ff769-317b-4fb4-acd6-b6dc1701e7af",
   "metadata": {},
   "outputs": [],
   "source": []
  },
  {
   "cell_type": "code",
   "execution_count": null,
   "id": "007ec464-61ab-44d0-8f73-4dbc65271c6b",
   "metadata": {},
   "outputs": [],
   "source": []
  },
  {
   "cell_type": "markdown",
   "id": "05f63525-dc10-4e5c-9e36-6967a65aa619",
   "metadata": {},
   "source": [
    "#### METHOD 2"
   ]
  },
  {
   "cell_type": "markdown",
   "id": "374a934a-8ca4-41e2-9037-fc224a5b363c",
   "metadata": {},
   "source": [
    "#### METHOD 3"
   ]
  },
  {
   "cell_type": "code",
   "execution_count": null,
   "id": "598b2723-7e02-405a-afd4-731403088e9a",
   "metadata": {},
   "outputs": [],
   "source": []
  },
  {
   "cell_type": "markdown",
   "id": "257fd5cc-8d57-4dca-8bbe-94be7dce373d",
   "metadata": {},
   "source": [
    "<hr style=\"border-top: 1px solid #001a79;\" />\n",
    "\n",
    "<h4 style=\"color: #001a79;\">EXERCISE 2</h4>"
   ]
  },
  {
   "cell_type": "markdown",
   "id": "63d212bc-8320-4c81-96a6-a53234e8e6d2",
   "metadata": {},
   "source": [
    "<h5 style=\"color: #001a79;\">Fit a straight line to the following data points, using all three methods used above. Do you think a straight line is a good model for these points?</h5>\n",
    "<h5 style=\"color: #001a79;\">x = [2.0, 3.0, 4.0, 5.0, 6.0, 7.0, 8.0, 9.0, 10.0, 11.0, 12.0, 13.0, 14.0, 15.0, 16.0, 17.0, 18.0, 19.0, 20.0]</h5>\n",
    "<h5 style=\"color: #001a79;\">y = [0.7, 1.1, 1.5, 1.6, 1.7, 2.0, 2.3, 2.4, 2.2, 2.1, 2.4, 2.6, 2.2, 2.7, 2.5, 2.7, 2.8, 2.9, 3.1]</h5>\n",
    "<hr style=\"border-top: 1px solid #001a79;\" />"
   ]
  },
  {
   "cell_type": "code",
   "execution_count": null,
   "id": "89d8ed59-1485-4a36-8081-01857303dc84",
   "metadata": {},
   "outputs": [],
   "source": []
  },
  {
   "cell_type": "code",
   "execution_count": null,
   "id": "5c51a1b4-6400-40aa-a0fd-5b1bdeb3c24b",
   "metadata": {},
   "outputs": [],
   "source": []
  },
  {
   "cell_type": "code",
   "execution_count": null,
   "id": "b04f4ffd-aa0d-4be9-a41d-846eae50eb3b",
   "metadata": {},
   "outputs": [],
   "source": []
  },
  {
   "cell_type": "markdown",
   "id": "cfcfffe7-ebfb-487a-abbf-1284f8a4a340",
   "metadata": {},
   "source": [
    "<hr style=\"border-top: 1px solid #001a79;\" />"
   ]
  },
  {
   "cell_type": "markdown",
   "id": "92ff26d7-208d-4989-8bec-f0a35340c2f4",
   "metadata": {},
   "source": [
    "### REFERENCES"
   ]
  },
  {
   "cell_type": "markdown",
   "id": "5009b643-530d-4676-8ebe-e5d662b1c7d1",
   "metadata": {},
   "source": [
    "1. https://www.igi-global.com/dictionary/mathematical-model/18021\n",
    "2. https://www.mathscareers.org.uk/what-is-mathematical-modelling/\n",
    "3. https://en.wikipedia.org/wiki/Mathematical_model\n",
    "4. https://www.mathworks.com/discovery/linear-model.html\n",
    "5. https://ml-cheatsheet.readthedocs.io/en/latest/linear_regression.html\n",
    "6. https://www.w3schools.com/python/python_ml_linear_regression.asp\n",
    "7. https://thirdspacelearning.com/gcse-maths/algebra/y-mx-c/\n"
   ]
  },
  {
   "cell_type": "markdown",
   "id": "d2c1dc92-48af-4ef5-8d75-4f9aaeb8fc67",
   "metadata": {},
   "source": [
    "https://scicomp.stackexchange.com/questions/21085/cost-function-why-use-power-of-two-absx-xhat-x-better"
   ]
  },
  {
   "cell_type": "markdown",
   "id": "17b3b241-66e2-4e86-9ffb-c10ac257da84",
   "metadata": {},
   "source": [
    "https://stats.stackexchange.com/questions/118/why-square-the-difference-instead-of-taking-the-absolute-value-in-standard-devia#:~:text=Having%20a%20square%20as%20opposed,of%20estimation%20and%20regression%20analysis."
   ]
  },
  {
   "cell_type": "markdown",
   "id": "3cdf86bd-feb5-473d-b7a6-48a4b505baeb",
   "metadata": {},
   "source": [
    "https://www.quora.com/Why-do-we-use-square-error-instead-of-absolute-value-when-we-calculate-R-2-in-regression-analysis"
   ]
  },
  {
   "cell_type": "markdown",
   "id": "a6b1abbc-6a15-42af-8d59-3d5bfd08bbde",
   "metadata": {
    "tags": []
   },
   "source": [
    "https://matheducators.stackexchange.com/questions/16948/why-is-absolute-value-difficult"
   ]
  },
  {
   "cell_type": "code",
   "execution_count": null,
   "id": "44f96d6b-a8dd-4a43-8641-6df7a2eec27f",
   "metadata": {},
   "outputs": [],
   "source": []
  }
 ],
 "metadata": {
  "kernelspec": {
   "display_name": "Python 3",
   "language": "python",
   "name": "python3"
  },
  "language_info": {
   "codemirror_mode": {
    "name": "ipython",
    "version": 3
   },
   "file_extension": ".py",
   "mimetype": "text/x-python",
   "name": "python",
   "nbconvert_exporter": "python",
   "pygments_lexer": "ipython3",
   "version": "3.8.8"
  }
 },
 "nbformat": 4,
 "nbformat_minor": 5
}
