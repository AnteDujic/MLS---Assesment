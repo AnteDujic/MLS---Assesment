{
 "cells": [
  {
   "cell_type": "code",
   "execution_count": null,
   "id": "3cbc99aa-a5f1-41b7-92dd-6a950f306e43",
   "metadata": {},
   "outputs": [],
   "source": []
  },
  {
   "cell_type": "markdown",
   "id": "0cde0b95-2960-40b7-97fd-0ec0575678e8",
   "metadata": {},
   "source": [
    "# MODELS\n",
    "## AUTHOR: ANTE DUJIC\n",
    "<hr style=\"border:2px solid black\"> </hr>"
   ]
  },
  {
   "cell_type": "markdown",
   "id": "8dc2a791-483f-488b-ba85-eeb6c1963a54",
   "metadata": {},
   "source": [
    "<center><img src=\"https://larspsyll.files.wordpress.com/2014/09/amath.jpg\" width=\"300\"/></center>"
   ]
  },
  {
   "cell_type": "markdown",
   "id": "75ed4dd8-9726-4f29-8701-43465aefcb53",
   "metadata": {},
   "source": [
    "Mathematical modelling is the process of describing a real world problem in mathematical terms, usually in the form of equations, and then using these equations both to help understand the original problem, and also to discover new features about the problem. [2] A model may help to explain a system and to study the effects of different components, and to make predictions about behavior. [1] Mathematical models are used in the natural sciences (such as physics, biology, earth science, chemistry) and engineering disciplines (such as computer science, electrical engineering), as well as in non-physical systems such as the social sciences (such as economics, psychology, sociology, political science). [3] There are many different mathematical models and the focus in this notebook will be on the linear one."
   ]
  },
  {
   "cell_type": "markdown",
   "id": "b81632a5-06e7-41df-a847-dfa293e6c63f",
   "metadata": {},
   "source": [
    "### LINEAR REGRESSION\n",
    "\n",
    "<hr style=\"border-top: 1px solid rgb(0, 91, 94);\" />"
   ]
  },
  {
   "cell_type": "markdown",
   "id": "4625b27e-0e00-495e-9008-b54d693cf4c4",
   "metadata": {},
   "source": [
    "Linear models describe a continuous response variable as a function of one or more predictor variables. They can help you understand and predict the behavior of complex systems. [4] "
   ]
  },
  {
   "cell_type": "markdown",
   "id": "14ecc7d3-02ce-4b86-ac8c-370f11da4bfb",
   "metadata": {},
   "source": [
    "A very common equotion is the one for the straight line:\n",
    "\n",
    "###  $$y = mx + c$$\n",
    "\n",
    "| m is the gradient of the line (how steep the line is). c is the y-intercept (the point in which the line crosses the y-axis). x and y relate to coordinates on the line |\n",
    "| :-: |\n",
    "|  |\n",
    "\n",
    "\n",
    "\n",
    "When we input a value for x into the equation y = mx + c, we get a result for y. [7]"
   ]
  },
  {
   "cell_type": "code",
   "execution_count": 1,
   "id": "201905e3-df04-479a-81e7-e38c2b0135ec",
   "metadata": {},
   "outputs": [
    {
     "data": {
      "image/png": "[encoded data removed]",
      "text/plain": [
       "<Figure size 720x432 with 1 Axes>"
      ]
     },
     "metadata": {
      "needs_background": "light"
     },
     "output_type": "display_data"
    }
   ],
   "source": [
    "# Import matplotlib.\n",
    "import matplotlib.pyplot as plt\n",
    "\n",
    "fig, ax = plt.subplots(figsize=(10, 6))\n",
    "# Draw some axes.\n",
    "plt.plot([-1, 10], [0, 0], 'k-')\n",
    "plt.plot([0, 0], [-1, 10], 'k-')\n",
    "\n",
    "# Plot the red, blue and green lines.\n",
    "plt.plot([1, 1], [-1, 3], 'b:')\n",
    "plt.plot([-1, 1], [3, 3], 'r:')\n",
    "\n",
    "# Plot the two points (1,3) and (2,5).\n",
    "plt.plot([1, 2], [3, 5], 'ko')\n",
    "# Join them with an (extending) green lines.\n",
    "plt.plot([-1, 10], [-1, 21], 'g-')\n",
    "\n",
    "# Set some reasonable plot limits.\n",
    "plt.xlim([-1, 4])\n",
    "plt.ylim([-1, 6])\n",
    "\n",
    "# Show the plot.\n",
    "plt.show()"
   ]
  },
  {
   "cell_type": "markdown",
   "id": "e06de7ce-dc7f-4a30-8f82-7d880ac5efcf",
   "metadata": {},
   "source": [
    "Statistical method to create a linear model is linear regression. [4] Linear Regression is a supervised machine learning algorithm where the predicted output is continuous and has a constant slope. It’s used to predict values within a continuous range. [5] The term regression is used when you try to find the relationship between variables. In Machine Learning, and in statistical modeling, that relationship is used to predict the outcome of future events. [6]"
   ]
  },
  {
   "cell_type": "markdown",
   "id": "6114817b-c6c1-40f3-8d3b-f9aab4f9775d",
   "metadata": {},
   "source": [
    "Simple linear regression uses traditional slope-intercept form, where m and c are the variables our algorithm will try to “learn” to produce the most accurate predictions. x represents our input data and y represents our prediction. [5]"
   ]
  },
  {
   "cell_type": "markdown",
   "id": "7161a9d5-5e2b-4fb5-8ee2-d986cba9e0d2",
   "metadata": {},
   "source": [
    "### ANALYSIS\n",
    "\n",
    "<hr style=\"border-top: 1px solid rgb(0, 91, 94);\" />"
   ]
  },
  {
   "cell_type": "markdown",
   "id": "9185ae99-f732-4db8-8428-ce5412eb7fb2",
   "metadata": {},
   "source": [
    "#### SIMULATING DATA"
   ]
  },
  {
   "cell_type": "code",
   "execution_count": 2,
   "id": "598814eb-b3b9-459d-a49b-5a0ed15fc36b",
   "metadata": {},
   "outputs": [],
   "source": [
    "# numpy efficiently deals with numerical multi-dimensional arrays.\n",
    "import numpy as np\n",
    "\n",
    "# matplotlib is a plotting library, and pyplot is its easy-to-use module.\n",
    "import matplotlib.pyplot as plt"
   ]
  },
  {
   "cell_type": "code",
   "execution_count": 3,
   "id": "dd8cbf06-0631-414c-a9a0-b0129b0f407c",
   "metadata": {},
   "outputs": [
    {
     "data": {
      "text/plain": [
       "(array([ 0.,  1.,  2.,  3.,  4.,  5.,  6.,  7.,  8.,  9., 10., 11., 12.,\n",
       "        13., 14., 15., 16., 17., 18., 19., 20.]),\n",
       " array([  6.10396021,  17.07048249,   9.68627998,  29.43431113,\n",
       "         20.20889364,  35.99586047,  36.85154641,  47.86074699,\n",
       "         45.46663162,  57.91258592,  53.1316488 ,  58.45899513,\n",
       "         70.24195932,  82.63072137,  72.68512079,  86.64722167,\n",
       "         88.46921705,  96.94888857, 103.91518094, 106.15506473,\n",
       "        108.07155819]))"
      ]
     },
     "execution_count": 3,
     "metadata": {},
     "output_type": "execute_result"
    }
   ],
   "source": [
    "x = np.arange(0.0, 21.0, 1.0)\n",
    "y = 5.0 * x + 10.0 + np.random.normal(0.0, 5.0, x.size)\n",
    "x, y"
   ]
  },
  {
   "cell_type": "code",
   "execution_count": null,
   "id": "00620e2d-3573-47db-84f6-0fb0f35ca220",
   "metadata": {},
   "outputs": [],
   "source": []
  },
  {
   "cell_type": "markdown",
   "id": "70c20d45-f0e9-4e24-af6c-2f82b5307a83",
   "metadata": {},
   "source": [
    "#### VISUALIZING THE DATA"
   ]
  },
  {
   "cell_type": "code",
   "execution_count": 4,
   "id": "eabe7bc5-426c-49a8-8226-a1e6b2d2949f",
   "metadata": {},
   "outputs": [
    {
     "data": {
      "image/png": "[encoded data removed]",
      "text/plain": [
       "<Figure size 720x432 with 1 Axes>"
      ]
     },
     "metadata": {
      "needs_background": "light"
     },
     "output_type": "display_data"
    }
   ],
   "source": [
    "# Create the plot.\n",
    "plt.rcParams['figure.figsize'] = (, 6)\n",
    "plt.plot(x, y, 'k.')\n",
    "\n",
    "# Set some properties for the plot.\n",
    "plt.xlabel('Weight (KG)')\n",
    "plt.ylabel('Distance (CM)')\n",
    "\n",
    "# Show the plot.\n",
    "plt.show()"
   ]
  },
  {
   "cell_type": "markdown",
   "id": "547e6829-2e48-4b1d-a9ba-f6689b14a27a",
   "metadata": {},
   "source": [
    "We can draw a conclusion from the above plot, that the generated data follows a linear line. Points don't strictly follow the straight line, but they are also not far from it."
   ]
  },
  {
   "cell_type": "markdown",
   "id": "f241bf1a-4619-403c-91f0-b69272385c72",
   "metadata": {},
   "source": [
    "#### BEST FIT LINE"
   ]
  },
  {
   "cell_type": "markdown",
   "id": "f8e2f547-eb7b-4113-b8c1-4874b2e98303",
   "metadata": {},
   "source": [
    "Using the formula for the linear line, we can draw various straight lines that would fit the simulated data"
   ]
  },
  {
   "cell_type": "code",
   "execution_count": 7,
   "id": "bfd1559d-eaa2-4c91-9633-e4d1530f9d43",
   "metadata": {},
   "outputs": [
    {
     "data": {
      "image/png": "[encoded data removed]",
      "text/plain": [
       "<Figure size 720x432 with 1 Axes>"
      ]
     },
     "metadata": {
      "needs_background": "light"
     },
     "output_type": "display_data"
    }
   ],
   "source": [
    "# Plot w versus d with black dots.\n",
    "plt.plot(x, y, 'k.', label=\"Data\")\n",
    "\n",
    "# Overlay some lines on the plot.\n",
    "a = np.arange(0.0, 21.0, 1.0)\n",
    "plt.plot(a, 5.0 * a + 10.0, 'r-', label=r\"$5x + 10$\")\n",
    "plt.plot(a, 6.0 * a +  5.0, 'g-', label=r\"$6x +  5$\")\n",
    "plt.plot(a, 5.0 * a + 15.0, 'b-', label=r\"$5x + 15$\")\n",
    "\n",
    "# Add a legend.\n",
    "plt.legend()\n",
    "\n",
    "# Add axis labels.\n",
    "plt.xlabel('Weight (KG)')\n",
    "plt.ylabel('Distance (CM)')\n",
    "\n",
    "# Show the plot.\n",
    "plt.show()"
   ]
  },
  {
   "cell_type": "markdown",
   "id": "60608d6e-09e3-4ca2-a5cb-97b644de96b3",
   "metadata": {},
   "source": [
    "It's visible from the above plot how each of the lines roughly fit the data, but the question is which one of those is the best one, and is there one that would with this data better. The usual approach is to use the *least-squares method*, which minimizes the squared difference between the actual data points and a straight line. The formula is:"
   ]
  },
  {
   "cell_type": "markdown",
   "id": "e92aca3c-a810-405e-bb4f-84b19fd8b7b4",
   "metadata": {},
   "source": [
    "###  $$ \\sum_i (y_i - mx_i - c)^2 $$"
   ]
  },
  {
   "cell_type": "markdown",
   "id": "517bfbfa-7bf0-44c8-b0e9-89741956bb05",
   "metadata": {},
   "source": [
    "| The corresponding value to $x_i$ in the dataset is $y_i$. The value $m x_i + c$ is what the model says $y_i$ should have been. The difference between  the value that was observed ($y_i$) and the value that the model gives ($m x_i + c$), is $y_i - mx_i - c$. |\n",
    "| :-: |\n",
    "|  |\n",
    "\n"
   ]
  },
  {
   "cell_type": "markdown",
   "id": "892f63c4-bc37-45d6-85b5-05984c0805b5",
   "metadata": {},
   "source": [
    "\n",
    "##### TO DRAW\n",
    "<center><img src=\"https://atmos.washington.edu/~robwood/teaching/451/labs/images/concepts12.jpg\" width=\"300\"/></center>"
   ]
  },
  {
   "cell_type": "code",
   "execution_count": 12,
   "id": "e34e402b-a080-4234-a58b-f76873bf8b3b",
   "metadata": {},
   "outputs": [
    {
     "name": "stdout",
     "output_type": "stream",
     "text": [
      "Cost with m =  5.00 and c = 10.00:   520.48\n",
      "Cost with m =  6.00 and c =  5.00:  1759.15\n",
      "Cost with m =  5.00 and c = 15.00:  1306.01\n"
     ]
    }
   ],
   "source": [
    "# Calculate the cost of the lines above for the data above.\n",
    "cost = lambda m,c: np.sum([(y[i] - m * x[i] - c)**2 for i in range(x.size)])\n",
    "\n",
    "print(\"Cost with m = %5.2f and c = %5.2f: %8.2f\" % (5.0, 10.0, cost(5.0, 10.0)))\n",
    "print(\"Cost with m = %5.2f and c = %5.2f: %8.2f\" % (6.0,  5.0, cost(6.0,  5.0)))\n",
    "print(\"Cost with m = %5.2f and c = %5.2f: %8.2f\" % (5.0, 15.0, cost(5.0, 15.0)))"
   ]
  },
  {
   "cell_type": "markdown",
   "id": "7251d0c8-661f-4e33-a5cc-82c29a0bc1f0",
   "metadata": {},
   "source": [
    "#### MINIMISING THE COST"
   ]
  },
  {
   "cell_type": "code",
   "execution_count": null,
   "id": "956761de-f3e3-4bef-a4de-1887591b4426",
   "metadata": {},
   "outputs": [],
   "source": []
  },
  {
   "cell_type": "markdown",
   "id": "048e3d56-1f4c-4573-82f8-97f54fcc9221",
   "metadata": {},
   "source": [
    "### OPTIMIZATION\n",
    "\n",
    "<hr style=\"border-top: 1px solid rgb(0, 91, 94);\" />"
   ]
  },
  {
   "cell_type": "code",
   "execution_count": null,
   "id": "3c1dc782-4fa6-437d-a2c0-d4df9f5b83b4",
   "metadata": {},
   "outputs": [],
   "source": []
  },
  {
   "cell_type": "code",
   "execution_count": null,
   "id": "598b2723-7e02-405a-afd4-731403088e9a",
   "metadata": {},
   "outputs": [],
   "source": []
  },
  {
   "cell_type": "code",
   "execution_count": null,
   "id": "08a25981-5d8c-413d-855a-62e9545b4ad2",
   "metadata": {},
   "outputs": [],
   "source": []
  },
  {
   "cell_type": "code",
   "execution_count": null,
   "id": "89d8ed59-1485-4a36-8081-01857303dc84",
   "metadata": {},
   "outputs": [],
   "source": []
  },
  {
   "cell_type": "code",
   "execution_count": null,
   "id": "5c51a1b4-6400-40aa-a0fd-5b1bdeb3c24b",
   "metadata": {},
   "outputs": [],
   "source": []
  },
  {
   "cell_type": "code",
   "execution_count": null,
   "id": "b04f4ffd-aa0d-4be9-a41d-846eae50eb3b",
   "metadata": {},
   "outputs": [],
   "source": []
  },
  {
   "cell_type": "code",
   "execution_count": null,
   "id": "8b1756ec-0cae-4588-a177-cb08cfb848a4",
   "metadata": {},
   "outputs": [],
   "source": []
  },
  {
   "cell_type": "markdown",
   "id": "92ff26d7-208d-4989-8bec-f0a35340c2f4",
   "metadata": {},
   "source": [
    "### REFERENCES"
   ]
  },
  {
   "cell_type": "markdown",
   "id": "5009b643-530d-4676-8ebe-e5d662b1c7d1",
   "metadata": {},
   "source": [
    "1. https://www.igi-global.com/dictionary/mathematical-model/18021\n",
    "2. https://www.mathscareers.org.uk/what-is-mathematical-modelling/\n",
    "3. https://en.wikipedia.org/wiki/Mathematical_model\n",
    "4. https://www.mathworks.com/discovery/linear-model.html\n",
    "5. https://ml-cheatsheet.readthedocs.io/en/latest/linear_regression.html\n",
    "6. https://www.w3schools.com/python/python_ml_linear_regression.asp\n",
    "7. https://thirdspacelearning.com/gcse-maths/algebra/y-mx-c/\n"
   ]
  },
  {
   "cell_type": "markdown",
   "id": "d2c1dc92-48af-4ef5-8d75-4f9aaeb8fc67",
   "metadata": {},
   "source": [
    "https://scicomp.stackexchange.com/questions/21085/cost-function-why-use-power-of-two-absx-xhat-x-better"
   ]
  },
  {
   "cell_type": "markdown",
   "id": "17b3b241-66e2-4e86-9ffb-c10ac257da84",
   "metadata": {},
   "source": [
    "https://stats.stackexchange.com/questions/118/why-square-the-difference-instead-of-taking-the-absolute-value-in-standard-devia#:~:text=Having%20a%20square%20as%20opposed,of%20estimation%20and%20regression%20analysis."
   ]
  },
  {
   "cell_type": "markdown",
   "id": "3cdf86bd-feb5-473d-b7a6-48a4b505baeb",
   "metadata": {},
   "source": [
    "https://www.quora.com/Why-do-we-use-square-error-instead-of-absolute-value-when-we-calculate-R-2-in-regression-analysis"
   ]
  },
  {
   "cell_type": "markdown",
   "id": "a6b1abbc-6a15-42af-8d59-3d5bfd08bbde",
   "metadata": {
    "tags": []
   },
   "source": [
    "https://matheducators.stackexchange.com/questions/16948/why-is-absolute-value-difficult"
   ]
  },
  {
   "cell_type": "code",
   "execution_count": null,
   "id": "44f96d6b-a8dd-4a43-8641-6df7a2eec27f",
   "metadata": {},
   "outputs": [],
   "source": []
  }
 ],
 "metadata": {
  "kernelspec": {
   "display_name": "Python 3",
   "language": "python",
   "name": "python3"
  },
  "language_info": {
   "codemirror_mode": {
    "name": "ipython",
    "version": 3
   },
   "file_extension": ".py",
   "mimetype": "text/x-python",
   "name": "python",
   "nbconvert_exporter": "python",
   "pygments_lexer": "ipython3",
   "version": "3.8.8"
  }
 },
 "nbformat": 4,
 "nbformat_minor": 5
}
