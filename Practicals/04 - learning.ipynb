{
 "cells": [
  {
   "cell_type": "markdown",
   "id": "6cd4c872-3a93-475d-8881-4ff60b0d7ca3",
   "metadata": {},
   "source": [
    "# MACHINE LEARNING\n",
    "## AUTHOR: ANTE DUJIC\n",
    "<hr style=\"border:2px solid gray\"> </hr>"
   ]
  },
  {
   "cell_type": "markdown",
   "id": "e5caf19f-e1eb-4a54-b5a5-7ded7e51f0e6",
   "metadata": {},
   "source": [
    "<center><img src=\"https://learn.microsoft.com/en-us/windows/ai/images/winml-graphic.png\" width=\"800\"/></center>"
   ]
  },
  {
   "cell_type": "markdown",
   "id": "3d23f061-f436-4f13-953d-45342ccfb4e0",
   "metadata": {},
   "source": [
    "<hr style=\"border:2px solid gray\"> </hr>"
   ]
  },
  {
   "cell_type": "markdown",
   "id": "fb78bdc5-d25d-42c1-8154-12974bf8dbb5",
   "metadata": {},
   "source": [
    "### SINGLE NEURON\n",
    "- DIAGRAM"
   ]
  },
  {
   "cell_type": "markdown",
   "id": "c4088958-866b-4cc3-a288-c9221a8a2616",
   "metadata": {},
   "source": [
    "#### SINGLE INPUT\n",
    "\n",
    "- DIAGRAM\n",
    "- INPUT FUNCTIONS"
   ]
  },
  {
   "cell_type": "markdown",
   "id": "cbc0f1bc-1e07-4a59-b382-3496757449b2",
   "metadata": {},
   "source": [
    "#### GENERATE DATA"
   ]
  },
  {
   "cell_type": "markdown",
   "id": "a1166838-06c3-413f-9da4-3a6ea8a5361a",
   "metadata": {},
   "source": []
  }
 ],
 "metadata": {
  "kernelspec": {
   "display_name": "Python 3",
   "language": "python",
   "name": "python3"
  },
  "language_info": {
   "codemirror_mode": {
    "name": "ipython",
    "version": 3
   },
   "file_extension": ".py",
   "mimetype": "text/x-python",
   "name": "python",
   "nbconvert_exporter": "python",
   "pygments_lexer": "ipython3",
   "version": "3.8.8"
  }
 },
 "nbformat": 4,
 "nbformat_minor": 5
}
