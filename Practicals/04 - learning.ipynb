{
 "cells": [
  {
   "cell_type": "markdown",
   "id": "6cd4c872-3a93-475d-8881-4ff60b0d7ca3",
   "metadata": {},
   "source": [
    "# MACHINE LEARNING\n",
    "## AUTHOR: ANTE DUJIC\n",
    "<hr style=\"border:2px solid gray\"> </hr>"
   ]
  },
  {
   "cell_type": "markdown",
   "id": "e5caf19f-e1eb-4a54-b5a5-7ded7e51f0e6",
   "metadata": {},
   "source": [
    "<center><img src=\"https://learn.microsoft.com/en-us/windows/ai/images/winml-graphic.png\" width=\"800\"/></center>"
   ]
  },
  {
   "cell_type": "markdown",
   "id": "3d23f061-f436-4f13-953d-45342ccfb4e0",
   "metadata": {},
   "source": [
    "<hr style=\"border:2px solid gray\"> </hr>"
   ]
  },
  {
   "cell_type": "code",
   "execution_count": null,
   "id": "93e4c354-f03f-432c-80ef-054dda3944b1",
   "metadata": {},
   "outputs": [],
   "source": []
  },
  {
   "cell_type": "code",
   "execution_count": null,
   "id": "3e022c27-b446-4797-9625-c19f278902ad",
   "metadata": {},
   "outputs": [],
   "source": []
  },
  {
   "cell_type": "code",
   "execution_count": null,
   "id": "aaf12e00-00fb-44ec-9ab5-313ddfaa42aa",
   "metadata": {},
   "outputs": [],
   "source": []
  },
  {
   "cell_type": "code",
   "execution_count": null,
   "id": "b2a1bd63-df5f-40df-a28b-5b49d7ad33b4",
   "metadata": {},
   "outputs": [],
   "source": []
  }
 ],
 "metadata": {
  "kernelspec": {
   "display_name": "Python 3",
   "language": "python",
   "name": "python3"
  },
  "language_info": {
   "codemirror_mode": {
    "name": "ipython",
    "version": 3
   },
   "file_extension": ".py",
   "mimetype": "text/x-python",
   "name": "python",
   "nbconvert_exporter": "python",
   "pygments_lexer": "ipython3",
   "version": "3.8.8"
  }
 },
 "nbformat": 4,
 "nbformat_minor": 5
}
