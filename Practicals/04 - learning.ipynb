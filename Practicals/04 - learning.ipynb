{
 "cells": [
  {
   "cell_type": "markdown",
   "id": "6cd4c872-3a93-475d-8881-4ff60b0d7ca3",
   "metadata": {},
   "source": [
    "# MACHINE LEARNING\n",
    "## AUTHOR: ANTE DUJIC\n",
    "<hr style=\"border:2px solid gray\"> </hr>"
   ]
  },
  {
   "cell_type": "markdown",
   "id": "e5caf19f-e1eb-4a54-b5a5-7ded7e51f0e6",
   "metadata": {},
   "source": [
    "<center><img src=\"https://learn.microsoft.com/en-us/windows/ai/images/winml-graphic.png\" width=\"800\"/></center>"
   ]
  },
  {
   "cell_type": "markdown",
   "id": "13595461-fc4a-4e6f-b1ec-42ae5876e407",
   "metadata": {},
   "source": [
    "Machine learning is programming computers to optimize a performance criterion using example data or past experience . We have a model defined up to some parameters, and learning is the execution of a computer program to optimize the parameters of the model using the training data or past experience. The model may be predictive to make predictions in the future, or descriptive to gain knowledge from data.[1] Some implementations of machine learning use data and neural networks in a way that mimics the working of a biological brain. [2] Human brain cells, called neurons, form a complex, highly interconnected network and send electrical signals to each other to help humans process information. Similarly, an artificial neural network is made of artificial neurons that work together to solve a problem. Artificial neurons are software modules, called nodes, and artificial neural networks are software programs or algorithms that, at their core, use computing systems to solve mathematical calculations.[3]"
   ]
  },
  {
   "cell_type": "markdown",
   "id": "fb78bdc5-d25d-42c1-8154-12974bf8dbb5",
   "metadata": {},
   "source": [
    "### SINGLE NEURON\n",
    "***"
   ]
  },
  {
   "cell_type": "markdown",
   "id": "86f6a836-9774-47aa-b854-2174c22e5502",
   "metadata": {},
   "source": [
    "An artificial neuron (also referred to as a perceptron) is a mathematical function. It takes one or more inputs that are multiplied by values called “weights” and added together. This value is then passed to a non-linear function, known as an activation function, to become the neuron’s output. [4]"
   ]
  },
  {
   "cell_type": "markdown",
   "id": "8b4d7495-9f25-43bb-b362-cc56ec70b59a",
   "metadata": {},
   "source": [
    "<center><img src=\"img/single_neuron.drawio.svg\" width=\"500\"/></center>"
   ]
  },
  {
   "cell_type": "markdown",
   "id": "c4088958-866b-4cc3-a288-c9221a8a2616",
   "metadata": {},
   "source": [
    "#### SINGLE INPUT NEURON\n",
    "***"
   ]
  },
  {
   "cell_type": "markdown",
   "id": "cc6d6222-bcf3-413e-b107-4947f598e943",
   "metadata": {},
   "source": [
    "<center><img src=\"img/single_input.drawio (1).svg\" width=\"400\"/></center>"
   ]
  },
  {
   "cell_type": "markdown",
   "id": "d32856bb-2100-4c49-93dd-b420d489d293",
   "metadata": {},
   "source": [
    "Single input neuron is essentialy acting as a model for fitting a straight line . Value *x* and the corresponding *y* values will be supplied to us. We then need to find the relationship between those two values."
   ]
  },
  {
   "cell_type": "markdown",
   "id": "d837dd0c-3807-442c-8924-d85a99bf2107",
   "metadata": {},
   "source": [
    "$$y = mx + c$$\n",
    "\n",
    "$$ \\phi (x) = x $$\n",
    "\n",
    "$$ \\phi (x_1 w_1 + w_0) = x_1 w_1 + w_0 $$\n"
   ]
  },
  {
   "cell_type": "code",
   "execution_count": 7,
   "id": "1c1a1d20-c04e-4f8d-b80e-7185fb2c2f09",
   "metadata": {},
   "outputs": [],
   "source": [
    "# Numerical arrays.\n",
    "import numpy as np\n",
    "\n",
    "# Plotting.\n",
    "import matplotlib.pyplot as plt\n",
    "\n",
    "# Neural networks.\n",
    "import tensorflow.keras as keras"
   ]
  },
  {
   "cell_type": "code",
   "execution_count": 8,
   "id": "0bdc66a0-0784-4964-854d-fc77afd6c386",
   "metadata": {},
   "outputs": [],
   "source": [
    "# Identity activation function.\n",
    "def identity(x):\n",
    "    return x"
   ]
  },
  {
   "cell_type": "markdown",
   "id": "41912b35-40ba-44f4-a0bc-f9b271381688",
   "metadata": {},
   "source": [
    "Identity or Linear activation function is the simplest activation function of all. It applies identity operation on your data and output data is proportional to the input data.[5]"
   ]
  },
  {
   "cell_type": "code",
   "execution_count": 12,
   "id": "4b807f96-5c0f-4e97-b725-b60cc34a71aa",
   "metadata": {},
   "outputs": [],
   "source": [
    "# Firing a neuron.\n",
    "def fire_neuron(x, w, phi):\n",
    "    return phi(np.sum(x * w))"
   ]
  },
  {
   "cell_type": "markdown",
   "id": "8d35095f-e1b5-46ba-a898-de6af798e710",
   "metadata": {},
   "source": [
    "To activate the neuron, function needs a list of *x* values. The first one is the *bias* and needs to be 1. It also need an array of the same size as *x* which has the weights of all the values, *w* and the activation function, *phi*. Those are inputted below."
   ]
  },
  {
   "cell_type": "code",
   "execution_count": 10,
   "id": "f4df8582-e9d0-42d3-a61d-61db5f260273",
   "metadata": {},
   "outputs": [
    {
     "data": {
      "text/plain": [
       "(array([1., 4.]), array([2., 3.]))"
      ]
     },
     "execution_count": 10,
     "metadata": {},
     "output_type": "execute_result"
    }
   ],
   "source": [
    "# Our x values - always has to have 1.0 at index 0.\n",
    "x = np.array([1.0, 4.0])\n",
    "\n",
    "# Our weights.\n",
    "w = np.array([2.0, 3.0])\n",
    "\n",
    "x, w"
   ]
  },
  {
   "cell_type": "code",
   "execution_count": 11,
   "id": "cd80f508-8c59-4e5c-b3a6-4bf5d6a200d9",
   "metadata": {},
   "outputs": [
    {
     "data": {
      "text/plain": [
       "14.0"
      ]
     },
     "execution_count": 11,
     "metadata": {},
     "output_type": "execute_result"
    }
   ],
   "source": [
    "fire_neuron(x, w, identity)"
   ]
  },
  {
   "cell_type": "markdown",
   "id": "cbc0f1bc-1e07-4a59-b382-3496757449b2",
   "metadata": {},
   "source": [
    "#### GENERATE DATA\n",
    "***"
   ]
  },
  {
   "cell_type": "code",
   "execution_count": 17,
   "id": "0a1c5848-eae1-40d3-9344-8158524fd70c",
   "metadata": {},
   "outputs": [
    {
     "data": {
      "text/plain": [
       "array([ 1.,  2.,  3.,  4.,  5.,  6.,  7.,  8.,  9., 10., 11., 12.])"
      ]
     },
     "execution_count": 17,
     "metadata": {},
     "output_type": "execute_result"
    }
   ],
   "source": [
    "# Real-world input values - x.\n",
    "data_in = np.arange(1.0, 13.0, 1.0)\n",
    "data_in"
   ]
  },
  {
   "cell_type": "code",
   "execution_count": 18,
   "id": "1e10702b-8f54-4260-9243-88b363b69738",
   "metadata": {},
   "outputs": [
    {
     "data": {
      "text/plain": [
       "array([ 3.06589701,  7.47647558, 11.10951665, 17.37617244, 20.9741314 ,\n",
       "       23.69496516, 28.80667441, 31.28909732, 36.89242728, 39.10673472,\n",
       "       44.67170669, 48.67501192])"
      ]
     },
     "execution_count": 18,
     "metadata": {},
     "output_type": "execute_result"
    }
   ],
   "source": [
    "# Real-world output values - y.\n",
    "data_out = 4.0 * data_in + np.random.normal(0.0, 1.0, len(data_in))\n",
    "data_out"
   ]
  },
  {
   "cell_type": "code",
   "execution_count": 19,
   "id": "0477e548-8586-4cf9-8691-f10d49c27a38",
   "metadata": {},
   "outputs": [
    {
     "data": {
      "image/png": "[encoded data removed]",
      "text/plain": [
       "<Figure size 432x288 with 1 Axes>"
      ]
     },
     "metadata": {
      "needs_background": "light"
     },
     "output_type": "display_data"
    }
   ],
   "source": [
    "plt.plot(data_in, data_out, 'k.');"
   ]
  },
  {
   "cell_type": "code",
   "execution_count": null,
   "id": "28dfb4f4-ffd5-413e-b924-76aa5546f6dc",
   "metadata": {},
   "outputs": [],
   "source": []
  },
  {
   "cell_type": "code",
   "execution_count": null,
   "id": "d115e637-7cad-46bd-b6b5-c059a5257c03",
   "metadata": {},
   "outputs": [],
   "source": []
  },
  {
   "cell_type": "markdown",
   "id": "a1166838-06c3-413f-9da4-3a6ea8a5361a",
   "metadata": {},
   "source": [
    "#### TRAINING BY HAND"
   ]
  },
  {
   "cell_type": "markdown",
   "id": "d36e85c7-c125-4ee6-84bb-81118bfbfcf3",
   "metadata": {},
   "source": [
    "The idea of training is to give neuron sample input and output values we know and change the weights, to try and find the relationship of those values."
   ]
  },
  {
   "cell_type": "code",
   "execution_count": null,
   "id": "96c467a5-354e-4ff9-913a-44645390a473",
   "metadata": {},
   "outputs": [],
   "source": []
  },
  {
   "cell_type": "code",
   "execution_count": null,
   "id": "e3ac822b-c564-4c35-a627-778428904cb6",
   "metadata": {},
   "outputs": [],
   "source": []
  },
  {
   "cell_type": "code",
   "execution_count": null,
   "id": "77f3a045-96cf-451f-b32d-3e0789499bd3",
   "metadata": {},
   "outputs": [],
   "source": []
  },
  {
   "cell_type": "code",
   "execution_count": null,
   "id": "aaf167f1-f80c-47c6-ac41-87fd0d9fc6f1",
   "metadata": {},
   "outputs": [],
   "source": []
  },
  {
   "cell_type": "markdown",
   "id": "2c60a143-7127-4847-adb1-d687a2c028f1",
   "metadata": {},
   "source": [
    "#### KERAS"
   ]
  },
  {
   "cell_type": "code",
   "execution_count": null,
   "id": "d3774e10-59e5-47ec-9b8a-21db29cc088e",
   "metadata": {},
   "outputs": [],
   "source": []
  },
  {
   "cell_type": "code",
   "execution_count": null,
   "id": "02bb13b7-f11d-419f-8e7d-a4fe76cd1693",
   "metadata": {},
   "outputs": [],
   "source": []
  },
  {
   "cell_type": "code",
   "execution_count": null,
   "id": "0838e818-21f5-4531-884c-b1c3367c48ac",
   "metadata": {},
   "outputs": [],
   "source": []
  },
  {
   "cell_type": "code",
   "execution_count": null,
   "id": "91b83750-8fc1-4ca6-bead-af7c4b540e96",
   "metadata": {},
   "outputs": [],
   "source": []
  },
  {
   "cell_type": "code",
   "execution_count": null,
   "id": "fecc290c-fb80-41f7-a8e8-a2c6aa722453",
   "metadata": {},
   "outputs": [],
   "source": []
  },
  {
   "cell_type": "code",
   "execution_count": null,
   "id": "ab789176-e122-4be5-a7fc-b950d4ca535f",
   "metadata": {},
   "outputs": [],
   "source": []
  },
  {
   "cell_type": "code",
   "execution_count": null,
   "id": "8ac6bac0-7bb6-423d-8ba2-6a7fe967af44",
   "metadata": {},
   "outputs": [],
   "source": []
  },
  {
   "cell_type": "markdown",
   "id": "20e91026-0f28-4738-9f6c-40aafd35827d",
   "metadata": {},
   "source": [
    "### REFERENCES"
   ]
  },
  {
   "cell_type": "markdown",
   "id": "5b9564e1-241e-480b-aae9-86612c048d21",
   "metadata": {},
   "source": [
    "1. https://www.geeksforgeeks.org/introduction-machine-learning/\n",
    "2. https://en.wikipedia.org/wiki/Machine_learning\n",
    "3. https://aws.amazon.com/what-is/neural-network/\n",
    "4. https://srnghn.medium.com/deep-learning-overview-of-neurons-and-activation-functions-1d98286cf1e4\n",
    "5. https://towardsdatascience.com/secret-sauce-behind-the-beauty-of-deep-learning-beginners-guide-to-activation-functions-a8e23a57d046#"
   ]
  },
  {
   "cell_type": "code",
   "execution_count": null,
   "id": "21641bdd-c9cb-440b-8e7b-ebe3ad69f767",
   "metadata": {},
   "outputs": [],
   "source": []
  }
 ],
 "metadata": {
  "kernelspec": {
   "display_name": "Python 3",
   "language": "python",
   "name": "python3"
  },
  "language_info": {
   "codemirror_mode": {
    "name": "ipython",
    "version": 3
   },
   "file_extension": ".py",
   "mimetype": "text/x-python",
   "name": "python",
   "nbconvert_exporter": "python",
   "pygments_lexer": "ipython3",
   "version": "3.8.8"
  }
 },
 "nbformat": 4,
 "nbformat_minor": 5
}
