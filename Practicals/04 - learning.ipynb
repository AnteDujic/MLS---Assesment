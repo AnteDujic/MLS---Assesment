{
 "cells": [
  {
   "cell_type": "markdown",
   "id": "6cd4c872-3a93-475d-8881-4ff60b0d7ca3",
   "metadata": {},
   "source": [
    "# MACHINE LEARNING\n",
    "## AUTHOR: ANTE DUJIC\n",
    "<hr style=\"border:2px solid gray\"> </hr>"
   ]
  },
  {
   "cell_type": "markdown",
   "id": "e5caf19f-e1eb-4a54-b5a5-7ded7e51f0e6",
   "metadata": {},
   "source": [
    "<center><img src=\"https://learn.microsoft.com/en-us/windows/ai/images/winml-graphic.png\" width=\"800\"/></center>"
   ]
  },
  {
   "cell_type": "markdown",
   "id": "13595461-fc4a-4e6f-b1ec-42ae5876e407",
   "metadata": {},
   "source": [
    "Machine learning is programming computers to optimize a performance criterion using example data or past experience . We have a model defined up to some parameters, and learning is the execution of a computer program to optimize the parameters of the model using the training data or past experience. The model may be predictive to make predictions in the future, or descriptive to gain knowledge from data.[1] Some implementations of machine learning use data and neural networks in a way that mimics the working of a biological brain. [2] Human brain cells, called neurons, form a complex, highly interconnected network and send electrical signals to each other to help humans process information. Similarly, an artificial neural network is made of artificial neurons that work together to solve a problem. Artificial neurons are software modules, called nodes, and artificial neural networks are software programs or algorithms that, at their core, use computing systems to solve mathematical calculations.[3]"
   ]
  },
  {
   "cell_type": "markdown",
   "id": "fb78bdc5-d25d-42c1-8154-12974bf8dbb5",
   "metadata": {},
   "source": [
    "### SINGLE NEURON\n",
    "***"
   ]
  },
  {
   "cell_type": "markdown",
   "id": "86f6a836-9774-47aa-b854-2174c22e5502",
   "metadata": {},
   "source": [
    "An artificial neuron (also referred to as a perceptron) is a mathematical function. It takes one or more inputs that are multiplied by values called “weights” and added together. This value is then passed to a non-linear function, known as an activation function, to become the neuron’s output. [4]"
   ]
  },
  {
   "cell_type": "markdown",
   "id": "8b4d7495-9f25-43bb-b362-cc56ec70b59a",
   "metadata": {},
   "source": [
    "<center><img src=\"img/single_neuron.drawio.svg\" width=\"500\"/></center>"
   ]
  },
  {
   "cell_type": "markdown",
   "id": "c4088958-866b-4cc3-a288-c9221a8a2616",
   "metadata": {},
   "source": [
    "#### SINGLE INPUT NEURON\n",
    "***"
   ]
  },
  {
   "cell_type": "markdown",
   "id": "cc6d6222-bcf3-413e-b107-4947f598e943",
   "metadata": {},
   "source": [
    "<center><img src=\"img/single_input.drawio (1).svg\" width=\"400\"/></center>"
   ]
  },
  {
   "cell_type": "markdown",
   "id": "d32856bb-2100-4c49-93dd-b420d489d293",
   "metadata": {},
   "source": [
    "Single input neuron is essentialy acting as a model for fitting a straight line . Value *x* and the corresponding *y* values will be supplied to us. We then need to find the relationship between those two values."
   ]
  },
  {
   "cell_type": "markdown",
   "id": "d837dd0c-3807-442c-8924-d85a99bf2107",
   "metadata": {},
   "source": [
    "$$y = mx + c$$\n",
    "\n",
    "$$ \\phi (x) = x $$\n",
    "\n",
    "$$ \\phi (x_1 w_1 + w_0) = x_1 w_1 + w_0 $$\n"
   ]
  },
  {
   "cell_type": "code",
   "execution_count": 1,
   "id": "1c1a1d20-c04e-4f8d-b80e-7185fb2c2f09",
   "metadata": {},
   "outputs": [],
   "source": [
    "# Numerical arrays.\n",
    "import numpy as np\n",
    "\n",
    "# Plotting.\n",
    "import matplotlib.pyplot as plt\n",
    "\n",
    "# Neural networks.\n",
    "import tensorflow.keras as keras"
   ]
  },
  {
   "cell_type": "code",
   "execution_count": 2,
   "id": "0bdc66a0-0784-4964-854d-fc77afd6c386",
   "metadata": {},
   "outputs": [],
   "source": [
    "# Identity activation function.\n",
    "def identity(x):\n",
    "    return x"
   ]
  },
  {
   "cell_type": "markdown",
   "id": "41912b35-40ba-44f4-a0bc-f9b271381688",
   "metadata": {},
   "source": [
    "Identity or Linear activation function is the simplest activation function of all. It applies identity operation on your data and output data is proportional to the input data.[5]"
   ]
  },
  {
   "cell_type": "code",
   "execution_count": 3,
   "id": "4b807f96-5c0f-4e97-b725-b60cc34a71aa",
   "metadata": {},
   "outputs": [],
   "source": [
    "# Firing a neuron.\n",
    "def fire_neuron(x, w, phi):\n",
    "    return phi(np.sum(x * w))"
   ]
  },
  {
   "cell_type": "markdown",
   "id": "8d35095f-e1b5-46ba-a898-de6af798e710",
   "metadata": {},
   "source": [
    "To activate the neuron, function needs a list of *x* values. The first one is the *bias* and needs to be 1. It also need an array of the same size as *x* which has the weights of all the values, *w* and the activation function, *phi*. Those are inputted below."
   ]
  },
  {
   "cell_type": "code",
   "execution_count": 4,
   "id": "f4df8582-e9d0-42d3-a61d-61db5f260273",
   "metadata": {},
   "outputs": [
    {
     "data": {
      "text/plain": [
       "(array([1., 4.]), array([2., 3.]))"
      ]
     },
     "execution_count": 4,
     "metadata": {},
     "output_type": "execute_result"
    }
   ],
   "source": [
    "# Our x values - always has to have 1.0 at index 0.\n",
    "x = np.array([1.0, 4.0])\n",
    "\n",
    "# Our weights.\n",
    "w = np.array([2.0, 3.0])\n",
    "\n",
    "x, w"
   ]
  },
  {
   "cell_type": "code",
   "execution_count": 5,
   "id": "cd80f508-8c59-4e5c-b3a6-4bf5d6a200d9",
   "metadata": {},
   "outputs": [
    {
     "data": {
      "text/plain": [
       "14.0"
      ]
     },
     "execution_count": 5,
     "metadata": {},
     "output_type": "execute_result"
    }
   ],
   "source": [
    "fire_neuron(x, w, identity)"
   ]
  },
  {
   "cell_type": "markdown",
   "id": "cbc0f1bc-1e07-4a59-b382-3496757449b2",
   "metadata": {},
   "source": [
    "#### GENERATE DATA\n",
    "***"
   ]
  },
  {
   "cell_type": "code",
   "execution_count": 6,
   "id": "0a1c5848-eae1-40d3-9344-8158524fd70c",
   "metadata": {},
   "outputs": [
    {
     "data": {
      "text/plain": [
       "array([ 1.,  2.,  3.,  4.,  5.,  6.,  7.,  8.,  9., 10., 11., 12.])"
      ]
     },
     "execution_count": 6,
     "metadata": {},
     "output_type": "execute_result"
    }
   ],
   "source": [
    "# Real-world input values - x.\n",
    "data_in = np.arange(1.0, 13.0, 1.0)\n",
    "data_in"
   ]
  },
  {
   "cell_type": "code",
   "execution_count": 7,
   "id": "1e10702b-8f54-4260-9243-88b363b69738",
   "metadata": {},
   "outputs": [
    {
     "data": {
      "text/plain": [
       "array([ 2.15065855,  9.14247468, 13.47997278, 15.21662872, 20.36228729,\n",
       "       24.50391749, 28.8617402 , 32.50738728, 34.6237568 , 40.71369765,\n",
       "       44.55796202, 47.28417841])"
      ]
     },
     "execution_count": 7,
     "metadata": {},
     "output_type": "execute_result"
    }
   ],
   "source": [
    "# Real-world output values - y.\n",
    "data_out = 4.0 * data_in + np.random.normal(0.0, 1.0, len(data_in))\n",
    "data_out"
   ]
  },
  {
   "cell_type": "code",
   "execution_count": 8,
   "id": "0477e548-8586-4cf9-8691-f10d49c27a38",
   "metadata": {},
   "outputs": [
    {
     "data": {
      "image/png": "[encoded data removed]",
      "text/plain": [
       "<Figure size 432x288 with 1 Axes>"
      ]
     },
     "metadata": {
      "needs_background": "light"
     },
     "output_type": "display_data"
    }
   ],
   "source": [
    "plt.plot(data_in, data_out, 'k.');"
   ]
  },
  {
   "cell_type": "markdown",
   "id": "5c0538ca-a321-4dfc-a2d9-c386b97a179c",
   "metadata": {},
   "source": [
    "#### TRAINING\n",
    "***"
   ]
  },
  {
   "cell_type": "markdown",
   "id": "82e9e919-b138-4ca7-9130-943f146509a4",
   "metadata": {},
   "source": [
    "The idea of training is to give neuron sample input and output values we know and change the weights to try and find the relationship of those values. So, the goal is to create an algorithm that updates w to move the output towards the real output."
   ]
  },
  {
   "cell_type": "code",
   "execution_count": 9,
   "id": "d115e637-7cad-46bd-b6b5-c059a5257c03",
   "metadata": {},
   "outputs": [],
   "source": [
    "# An index in the data set.\n",
    "i = 5"
   ]
  },
  {
   "cell_type": "code",
   "execution_count": 10,
   "id": "96c467a5-354e-4ff9-913a-44645390a473",
   "metadata": {},
   "outputs": [
    {
     "data": {
      "text/plain": [
       "(6.0, 24.503917491100815)"
      ]
     },
     "execution_count": 10,
     "metadata": {},
     "output_type": "execute_result"
    }
   ],
   "source": [
    "# Actual input/output pair from the real world.\n",
    "data_in[i], data_out[i]"
   ]
  },
  {
   "cell_type": "markdown",
   "id": "eabf9e23-11f1-4d21-8ac4-75ad29bec617",
   "metadata": {},
   "source": [
    "We see below what the neuron currently outputs for the real-world input, based on current weights."
   ]
  },
  {
   "cell_type": "code",
   "execution_count": 11,
   "id": "e3ac822b-c564-4c35-a627-778428904cb6",
   "metadata": {},
   "outputs": [
    {
     "data": {
      "text/plain": [
       "6.0"
      ]
     },
     "execution_count": 11,
     "metadata": {},
     "output_type": "execute_result"
    }
   ],
   "source": [
    "# Initial weights.\n",
    "w =  np.array([0.0, 1.0])\n",
    "fire_neuron(np.array([1.0, data_in[i]]), w, identity)"
   ]
  },
  {
   "cell_type": "markdown",
   "id": "c4f9535a-daad-4d62-9b03-2942b0f814de",
   "metadata": {},
   "source": [
    "Considering we've generated the data, we already know that the weight should be close to 4 (4 fixed for the noise). We can see below what the neuron could output for the real-world input, based on better weights."
   ]
  },
  {
   "cell_type": "code",
   "execution_count": 12,
   "id": "77f3a045-96cf-451f-b32d-3e0789499bd3",
   "metadata": {},
   "outputs": [
    {
     "data": {
      "text/plain": [
       "24.0"
      ]
     },
     "execution_count": 12,
     "metadata": {},
     "output_type": "execute_result"
    }
   ],
   "source": [
    "# Initial weights.\n",
    "w =  np.array([0.0, 4.0])\n",
    "fire_neuron(np.array([1.0, data_in[i]]), w, identity)"
   ]
  },
  {
   "cell_type": "markdown",
   "id": "a428106d-97bb-4a7f-a720-6b0d2f032fbf",
   "metadata": {},
   "source": [
    "##### COST\n",
    "***"
   ]
  },
  {
   "cell_type": "markdown",
   "id": "37906d61-1006-45c2-b924-83a5cfb4a148",
   "metadata": {},
   "source": [
    "As stated above the goal is to find the better weight. We'll do that using cost function.\n"
   ]
  },
  {
   "cell_type": "markdown",
   "id": "0670ad7d-9a45-4461-a9f1-1a489f3b6d45",
   "metadata": {},
   "source": [
    "$$ \\sum_i (y_i - mx_i - c)^2 $$\n",
    "\n",
    "$$ \\Rightarrow \\sum_i (y - x w)^2 $$"
   ]
  },
  {
   "cell_type": "code",
   "execution_count": 13,
   "id": "4d9e5c65-01b1-4382-a172-ffd38b0d74d9",
   "metadata": {},
   "outputs": [],
   "source": [
    "# Usually use sum of squares.\n",
    "def cost(w, x, phi, y):\n",
    "    pred = fire_neuron(x, w, phi)\n",
    "    return (y - pred)**2"
   ]
  },
  {
   "cell_type": "code",
   "execution_count": 14,
   "id": "87f286c7-d071-4311-9f67-1f4e941b453d",
   "metadata": {},
   "outputs": [],
   "source": [
    "# An index in the data set.\n",
    "i = 5"
   ]
  },
  {
   "cell_type": "code",
   "execution_count": 23,
   "id": "6a07ae96-4c9b-436e-b037-d6a7ccd980b8",
   "metadata": {},
   "outputs": [
    {
     "data": {
      "text/plain": [
       "342.39496251746664"
      ]
     },
     "execution_count": 23,
     "metadata": {},
     "output_type": "execute_result"
    }
   ],
   "source": [
    "# Cost of initial w.\n",
    "w = np.array([0.0, 1.0])\n",
    "cost(w, data_in[i], identity, data_out[i])"
   ]
  },
  {
   "cell_type": "code",
   "execution_count": 21,
   "id": "0848fe8e-b885-4422-932c-c6d2e4b6bdd6",
   "metadata": {},
   "outputs": [
    {
     "data": {
      "text/plain": [
       "0.2539328378373396"
      ]
     },
     "execution_count": 21,
     "metadata": {},
     "output_type": "execute_result"
    }
   ],
   "source": [
    "# Cost of a \"better\" w.\n",
    "w = np.array([0.0, 4.0])\n",
    "cost(w, data_in[i], identity, data_out[i])"
   ]
  },
  {
   "cell_type": "markdown",
   "id": "0a6a1c74-75a6-4836-ba6e-d13face49a0a",
   "metadata": {},
   "source": [
    "As expected the cost with weight [0.0, 4.0] is much smaller then the cost with the weight [0.0, 1.0]."
   ]
  },
  {
   "cell_type": "markdown",
   "id": "36a718c7-a710-4d8f-b7a5-240c4a35f1b3",
   "metadata": {},
   "source": [
    "##### TRAINING\n",
    "***"
   ]
  },
  {
   "cell_type": "code",
   "execution_count": 24,
   "id": "6bf19631-f9e4-486f-af42-585214a129ca",
   "metadata": {},
   "outputs": [],
   "source": [
    "# Hyperparameter.\n",
    "learning_rate = 0.001"
   ]
  },
  {
   "cell_type": "code",
   "execution_count": 25,
   "id": "cdf58535-e49a-47bf-ac54-027e67f49087",
   "metadata": {},
   "outputs": [],
   "source": [
    "def train_neuron(x, y, w, phi):\n",
    "    # The possible adjustment to the weights.\n",
    "    adjust = np.array([0.0, learning_rate])\n",
    "    # Calculate the current cost.\n",
    "    current = cost(w, x, phi, y)\n",
    "    # Calculate the cost with slight adjustment to the weights.\n",
    "    adding = cost(w + adjust, x, phi, y)\n",
    "    # If the adjusted weights lower the cost, update the weights.\n",
    "    if adding < current:\n",
    "        w = w + adjust\n",
    "    # Otherwise move in the other direction.\n",
    "    else:\n",
    "        w = w - adjust\n",
    "    return w"
   ]
  },
  {
   "cell_type": "code",
   "execution_count": 26,
   "id": "7b08f6b5-b1b0-41ce-a706-78300cfdcd97",
   "metadata": {},
   "outputs": [],
   "source": [
    "# Set some initial weights.\n",
    "w = np.array([0.0, 1.0])"
   ]
  },
  {
   "cell_type": "code",
   "execution_count": 28,
   "id": "638bb3d5-c8cb-4b89-ba60-849294cff18d",
   "metadata": {},
   "outputs": [
    {
     "data": {
      "text/plain": [
       "(6.0, 24.503917491100815)"
      ]
     },
     "execution_count": 28,
     "metadata": {},
     "output_type": "execute_result"
    }
   ],
   "source": [
    "# The training values.\n",
    "data_in[i], data_out[i]"
   ]
  },
  {
   "cell_type": "code",
   "execution_count": 29,
   "id": "3514f179-ea6a-4f90-835c-47306803c956",
   "metadata": {},
   "outputs": [
    {
     "data": {
      "text/plain": [
       "6.0"
      ]
     },
     "execution_count": 29,
     "metadata": {},
     "output_type": "execute_result"
    }
   ],
   "source": [
    "# Current neuron output for data_in[i].\n",
    "fire_neuron(np.array([1.0, data_in[i]]), w, identity)"
   ]
  },
  {
   "cell_type": "code",
   "execution_count": 30,
   "id": "2185c2de-0309-4ed7-8f47-2dbf6189c0f0",
   "metadata": {},
   "outputs": [
    {
     "data": {
      "text/plain": [
       "array([0.   , 1.001])"
      ]
     },
     "execution_count": 30,
     "metadata": {},
     "output_type": "execute_result"
    }
   ],
   "source": [
    "# Nudge the weights towards better values.\n",
    "w_improved = train_neuron(data_in[i], data_out[i], w, identity)\n",
    "w_improved"
   ]
  },
  {
   "cell_type": "code",
   "execution_count": 31,
   "id": "03953820-c11c-49b5-b464-d4038b136868",
   "metadata": {},
   "outputs": [
    {
     "data": {
      "text/plain": [
       "6.005999999999999"
      ]
     },
     "execution_count": 31,
     "metadata": {},
     "output_type": "execute_result"
    }
   ],
   "source": [
    "# Current neuron output for data_in[i].\n",
    "fire_neuron(np.array([1.0, data_in[i]]), w_improved, identity)"
   ]
  },
  {
   "cell_type": "code",
   "execution_count": 32,
   "id": "d0a2837f-0abf-4031-a02c-395205705a37",
   "metadata": {},
   "outputs": [
    {
     "data": {
      "text/plain": [
       "array([0.  , 4.06])"
      ]
     },
     "execution_count": 32,
     "metadata": {},
     "output_type": "execute_result"
    }
   ],
   "source": [
    "# Set some initial weights.\n",
    "w = np.array([0.0, 1.0])\n",
    "\n",
    "# Loop several times.\n",
    "for epoch in range(10000):\n",
    "    for i in range(len(data_in)):\n",
    "        w = train_neuron(data_in[i], data_out[i], w, identity)\n",
    "\n",
    "# Show w.\n",
    "w"
   ]
  },
  {
   "cell_type": "code",
   "execution_count": null,
   "id": "b4582698-9c36-4e4e-8353-87b4f2390d70",
   "metadata": {},
   "outputs": [],
   "source": []
  },
  {
   "cell_type": "markdown",
   "id": "2c60a143-7127-4847-adb1-d687a2c028f1",
   "metadata": {},
   "source": [
    "#### KERAS"
   ]
  },
  {
   "cell_type": "code",
   "execution_count": null,
   "id": "d3774e10-59e5-47ec-9b8a-21db29cc088e",
   "metadata": {},
   "outputs": [],
   "source": []
  },
  {
   "cell_type": "code",
   "execution_count": null,
   "id": "02bb13b7-f11d-419f-8e7d-a4fe76cd1693",
   "metadata": {},
   "outputs": [],
   "source": []
  },
  {
   "cell_type": "code",
   "execution_count": null,
   "id": "0838e818-21f5-4531-884c-b1c3367c48ac",
   "metadata": {},
   "outputs": [],
   "source": []
  },
  {
   "cell_type": "code",
   "execution_count": null,
   "id": "91b83750-8fc1-4ca6-bead-af7c4b540e96",
   "metadata": {},
   "outputs": [],
   "source": []
  },
  {
   "cell_type": "code",
   "execution_count": null,
   "id": "fecc290c-fb80-41f7-a8e8-a2c6aa722453",
   "metadata": {},
   "outputs": [],
   "source": []
  },
  {
   "cell_type": "code",
   "execution_count": null,
   "id": "ab789176-e122-4be5-a7fc-b950d4ca535f",
   "metadata": {},
   "outputs": [],
   "source": []
  },
  {
   "cell_type": "code",
   "execution_count": null,
   "id": "8ac6bac0-7bb6-423d-8ba2-6a7fe967af44",
   "metadata": {},
   "outputs": [],
   "source": []
  },
  {
   "cell_type": "markdown",
   "id": "20e91026-0f28-4738-9f6c-40aafd35827d",
   "metadata": {},
   "source": [
    "### REFERENCES"
   ]
  },
  {
   "cell_type": "markdown",
   "id": "5b9564e1-241e-480b-aae9-86612c048d21",
   "metadata": {},
   "source": [
    "1. https://www.geeksforgeeks.org/introduction-machine-learning/\n",
    "2. https://en.wikipedia.org/wiki/Machine_learning\n",
    "3. https://aws.amazon.com/what-is/neural-network/\n",
    "4. https://srnghn.medium.com/deep-learning-overview-of-neurons-and-activation-functions-1d98286cf1e4\n",
    "5. https://towardsdatascience.com/secret-sauce-behind-the-beauty-of-deep-learning-beginners-guide-to-activation-functions-a8e23a57d046#"
   ]
  },
  {
   "cell_type": "code",
   "execution_count": null,
   "id": "21641bdd-c9cb-440b-8e7b-ebe3ad69f767",
   "metadata": {},
   "outputs": [],
   "source": []
  }
 ],
 "metadata": {
  "kernelspec": {
   "display_name": "Python 3",
   "language": "python",
   "name": "python3"
  },
  "language_info": {
   "codemirror_mode": {
    "name": "ipython",
    "version": 3
   },
   "file_extension": ".py",
   "mimetype": "text/x-python",
   "name": "python",
   "nbconvert_exporter": "python",
   "pygments_lexer": "ipython3",
   "version": "3.8.8"
  }
 },
 "nbformat": 4,
 "nbformat_minor": 5
}
