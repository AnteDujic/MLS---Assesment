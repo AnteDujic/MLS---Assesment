{
 "cells": [
  {
   "cell_type": "markdown",
   "id": "6cd4c872-3a93-475d-8881-4ff60b0d7ca3",
   "metadata": {},
   "source": [
    "# MACHINE LEARNING\n",
    "## AUTHOR: ANTE DUJIC\n",
    "<hr style=\"border:2px solid gray\"> </hr>"
   ]
  },
  {
   "cell_type": "markdown",
   "id": "e5caf19f-e1eb-4a54-b5a5-7ded7e51f0e6",
   "metadata": {},
   "source": [
    "<center><img src=\"https://learn.microsoft.com/en-us/windows/ai/images/winml-graphic.png\" width=\"800\"/></center>"
   ]
  },
  {
   "cell_type": "markdown",
   "id": "13595461-fc4a-4e6f-b1ec-42ae5876e407",
   "metadata": {},
   "source": [
    "Machine learning is programming computers to optimize a performance criterion using example data or past experience . We have a model defined up to some parameters, and learning is the execution of a computer program to optimize the parameters of the model using the training data or past experience. The model may be predictive to make predictions in the future, or descriptive to gain knowledge from data.[1] Some implementations of machine learning use data and neural networks in a way that mimics the working of a biological brain. [2] Human brain cells, called neurons, form a complex, highly interconnected network and send electrical signals to each other to help humans process information. Similarly, an artificial neural network is made of artificial neurons that work together to solve a problem. Artificial neurons are software modules, called nodes, and artificial neural networks are software programs or algorithms that, at their core, use computing systems to solve mathematical calculations.[3]"
   ]
  },
  {
   "cell_type": "markdown",
   "id": "fb78bdc5-d25d-42c1-8154-12974bf8dbb5",
   "metadata": {},
   "source": [
    "### SINGLE NEURON\n",
    "***"
   ]
  },
  {
   "cell_type": "markdown",
   "id": "86f6a836-9774-47aa-b854-2174c22e5502",
   "metadata": {},
   "source": [
    "An artificial neuron (also referred to as a perceptron) is a mathematical function. It takes one or more inputs that are multiplied by values called “weights” and added together. This value is then passed to a non-linear function, known as an activation function, to become the neuron’s output. [4]"
   ]
  },
  {
   "cell_type": "markdown",
   "id": "8b4d7495-9f25-43bb-b362-cc56ec70b59a",
   "metadata": {},
   "source": [
    "<center><img src=\"img/single_neuron.drawio.svg\" width=\"500\"/></center>"
   ]
  },
  {
   "cell_type": "markdown",
   "id": "c4088958-866b-4cc3-a288-c9221a8a2616",
   "metadata": {},
   "source": [
    "#### SINGLE INPUT NEURON\n",
    "***"
   ]
  },
  {
   "cell_type": "markdown",
   "id": "cc6d6222-bcf3-413e-b107-4947f598e943",
   "metadata": {},
   "source": [
    "<center><img src=\"img/single_input.drawio (1).svg\" width=\"400\"/></center>"
   ]
  },
  {
   "cell_type": "markdown",
   "id": "d32856bb-2100-4c49-93dd-b420d489d293",
   "metadata": {},
   "source": [
    "Single input neuron is essentialy acting as a model for fitting a straight line . Value *x* and the corresponding *y* values will be supplied to us. We then need to find the relationship between those two values."
   ]
  },
  {
   "cell_type": "markdown",
   "id": "d837dd0c-3807-442c-8924-d85a99bf2107",
   "metadata": {},
   "source": [
    "$$y = mx + c$$\n",
    "\n",
    "$$ \\phi (x) = x $$\n",
    "\n",
    "$$ \\phi (x_1 w_1 + w_0) = x_1 w_1 + w_0 $$\n"
   ]
  },
  {
   "cell_type": "code",
   "execution_count": 1,
   "id": "1c1a1d20-c04e-4f8d-b80e-7185fb2c2f09",
   "metadata": {},
   "outputs": [],
   "source": [
    "# Numerical arrays.\n",
    "import numpy as np\n",
    "\n",
    "# Plotting.\n",
    "import matplotlib.pyplot as plt\n",
    "\n",
    "# Neural networks.\n",
    "import tensorflow.keras as keras"
   ]
  },
  {
   "cell_type": "code",
   "execution_count": 2,
   "id": "0bdc66a0-0784-4964-854d-fc77afd6c386",
   "metadata": {},
   "outputs": [],
   "source": [
    "# Identity activation function.\n",
    "def identity(x):\n",
    "    return x"
   ]
  },
  {
   "cell_type": "markdown",
   "id": "41912b35-40ba-44f4-a0bc-f9b271381688",
   "metadata": {},
   "source": [
    "Identity or Linear activation function is the simplest activation function of all. It applies identity operation on your data and output data is proportional to the input data.[5]"
   ]
  },
  {
   "cell_type": "code",
   "execution_count": 3,
   "id": "4b807f96-5c0f-4e97-b725-b60cc34a71aa",
   "metadata": {},
   "outputs": [],
   "source": [
    "# Firing a neuron.\n",
    "def fire_neuron(x, w, phi):\n",
    "    return phi(np.sum(x * w))"
   ]
  },
  {
   "cell_type": "markdown",
   "id": "8d35095f-e1b5-46ba-a898-de6af798e710",
   "metadata": {},
   "source": [
    "To activate the neuron, function needs a list of *x* values. The first one is the *bias* and needs to be 1. It also need an array of the same size as *x* which has the weights of all the values, *w* and the activation function, *phi*. Those are inputted below."
   ]
  },
  {
   "cell_type": "code",
   "execution_count": 4,
   "id": "f4df8582-e9d0-42d3-a61d-61db5f260273",
   "metadata": {},
   "outputs": [
    {
     "data": {
      "text/plain": [
       "(array([1., 4.]), array([2., 3.]))"
      ]
     },
     "execution_count": 4,
     "metadata": {},
     "output_type": "execute_result"
    }
   ],
   "source": [
    "# Our x values - always has to have 1.0 at index 0.\n",
    "x = np.array([1.0, 4.0])\n",
    "\n",
    "# Our weights.\n",
    "w = np.array([2.0, 3.0])\n",
    "\n",
    "x, w"
   ]
  },
  {
   "cell_type": "code",
   "execution_count": 5,
   "id": "cd80f508-8c59-4e5c-b3a6-4bf5d6a200d9",
   "metadata": {},
   "outputs": [
    {
     "data": {
      "text/plain": [
       "14.0"
      ]
     },
     "execution_count": 5,
     "metadata": {},
     "output_type": "execute_result"
    }
   ],
   "source": [
    "fire_neuron(x, w, identity)"
   ]
  },
  {
   "cell_type": "markdown",
   "id": "cbc0f1bc-1e07-4a59-b382-3496757449b2",
   "metadata": {},
   "source": [
    "#### GENERATE DATA\n",
    "***"
   ]
  },
  {
   "cell_type": "markdown",
   "id": "8d5cdf5b-8ad0-4c34-b22d-4cc4acd595f1",
   "metadata": {},
   "source": [
    "We will generate some data, input *x* and output *y*. Those values are pairs, which means that each value *x* has its corresponding value *y* - there is a relationship between them."
   ]
  },
  {
   "cell_type": "code",
   "execution_count": 6,
   "id": "0a1c5848-eae1-40d3-9344-8158524fd70c",
   "metadata": {},
   "outputs": [
    {
     "data": {
      "text/plain": [
       "array([ 1.,  2.,  3.,  4.,  5.,  6.,  7.,  8.,  9., 10., 11., 12.])"
      ]
     },
     "execution_count": 6,
     "metadata": {},
     "output_type": "execute_result"
    }
   ],
   "source": [
    "# Real-world input values - x.\n",
    "data_in = np.arange(1.0, 13.0, 1.0)\n",
    "data_in"
   ]
  },
  {
   "cell_type": "code",
   "execution_count": 7,
   "id": "1e10702b-8f54-4260-9243-88b363b69738",
   "metadata": {},
   "outputs": [
    {
     "data": {
      "text/plain": [
       "array([ 3.5207285 ,  8.30059211, 10.51511554, 16.3658842 , 21.47734405,\n",
       "       24.14696475, 26.02629155, 30.26167384, 33.25920608, 39.90138591,\n",
       "       44.12617265, 47.69215862])"
      ]
     },
     "execution_count": 7,
     "metadata": {},
     "output_type": "execute_result"
    }
   ],
   "source": [
    "# Real-world output values - y.\n",
    "data_out = 4.0 * data_in + np.random.normal(0.0, 1.0, len(data_in))\n",
    "data_out"
   ]
  },
  {
   "cell_type": "markdown",
   "id": "2d477698-314b-4a08-a341-73b89bb1c212",
   "metadata": {},
   "source": [
    "The relationship we generated is that the output is 4 times input, fixed for the noise."
   ]
  },
  {
   "cell_type": "code",
   "execution_count": 8,
   "id": "0477e548-8586-4cf9-8691-f10d49c27a38",
   "metadata": {},
   "outputs": [
    {
     "data": {
      "image/png": "[encoded data removed]",
      "text/plain": [
       "<Figure size 432x288 with 1 Axes>"
      ]
     },
     "metadata": {
      "needs_background": "light"
     },
     "output_type": "display_data"
    }
   ],
   "source": [
    "plt.plot(data_in, data_out, 'k.');"
   ]
  },
  {
   "cell_type": "markdown",
   "id": "5c0538ca-a321-4dfc-a2d9-c386b97a179c",
   "metadata": {},
   "source": [
    "#### TRAINING \"STEP BY STEP\"\n",
    "***"
   ]
  },
  {
   "cell_type": "markdown",
   "id": "82e9e919-b138-4ca7-9130-943f146509a4",
   "metadata": {},
   "source": [
    "The idea of training is to give neuron sample input and output values we know and change the weights to try and find the relationship of those values. So, the goal is to create an algorithm that updates w to move the output towards the real output."
   ]
  },
  {
   "cell_type": "code",
   "execution_count": 9,
   "id": "d115e637-7cad-46bd-b6b5-c059a5257c03",
   "metadata": {},
   "outputs": [],
   "source": [
    "# An index in the data set.\n",
    "i = 5"
   ]
  },
  {
   "cell_type": "code",
   "execution_count": 10,
   "id": "96c467a5-354e-4ff9-913a-44645390a473",
   "metadata": {},
   "outputs": [
    {
     "data": {
      "text/plain": [
       "(6.0, 24.14696475487035)"
      ]
     },
     "execution_count": 10,
     "metadata": {},
     "output_type": "execute_result"
    }
   ],
   "source": [
    "# Actual input/output pair from the real world.\n",
    "data_in[i], data_out[i]"
   ]
  },
  {
   "cell_type": "markdown",
   "id": "eabf9e23-11f1-4d21-8ac4-75ad29bec617",
   "metadata": {},
   "source": [
    "We see below what the neuron currently outputs for the real-world input, based on current weights."
   ]
  },
  {
   "cell_type": "code",
   "execution_count": 11,
   "id": "e3ac822b-c564-4c35-a627-778428904cb6",
   "metadata": {},
   "outputs": [
    {
     "data": {
      "text/plain": [
       "6.0"
      ]
     },
     "execution_count": 11,
     "metadata": {},
     "output_type": "execute_result"
    }
   ],
   "source": [
    "# Initial weights.\n",
    "w =  np.array([0.0, 1.0])\n",
    "fire_neuron(np.array([1.0, data_in[i]]), w, identity)"
   ]
  },
  {
   "cell_type": "markdown",
   "id": "c4f9535a-daad-4d62-9b03-2942b0f814de",
   "metadata": {},
   "source": [
    "Considering we've generated the data, we already know that the weight should be close to 4 (4 fixed for the noise). We can see below what the neuron could output for the real-world input, based on better weights."
   ]
  },
  {
   "cell_type": "code",
   "execution_count": 12,
   "id": "77f3a045-96cf-451f-b32d-3e0789499bd3",
   "metadata": {},
   "outputs": [
    {
     "data": {
      "text/plain": [
       "24.0"
      ]
     },
     "execution_count": 12,
     "metadata": {},
     "output_type": "execute_result"
    }
   ],
   "source": [
    "# Initial weights.\n",
    "w =  np.array([0.0, 4.0])\n",
    "fire_neuron(np.array([1.0, data_in[i]]), w, identity)"
   ]
  },
  {
   "cell_type": "markdown",
   "id": "a428106d-97bb-4a7f-a720-6b0d2f032fbf",
   "metadata": {},
   "source": [
    "##### COST\n",
    "***"
   ]
  },
  {
   "cell_type": "markdown",
   "id": "37906d61-1006-45c2-b924-83a5cfb4a148",
   "metadata": {},
   "source": [
    "As stated above the goal is to find the better weight. We'll do that using cost function.\n"
   ]
  },
  {
   "cell_type": "markdown",
   "id": "0670ad7d-9a45-4461-a9f1-1a489f3b6d45",
   "metadata": {},
   "source": [
    "$$ \\sum_i (y_i - mx_i - c)^2 $$\n",
    "\n",
    "$$ \\Rightarrow \\sum_i (y - x w)^2 $$"
   ]
  },
  {
   "cell_type": "code",
   "execution_count": 13,
   "id": "4d9e5c65-01b1-4382-a172-ffd38b0d74d9",
   "metadata": {},
   "outputs": [],
   "source": [
    "# Usually use sum of squares.\n",
    "def cost(w, x, phi, y):\n",
    "    pred = fire_neuron(x, w, phi)\n",
    "    return (y - pred)**2"
   ]
  },
  {
   "cell_type": "code",
   "execution_count": 14,
   "id": "87f286c7-d071-4311-9f67-1f4e941b453d",
   "metadata": {},
   "outputs": [],
   "source": [
    "# An index in the data set.\n",
    "i = 5"
   ]
  },
  {
   "cell_type": "code",
   "execution_count": 15,
   "id": "6a07ae96-4c9b-436e-b037-d6a7ccd980b8",
   "metadata": {},
   "outputs": [
    {
     "data": {
      "text/plain": [
       "329.3123298145067"
      ]
     },
     "execution_count": 15,
     "metadata": {},
     "output_type": "execute_result"
    }
   ],
   "source": [
    "# Cost of initial w.\n",
    "w = np.array([0.0, 1.0])\n",
    "cost(w, data_in[i], identity, data_out[i])"
   ]
  },
  {
   "cell_type": "code",
   "execution_count": 16,
   "id": "0848fe8e-b885-4422-932c-c6d2e4b6bdd6",
   "metadata": {},
   "outputs": [
    {
     "data": {
      "text/plain": [
       "0.021598639174102027"
      ]
     },
     "execution_count": 16,
     "metadata": {},
     "output_type": "execute_result"
    }
   ],
   "source": [
    "# Cost of a \"better\" w.\n",
    "w = np.array([0.0, 4.0])\n",
    "cost(w, data_in[i], identity, data_out[i])"
   ]
  },
  {
   "cell_type": "markdown",
   "id": "0a6a1c74-75a6-4836-ba6e-d13face49a0a",
   "metadata": {},
   "source": [
    "As expected the cost with weight [0.0, 4.0] is much smaller then the cost with the weight [0.0, 1.0]."
   ]
  },
  {
   "cell_type": "markdown",
   "id": "36a718c7-a710-4d8f-b7a5-240c4a35f1b3",
   "metadata": {},
   "source": [
    "##### TRAINING\n",
    "***"
   ]
  },
  {
   "cell_type": "markdown",
   "id": "1bc6deef-6be8-4e2b-8f09-3d950fbdc912",
   "metadata": {},
   "source": [
    "\n",
    "To train the data, we'll try to improve *w* value based on the given *x* and *y* values."
   ]
  },
  {
   "cell_type": "markdown",
   "id": "b952de05-282c-43c5-85c7-33125d7dcdad",
   "metadata": {},
   "source": [
    "The idea is to get the smaller and smaller cost value by continously adjusting the weights. This will be done using hyoerparameters. In Machine Learning, hyperparameter is a parameter whose value is used to control the learning process. [6] It is chosen before the training is done."
   ]
  },
  {
   "cell_type": "code",
   "execution_count": 17,
   "id": "ee7ec4fe-da07-40bb-a4d7-1a0a65d515c8",
   "metadata": {},
   "outputs": [],
   "source": [
    "# Hyperparameter.\n",
    "learning_rate = 0.001"
   ]
  },
  {
   "cell_type": "code",
   "execution_count": 18,
   "id": "3f9112ba-3b64-446d-842e-46994033a9c7",
   "metadata": {},
   "outputs": [],
   "source": [
    "def train_neuron(x, y, w, phi):\n",
    "    # The possible adjustment to the weights.\n",
    "    adjust = np.array([0.0, learning_rate])\n",
    "    # Calculate the current cost.\n",
    "    current = cost(w, x, phi, y)\n",
    "    # Calculate the cost with slight adjustment to the weights.\n",
    "    adding = cost(w + adjust, x, phi, y)\n",
    "    # If the adjusted weights lower the cost, update the weights.\n",
    "    if adding < current:\n",
    "        w = w + adjust\n",
    "    # Otherwise move in the other direction.\n",
    "    else:\n",
    "        w = w - adjust\n",
    "    return w"
   ]
  },
  {
   "cell_type": "code",
   "execution_count": 19,
   "id": "31fb6a09-c9b8-49d6-ac26-0413e77a734d",
   "metadata": {
    "tags": []
   },
   "outputs": [],
   "source": [
    "# Set some initial weights.\n",
    "w = np.array([0.0, 1.0])"
   ]
  },
  {
   "cell_type": "code",
   "execution_count": 20,
   "id": "a76eb46d-915d-4573-a670-003fae9ca066",
   "metadata": {},
   "outputs": [
    {
     "data": {
      "text/plain": [
       "(6.0, 24.14696475487035)"
      ]
     },
     "execution_count": 20,
     "metadata": {},
     "output_type": "execute_result"
    }
   ],
   "source": [
    "# The training values.\n",
    "data_in[i], data_out[i]"
   ]
  },
  {
   "cell_type": "code",
   "execution_count": 21,
   "id": "dad9c530-f6d4-4cc1-a2a4-f1f97036c5c9",
   "metadata": {},
   "outputs": [
    {
     "data": {
      "text/plain": [
       "6.0"
      ]
     },
     "execution_count": 21,
     "metadata": {},
     "output_type": "execute_result"
    }
   ],
   "source": [
    "# Current neuron output for data_in[i].\n",
    "fire_neuron(np.array([1.0, data_in[i]]), w, identity)"
   ]
  },
  {
   "cell_type": "code",
   "execution_count": 22,
   "id": "d7872798-d73a-4460-ad33-9b90cce0115a",
   "metadata": {},
   "outputs": [
    {
     "data": {
      "text/plain": [
       "array([0.   , 1.001])"
      ]
     },
     "execution_count": 22,
     "metadata": {},
     "output_type": "execute_result"
    }
   ],
   "source": [
    "# Nudge the weights towards better values.\n",
    "w_improved = train_neuron(data_in[i], data_out[i], w, identity)\n",
    "w_improved"
   ]
  },
  {
   "cell_type": "code",
   "execution_count": 23,
   "id": "b2a8a59a-dd11-4e67-8d86-d6964e28cfca",
   "metadata": {},
   "outputs": [
    {
     "data": {
      "text/plain": [
       "6.005999999999999"
      ]
     },
     "execution_count": 23,
     "metadata": {},
     "output_type": "execute_result"
    }
   ],
   "source": [
    "# Current neuron output for data_in[i].\n",
    "fire_neuron(np.array([1.0, data_in[i]]), w_improved, identity)"
   ]
  },
  {
   "cell_type": "markdown",
   "id": "1b1b5fee-18a2-4614-bfe2-43cec8fda8c3",
   "metadata": {},
   "source": [
    "We see above that the adjusted output we get gives a slightly better value - it is moving towards the value close to 24. To keep adjusting the weight, we'll put the function in the loop. Once the cost stops getting lower, we will get the best *w* value that, in our case, should be close to 4."
   ]
  },
  {
   "cell_type": "code",
   "execution_count": 24,
   "id": "93dbc435-d007-4f38-adef-e4b4c6a4ca96",
   "metadata": {},
   "outputs": [
    {
     "data": {
      "text/plain": [
       "array([0.   , 3.974])"
      ]
     },
     "execution_count": 24,
     "metadata": {},
     "output_type": "execute_result"
    }
   ],
   "source": [
    "# Set some initial weights.\n",
    "w = np.array([0.0, 1.0])\n",
    "\n",
    "# Loop several times.\n",
    "for epoch in range(10000):\n",
    "    for i in range(len(data_in)):\n",
    "        w = train_neuron(data_in[i], data_out[i], w, identity)\n",
    "\n",
    "# Show w.\n",
    "w"
   ]
  },
  {
   "cell_type": "markdown",
   "id": "2c60a143-7127-4847-adb1-d687a2c028f1",
   "metadata": {},
   "source": [
    "#### TRAINING USING KERAS\n",
    "***"
   ]
  },
  {
   "cell_type": "code",
   "execution_count": 25,
   "id": "d3774e10-59e5-47ec-9b8a-21db29cc088e",
   "metadata": {},
   "outputs": [],
   "source": [
    "# Create a new sequential neural network.\n",
    "model = keras.Sequential()"
   ]
  },
  {
   "cell_type": "code",
   "execution_count": 26,
   "id": "02bb13b7-f11d-419f-8e7d-a4fe76cd1693",
   "metadata": {},
   "outputs": [],
   "source": [
    "# Add a dense layer with 1 neuron and the identity activation function.\n",
    "model.add(keras.layers.Dense(units=1))"
   ]
  },
  {
   "cell_type": "markdown",
   "id": "5b162bcd-9eea-4244-a64e-92894ca8b2fa",
   "metadata": {},
   "source": [
    "The cost function and loss function refer to the same context (i.e. the training process that uses backpropagation to minimize the error between the actual and predicted outcome). We calculate the cost function as the average of all loss function values whereas we calculate the loss function for each sample output compared to its actual value. [7] The purpose of loss functions is to compute the quantity that a model should seek to minimize during training. [8] Same as in the \"step by step\" training, we'll use the mean squared error function."
   ]
  },
  {
   "cell_type": "markdown",
   "id": "bdd4784b-a44e-4e0f-a12d-743dddb6bdfb",
   "metadata": {},
   "source": [
    "$$ \\sum_i (y_i - mx_i - c)^2 $$\n",
    "\n",
    "$$ \\Rightarrow \\sum_i (y - x w)^2 $$"
   ]
  },
  {
   "cell_type": "code",
   "execution_count": 27,
   "id": "0838e818-21f5-4531-884c-b1c3367c48ac",
   "metadata": {},
   "outputs": [],
   "source": [
    "# Compile the neural network.\n",
    "model.compile(loss='mean_squared_error', optimizer='sgd', metrics=['accuracy'])"
   ]
  },
  {
   "cell_type": "markdown",
   "id": "5d2a6b3e-0709-49b1-b01a-beea87f735db",
   "metadata": {},
   "source": [
    "Keras requires 2d array where each value is an element of an array. Therefore, we need to reshape the original data, which is 1d array."
   ]
  },
  {
   "cell_type": "code",
   "execution_count": 35,
   "id": "4519839c-01c7-465d-8ff2-ea156f9c7bbe",
   "metadata": {},
   "outputs": [
    {
     "name": "stdout",
     "output_type": "stream",
     "text": [
      "1d:\n",
      " [[ 1.]\n",
      " [ 2.]\n",
      " [ 3.]\n",
      " [ 4.]\n",
      " [ 5.]\n",
      " [ 6.]\n",
      " [ 7.]\n",
      " [ 8.]\n",
      " [ 9.]\n",
      " [10.]\n",
      " [11.]\n",
      " [12.]]\n"
     ]
    }
   ],
   "source": [
    "print (\"1d:\\n\", data_in)"
   ]
  },
  {
   "cell_type": "code",
   "execution_count": 28,
   "id": "eb809793-a697-4c03-9947-90d0652465dc",
   "metadata": {},
   "outputs": [
    {
     "data": {
      "text/plain": [
       "array([[ 1.],\n",
       "       [ 2.],\n",
       "       [ 3.],\n",
       "       [ 4.],\n",
       "       [ 5.],\n",
       "       [ 6.],\n",
       "       [ 7.],\n",
       "       [ 8.],\n",
       "       [ 9.],\n",
       "       [10.],\n",
       "       [11.],\n",
       "       [12.]])"
      ]
     },
     "execution_count": 28,
     "metadata": {},
     "output_type": "execute_result"
    }
   ],
   "source": [
    "# https://stackoverflow.com/a/47468541\n",
    "data_in = data_in.reshape(-1, 1)\n",
    "data_in"
   ]
  },
  {
   "cell_type": "code",
   "execution_count": 29,
   "id": "88bb13fa-5087-4157-8eaf-017c7718928a",
   "metadata": {},
   "outputs": [
    {
     "data": {
      "text/plain": [
       "array([[ 3.5207285 ],\n",
       "       [ 8.30059211],\n",
       "       [10.51511554],\n",
       "       [16.3658842 ],\n",
       "       [21.47734405],\n",
       "       [24.14696475],\n",
       "       [26.02629155],\n",
       "       [30.26167384],\n",
       "       [33.25920608],\n",
       "       [39.90138591],\n",
       "       [44.12617265],\n",
       "       [47.69215862]])"
      ]
     },
     "execution_count": 29,
     "metadata": {},
     "output_type": "execute_result"
    }
   ],
   "source": [
    "data_out = data_out.reshape(-1, 1)\n",
    "data_out"
   ]
  },
  {
   "cell_type": "code",
   "execution_count": 30,
   "id": "fecc290c-fb80-41f7-a8e8-a2c6aa722453",
   "metadata": {},
   "outputs": [
    {
     "name": "stdout",
     "output_type": "stream",
     "text": [
      "Epoch 1/5\n",
      "1/1 [==============================] - 0s 312ms/step - loss: 613.5046 - accuracy: 0.0000e+00\n",
      "Epoch 2/5\n",
      "1/1 [==============================] - 0s 7ms/step - loss: 7.3521 - accuracy: 0.0000e+00\n",
      "Epoch 3/5\n",
      "1/1 [==============================] - 0s 5ms/step - loss: 1.4111 - accuracy: 0.0000e+00\n",
      "Epoch 4/5\n",
      "1/1 [==============================] - 0s 6ms/step - loss: 1.3524 - accuracy: 0.0000e+00\n",
      "Epoch 5/5\n",
      "1/1 [==============================] - 0s 9ms/step - loss: 1.3512 - accuracy: 0.0000e+00\n"
     ]
    },
    {
     "data": {
      "text/plain": [
       "<keras.callbacks.History at 0x1a6c8922790>"
      ]
     },
     "execution_count": 30,
     "metadata": {},
     "output_type": "execute_result"
    }
   ],
   "source": [
    "# Train the neural network.\n",
    "model.fit(data_in, data_out, epochs=5, batch_size=32)"
   ]
  },
  {
   "cell_type": "code",
   "execution_count": null,
   "id": "ab789176-e122-4be5-a7fc-b950d4ca535f",
   "metadata": {},
   "outputs": [],
   "source": []
  },
  {
   "cell_type": "code",
   "execution_count": null,
   "id": "8ac6bac0-7bb6-423d-8ba2-6a7fe967af44",
   "metadata": {},
   "outputs": [],
   "source": []
  },
  {
   "cell_type": "markdown",
   "id": "20e91026-0f28-4738-9f6c-40aafd35827d",
   "metadata": {},
   "source": [
    "### REFERENCES"
   ]
  },
  {
   "cell_type": "markdown",
   "id": "5b9564e1-241e-480b-aae9-86612c048d21",
   "metadata": {},
   "source": [
    "1. https://www.geeksforgeeks.org/introduction-machine-learning/\n",
    "2. https://en.wikipedia.org/wiki/Machine_learning\n",
    "3. https://aws.amazon.com/what-is/neural-network/\n",
    "4. https://srnghn.medium.com/deep-learning-overview-of-neurons-and-activation-functions-1d98286cf1e4\n",
    "5. https://towardsdatascience.com/secret-sauce-behind-the-beauty-of-deep-learning-beginners-guide-to-activation-functions-a8e23a57d046#\n",
    "6. https://en.wikipedia.org/wiki/Hyperparameter_(machine_learning)\n",
    "7. https://builtin.com/machine-learning/common-loss-functions\n",
    "8. https://keras.io/api/losses/"
   ]
  },
  {
   "cell_type": "code",
   "execution_count": null,
   "id": "21641bdd-c9cb-440b-8e7b-ebe3ad69f767",
   "metadata": {},
   "outputs": [],
   "source": []
  }
 ],
 "metadata": {
  "kernelspec": {
   "display_name": "Python 3",
   "language": "python",
   "name": "python3"
  },
  "language_info": {
   "codemirror_mode": {
    "name": "ipython",
    "version": 3
   },
   "file_extension": ".py",
   "mimetype": "text/x-python",
   "name": "python",
   "nbconvert_exporter": "python",
   "pygments_lexer": "ipython3",
   "version": "3.8.8"
  }
 },
 "nbformat": 4,
 "nbformat_minor": 5
}
