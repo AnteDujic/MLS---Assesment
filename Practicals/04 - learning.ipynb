{
 "cells": [
  {
   "cell_type": "markdown",
   "id": "6cd4c872-3a93-475d-8881-4ff60b0d7ca3",
   "metadata": {},
   "source": [
    "# MACHINE LEARNING\n",
    "## AUTHOR: ANTE DUJIC\n",
    "<hr style=\"border:2px solid gray\"> </hr>"
   ]
  },
  {
   "cell_type": "markdown",
   "id": "e5caf19f-e1eb-4a54-b5a5-7ded7e51f0e6",
   "metadata": {},
   "source": [
    "<center><img src=\"https://learn.microsoft.com/en-us/windows/ai/images/winml-graphic.png\" width=\"800\"/></center>"
   ]
  },
  {
   "cell_type": "markdown",
   "id": "13595461-fc4a-4e6f-b1ec-42ae5876e407",
   "metadata": {},
   "source": [
    "INTRODUCTION"
   ]
  },
  {
   "cell_type": "markdown",
   "id": "3d23f061-f436-4f13-953d-45342ccfb4e0",
   "metadata": {},
   "source": [
    "<hr style=\"border:2px solid gray\"> </hr>"
   ]
  },
  {
   "cell_type": "markdown",
   "id": "fb78bdc5-d25d-42c1-8154-12974bf8dbb5",
   "metadata": {},
   "source": [
    "### SINGLE NEURON\n",
    "***"
   ]
  },
  {
   "cell_type": "markdown",
   "id": "8b4d7495-9f25-43bb-b362-cc56ec70b59a",
   "metadata": {},
   "source": [
    "![](img/single_neuron.drawio.svg)"
   ]
  },
  {
   "cell_type": "markdown",
   "id": "c4088958-866b-4cc3-a288-c9221a8a2616",
   "metadata": {},
   "source": [
    "#### SINGLE INPUT\n",
    "***"
   ]
  },
  {
   "cell_type": "markdown",
   "id": "cc6d6222-bcf3-413e-b107-4947f598e943",
   "metadata": {},
   "source": [
    "![](img/single_input.drawio.svg)"
   ]
  },
  {
   "cell_type": "markdown",
   "id": "d837dd0c-3807-442c-8924-d85a99bf2107",
   "metadata": {},
   "source": [
    "- INPUT FUNCTIONS"
   ]
  },
  {
   "cell_type": "code",
   "execution_count": null,
   "id": "4b807f96-5c0f-4e97-b725-b60cc34a71aa",
   "metadata": {},
   "outputs": [],
   "source": []
  },
  {
   "cell_type": "code",
   "execution_count": null,
   "id": "f4df8582-e9d0-42d3-a61d-61db5f260273",
   "metadata": {},
   "outputs": [],
   "source": []
  },
  {
   "cell_type": "code",
   "execution_count": null,
   "id": "cd80f508-8c59-4e5c-b3a6-4bf5d6a200d9",
   "metadata": {},
   "outputs": [],
   "source": []
  },
  {
   "cell_type": "code",
   "execution_count": null,
   "id": "71a193a1-46a7-42ec-86fb-acbc8e275280",
   "metadata": {},
   "outputs": [],
   "source": []
  },
  {
   "cell_type": "markdown",
   "id": "cbc0f1bc-1e07-4a59-b382-3496757449b2",
   "metadata": {},
   "source": [
    "#### GENERATE DATA"
   ]
  },
  {
   "cell_type": "markdown",
   "id": "a1166838-06c3-413f-9da4-3a6ea8a5361a",
   "metadata": {},
   "source": [
    "#### TRAINING BY HAND"
   ]
  },
  {
   "cell_type": "markdown",
   "id": "2c60a143-7127-4847-adb1-d687a2c028f1",
   "metadata": {},
   "source": [
    "#### KERAS"
   ]
  },
  {
   "cell_type": "code",
   "execution_count": null,
   "id": "d3774e10-59e5-47ec-9b8a-21db29cc088e",
   "metadata": {},
   "outputs": [],
   "source": []
  }
 ],
 "metadata": {
  "kernelspec": {
   "display_name": "Python 3",
   "language": "python",
   "name": "python3"
  },
  "language_info": {
   "codemirror_mode": {
    "name": "ipython",
    "version": 3
   },
   "file_extension": ".py",
   "mimetype": "text/x-python",
   "name": "python",
   "nbconvert_exporter": "python",
   "pygments_lexer": "ipython3",
   "version": "3.8.8"
  }
 },
 "nbformat": 4,
 "nbformat_minor": 5
}
