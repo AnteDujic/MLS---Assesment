{
 "cells": [
  {
   "cell_type": "markdown",
   "id": "8eb22af3-532a-412d-aeb7-a279c507d8bc",
   "metadata": {},
   "source": [
    "# TIMESERIES ANOMALY DETECTION\n",
    "## AUTHOR: ANTE DUJIC\n",
    "<hr style=\"border:2px solid gray\"> </hr>"
   ]
  },
  {
   "cell_type": "markdown",
   "id": "57d09ce2-9948-40ab-b8c0-b3b7ce38fae0",
   "metadata": {},
   "source": [
    "<center><img src=\"https://i0.wp.com/thedatascientist.com/wp-content/uploads/2019/02/anomaly_detection.png?fit=1200%2C800&ssl=1\" width=\"400\"/></center>"
   ]
  },
  {
   "cell_type": "markdown",
   "id": "9e975541-5bf6-463a-885d-765184c69aa8",
   "metadata": {},
   "source": [
    "The aim of this notebook is to break down and explain in details the code from [Keras documentation](https://keras.io/examples/timeseries/timeseries_anomaly_detection/) on Timeseries anomaly detection using an Autoencoder."
   ]
  },
  {
   "cell_type": "markdown",
   "id": "9011d852-40fa-4730-9569-25b4d52cb609",
   "metadata": {},
   "source": [
    "<hr style=\"border:2px solid gray\"> </hr>"
   ]
  },
  {
   "cell_type": "markdown",
   "id": "8166d00b-fba6-4d02-96e0-aac1de6f981f",
   "metadata": {},
   "source": [
    "### KERAS"
   ]
  },
  {
   "cell_type": "markdown",
   "id": "997776ba-d5f0-429e-ac1d-b345409e511c",
   "metadata": {},
   "source": [
    "Keras is deep learning API developed by Google for implementing neural networks. [3] It makes the implementation of the neural networks easier. Keras is written in Python and it is running on top of the machine learning platform Tenserflow. Tenserflow is an open-source software library for machine learning and artificial intelligence developed by Google Brain Team. [4] "
   ]
  },
  {
   "cell_type": "markdown",
   "id": "211c57e5-1851-44c1-be01-4bbcf9c49dca",
   "metadata": {},
   "source": [
    "> *Keras is: [2]*\n",
    "> - *Simple -- but not simplistic. Keras reduces developer cognitive load to free you to focus on the parts of the problem that really matter.*\n",
    "> - *Flexible -- Keras adopts the principle of progressive disclosure of complexity: simple workflows should be quick and easy, while arbitrarily advanced workflows should be possible via a clear path that builds upon what you've already learned.*\n",
    "> - *Powerful -- Keras provides industry-strength performance and scalability: it is used by organizations and companies including NASA, YouTube, or Waymo.*"
   ]
  },
  {
   "cell_type": "markdown",
   "id": "8fde7600-172e-4c4e-91da-30c202448fa1",
   "metadata": {},
   "source": []
  },
  {
   "cell_type": "markdown",
   "id": "64db7d06-c18d-43f6-a13a-975f1fdfa1e2",
   "metadata": {},
   "source": [
    "The core data structures of Keras are layers and models. The simplest type of model is the Sequential model, a linear stack of layers. [2]"
   ]
  },
  {
   "cell_type": "markdown",
   "id": "afc46c7d-9c32-451b-959c-32407a6ac951",
   "metadata": {},
   "source": [
    "##### WHAT IS AUTOENCODER?\n",
    "##### TIMESERIES?\n",
    "##### ANOMALY DETECTION IN MACHINE LEARNING?\n",
    "##### KERAS?"
   ]
  },
  {
   "cell_type": "markdown",
   "id": "6ab83e7a-0a4e-4497-99b5-1ff984e526ee",
   "metadata": {},
   "source": [
    "Anomaly detection involves identifying the differences, deviations, and exceptions from the norm in a dataset. It’s sometimes referred to as outlier detection (i.e., looking at a dataset to identify any outlying or unusual datapoints, data groups, or activity).[1]"
   ]
  },
  {
   "cell_type": "markdown",
   "id": "39501475-9ff0-4155-8b3f-612f8b3cce8f",
   "metadata": {},
   "source": [
    "***"
   ]
  },
  {
   "cell_type": "code",
   "execution_count": 1,
   "id": "8b82d092-f2b6-4609-aa43-9b909d512377",
   "metadata": {},
   "outputs": [],
   "source": [
    "# Numerical arrays.\n",
    "import numpy as np\n",
    "\n",
    "# Spreadsheet-like Data Frames.\n",
    "import pandas as pd\n",
    "\n",
    "# Neural networks.\n",
    "import tensorflow.keras as keras\n",
    "\n",
    "# Plotting\n",
    "import matplotlib.pyplot as plt"
   ]
  },
  {
   "cell_type": "markdown",
   "id": "a287cfab-8c95-4885-9228-480d98bbbc63",
   "metadata": {},
   "source": [
    "### DATA"
   ]
  },
  {
   "cell_type": "markdown",
   "id": "8f10330a-004a-4bd8-afe1-fa0bce696329",
   "metadata": {},
   "source": [
    "Explain the data: https://www.kaggle.com/datasets/boltzmannbrain/nab"
   ]
  },
  {
   "cell_type": "code",
   "execution_count": 2,
   "id": "eaff922b-3427-4666-9e0e-680f62ccaa8e",
   "metadata": {},
   "outputs": [],
   "source": [
    "# Root of URLs.\n",
    "root_url = 'https://raw.githubusercontent.com/numenta/NAB/master/data/'\n",
    "\n",
    "# Data file without anomaly.\n",
    "no_anomaly_url = root_url + 'artificialNoAnomaly/art_daily_small_noise.csv'\n",
    "\n",
    "# Data file with anomaly.\n",
    "with_anomaly_url = root_url + 'artificialWithAnomaly/art_daily_jumpsup.csv'"
   ]
  },
  {
   "cell_type": "markdown",
   "id": "205bdf60-4c93-4c6a-abeb-5ce7b7046393",
   "metadata": {},
   "source": [
    "##### TIMESERIES DATA WITHOUT ANOMALIES"
   ]
  },
  {
   "cell_type": "code",
   "execution_count": 3,
   "id": "a3caa1b1-2d05-459f-a36d-c354f46d1ff0",
   "metadata": {},
   "outputs": [
    {
     "data": {
      "text/plain": [
       "'https://raw.githubusercontent.com/numenta/NAB/master/data/artificialNoAnomaly/art_daily_small_noise.csv'"
      ]
     },
     "execution_count": 3,
     "metadata": {},
     "output_type": "execute_result"
    }
   ],
   "source": [
    "no_anomaly_url"
   ]
  },
  {
   "cell_type": "code",
   "execution_count": 4,
   "id": "4335ab34-5788-4ada-9986-fcfc045cbaed",
   "metadata": {},
   "outputs": [],
   "source": [
    "# \n",
    "df_small_noise = pd.read_csv(no_anomaly_url, parse_dates=True, index_col=\"timestamp\")"
   ]
  },
  {
   "cell_type": "code",
   "execution_count": 5,
   "id": "14c2b316-29b5-4724-8413-7973bb3d5e51",
   "metadata": {},
   "outputs": [
    {
     "data": {
      "text/html": [
       "<div>\n",
       "<style scoped>\n",
       "    .dataframe tbody tr th:only-of-type {\n",
       "        vertical-align: middle;\n",
       "    }\n",
       "\n",
       "    .dataframe tbody tr th {\n",
       "        vertical-align: top;\n",
       "    }\n",
       "\n",
       "    .dataframe thead th {\n",
       "        text-align: right;\n",
       "    }\n",
       "</style>\n",
       "<table border=\"1\" class=\"dataframe\">\n",
       "  <thead>\n",
       "    <tr style=\"text-align: right;\">\n",
       "      <th></th>\n",
       "      <th>value</th>\n",
       "    </tr>\n",
       "    <tr>\n",
       "      <th>timestamp</th>\n",
       "      <th></th>\n",
       "    </tr>\n",
       "  </thead>\n",
       "  <tbody>\n",
       "    <tr>\n",
       "      <th>2014-04-01 00:00:00</th>\n",
       "      <td>18.324919</td>\n",
       "    </tr>\n",
       "    <tr>\n",
       "      <th>2014-04-01 00:05:00</th>\n",
       "      <td>21.970327</td>\n",
       "    </tr>\n",
       "    <tr>\n",
       "      <th>2014-04-01 00:10:00</th>\n",
       "      <td>18.624806</td>\n",
       "    </tr>\n",
       "    <tr>\n",
       "      <th>2014-04-01 00:15:00</th>\n",
       "      <td>21.953684</td>\n",
       "    </tr>\n",
       "    <tr>\n",
       "      <th>2014-04-01 00:20:00</th>\n",
       "      <td>21.909120</td>\n",
       "    </tr>\n",
       "  </tbody>\n",
       "</table>\n",
       "</div>"
      ],
      "text/plain": [
       "                         value\n",
       "timestamp                     \n",
       "2014-04-01 00:00:00  18.324919\n",
       "2014-04-01 00:05:00  21.970327\n",
       "2014-04-01 00:10:00  18.624806\n",
       "2014-04-01 00:15:00  21.953684\n",
       "2014-04-01 00:20:00  21.909120"
      ]
     },
     "execution_count": 5,
     "metadata": {},
     "output_type": "execute_result"
    }
   ],
   "source": [
    "# \n",
    "df_small_noise.head()"
   ]
  },
  {
   "cell_type": "code",
   "execution_count": 6,
   "id": "a2b506a0-28da-4a5f-88bf-8f2118021cac",
   "metadata": {},
   "outputs": [
    {
     "data": {
      "text/html": [
       "<div>\n",
       "<style scoped>\n",
       "    .dataframe tbody tr th:only-of-type {\n",
       "        vertical-align: middle;\n",
       "    }\n",
       "\n",
       "    .dataframe tbody tr th {\n",
       "        vertical-align: top;\n",
       "    }\n",
       "\n",
       "    .dataframe thead th {\n",
       "        text-align: right;\n",
       "    }\n",
       "</style>\n",
       "<table border=\"1\" class=\"dataframe\">\n",
       "  <thead>\n",
       "    <tr style=\"text-align: right;\">\n",
       "      <th></th>\n",
       "      <th>value</th>\n",
       "    </tr>\n",
       "  </thead>\n",
       "  <tbody>\n",
       "    <tr>\n",
       "      <th>count</th>\n",
       "      <td>4032.000000</td>\n",
       "    </tr>\n",
       "    <tr>\n",
       "      <th>mean</th>\n",
       "      <td>42.438353</td>\n",
       "    </tr>\n",
       "    <tr>\n",
       "      <th>std</th>\n",
       "      <td>28.077122</td>\n",
       "    </tr>\n",
       "    <tr>\n",
       "      <th>min</th>\n",
       "      <td>18.000964</td>\n",
       "    </tr>\n",
       "    <tr>\n",
       "      <th>25%</th>\n",
       "      <td>19.841390</td>\n",
       "    </tr>\n",
       "    <tr>\n",
       "      <th>50%</th>\n",
       "      <td>21.608487</td>\n",
       "    </tr>\n",
       "    <tr>\n",
       "      <th>75%</th>\n",
       "      <td>75.450282</td>\n",
       "    </tr>\n",
       "    <tr>\n",
       "      <th>max</th>\n",
       "      <td>87.976128</td>\n",
       "    </tr>\n",
       "  </tbody>\n",
       "</table>\n",
       "</div>"
      ],
      "text/plain": [
       "             value\n",
       "count  4032.000000\n",
       "mean     42.438353\n",
       "std      28.077122\n",
       "min      18.000964\n",
       "25%      19.841390\n",
       "50%      21.608487\n",
       "75%      75.450282\n",
       "max      87.976128"
      ]
     },
     "execution_count": 6,
     "metadata": {},
     "output_type": "execute_result"
    }
   ],
   "source": [
    "# \n",
    "df_small_noise.describe()"
   ]
  },
  {
   "cell_type": "code",
   "execution_count": 7,
   "id": "a091132e-a72f-486d-899b-d5654f77c45d",
   "metadata": {},
   "outputs": [
    {
     "data": {
      "text/plain": [
       "18.3249185392"
      ]
     },
     "execution_count": 7,
     "metadata": {},
     "output_type": "execute_result"
    }
   ],
   "source": [
    "# \n",
    "df_small_noise.iloc[0]['value']"
   ]
  },
  {
   "cell_type": "code",
   "execution_count": 8,
   "id": "db19b92f-8276-4f42-919e-cc7b735aef0e",
   "metadata": {},
   "outputs": [
    {
     "data": {
      "text/plain": [
       "(4032, 1)"
      ]
     },
     "execution_count": 8,
     "metadata": {},
     "output_type": "execute_result"
    }
   ],
   "source": [
    "# \n",
    "df_small_noise.shape"
   ]
  },
  {
   "cell_type": "code",
   "execution_count": 9,
   "id": "3db1a066-dead-4bf7-bc06-1209f21b3c63",
   "metadata": {},
   "outputs": [
    {
     "data": {
      "image/png": "[encoded data removed]",
      "text/plain": [
       "<Figure size 720x288 with 1 Axes>"
      ]
     },
     "metadata": {
      "needs_background": "light"
     },
     "output_type": "display_data"
    }
   ],
   "source": [
    "# \n",
    "fig, ax = plt.subplots(figsize=(10,4))\n",
    "\n",
    "# Use pandas to plot data frame.\n",
    "df_small_noise.plot(legend=False, ax=ax);"
   ]
  },
  {
   "cell_type": "markdown",
   "id": "b3bacdce-8475-41ec-83ba-f743da00cd75",
   "metadata": {},
   "source": [
    "LOOK INTO BETTER LOOKING PLOTS"
   ]
  },
  {
   "cell_type": "markdown",
   "id": "73677369-deae-48a0-b3b2-66fa3dc15c53",
   "metadata": {},
   "source": [
    "##### TIMESERIES DATA WITH ANOMALIES"
   ]
  },
  {
   "cell_type": "code",
   "execution_count": 10,
   "id": "2658e787-1be9-42ca-b56a-98df6b5ba510",
   "metadata": {},
   "outputs": [
    {
     "data": {
      "text/plain": [
       "'https://raw.githubusercontent.com/numenta/NAB/master/data/artificialWithAnomaly/art_daily_jumpsup.csv'"
      ]
     },
     "execution_count": 10,
     "metadata": {},
     "output_type": "execute_result"
    }
   ],
   "source": [
    "with_anomaly_url"
   ]
  },
  {
   "cell_type": "code",
   "execution_count": 11,
   "id": "a7c45026-c330-48c1-ae88-fc80e68e4148",
   "metadata": {},
   "outputs": [],
   "source": [
    "#\n",
    "df_daily_jumpsup = pd.read_csv(with_anomaly_url, parse_dates=True, index_col=\"timestamp\")"
   ]
  },
  {
   "cell_type": "code",
   "execution_count": 12,
   "id": "713f47c8-2640-4c05-81b6-a5a597c04e1d",
   "metadata": {},
   "outputs": [
    {
     "data": {
      "text/html": [
       "<div>\n",
       "<style scoped>\n",
       "    .dataframe tbody tr th:only-of-type {\n",
       "        vertical-align: middle;\n",
       "    }\n",
       "\n",
       "    .dataframe tbody tr th {\n",
       "        vertical-align: top;\n",
       "    }\n",
       "\n",
       "    .dataframe thead th {\n",
       "        text-align: right;\n",
       "    }\n",
       "</style>\n",
       "<table border=\"1\" class=\"dataframe\">\n",
       "  <thead>\n",
       "    <tr style=\"text-align: right;\">\n",
       "      <th></th>\n",
       "      <th>value</th>\n",
       "    </tr>\n",
       "    <tr>\n",
       "      <th>timestamp</th>\n",
       "      <th></th>\n",
       "    </tr>\n",
       "  </thead>\n",
       "  <tbody>\n",
       "    <tr>\n",
       "      <th>2014-04-01 00:00:00</th>\n",
       "      <td>19.761252</td>\n",
       "    </tr>\n",
       "    <tr>\n",
       "      <th>2014-04-01 00:05:00</th>\n",
       "      <td>20.500833</td>\n",
       "    </tr>\n",
       "    <tr>\n",
       "      <th>2014-04-01 00:10:00</th>\n",
       "      <td>19.961641</td>\n",
       "    </tr>\n",
       "    <tr>\n",
       "      <th>2014-04-01 00:15:00</th>\n",
       "      <td>21.490266</td>\n",
       "    </tr>\n",
       "    <tr>\n",
       "      <th>2014-04-01 00:20:00</th>\n",
       "      <td>20.187739</td>\n",
       "    </tr>\n",
       "  </tbody>\n",
       "</table>\n",
       "</div>"
      ],
      "text/plain": [
       "                         value\n",
       "timestamp                     \n",
       "2014-04-01 00:00:00  19.761252\n",
       "2014-04-01 00:05:00  20.500833\n",
       "2014-04-01 00:10:00  19.961641\n",
       "2014-04-01 00:15:00  21.490266\n",
       "2014-04-01 00:20:00  20.187739"
      ]
     },
     "execution_count": 12,
     "metadata": {},
     "output_type": "execute_result"
    }
   ],
   "source": [
    "# \n",
    "df_daily_jumpsup.head()"
   ]
  },
  {
   "cell_type": "code",
   "execution_count": 13,
   "id": "2a789195-3341-444f-93a6-c923528441e6",
   "metadata": {},
   "outputs": [
    {
     "data": {
      "text/html": [
       "<div>\n",
       "<style scoped>\n",
       "    .dataframe tbody tr th:only-of-type {\n",
       "        vertical-align: middle;\n",
       "    }\n",
       "\n",
       "    .dataframe tbody tr th {\n",
       "        vertical-align: top;\n",
       "    }\n",
       "\n",
       "    .dataframe thead th {\n",
       "        text-align: right;\n",
       "    }\n",
       "</style>\n",
       "<table border=\"1\" class=\"dataframe\">\n",
       "  <thead>\n",
       "    <tr style=\"text-align: right;\">\n",
       "      <th></th>\n",
       "      <th>value</th>\n",
       "    </tr>\n",
       "  </thead>\n",
       "  <tbody>\n",
       "    <tr>\n",
       "      <th>count</th>\n",
       "      <td>4032.000000</td>\n",
       "    </tr>\n",
       "    <tr>\n",
       "      <th>mean</th>\n",
       "      <td>44.494254</td>\n",
       "    </tr>\n",
       "    <tr>\n",
       "      <th>std</th>\n",
       "      <td>32.432473</td>\n",
       "    </tr>\n",
       "    <tr>\n",
       "      <th>min</th>\n",
       "      <td>18.001010</td>\n",
       "    </tr>\n",
       "    <tr>\n",
       "      <th>25%</th>\n",
       "      <td>19.991382</td>\n",
       "    </tr>\n",
       "    <tr>\n",
       "      <th>50%</th>\n",
       "      <td>21.648503</td>\n",
       "    </tr>\n",
       "    <tr>\n",
       "      <th>75%</th>\n",
       "      <td>76.435943</td>\n",
       "    </tr>\n",
       "    <tr>\n",
       "      <th>max</th>\n",
       "      <td>164.947481</td>\n",
       "    </tr>\n",
       "  </tbody>\n",
       "</table>\n",
       "</div>"
      ],
      "text/plain": [
       "             value\n",
       "count  4032.000000\n",
       "mean     44.494254\n",
       "std      32.432473\n",
       "min      18.001010\n",
       "25%      19.991382\n",
       "50%      21.648503\n",
       "75%      76.435943\n",
       "max     164.947481"
      ]
     },
     "execution_count": 13,
     "metadata": {},
     "output_type": "execute_result"
    }
   ],
   "source": [
    "# \n",
    "df_daily_jumpsup.describe()"
   ]
  },
  {
   "cell_type": "code",
   "execution_count": 14,
   "id": "ade87046-79cb-4363-942c-38763f28efdc",
   "metadata": {},
   "outputs": [
    {
     "data": {
      "text/plain": [
       "19.761251903"
      ]
     },
     "execution_count": 14,
     "metadata": {},
     "output_type": "execute_result"
    }
   ],
   "source": [
    "# \n",
    "df_daily_jumpsup.iloc[0]['value']"
   ]
  },
  {
   "cell_type": "code",
   "execution_count": 15,
   "id": "16108ea0-f506-449e-9505-181065c526a8",
   "metadata": {},
   "outputs": [
    {
     "data": {
      "text/plain": [
       "(4032, 1)"
      ]
     },
     "execution_count": 15,
     "metadata": {},
     "output_type": "execute_result"
    }
   ],
   "source": [
    "# \n",
    "df_daily_jumpsup.shape"
   ]
  },
  {
   "cell_type": "code",
   "execution_count": 16,
   "id": "e2ea7dcc-3af0-4241-b294-8ebed3434944",
   "metadata": {},
   "outputs": [
    {
     "data": {
      "image/png": "[encoded data removed]",
      "text/plain": [
       "<Figure size 720x288 with 1 Axes>"
      ]
     },
     "metadata": {
      "needs_background": "light"
     },
     "output_type": "display_data"
    }
   ],
   "source": [
    "# \n",
    "fig, ax = plt.subplots(figsize=(10,4))\n",
    "\n",
    "# Use pandas to plot data frame.\n",
    "df_daily_jumpsup.plot(legend=False, ax=ax);"
   ]
  },
  {
   "cell_type": "code",
   "execution_count": 17,
   "id": "a0e4f67a-6fe4-435b-801f-3094f1fe93bc",
   "metadata": {},
   "outputs": [
    {
     "name": "stdout",
     "output_type": "stream",
     "text": [
      "                         value\n",
      "timestamp                     \n",
      "2014-04-01 00:00:00  18.324919\n",
      "2014-04-01 00:05:00  21.970327\n",
      "2014-04-01 00:10:00  18.624806\n",
      "2014-04-01 00:15:00  21.953684\n",
      "2014-04-01 00:20:00  21.909120\n",
      "                         value\n",
      "timestamp                     \n",
      "2014-04-01 00:00:00  19.761252\n",
      "2014-04-01 00:05:00  20.500833\n",
      "2014-04-01 00:10:00  19.961641\n",
      "2014-04-01 00:15:00  21.490266\n",
      "2014-04-01 00:20:00  20.187739\n"
     ]
    }
   ],
   "source": [
    "print(df_small_noise.head())\n",
    "\n",
    "print(df_daily_jumpsup.head())"
   ]
  },
  {
   "cell_type": "code",
   "execution_count": 18,
   "id": "371dde61-573a-4c48-80f9-a546e7a6ec00",
   "metadata": {},
   "outputs": [
    {
     "data": {
      "image/png": "[encoded data removed]",
      "text/plain": [
       "<Figure size 432x288 with 1 Axes>"
      ]
     },
     "metadata": {
      "needs_background": "light"
     },
     "output_type": "display_data"
    }
   ],
   "source": [
    "fig, ax = plt.subplots()\n",
    "df_small_noise.plot(legend=False, ax=ax)\n",
    "plt.show()"
   ]
  },
  {
   "cell_type": "code",
   "execution_count": 19,
   "id": "6857e61b-5f6a-4df5-9363-2db73ec520be",
   "metadata": {},
   "outputs": [
    {
     "data": {
      "image/png": "[encoded data removed]",
      "text/plain": [
       "<Figure size 432x288 with 1 Axes>"
      ]
     },
     "metadata": {
      "needs_background": "light"
     },
     "output_type": "display_data"
    }
   ],
   "source": [
    "fig, ax = plt.subplots()\n",
    "df_daily_jumpsup.plot(legend=False, ax=ax)\n",
    "plt.show()"
   ]
  },
  {
   "cell_type": "markdown",
   "id": "4814792c-97a5-455c-adcc-54e0c97ec289",
   "metadata": {},
   "source": [
    "### PREPARE TRAINING DATA"
   ]
  },
  {
   "cell_type": "code",
   "execution_count": 20,
   "id": "a9caee48-de1e-43ad-b97d-a1daabf3bcce",
   "metadata": {},
   "outputs": [
    {
     "data": {
      "text/plain": [
       "value    42.438353\n",
       "dtype: float64"
      ]
     },
     "execution_count": 20,
     "metadata": {},
     "output_type": "execute_result"
    }
   ],
   "source": [
    "# \n",
    "train_mean = df_small_noise.mean()\n",
    "train_mean"
   ]
  },
  {
   "cell_type": "code",
   "execution_count": 21,
   "id": "df007e89-a265-4709-9e3c-ff0172313d00",
   "metadata": {},
   "outputs": [
    {
     "data": {
      "text/plain": [
       "value    28.077122\n",
       "dtype: float64"
      ]
     },
     "execution_count": 21,
     "metadata": {},
     "output_type": "execute_result"
    }
   ],
   "source": [
    "# \n",
    "train_std = df_small_noise.std()\n",
    "train_std"
   ]
  },
  {
   "cell_type": "markdown",
   "id": "1c7e839a-10e7-47a9-8e5c-9658e36d914f",
   "metadata": {},
   "source": [
    "The idea is to take the value column and create a new df - Values that are equivalent to the original values, but with the mean of 0 and std of 1. That's done to standardize the effect."
   ]
  },
  {
   "cell_type": "code",
   "execution_count": 22,
   "id": "35895132-5722-4480-9f51-b874d9755d13",
   "metadata": {},
   "outputs": [],
   "source": [
    "# \n",
    "df_train_vals = (df_small_noise - train_mean) / train_std"
   ]
  },
  {
   "cell_type": "code",
   "execution_count": 23,
   "id": "0fc10248-5b2b-4db4-82dd-508d44167cea",
   "metadata": {},
   "outputs": [
    {
     "data": {
      "text/html": [
       "<div>\n",
       "<style scoped>\n",
       "    .dataframe tbody tr th:only-of-type {\n",
       "        vertical-align: middle;\n",
       "    }\n",
       "\n",
       "    .dataframe tbody tr th {\n",
       "        vertical-align: top;\n",
       "    }\n",
       "\n",
       "    .dataframe thead th {\n",
       "        text-align: right;\n",
       "    }\n",
       "</style>\n",
       "<table border=\"1\" class=\"dataframe\">\n",
       "  <thead>\n",
       "    <tr style=\"text-align: right;\">\n",
       "      <th></th>\n",
       "      <th>value</th>\n",
       "    </tr>\n",
       "    <tr>\n",
       "      <th>timestamp</th>\n",
       "      <th></th>\n",
       "    </tr>\n",
       "  </thead>\n",
       "  <tbody>\n",
       "    <tr>\n",
       "      <th>2014-04-01 00:00:00</th>\n",
       "      <td>-0.858829</td>\n",
       "    </tr>\n",
       "    <tr>\n",
       "      <th>2014-04-01 00:05:00</th>\n",
       "      <td>-0.728993</td>\n",
       "    </tr>\n",
       "    <tr>\n",
       "      <th>2014-04-01 00:10:00</th>\n",
       "      <td>-0.848148</td>\n",
       "    </tr>\n",
       "    <tr>\n",
       "      <th>2014-04-01 00:15:00</th>\n",
       "      <td>-0.729586</td>\n",
       "    </tr>\n",
       "    <tr>\n",
       "      <th>2014-04-01 00:20:00</th>\n",
       "      <td>-0.731173</td>\n",
       "    </tr>\n",
       "  </tbody>\n",
       "</table>\n",
       "</div>"
      ],
      "text/plain": [
       "                        value\n",
       "timestamp                    \n",
       "2014-04-01 00:00:00 -0.858829\n",
       "2014-04-01 00:05:00 -0.728993\n",
       "2014-04-01 00:10:00 -0.848148\n",
       "2014-04-01 00:15:00 -0.729586\n",
       "2014-04-01 00:20:00 -0.731173"
      ]
     },
     "execution_count": 23,
     "metadata": {},
     "output_type": "execute_result"
    }
   ],
   "source": [
    "# \n",
    "df_train_vals.head()"
   ]
  },
  {
   "cell_type": "code",
   "execution_count": 24,
   "id": "90c3c7ff-4601-47bd-b612-6af6e08daf44",
   "metadata": {},
   "outputs": [],
   "source": [
    "# \n",
    "df_small_noise['less_mean'] = df_small_noise['value'] - df_small_noise['value'].mean()\n",
    "df_small_noise['div_std'] = df_small_noise['less_mean'] / df_small_noise['value'].std()"
   ]
  },
  {
   "cell_type": "code",
   "execution_count": 25,
   "id": "6aa29d08-6202-4219-8961-b1daf38b9e21",
   "metadata": {},
   "outputs": [
    {
     "data": {
      "text/html": [
       "<div>\n",
       "<style scoped>\n",
       "    .dataframe tbody tr th:only-of-type {\n",
       "        vertical-align: middle;\n",
       "    }\n",
       "\n",
       "    .dataframe tbody tr th {\n",
       "        vertical-align: top;\n",
       "    }\n",
       "\n",
       "    .dataframe thead th {\n",
       "        text-align: right;\n",
       "    }\n",
       "</style>\n",
       "<table border=\"1\" class=\"dataframe\">\n",
       "  <thead>\n",
       "    <tr style=\"text-align: right;\">\n",
       "      <th></th>\n",
       "      <th>value</th>\n",
       "      <th>less_mean</th>\n",
       "      <th>div_std</th>\n",
       "    </tr>\n",
       "    <tr>\n",
       "      <th>timestamp</th>\n",
       "      <th></th>\n",
       "      <th></th>\n",
       "      <th></th>\n",
       "    </tr>\n",
       "  </thead>\n",
       "  <tbody>\n",
       "    <tr>\n",
       "      <th>2014-04-01 00:00:00</th>\n",
       "      <td>18.324919</td>\n",
       "      <td>-24.113435</td>\n",
       "      <td>-0.858829</td>\n",
       "    </tr>\n",
       "    <tr>\n",
       "      <th>2014-04-01 00:05:00</th>\n",
       "      <td>21.970327</td>\n",
       "      <td>-20.468026</td>\n",
       "      <td>-0.728993</td>\n",
       "    </tr>\n",
       "    <tr>\n",
       "      <th>2014-04-01 00:10:00</th>\n",
       "      <td>18.624806</td>\n",
       "      <td>-23.813547</td>\n",
       "      <td>-0.848148</td>\n",
       "    </tr>\n",
       "    <tr>\n",
       "      <th>2014-04-01 00:15:00</th>\n",
       "      <td>21.953684</td>\n",
       "      <td>-20.484669</td>\n",
       "      <td>-0.729586</td>\n",
       "    </tr>\n",
       "    <tr>\n",
       "      <th>2014-04-01 00:20:00</th>\n",
       "      <td>21.909120</td>\n",
       "      <td>-20.529234</td>\n",
       "      <td>-0.731173</td>\n",
       "    </tr>\n",
       "    <tr>\n",
       "      <th>...</th>\n",
       "      <td>...</td>\n",
       "      <td>...</td>\n",
       "      <td>...</td>\n",
       "    </tr>\n",
       "    <tr>\n",
       "      <th>2014-04-14 23:35:00</th>\n",
       "      <td>20.211195</td>\n",
       "      <td>-22.227159</td>\n",
       "      <td>-0.791647</td>\n",
       "    </tr>\n",
       "    <tr>\n",
       "      <th>2014-04-14 23:40:00</th>\n",
       "      <td>20.531041</td>\n",
       "      <td>-21.907313</td>\n",
       "      <td>-0.780255</td>\n",
       "    </tr>\n",
       "    <tr>\n",
       "      <th>2014-04-14 23:45:00</th>\n",
       "      <td>19.032127</td>\n",
       "      <td>-23.406226</td>\n",
       "      <td>-0.833640</td>\n",
       "    </tr>\n",
       "    <tr>\n",
       "      <th>2014-04-14 23:50:00</th>\n",
       "      <td>21.798801</td>\n",
       "      <td>-20.639552</td>\n",
       "      <td>-0.735102</td>\n",
       "    </tr>\n",
       "    <tr>\n",
       "      <th>2014-04-14 23:55:00</th>\n",
       "      <td>18.682620</td>\n",
       "      <td>-23.755733</td>\n",
       "      <td>-0.846089</td>\n",
       "    </tr>\n",
       "  </tbody>\n",
       "</table>\n",
       "<p>4032 rows × 3 columns</p>\n",
       "</div>"
      ],
      "text/plain": [
       "                         value  less_mean   div_std\n",
       "timestamp                                          \n",
       "2014-04-01 00:00:00  18.324919 -24.113435 -0.858829\n",
       "2014-04-01 00:05:00  21.970327 -20.468026 -0.728993\n",
       "2014-04-01 00:10:00  18.624806 -23.813547 -0.848148\n",
       "2014-04-01 00:15:00  21.953684 -20.484669 -0.729586\n",
       "2014-04-01 00:20:00  21.909120 -20.529234 -0.731173\n",
       "...                        ...        ...       ...\n",
       "2014-04-14 23:35:00  20.211195 -22.227159 -0.791647\n",
       "2014-04-14 23:40:00  20.531041 -21.907313 -0.780255\n",
       "2014-04-14 23:45:00  19.032127 -23.406226 -0.833640\n",
       "2014-04-14 23:50:00  21.798801 -20.639552 -0.735102\n",
       "2014-04-14 23:55:00  18.682620 -23.755733 -0.846089\n",
       "\n",
       "[4032 rows x 3 columns]"
      ]
     },
     "execution_count": 25,
     "metadata": {},
     "output_type": "execute_result"
    }
   ],
   "source": [
    "df_small_noise"
   ]
  },
  {
   "cell_type": "code",
   "execution_count": 26,
   "id": "7f34bac3-b888-440c-b205-326da51e9882",
   "metadata": {},
   "outputs": [
    {
     "data": {
      "text/plain": [
       "(42.438353335806646, -7.342627387941552e-14, -2.616541242931684e-15)"
      ]
     },
     "execution_count": 26,
     "metadata": {},
     "output_type": "execute_result"
    }
   ],
   "source": [
    "df_small_noise['value'].mean(), df_small_noise['less_mean'].mean(), df_small_noise['div_std'].mean()"
   ]
  },
  {
   "cell_type": "code",
   "execution_count": 27,
   "id": "9bd3a38a-8082-44e8-8830-299866952b43",
   "metadata": {},
   "outputs": [
    {
     "data": {
      "text/plain": [
       "(28.077122281262515, 28.077122281262508, 1.0000000000000018)"
      ]
     },
     "execution_count": 27,
     "metadata": {},
     "output_type": "execute_result"
    }
   ],
   "source": [
    "df_small_noise['value'].std(), df_small_noise['less_mean'].std(), df_small_noise['div_std'].std()"
   ]
  },
  {
   "cell_type": "code",
   "execution_count": 28,
   "id": "44be0cc2-f8db-44a3-ac79-243ce90015c7",
   "metadata": {},
   "outputs": [
    {
     "data": {
      "image/png": "[encoded data removed]",
      "text/plain": [
       "<Figure size 720x288 with 1 Axes>"
      ]
     },
     "metadata": {
      "needs_background": "light"
     },
     "output_type": "display_data"
    }
   ],
   "source": [
    "# \n",
    "fig, ax = plt.subplots(figsize=(10,4))\n",
    "\n",
    "# Use pandas to plot data frame.\n",
    "df_train_vals.plot(legend=False, ax=ax);"
   ]
  },
  {
   "cell_type": "code",
   "execution_count": 29,
   "id": "7b7b2970-2d2f-4e5d-9a95-c7694333d63e",
   "metadata": {},
   "outputs": [
    {
     "name": "stdout",
     "output_type": "stream",
     "text": [
      "Number of training samples: 4032\n"
     ]
    }
   ],
   "source": [
    "print(\"Number of training samples:\", len(df_train_vals))"
   ]
  },
  {
   "cell_type": "code",
   "execution_count": 30,
   "id": "64aa5e48-7800-4de6-8ce7-87cb0397c326",
   "metadata": {},
   "outputs": [],
   "source": [
    "# \n",
    "window_size = 288"
   ]
  },
  {
   "cell_type": "markdown",
   "id": "098d84ee-2a4c-41bb-a057-a4ff9219ff14",
   "metadata": {},
   "source": [
    "explain window"
   ]
  },
  {
   "cell_type": "code",
   "execution_count": 31,
   "id": "cd49ca66-06fd-42a4-9d0c-1617a410ab62",
   "metadata": {},
   "outputs": [
    {
     "data": {
      "text/plain": [
       "12"
      ]
     },
     "execution_count": 31,
     "metadata": {},
     "output_type": "execute_result"
    }
   ],
   "source": [
    "# Window list example.\n",
    "L = [1, 1, 2, 4, 5, 6, 7, 1, 2, 3, 4, 5]\n",
    "# Example window size.\n",
    "win_size = 3\n",
    "# Length of L.\n",
    "len(L)"
   ]
  },
  {
   "cell_type": "code",
   "execution_count": 32,
   "id": "8cdd001a-30dd-4825-bebf-a6917a7b8306",
   "metadata": {},
   "outputs": [
    {
     "data": {
      "text/plain": [
       "10"
      ]
     },
     "execution_count": 32,
     "metadata": {},
     "output_type": "execute_result"
    }
   ],
   "source": [
    "# Number of windows from L.\n",
    "len(L) - (win_size - 1)"
   ]
  },
  {
   "cell_type": "code",
   "execution_count": 33,
   "id": "7a249fb9-4f75-4bd6-92a2-a8d790a0319d",
   "metadata": {},
   "outputs": [
    {
     "data": {
      "text/plain": [
       "10"
      ]
     },
     "execution_count": 33,
     "metadata": {},
     "output_type": "execute_result"
    }
   ],
   "source": [
    "# Remove brackets.\n",
    "len(L) - win_size + 1"
   ]
  },
  {
   "cell_type": "code",
   "execution_count": 34,
   "id": "a673e55b-72c0-4c20-a01f-ddb72577fe99",
   "metadata": {},
   "outputs": [
    {
     "name": "stdout",
     "output_type": "stream",
     "text": [
      "[1, 1, 2]\n",
      "[1, 2, 4]\n",
      "[2, 4, 5]\n",
      "[4, 5, 6]\n",
      "[5, 6, 7]\n",
      "[6, 7, 1]\n",
      "[7, 1, 2]\n",
      "[1, 2, 3]\n",
      "[2, 3, 4]\n",
      "[3, 4, 5]\n"
     ]
    }
   ],
   "source": [
    "# Print the windows.\n",
    "for i in range(len(L) - win_size + 1):\n",
    "    print(L[i:i + win_size])"
   ]
  },
  {
   "cell_type": "code",
   "execution_count": 35,
   "id": "0a4f1acc-6da2-4619-98a8-1c6cccba814b",
   "metadata": {},
   "outputs": [
    {
     "data": {
      "text/plain": [
       "[[1, 1, 2],\n",
       " [1, 2, 4],\n",
       " [2, 4, 5],\n",
       " [4, 5, 6],\n",
       " [5, 6, 7],\n",
       " [6, 7, 1],\n",
       " [7, 1, 2],\n",
       " [1, 2, 3],\n",
       " [2, 3, 4],\n",
       " [3, 4, 5]]"
      ]
     },
     "execution_count": 35,
     "metadata": {},
     "output_type": "execute_result"
    }
   ],
   "source": [
    "# For accumulating the windows.\n",
    "wins = []\n",
    "\n",
    "# Generate the windows\n",
    "for i in range(len(L) - win_size + 1):\n",
    "    wins.append(L[i:i + win_size])\n",
    "\n",
    "wins"
   ]
  },
  {
   "cell_type": "code",
   "execution_count": 36,
   "id": "f3910ba0-5d1d-41a4-af06-2e2e7c8d9376",
   "metadata": {},
   "outputs": [
    {
     "data": {
      "text/plain": [
       "array([[1, 1, 2],\n",
       "       [1, 2, 4],\n",
       "       [2, 4, 5],\n",
       "       [4, 5, 6],\n",
       "       [5, 6, 7],\n",
       "       [6, 7, 1],\n",
       "       [7, 1, 2],\n",
       "       [1, 2, 3],\n",
       "       [2, 3, 4],\n",
       "       [3, 4, 5]])"
      ]
     },
     "execution_count": 36,
     "metadata": {},
     "output_type": "execute_result"
    }
   ],
   "source": [
    "# Create a 2D numpy array from wins.\n",
    "np.stack(wins)"
   ]
  },
  {
   "cell_type": "code",
   "execution_count": null,
   "id": "0734f449-bed0-4114-bc5d-a6846dfb549d",
   "metadata": {},
   "outputs": [],
   "source": []
  },
  {
   "cell_type": "code",
   "execution_count": 37,
   "id": "f511b384-987c-4453-be16-be28d6bbc232",
   "metadata": {},
   "outputs": [],
   "source": [
    "# Generated training sequences for use in the model.\n",
    "def windows(values, time_steps=window_size):\n",
    "    # Empty list\n",
    "    output = []\n",
    "    # Loop through all the possible windows\n",
    "    for i in range(len(values) - time_steps + 1):\n",
    "        # Append the window to the list\n",
    "        output.append(values[i : (i + time_steps)])\n",
    "    # Stac the result\n",
    "    return np.stack(output)"
   ]
  },
  {
   "cell_type": "code",
   "execution_count": 38,
   "id": "7d3e6226-c4fa-40b6-abf4-7f41fa0d5801",
   "metadata": {},
   "outputs": [],
   "source": [
    "# \n",
    "x_train = windows(df_train_vals)"
   ]
  },
  {
   "cell_type": "code",
   "execution_count": 39,
   "id": "33cf3f7a-a3d0-4e03-b86f-04fd60bf1ab6",
   "metadata": {},
   "outputs": [
    {
     "data": {
      "text/plain": [
       "(array([-0.85882857]), array([-0.8460886]))"
      ]
     },
     "execution_count": 39,
     "metadata": {},
     "output_type": "execute_result"
    }
   ],
   "source": [
    "# \n",
    "x_train[0][0], x_train[-1][-1]"
   ]
  },
  {
   "cell_type": "code",
   "execution_count": 40,
   "id": "14993df4-815b-4203-a0fb-e4eb7c33c0f3",
   "metadata": {},
   "outputs": [
    {
     "data": {
      "text/plain": [
       "(value   -0.858829\n",
       " Name: 2014-04-01 00:00:00, dtype: float64,\n",
       " value   -0.846089\n",
       " Name: 2014-04-14 23:55:00, dtype: float64)"
      ]
     },
     "execution_count": 40,
     "metadata": {},
     "output_type": "execute_result"
    }
   ],
   "source": [
    "# \n",
    "df_train_vals.iloc[0], df_train_vals.iloc[-1]"
   ]
  },
  {
   "cell_type": "code",
   "execution_count": 41,
   "id": "5794b2d8-04ad-4d17-9631-859098797f92",
   "metadata": {},
   "outputs": [
    {
     "name": "stdout",
     "output_type": "stream",
     "text": [
      "Training input shape:  (3745, 288, 1)\n"
     ]
    }
   ],
   "source": [
    "print(\"Training input shape: \", x_train.shape)"
   ]
  },
  {
   "cell_type": "code",
   "execution_count": null,
   "id": "f7dd4e7f-8424-48cf-93f3-4ec602a44c14",
   "metadata": {},
   "outputs": [],
   "source": []
  },
  {
   "cell_type": "code",
   "execution_count": null,
   "id": "a62f9e39-51da-4843-89ab-333f67a38bf3",
   "metadata": {},
   "outputs": [],
   "source": []
  },
  {
   "cell_type": "markdown",
   "id": "158f6786-294c-403f-aead-635dc247fd42",
   "metadata": {},
   "source": [
    "### BUILD A MODEL"
   ]
  },
  {
   "cell_type": "code",
   "execution_count": 42,
   "id": "50788c6b-86ac-4cc9-acd9-baca14936833",
   "metadata": {},
   "outputs": [],
   "source": [
    "#\n",
    "layers = [\n",
    "    # https://keras.io/api/layers/core_layers/input/\n",
    "    keras.layers.Input(shape=(x_train.shape[1], x_train.shape[2])),\n",
    "    # https://keras.io/api/layers/convolution_layers/convolution1d/\n",
    "    keras.layers.Conv1D(\n",
    "      filters=32, kernel_size=7, padding=\"same\", strides=2, activation=\"relu\"),\n",
    "    # https://keras.io/api/layers/regularization_layers/dropout/\n",
    "    keras.layers.Dropout(rate=0.2),\n",
    "    #\n",
    "    keras.layers.Conv1D(\n",
    "      filters=16, kernel_size=7, padding=\"same\", strides=2, activation=\"relu\"),\n",
    "    #\n",
    "    keras.layers.Conv1DTranspose(\n",
    "      filters=16, kernel_size=7, padding=\"same\", strides=2, activation=\"relu\"),\n",
    "    #\n",
    "    keras.layers.Dropout(rate=0.2),\n",
    "    #\n",
    "    keras.layers.Conv1DTranspose(\n",
    "      filters=32, kernel_size=7, padding=\"same\", strides=2, activation=\"relu\"),\n",
    "    #\n",
    "    keras.layers.Conv1DTranspose(filters=1, kernel_size=7, padding=\"same\"),\n",
    "]"
   ]
  },
  {
   "cell_type": "code",
   "execution_count": 43,
   "id": "e512e8b5-4105-42ab-8ded-c24605a764d6",
   "metadata": {},
   "outputs": [],
   "source": [
    "#\n",
    "model = keras.Sequential(layers)"
   ]
  },
  {
   "cell_type": "code",
   "execution_count": 44,
   "id": "c8cffd6a-0bc0-4067-8101-b086cc148e29",
   "metadata": {},
   "outputs": [],
   "source": [
    "# \n",
    "optimizer = keras.optimizers.Adam(learning_rate=0.001)"
   ]
  },
  {
   "cell_type": "code",
   "execution_count": 45,
   "id": "a88de70e-1ab5-4dba-a662-2ec2770f6659",
   "metadata": {},
   "outputs": [],
   "source": [
    "# \n",
    "model.compile(optimizer=optimizer, loss=\"mse\")"
   ]
  },
  {
   "cell_type": "code",
   "execution_count": 46,
   "id": "d5eef460-4182-4f61-908a-40283c6793e4",
   "metadata": {},
   "outputs": [
    {
     "name": "stdout",
     "output_type": "stream",
     "text": [
      "Model: \"sequential\"\n",
      "_________________________________________________________________\n",
      " Layer (type)                Output Shape              Param #   \n",
      "=================================================================\n",
      " conv1d (Conv1D)             (None, 144, 32)           256       \n",
      "                                                                 \n",
      " dropout (Dropout)           (None, 144, 32)           0         \n",
      "                                                                 \n",
      " conv1d_1 (Conv1D)           (None, 72, 16)            3600      \n",
      "                                                                 \n",
      " conv1d_transpose (Conv1DTra  (None, 144, 16)          1808      \n",
      " nspose)                                                         \n",
      "                                                                 \n",
      " dropout_1 (Dropout)         (None, 144, 16)           0         \n",
      "                                                                 \n",
      " conv1d_transpose_1 (Conv1DT  (None, 288, 32)          3616      \n",
      " ranspose)                                                       \n",
      "                                                                 \n",
      " conv1d_transpose_2 (Conv1DT  (None, 288, 1)           225       \n",
      " ranspose)                                                       \n",
      "                                                                 \n",
      "=================================================================\n",
      "Total params: 9,505\n",
      "Trainable params: 9,505\n",
      "Non-trainable params: 0\n",
      "_________________________________________________________________\n"
     ]
    }
   ],
   "source": [
    "model.summary()"
   ]
  },
  {
   "cell_type": "markdown",
   "id": "84e2d2eb-c778-43ab-873f-1c74e701e8e7",
   "metadata": {},
   "source": [
    "### TRAIN THE MODEL"
   ]
  },
  {
   "cell_type": "code",
   "execution_count": 47,
   "id": "d4b9b83f-35ec-4a12-8a22-8f51268a5db6",
   "metadata": {},
   "outputs": [
    {
     "name": "stdout",
     "output_type": "stream",
     "text": [
      "Epoch 1/50\n",
      "27/27 [==============================] - 3s 78ms/step - loss: 0.4727 - val_loss: 0.0905\n",
      "Epoch 2/50\n",
      "27/27 [==============================] - 2s 64ms/step - loss: 0.0750 - val_loss: 0.0428\n",
      "Epoch 3/50\n",
      "27/27 [==============================] - 2s 64ms/step - loss: 0.0586 - val_loss: 0.0403\n",
      "Epoch 4/50\n",
      "27/27 [==============================] - 2s 64ms/step - loss: 0.0502 - val_loss: 0.0331\n",
      "Epoch 5/50\n",
      "27/27 [==============================] - 2s 65ms/step - loss: 0.0428 - val_loss: 0.0304\n",
      "Epoch 6/50\n",
      "27/27 [==============================] - 2s 63ms/step - loss: 0.0375 - val_loss: 0.0278\n",
      "Epoch 7/50\n",
      "27/27 [==============================] - 2s 63ms/step - loss: 0.0338 - val_loss: 0.0276\n",
      "Epoch 8/50\n",
      "27/27 [==============================] - 2s 62ms/step - loss: 0.0309 - val_loss: 0.0272\n",
      "Epoch 9/50\n",
      "27/27 [==============================] - 2s 64ms/step - loss: 0.0287 - val_loss: 0.0275\n",
      "Epoch 10/50\n",
      "27/27 [==============================] - 2s 64ms/step - loss: 0.0267 - val_loss: 0.0283\n",
      "Epoch 11/50\n",
      "27/27 [==============================] - 2s 63ms/step - loss: 0.0252 - val_loss: 0.0287\n",
      "Epoch 12/50\n",
      "27/27 [==============================] - 2s 63ms/step - loss: 0.0239 - val_loss: 0.0274\n",
      "Epoch 13/50\n",
      "27/27 [==============================] - 2s 66ms/step - loss: 0.0227 - val_loss: 0.0272\n",
      "Epoch 14/50\n",
      "27/27 [==============================] - 2s 62ms/step - loss: 0.0217 - val_loss: 0.0268\n",
      "Epoch 15/50\n",
      "27/27 [==============================] - 2s 62ms/step - loss: 0.0207 - val_loss: 0.0260\n",
      "Epoch 16/50\n",
      "27/27 [==============================] - 2s 62ms/step - loss: 0.0199 - val_loss: 0.0252\n",
      "Epoch 17/50\n",
      "27/27 [==============================] - 2s 65ms/step - loss: 0.0192 - val_loss: 0.0251\n",
      "Epoch 18/50\n",
      "27/27 [==============================] - 2s 64ms/step - loss: 0.0185 - val_loss: 0.0232\n",
      "Epoch 19/50\n",
      "27/27 [==============================] - 2s 63ms/step - loss: 0.0177 - val_loss: 0.0230\n",
      "Epoch 20/50\n",
      "27/27 [==============================] - 2s 63ms/step - loss: 0.0171 - val_loss: 0.0204\n",
      "Epoch 21/50\n",
      "27/27 [==============================] - 2s 64ms/step - loss: 0.0166 - val_loss: 0.0203\n",
      "Epoch 22/50\n",
      "27/27 [==============================] - 2s 63ms/step - loss: 0.0160 - val_loss: 0.0189\n",
      "Epoch 23/50\n",
      "27/27 [==============================] - 2s 68ms/step - loss: 0.0154 - val_loss: 0.0178\n",
      "Epoch 24/50\n",
      "27/27 [==============================] - 2s 62ms/step - loss: 0.0150 - val_loss: 0.0170\n",
      "Epoch 25/50\n",
      "27/27 [==============================] - 2s 61ms/step - loss: 0.0144 - val_loss: 0.0166\n",
      "Epoch 26/50\n",
      "27/27 [==============================] - 2s 62ms/step - loss: 0.0140 - val_loss: 0.0157\n",
      "Epoch 27/50\n",
      "27/27 [==============================] - 2s 63ms/step - loss: 0.0137 - val_loss: 0.0153\n",
      "Epoch 28/50\n",
      "27/27 [==============================] - 2s 64ms/step - loss: 0.0132 - val_loss: 0.0147\n",
      "Epoch 29/50\n",
      "27/27 [==============================] - 2s 64ms/step - loss: 0.0129 - val_loss: 0.0144\n",
      "Epoch 30/50\n",
      "27/27 [==============================] - 2s 66ms/step - loss: 0.0126 - val_loss: 0.0133\n",
      "Epoch 31/50\n",
      "27/27 [==============================] - 2s 62ms/step - loss: 0.0122 - val_loss: 0.0133\n",
      "Epoch 32/50\n",
      "27/27 [==============================] - 2s 62ms/step - loss: 0.0118 - val_loss: 0.0126\n",
      "Epoch 33/50\n",
      "27/27 [==============================] - 2s 62ms/step - loss: 0.0115 - val_loss: 0.0126\n",
      "Epoch 34/50\n",
      "27/27 [==============================] - 2s 64ms/step - loss: 0.0112 - val_loss: 0.0118\n",
      "Epoch 35/50\n",
      "27/27 [==============================] - 2s 67ms/step - loss: 0.0110 - val_loss: 0.0113\n",
      "Epoch 36/50\n",
      "27/27 [==============================] - 2s 61ms/step - loss: 0.0106 - val_loss: 0.0109\n",
      "Epoch 37/50\n",
      "27/27 [==============================] - 2s 61ms/step - loss: 0.0103 - val_loss: 0.0105\n",
      "Epoch 38/50\n",
      "27/27 [==============================] - 2s 61ms/step - loss: 0.0100 - val_loss: 0.0097\n",
      "Epoch 39/50\n",
      "27/27 [==============================] - 2s 62ms/step - loss: 0.0098 - val_loss: 0.0096\n",
      "Epoch 40/50\n",
      "27/27 [==============================] - 2s 63ms/step - loss: 0.0095 - val_loss: 0.0087\n",
      "Epoch 41/50\n",
      "27/27 [==============================] - 2s 63ms/step - loss: 0.0093 - val_loss: 0.0085\n",
      "Epoch 42/50\n",
      "27/27 [==============================] - 2s 61ms/step - loss: 0.0091 - val_loss: 0.0087\n",
      "Epoch 43/50\n",
      "27/27 [==============================] - 2s 77ms/step - loss: 0.0089 - val_loss: 0.0084\n",
      "Epoch 44/50\n",
      "27/27 [==============================] - 2s 72ms/step - loss: 0.0087 - val_loss: 0.0079\n",
      "Epoch 45/50\n",
      "27/27 [==============================] - 3s 95ms/step - loss: 0.0085 - val_loss: 0.0076\n",
      "Epoch 46/50\n",
      "27/27 [==============================] - 2s 71ms/step - loss: 0.0083 - val_loss: 0.0072\n",
      "Epoch 47/50\n",
      "27/27 [==============================] - 2s 67ms/step - loss: 0.0082 - val_loss: 0.0073\n",
      "Epoch 48/50\n",
      "27/27 [==============================] - 2s 81ms/step - loss: 0.0080 - val_loss: 0.0072\n",
      "Epoch 49/50\n",
      "27/27 [==============================] - 2s 83ms/step - loss: 0.0078 - val_loss: 0.0065\n",
      "Epoch 50/50\n",
      "27/27 [==============================] - 2s 81ms/step - loss: 0.0076 - val_loss: 0.0067\n"
     ]
    }
   ],
   "source": [
    "history = model.fit(\n",
    "    x_train,\n",
    "    x_train,\n",
    "    epochs=50,\n",
    "    batch_size=128,\n",
    "    validation_split=0.1,\n",
    "    callbacks=[\n",
    "        keras.callbacks.EarlyStopping(monitor=\"val_loss\", patience=5, mode=\"min\")\n",
    "    ],\n",
    ")"
   ]
  },
  {
   "cell_type": "code",
   "execution_count": 48,
   "id": "70f7b891-3b2f-4b49-be4b-9e36cda92852",
   "metadata": {},
   "outputs": [
    {
     "data": {
      "text/plain": [
       "[0.47270917892456055,\n",
       " 0.07500074058771133,\n",
       " 0.058646343648433685,\n",
       " 0.05020099878311157,\n",
       " 0.04282684624195099,\n",
       " 0.03753195330500603,\n",
       " 0.033796101808547974,\n",
       " 0.030887223780155182,\n",
       " 0.02865874208509922,\n",
       " 0.026683051139116287,\n",
       " 0.025186259299516678,\n",
       " 0.023868046700954437,\n",
       " 0.022674409672617912,\n",
       " 0.02170013263821602,\n",
       " 0.020711438730359077,\n",
       " 0.01985378935933113,\n",
       " 0.019203176721930504,\n",
       " 0.018492605537176132,\n",
       " 0.017739443108439445,\n",
       " 0.017117571085691452,\n",
       " 0.016582941636443138,\n",
       " 0.015956206247210503,\n",
       " 0.015417602844536304,\n",
       " 0.014993421733379364,\n",
       " 0.014420703053474426,\n",
       " 0.013995868153870106,\n",
       " 0.013715658336877823,\n",
       " 0.013247992843389511,\n",
       " 0.012900332920253277,\n",
       " 0.012571736238896847,\n",
       " 0.012188988737761974,\n",
       " 0.011849537491798401,\n",
       " 0.011536618694663048,\n",
       " 0.01121385395526886,\n",
       " 0.010959163308143616,\n",
       " 0.010610549710690975,\n",
       " 0.01034010574221611,\n",
       " 0.010042938403785229,\n",
       " 0.009835397824645042,\n",
       " 0.009535690769553185,\n",
       " 0.009295855648815632,\n",
       " 0.009105089120566845,\n",
       " 0.008884596638381481,\n",
       " 0.00866288598626852,\n",
       " 0.008524934761226177,\n",
       " 0.00829143263399601,\n",
       " 0.008157930336892605,\n",
       " 0.007975905202329159,\n",
       " 0.007801014930009842,\n",
       " 0.007626484148204327]"
      ]
     },
     "execution_count": 48,
     "metadata": {},
     "output_type": "execute_result"
    }
   ],
   "source": [
    "history.history[\"loss\"]"
   ]
  },
  {
   "cell_type": "code",
   "execution_count": 49,
   "id": "3107ea3e-6605-477e-8e24-3718bce96295",
   "metadata": {},
   "outputs": [
    {
     "data": {
      "text/plain": [
       "[0.09045051038265228,\n",
       " 0.04281812161207199,\n",
       " 0.04033615067601204,\n",
       " 0.03311171382665634,\n",
       " 0.030358627438545227,\n",
       " 0.027835533022880554,\n",
       " 0.027565067633986473,\n",
       " 0.027198193594813347,\n",
       " 0.027485443279147148,\n",
       " 0.02825663797557354,\n",
       " 0.028738362714648247,\n",
       " 0.02737358585000038,\n",
       " 0.02715964801609516,\n",
       " 0.026801010593771935,\n",
       " 0.026034293696284294,\n",
       " 0.025193167850375175,\n",
       " 0.02514844760298729,\n",
       " 0.023219583556056023,\n",
       " 0.023044755682349205,\n",
       " 0.02038407139480114,\n",
       " 0.02030605636537075,\n",
       " 0.01887618750333786,\n",
       " 0.01779397390782833,\n",
       " 0.017008721828460693,\n",
       " 0.016576869413256645,\n",
       " 0.015650762245059013,\n",
       " 0.015317000448703766,\n",
       " 0.014680576510727406,\n",
       " 0.01436438225209713,\n",
       " 0.013294960372149944,\n",
       " 0.013314622454345226,\n",
       " 0.012601877562701702,\n",
       " 0.012642578221857548,\n",
       " 0.011755228973925114,\n",
       " 0.011329240165650845,\n",
       " 0.010865499265491962,\n",
       " 0.01045467983931303,\n",
       " 0.009744157083332539,\n",
       " 0.009566699154675007,\n",
       " 0.008748156949877739,\n",
       " 0.008455037139356136,\n",
       " 0.008689428679645061,\n",
       " 0.008389454334974289,\n",
       " 0.007922119460999966,\n",
       " 0.007595524657517672,\n",
       " 0.007215449586510658,\n",
       " 0.007265868596732616,\n",
       " 0.007174631580710411,\n",
       " 0.006541837006807327,\n",
       " 0.006692622322589159]"
      ]
     },
     "execution_count": 49,
     "metadata": {},
     "output_type": "execute_result"
    }
   ],
   "source": [
    "history.history[\"val_loss\"]"
   ]
  },
  {
   "cell_type": "markdown",
   "id": "9dee1a04-e8fb-4252-95f7-f5d4eb01725d",
   "metadata": {},
   "source": [
    "explain history object"
   ]
  },
  {
   "cell_type": "code",
   "execution_count": 50,
   "id": "73be892e-2df7-4efd-9d81-b98f3572166f",
   "metadata": {},
   "outputs": [
    {
     "data": {
      "image/png": "[encoded data removed]",
      "text/plain": [
       "<Figure size 720x432 with 1 Axes>"
      ]
     },
     "metadata": {
      "needs_background": "light"
     },
     "output_type": "display_data"
    }
   ],
   "source": [
    "# \n",
    "fig, ax = plt.subplots(figsize=(10, 6))\n",
    "# \n",
    "ax.plot(history.history[\"loss\"], label=\"Training Loss\")\n",
    "# \n",
    "ax.plot(history.history[\"val_loss\"], label=\"Validation Loss\")\n",
    "# \n",
    "ax.legend();"
   ]
  },
  {
   "cell_type": "markdown",
   "id": "db8e2cb1-fb2c-4f4d-b137-6aca88880569",
   "metadata": {},
   "source": [
    "### ANOMALY DETECTION"
   ]
  },
  {
   "cell_type": "code",
   "execution_count": 51,
   "id": "1be3b573-1478-4b72-a7bb-a045bfb8230a",
   "metadata": {},
   "outputs": [
    {
     "name": "stdout",
     "output_type": "stream",
     "text": [
      "118/118 [==============================] - 1s 9ms/step\n"
     ]
    }
   ],
   "source": [
    "# Get train MAE loss.\n",
    "x_train_pred = model.predict(x_train)"
   ]
  },
  {
   "cell_type": "code",
   "execution_count": 52,
   "id": "e36c0c3c-fb97-468b-8569-d81aa0bb5550",
   "metadata": {},
   "outputs": [],
   "source": [
    "# Calculate loss...\n",
    "train_mae_loss = np.mean(np.abs(x_train_pred - x_train), axis=1)"
   ]
  },
  {
   "cell_type": "code",
   "execution_count": 53,
   "id": "b6b75be6-666a-49a9-b404-6719fbf058f0",
   "metadata": {},
   "outputs": [
    {
     "data": {
      "image/png": "[encoded data removed]",
      "text/plain": [
       "<Figure size 720x432 with 1 Axes>"
      ]
     },
     "metadata": {
      "needs_background": "light"
     },
     "output_type": "display_data"
    }
   ],
   "source": [
    "# \n",
    "fig, ax = plt.subplots(figsize=(10, 6))\n",
    "# \n",
    "ax.hist(train_mae_loss, bins=50)\n",
    "# \n",
    "ax.set_xlabel(\"Train MAE loss\")\n",
    "#\n",
    "ax.set_ylabel(\"No of samples\");"
   ]
  },
  {
   "cell_type": "code",
   "execution_count": 54,
   "id": "dc3e9f58-803d-49a9-809d-994aa9a992f7",
   "metadata": {},
   "outputs": [
    {
     "name": "stdout",
     "output_type": "stream",
     "text": [
      "Reconstruction error threshold:  0.07233900719128367\n"
     ]
    }
   ],
   "source": [
    "# Get reconstruction loss threshold.\n",
    "threshold = np.max(train_mae_loss)\n",
    "# \n",
    "print(\"Reconstruction error threshold: \", threshold)"
   ]
  },
  {
   "cell_type": "code",
   "execution_count": 55,
   "id": "47fcbf25-a43e-41c1-8299-f8eab31604e2",
   "metadata": {},
   "outputs": [
    {
     "data": {
      "image/png": "[encoded data removed]",
      "text/plain": [
       "<Figure size 720x432 with 1 Axes>"
      ]
     },
     "metadata": {
      "needs_background": "light"
     },
     "output_type": "display_data"
    }
   ],
   "source": [
    "# \n",
    "fig, ax = plt.subplots(figsize=(10, 6))\n",
    "\n",
    "# \n",
    "ax.plot(x_train[0])\n",
    "\n",
    "# \n",
    "ax.plot(x_train_pred[0]);"
   ]
  },
  {
   "cell_type": "code",
   "execution_count": null,
   "id": "a1f15588-4809-4e2d-82dd-40a964d91a8c",
   "metadata": {},
   "outputs": [],
   "source": []
  },
  {
   "cell_type": "code",
   "execution_count": 56,
   "id": "5cbc24e7-0a68-4842-8302-af9eb3a2a20d",
   "metadata": {},
   "outputs": [],
   "source": [
    "# \n",
    "df_test_value = (df_daily_jumpsup - train_mean) / train_std"
   ]
  },
  {
   "cell_type": "code",
   "execution_count": 57,
   "id": "efed2339-86c2-4045-8c75-f4624ddcd6e4",
   "metadata": {},
   "outputs": [
    {
     "data": {
      "image/png": "[encoded data removed]",
      "text/plain": [
       "<Figure size 720x432 with 1 Axes>"
      ]
     },
     "metadata": {
      "needs_background": "light"
     },
     "output_type": "display_data"
    }
   ],
   "source": [
    "# \n",
    "fig, ax = plt.subplots(figsize=(10, 6))\n",
    "\n",
    "# \n",
    "df_test_value.plot(legend=False, ax=ax);"
   ]
  },
  {
   "cell_type": "code",
   "execution_count": 58,
   "id": "fc036814-18d9-4135-9a86-b07e3dc1e8ff",
   "metadata": {},
   "outputs": [
    {
     "name": "stdout",
     "output_type": "stream",
     "text": [
      "Test input shape:  (3745, 288, 1)\n"
     ]
    }
   ],
   "source": [
    "# Create sequences from test values.\n",
    "x_test = windows(df_test_value.values)\n",
    "print(\"Test input shape: \", x_test.shape)"
   ]
  },
  {
   "cell_type": "code",
   "execution_count": 59,
   "id": "d39166c9-0124-41b2-bb66-b7167c7bdfa8",
   "metadata": {},
   "outputs": [
    {
     "name": "stdout",
     "output_type": "stream",
     "text": [
      "118/118 [==============================] - 2s 17ms/step\n"
     ]
    }
   ],
   "source": [
    "# \n",
    "x_test_pred = model.predict(x_test)"
   ]
  },
  {
   "cell_type": "code",
   "execution_count": 60,
   "id": "e403a99b-2c19-4515-9133-297745903388",
   "metadata": {},
   "outputs": [
    {
     "data": {
      "text/plain": [
       "array([[0.05992512],\n",
       "       [0.05546833],\n",
       "       [0.05628049],\n",
       "       ...,\n",
       "       [0.05919656],\n",
       "       [0.06002466],\n",
       "       [0.05874296]])"
      ]
     },
     "execution_count": 60,
     "metadata": {},
     "output_type": "execute_result"
    }
   ],
   "source": [
    "# \n",
    "test_mae_loss = np.mean(np.abs(x_test_pred - x_test), axis=1)\n",
    "\n",
    "test_mae_loss"
   ]
  },
  {
   "cell_type": "code",
   "execution_count": 61,
   "id": "9687a2e7-2bce-4898-8c74-bd3782d39c2c",
   "metadata": {},
   "outputs": [
    {
     "data": {
      "text/plain": [
       "array([0.05992512, 0.05546833, 0.05628049, ..., 0.05919656, 0.06002466,\n",
       "       0.05874296])"
      ]
     },
     "execution_count": 61,
     "metadata": {},
     "output_type": "execute_result"
    }
   ],
   "source": [
    "# \n",
    "test_mae_loss = test_mae_loss.reshape((-1))\n",
    "test_mae_loss"
   ]
  },
  {
   "cell_type": "code",
   "execution_count": 62,
   "id": "3a33429b-4ad0-4096-9e5a-b0685fdad770",
   "metadata": {},
   "outputs": [
    {
     "data": {
      "image/png": "[encoded data removed]",
      "text/plain": [
       "<Figure size 720x432 with 1 Axes>"
      ]
     },
     "metadata": {
      "needs_background": "light"
     },
     "output_type": "display_data"
    }
   ],
   "source": [
    "# \n",
    "fig, ax = plt.subplots(figsize=(10, 6))\n",
    "\n",
    "#\n",
    "ax.hist(test_mae_loss, bins=50)\n",
    "\n",
    "# \n",
    "ax.set_xlabel(\"test MAE loss\")\n",
    "\n",
    "# \n",
    "ax.set_ylabel(\"No of samples\");"
   ]
  },
  {
   "cell_type": "code",
   "execution_count": 63,
   "id": "a368870a-075b-4a00-94db-76dd89ed24e6",
   "metadata": {},
   "outputs": [],
   "source": [
    "# Detect all the samples which are anomalies.\n",
    "anomalies = test_mae_loss > threshold"
   ]
  },
  {
   "cell_type": "code",
   "execution_count": 64,
   "id": "ca053d1f-af69-4f35-a76c-15b2cdb273e8",
   "metadata": {},
   "outputs": [
    {
     "name": "stdout",
     "output_type": "stream",
     "text": [
      "Number of anomaly samples:  422\n"
     ]
    }
   ],
   "source": [
    "print(\"Number of anomaly samples: \", np.sum(anomalies))"
   ]
  },
  {
   "cell_type": "code",
   "execution_count": 65,
   "id": "602bb112-b936-449c-b9af-edb3bc0f342f",
   "metadata": {
    "tags": []
   },
   "outputs": [],
   "source": [
    "# data i is an anomaly if samples [(i - timesteps + 1) to (i)] are anomalies\n",
    "inds = []\n",
    "\n",
    "for i in range(window_size - 1, len(df_test_value) - window_size + 1):\n",
    "    if np.all(anomalies[i - window_size + 1 : i]):\n",
    "        inds.append(i)"
   ]
  },
  {
   "cell_type": "code",
   "execution_count": 66,
   "id": "6afd5a9b-6144-4ce0-b697-ef8efd9efc81",
   "metadata": {},
   "outputs": [],
   "source": [
    "# \n",
    "df_subset = df_daily_jumpsup.iloc[inds]"
   ]
  },
  {
   "cell_type": "code",
   "execution_count": 67,
   "id": "4fe0b19e-8edf-466f-8a42-8f755af5af38",
   "metadata": {},
   "outputs": [
    {
     "data": {
      "image/png": "[encoded data removed]",
      "text/plain": [
       "<Figure size 720x432 with 1 Axes>"
      ]
     },
     "metadata": {
      "needs_background": "light"
     },
     "output_type": "display_data"
    }
   ],
   "source": [
    "#\n",
    "fig, ax = plt.subplots(figsize=(10, 6))\n",
    "\n",
    "# \n",
    "df_daily_jumpsup.plot(legend=False, ax=ax)\n",
    "\n",
    "# \n",
    "df_subset.plot(legend=False, ax=ax, color=\"r\");"
   ]
  },
  {
   "cell_type": "code",
   "execution_count": null,
   "id": "e93d0bf2-be94-48d5-8529-bd0fbda6ecfc",
   "metadata": {},
   "outputs": [],
   "source": []
  },
  {
   "cell_type": "code",
   "execution_count": null,
   "id": "ead4baf8-a5c3-4c13-8a17-5458ebfcd22f",
   "metadata": {},
   "outputs": [],
   "source": []
  },
  {
   "cell_type": "code",
   "execution_count": null,
   "id": "c3157415-fa8b-45d5-a139-c43846a56c39",
   "metadata": {},
   "outputs": [],
   "source": []
  },
  {
   "cell_type": "markdown",
   "id": "9a65ecd8-d0f6-46a8-bbf9-0a1b3dbc1715",
   "metadata": {},
   "source": [
    "### REFERENCES"
   ]
  },
  {
   "cell_type": "markdown",
   "id": "c93f8fbc-99e0-4f22-bb50-78aa61c97bae",
   "metadata": {},
   "source": [
    "1. https://thedatascientist.com/anomaly-detection-why-you-need-it/\n",
    "2. https://keras.io/about/\n",
    "3. https://www.simplilearn.com/tutorials/deep-learning-tutorial/what-is-keras\n",
    "4. https://en.wikipedia.org/wiki/TensorFlow"
   ]
  },
  {
   "cell_type": "code",
   "execution_count": null,
   "id": "7167e81f-478e-49ef-8e1e-a488140d6902",
   "metadata": {},
   "outputs": [],
   "source": []
  }
 ],
 "metadata": {
  "kernelspec": {
   "display_name": "Python 3",
   "language": "python",
   "name": "python3"
  },
  "language_info": {
   "codemirror_mode": {
    "name": "ipython",
    "version": 3
   },
   "file_extension": ".py",
   "mimetype": "text/x-python",
   "name": "python",
   "nbconvert_exporter": "python",
   "pygments_lexer": "ipython3",
   "version": "3.8.8"
  }
 },
 "nbformat": 4,
 "nbformat_minor": 5
}
