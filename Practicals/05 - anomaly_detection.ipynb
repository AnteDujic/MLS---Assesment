{
 "cells": [
  {
   "cell_type": "markdown",
   "id": "8eb22af3-532a-412d-aeb7-a279c507d8bc",
   "metadata": {},
   "source": [
    "# TIMESERIES ANOMALY DETECTION\n",
    "## AUTHOR: ANTE DUJIC\n",
    "<hr style=\"border:2px solid gray\"> </hr>"
   ]
  },
  {
   "cell_type": "markdown",
   "id": "57d09ce2-9948-40ab-b8c0-b3b7ce38fae0",
   "metadata": {},
   "source": [
    "<center><img src=\"https://i0.wp.com/thedatascientist.com/wp-content/uploads/2019/02/anomaly_detection.png?fit=1200%2C800&ssl=1\" width=\"400\"/></center>"
   ]
  },
  {
   "cell_type": "markdown",
   "id": "9011d852-40fa-4730-9569-25b4d52cb609",
   "metadata": {},
   "source": [
    "<hr style=\"border:2px solid gray\"> </hr>"
   ]
  },
  {
   "cell_type": "markdown",
   "id": "b8224e03-be2a-4470-b33e-573d61e4f06f",
   "metadata": {},
   "source": [
    "## INTRODUCTION\n",
    "***"
   ]
  },
  {
   "cell_type": "markdown",
   "id": "2e7f7eeb-b31c-46dc-93a0-d49fe827581b",
   "metadata": {},
   "source": [
    "The aim of this notebook is to break down and explain in details the code from [Keras documentation](https://keras.io/examples/timeseries/timeseries_anomaly_detection/) on Timeseries anomaly detection using an Autoencoder."
   ]
  },
  {
   "cell_type": "markdown",
   "id": "8166d00b-fba6-4d02-96e0-aac1de6f981f",
   "metadata": {},
   "source": [
    "#### KERAS"
   ]
  },
  {
   "cell_type": "markdown",
   "id": "997776ba-d5f0-429e-ac1d-b345409e511c",
   "metadata": {},
   "source": [
    "Keras is deep learning API developed by Google for implementing neural networks. [3] It makes the implementation of the neural networks easier."
   ]
  },
  {
   "cell_type": "markdown",
   "id": "211c57e5-1851-44c1-be01-4bbcf9c49dca",
   "metadata": {},
   "source": [
    "> *Keras is: [2]*\n",
    "> - *Simple -- but not simplistic. Keras reduces developer cognitive load to free you to focus on the parts of the problem that really matter.*\n",
    "> - *Flexible -- Keras adopts the principle of progressive disclosure of complexity: simple workflows should be quick and easy, while arbitrarily advanced workflows should be possible via a clear path that builds upon what you've already learned.*\n",
    "> - *Powerful -- Keras provides industry-strength performance and scalability: it is used by organizations and companies including NASA, YouTube, or Waymo.*"
   ]
  },
  {
   "cell_type": "markdown",
   "id": "8fde7600-172e-4c4e-91da-30c202448fa1",
   "metadata": {},
   "source": [
    "Keras is written in Python and it is running on top of the machine learning platform Tenserflow. Tenserflow is an open-source software library for machine learning and artificial intelligence developed by Google Brain Team. [4] "
   ]
  },
  {
   "cell_type": "markdown",
   "id": "64db7d06-c18d-43f6-a13a-975f1fdfa1e2",
   "metadata": {},
   "source": [
    "The core data structures of Keras are layers and models. The simplest type of model is the Sequential model, a linear stack of layers. [2] This model will be used for the anomaly detection. More on this further in this notebook."
   ]
  },
  {
   "cell_type": "markdown",
   "id": "98ca9aac-1b7c-4f08-a2a1-85c9d45c49e4",
   "metadata": {},
   "source": [
    "#### AUTOENCODER"
   ]
  },
  {
   "cell_type": "markdown",
   "id": "c47caa44-b58e-49ea-833e-65e18a215073",
   "metadata": {},
   "source": [
    "An autoencoder is a type of artificial neural network where the input is the same as the output. It works by compressing the input into a lower-dimensional code using encoder and then reconstructing the output from this lower-dimensional representation using decoder. [5]"
   ]
  },
  {
   "cell_type": "markdown",
   "id": "b5d8c35e-6973-4203-80ce-4a4afb01bfcf",
   "metadata": {},
   "source": [
    "#### ANOMALY DETECTION"
   ]
  },
  {
   "cell_type": "markdown",
   "id": "6ab83e7a-0a4e-4497-99b5-1ff984e526ee",
   "metadata": {},
   "source": [
    "Anomaly detection involves identifying the differences, deviations, and exceptions from the norm in a dataset. It’s sometimes referred to as outlier detection (i.e., looking at a dataset to identify any outlying or unusual datapoints, data groups, or activity).[1]"
   ]
  },
  {
   "cell_type": "markdown",
   "id": "afc46c7d-9c32-451b-959c-32407a6ac951",
   "metadata": {},
   "source": [
    "##### TIMESERIES?\n"
   ]
  },
  {
   "cell_type": "markdown",
   "id": "39501475-9ff0-4155-8b3f-612f8b3cce8f",
   "metadata": {},
   "source": [
    "***"
   ]
  },
  {
   "cell_type": "code",
   "execution_count": 1,
   "id": "8b82d092-f2b6-4609-aa43-9b909d512377",
   "metadata": {},
   "outputs": [],
   "source": [
    "# Numerical arrays.\n",
    "import numpy as np\n",
    "\n",
    "# Spreadsheet-like Data Frames.\n",
    "import pandas as pd\n",
    "\n",
    "# Neural networks.\n",
    "import tensorflow.keras as keras\n",
    "\n",
    "# Plotting\n",
    "import matplotlib.pyplot as plt\n",
    "import seaborn as sns"
   ]
  },
  {
   "cell_type": "markdown",
   "id": "a287cfab-8c95-4885-9228-480d98bbbc63",
   "metadata": {},
   "source": [
    "## DATA\n",
    "***"
   ]
  },
  {
   "cell_type": "markdown",
   "id": "682dc536-2475-4667-80b6-577c7169eedd",
   "metadata": {},
   "source": [
    "The data used is [Numenta Anomaly Benchmark(NAB)](https://www.kaggle.com/datasets/boltzmannbrain/nab) dataset. NAB provide a controlled and repeatable environment of open-source tools for evaluating real-time anomaly detection algorithms on streaming data. [6] It is comprised of over 50 labeled real-world and artificial timeseries data files plus a novel scoring mechanism designed for real-time applications. [7] Majority of data is real-world. Data used for the anomaly detection can be found in the [GitHub](https://github.com/numenta/NAB/tree/master/data) repository, in the *data* folder. This data is artificially generated. The simplicity of this dataset allows the effective demonstration of anomaly detection."
   ]
  },
  {
   "cell_type": "markdown",
   "id": "469c810a-b895-4db0-a708-b66b303f0d96",
   "metadata": {},
   "source": [
    "```\n",
    "NAB \n",
    "│\n",
    "└───data\n",
    "│   │\n",
    "│   └───artificialNoAnomaly\n",
    "│   │    │   art_daily_small_noise.csv\n",
    "│   │    │   ...\n",
    "│   │\n",
    "│   └───artificialWithAnomaly\n",
    "│   │    │   art_daily_jumpsup.csv\n",
    "│   │    │   ...\n",
    "│   │\n",
    "│   └─── ...\n",
    "│\n",
    "└─── ...\n",
    "```"
   ]
  },
  {
   "cell_type": "code",
   "execution_count": 2,
   "id": "eaff922b-3427-4666-9e0e-680f62ccaa8e",
   "metadata": {},
   "outputs": [],
   "source": [
    "# Root of URLs.\n",
    "root_url = 'https://raw.githubusercontent.com/numenta/NAB/master/data/'\n",
    "\n",
    "# Data file without anomaly.\n",
    "no_anomaly_url = root_url + 'artificialNoAnomaly/art_daily_small_noise.csv'\n",
    "\n",
    "# Data file with anomaly.\n",
    "with_anomaly_url = root_url + 'artificialWithAnomaly/art_daily_jumpsup.csv'"
   ]
  },
  {
   "cell_type": "code",
   "execution_count": 3,
   "id": "a3caa1b1-2d05-459f-a36d-c354f46d1ff0",
   "metadata": {},
   "outputs": [
    {
     "data": {
      "text/plain": [
       "'https://raw.githubusercontent.com/numenta/NAB/master/data/artificialNoAnomaly/art_daily_small_noise.csv'"
      ]
     },
     "execution_count": 3,
     "metadata": {},
     "output_type": "execute_result"
    }
   ],
   "source": [
    "no_anomaly_url"
   ]
  },
  {
   "cell_type": "code",
   "execution_count": 4,
   "id": "4d175047-0445-4da7-977b-ecd6827f798a",
   "metadata": {},
   "outputs": [
    {
     "data": {
      "text/plain": [
       "'https://raw.githubusercontent.com/numenta/NAB/master/data/artificialWithAnomaly/art_daily_jumpsup.csv'"
      ]
     },
     "execution_count": 4,
     "metadata": {},
     "output_type": "execute_result"
    }
   ],
   "source": [
    "with_anomaly_url"
   ]
  },
  {
   "cell_type": "markdown",
   "id": "8776abcd-4366-468e-bd12-160c9cf49707",
   "metadata": {},
   "source": [
    "#### TIMESERIES DATA WITHOUT ANOMALIES\n",
    "***"
   ]
  },
  {
   "cell_type": "markdown",
   "id": "d4c967b4-238b-481e-984e-077e9e8c4d80",
   "metadata": {},
   "source": [
    "As the name of this dataset suggests, it is artificially-generated data without any anomalies. This dataset will be used for training. We'll have a look at this dataset below."
   ]
  },
  {
   "cell_type": "code",
   "execution_count": 5,
   "id": "4335ab34-5788-4ada-9986-fcfc045cbaed",
   "metadata": {},
   "outputs": [],
   "source": [
    "# Read data into a dataframe, setting \"timestamp\" as the index column\n",
    "df_small_noise = pd.read_csv(no_anomaly_url, parse_dates=True, index_col=\"timestamp\")"
   ]
  },
  {
   "cell_type": "code",
   "execution_count": 6,
   "id": "14c2b316-29b5-4724-8413-7973bb3d5e51",
   "metadata": {},
   "outputs": [
    {
     "data": {
      "text/html": [
       "<div>\n",
       "<style scoped>\n",
       "    .dataframe tbody tr th:only-of-type {\n",
       "        vertical-align: middle;\n",
       "    }\n",
       "\n",
       "    .dataframe tbody tr th {\n",
       "        vertical-align: top;\n",
       "    }\n",
       "\n",
       "    .dataframe thead th {\n",
       "        text-align: right;\n",
       "    }\n",
       "</style>\n",
       "<table border=\"1\" class=\"dataframe\">\n",
       "  <thead>\n",
       "    <tr style=\"text-align: right;\">\n",
       "      <th></th>\n",
       "      <th>value</th>\n",
       "    </tr>\n",
       "    <tr>\n",
       "      <th>timestamp</th>\n",
       "      <th></th>\n",
       "    </tr>\n",
       "  </thead>\n",
       "  <tbody>\n",
       "    <tr>\n",
       "      <th>2014-04-01 00:00:00</th>\n",
       "      <td>18.324919</td>\n",
       "    </tr>\n",
       "    <tr>\n",
       "      <th>2014-04-01 00:05:00</th>\n",
       "      <td>21.970327</td>\n",
       "    </tr>\n",
       "    <tr>\n",
       "      <th>2014-04-01 00:10:00</th>\n",
       "      <td>18.624806</td>\n",
       "    </tr>\n",
       "    <tr>\n",
       "      <th>2014-04-01 00:15:00</th>\n",
       "      <td>21.953684</td>\n",
       "    </tr>\n",
       "    <tr>\n",
       "      <th>2014-04-01 00:20:00</th>\n",
       "      <td>21.909120</td>\n",
       "    </tr>\n",
       "  </tbody>\n",
       "</table>\n",
       "</div>"
      ],
      "text/plain": [
       "                         value\n",
       "timestamp                     \n",
       "2014-04-01 00:00:00  18.324919\n",
       "2014-04-01 00:05:00  21.970327\n",
       "2014-04-01 00:10:00  18.624806\n",
       "2014-04-01 00:15:00  21.953684\n",
       "2014-04-01 00:20:00  21.909120"
      ]
     },
     "execution_count": 6,
     "metadata": {},
     "output_type": "execute_result"
    }
   ],
   "source": [
    "# First 5 records of the dataset\n",
    "df_small_noise.head()"
   ]
  },
  {
   "cell_type": "markdown",
   "id": "1fd83c99-b623-49ae-9fa0-605bc6666684",
   "metadata": {},
   "source": [
    "Looking at the output above, and comparing the values from the direct url, we see that the values get rounded.\n",
    "- $ 18.324918539200002 \\Rightarrow 18.324919 $\n",
    "- $ 21.970327182 \\Rightarrow 21.970327 $"
   ]
  },
  {
   "cell_type": "markdown",
   "id": "80e7bacf-6dff-4404-a354-e58064634123",
   "metadata": {},
   "source": [
    "We can extract the data, to confirm the rounding."
   ]
  },
  {
   "cell_type": "code",
   "execution_count": 7,
   "id": "a091132e-a72f-486d-899b-d5654f77c45d",
   "metadata": {
    "tags": []
   },
   "outputs": [
    {
     "data": {
      "text/plain": [
       "18.3249185392"
      ]
     },
     "execution_count": 7,
     "metadata": {},
     "output_type": "execute_result"
    }
   ],
   "source": [
    "# Double check the first value, to see if and how the value was round.\n",
    "df_small_noise.iloc[0]['value']"
   ]
  },
  {
   "cell_type": "code",
   "execution_count": 8,
   "id": "f105a097-c025-4d6c-8753-cfa9d4266e00",
   "metadata": {},
   "outputs": [
    {
     "data": {
      "text/plain": [
       "21.970327182"
      ]
     },
     "execution_count": 8,
     "metadata": {},
     "output_type": "execute_result"
    }
   ],
   "source": [
    "# Double check the first value, to see if and how the value was round.\n",
    "df_small_noise.iloc[1]['value']"
   ]
  },
  {
   "cell_type": "markdown",
   "id": "ec0f77f3-cfed-4af7-89b0-f0ac9bb096ca",
   "metadata": {},
   "source": [
    "The rounding from in the *head* output is only visual, but we see that some values still get rounded to a certain degree.\n",
    "- $ 18.324918539200002 \\Rightarrow 18.3249185392 $\n",
    "- $ 21.970327182 \\Rightarrow 21.970327182 $\n",
    "\n",
    "This rounding is deemed insignificant."
   ]
  },
  {
   "cell_type": "code",
   "execution_count": 9,
   "id": "a2b506a0-28da-4a5f-88bf-8f2118021cac",
   "metadata": {},
   "outputs": [
    {
     "data": {
      "text/html": [
       "<div>\n",
       "<style scoped>\n",
       "    .dataframe tbody tr th:only-of-type {\n",
       "        vertical-align: middle;\n",
       "    }\n",
       "\n",
       "    .dataframe tbody tr th {\n",
       "        vertical-align: top;\n",
       "    }\n",
       "\n",
       "    .dataframe thead th {\n",
       "        text-align: right;\n",
       "    }\n",
       "</style>\n",
       "<table border=\"1\" class=\"dataframe\">\n",
       "  <thead>\n",
       "    <tr style=\"text-align: right;\">\n",
       "      <th></th>\n",
       "      <th>value</th>\n",
       "    </tr>\n",
       "  </thead>\n",
       "  <tbody>\n",
       "    <tr>\n",
       "      <th>count</th>\n",
       "      <td>4032.000000</td>\n",
       "    </tr>\n",
       "    <tr>\n",
       "      <th>mean</th>\n",
       "      <td>42.438353</td>\n",
       "    </tr>\n",
       "    <tr>\n",
       "      <th>std</th>\n",
       "      <td>28.077122</td>\n",
       "    </tr>\n",
       "    <tr>\n",
       "      <th>min</th>\n",
       "      <td>18.000964</td>\n",
       "    </tr>\n",
       "    <tr>\n",
       "      <th>25%</th>\n",
       "      <td>19.841390</td>\n",
       "    </tr>\n",
       "    <tr>\n",
       "      <th>50%</th>\n",
       "      <td>21.608487</td>\n",
       "    </tr>\n",
       "    <tr>\n",
       "      <th>75%</th>\n",
       "      <td>75.450282</td>\n",
       "    </tr>\n",
       "    <tr>\n",
       "      <th>max</th>\n",
       "      <td>87.976128</td>\n",
       "    </tr>\n",
       "  </tbody>\n",
       "</table>\n",
       "</div>"
      ],
      "text/plain": [
       "             value\n",
       "count  4032.000000\n",
       "mean     42.438353\n",
       "std      28.077122\n",
       "min      18.000964\n",
       "25%      19.841390\n",
       "50%      21.608487\n",
       "75%      75.450282\n",
       "max      87.976128"
      ]
     },
     "execution_count": 9,
     "metadata": {},
     "output_type": "execute_result"
    }
   ],
   "source": [
    "# Overall summary of the dataset (number of values, mean, std, etc.)\n",
    "df_small_noise.describe()"
   ]
  },
  {
   "cell_type": "markdown",
   "id": "3f56fd28-d423-4111-b702-68bcea88cdc1",
   "metadata": {},
   "source": [
    "We can see there are 4032 records in this dataset. We can also see the mean, standard deviation, the min and max values and the 25th, 50th and 75th percentiles."
   ]
  },
  {
   "cell_type": "markdown",
   "id": "213cd9b2-482d-42ce-9a75-2ea17bbc3b2b",
   "metadata": {},
   "source": [
    "Below is the dataset plotted. It gives a better insight to the dataset."
   ]
  },
  {
   "cell_type": "code",
   "execution_count": 10,
   "id": "3db1a066-dead-4bf7-bc06-1209f21b3c63",
   "metadata": {},
   "outputs": [
    {
     "data": {
      "image/png": "[encoded data removed]",
      "text/plain": [
       "<Figure size 1800x288 with 1 Axes>"
      ]
     },
     "metadata": {
      "needs_background": "light"
     },
     "output_type": "display_data"
    }
   ],
   "source": [
    "# Plot size.\n",
    "fig, ax = plt.subplots(figsize=(25,4))\n",
    "\n",
    "# Use pandas to plot data frame.\n",
    "df_small_noise.plot(legend=False, ax=ax)\n",
    "# Name the plot.\n",
    "plt.title(\"TIMESERIES DATA WITHOUT ANOMALIES\");"
   ]
  },
  {
   "cell_type": "markdown",
   "id": "529de032-286c-446d-b1c5-b0b5fe55daea",
   "metadata": {},
   "source": [
    "#### TIMESERIES DATA WITH ANOMALIES\n",
    "***"
   ]
  },
  {
   "cell_type": "markdown",
   "id": "b81b10cb-4e6d-4acd-8665-9037367a0e90",
   "metadata": {},
   "source": [
    "Same as the above data, the name suggests this dataset is artificially-generated data with anomalies. This will be best visible when data is visualised. This dataset will be used for testing. We'll have a look at this dataset below."
   ]
  },
  {
   "cell_type": "code",
   "execution_count": 11,
   "id": "a7c45026-c330-48c1-ae88-fc80e68e4148",
   "metadata": {},
   "outputs": [],
   "source": [
    "# Read data into a dataframe, setting \"timestamp\" as the index column\n",
    "df_daily_jumpsup = pd.read_csv(with_anomaly_url, parse_dates=True, index_col=\"timestamp\")"
   ]
  },
  {
   "cell_type": "code",
   "execution_count": 12,
   "id": "713f47c8-2640-4c05-81b6-a5a597c04e1d",
   "metadata": {},
   "outputs": [
    {
     "data": {
      "text/html": [
       "<div>\n",
       "<style scoped>\n",
       "    .dataframe tbody tr th:only-of-type {\n",
       "        vertical-align: middle;\n",
       "    }\n",
       "\n",
       "    .dataframe tbody tr th {\n",
       "        vertical-align: top;\n",
       "    }\n",
       "\n",
       "    .dataframe thead th {\n",
       "        text-align: right;\n",
       "    }\n",
       "</style>\n",
       "<table border=\"1\" class=\"dataframe\">\n",
       "  <thead>\n",
       "    <tr style=\"text-align: right;\">\n",
       "      <th></th>\n",
       "      <th>value</th>\n",
       "    </tr>\n",
       "    <tr>\n",
       "      <th>timestamp</th>\n",
       "      <th></th>\n",
       "    </tr>\n",
       "  </thead>\n",
       "  <tbody>\n",
       "    <tr>\n",
       "      <th>2014-04-01 00:00:00</th>\n",
       "      <td>19.761252</td>\n",
       "    </tr>\n",
       "    <tr>\n",
       "      <th>2014-04-01 00:05:00</th>\n",
       "      <td>20.500833</td>\n",
       "    </tr>\n",
       "    <tr>\n",
       "      <th>2014-04-01 00:10:00</th>\n",
       "      <td>19.961641</td>\n",
       "    </tr>\n",
       "    <tr>\n",
       "      <th>2014-04-01 00:15:00</th>\n",
       "      <td>21.490266</td>\n",
       "    </tr>\n",
       "    <tr>\n",
       "      <th>2014-04-01 00:20:00</th>\n",
       "      <td>20.187739</td>\n",
       "    </tr>\n",
       "  </tbody>\n",
       "</table>\n",
       "</div>"
      ],
      "text/plain": [
       "                         value\n",
       "timestamp                     \n",
       "2014-04-01 00:00:00  19.761252\n",
       "2014-04-01 00:05:00  20.500833\n",
       "2014-04-01 00:10:00  19.961641\n",
       "2014-04-01 00:15:00  21.490266\n",
       "2014-04-01 00:20:00  20.187739"
      ]
     },
     "execution_count": 12,
     "metadata": {},
     "output_type": "execute_result"
    }
   ],
   "source": [
    "# First 5 recordds of the dataset\n",
    "df_daily_jumpsup.head()"
   ]
  },
  {
   "cell_type": "code",
   "execution_count": 13,
   "id": "5513bcf8-f178-4b51-9349-41fb6c23f00d",
   "metadata": {},
   "outputs": [
    {
     "data": {
      "text/plain": [
       "19.761251903"
      ]
     },
     "execution_count": 13,
     "metadata": {},
     "output_type": "execute_result"
    }
   ],
   "source": [
    "# Double check the first value, to see if and how the value was round.\n",
    "df_daily_jumpsup.iloc[0]['value']"
   ]
  },
  {
   "cell_type": "markdown",
   "id": "99ca9220-9f78-4d68-a200-0960cc412707",
   "metadata": {},
   "source": [
    "Same as with data without anomalies, this data also gets rounded but insignificantly."
   ]
  },
  {
   "cell_type": "code",
   "execution_count": 14,
   "id": "2a789195-3341-444f-93a6-c923528441e6",
   "metadata": {},
   "outputs": [
    {
     "data": {
      "text/html": [
       "<div>\n",
       "<style scoped>\n",
       "    .dataframe tbody tr th:only-of-type {\n",
       "        vertical-align: middle;\n",
       "    }\n",
       "\n",
       "    .dataframe tbody tr th {\n",
       "        vertical-align: top;\n",
       "    }\n",
       "\n",
       "    .dataframe thead th {\n",
       "        text-align: right;\n",
       "    }\n",
       "</style>\n",
       "<table border=\"1\" class=\"dataframe\">\n",
       "  <thead>\n",
       "    <tr style=\"text-align: right;\">\n",
       "      <th></th>\n",
       "      <th>value</th>\n",
       "    </tr>\n",
       "  </thead>\n",
       "  <tbody>\n",
       "    <tr>\n",
       "      <th>count</th>\n",
       "      <td>4032.000000</td>\n",
       "    </tr>\n",
       "    <tr>\n",
       "      <th>mean</th>\n",
       "      <td>44.494254</td>\n",
       "    </tr>\n",
       "    <tr>\n",
       "      <th>std</th>\n",
       "      <td>32.432473</td>\n",
       "    </tr>\n",
       "    <tr>\n",
       "      <th>min</th>\n",
       "      <td>18.001010</td>\n",
       "    </tr>\n",
       "    <tr>\n",
       "      <th>25%</th>\n",
       "      <td>19.991382</td>\n",
       "    </tr>\n",
       "    <tr>\n",
       "      <th>50%</th>\n",
       "      <td>21.648503</td>\n",
       "    </tr>\n",
       "    <tr>\n",
       "      <th>75%</th>\n",
       "      <td>76.435943</td>\n",
       "    </tr>\n",
       "    <tr>\n",
       "      <th>max</th>\n",
       "      <td>164.947481</td>\n",
       "    </tr>\n",
       "  </tbody>\n",
       "</table>\n",
       "</div>"
      ],
      "text/plain": [
       "             value\n",
       "count  4032.000000\n",
       "mean     44.494254\n",
       "std      32.432473\n",
       "min      18.001010\n",
       "25%      19.991382\n",
       "50%      21.648503\n",
       "75%      76.435943\n",
       "max     164.947481"
      ]
     },
     "execution_count": 14,
     "metadata": {},
     "output_type": "execute_result"
    }
   ],
   "source": [
    "# # Overall summary of the dataset (number of values, mean, std, etc.)\n",
    "df_daily_jumpsup.describe()"
   ]
  },
  {
   "cell_type": "markdown",
   "id": "2cb4a98b-d2e6-4f71-857f-699df88dbe77",
   "metadata": {},
   "source": [
    "There are also 4032 records in this dataset. We can also see the mean, standard deviation, the min and max values and the 25th, 50th and 75th percentiles. Below is the visualisation of the data. It is clearly visible how this dataset contains anomaly."
   ]
  },
  {
   "cell_type": "code",
   "execution_count": 15,
   "id": "e2ea7dcc-3af0-4241-b294-8ebed3434944",
   "metadata": {},
   "outputs": [
    {
     "data": {
      "image/png": "[encoded data removed]",
      "text/plain": [
       "<Figure size 1800x288 with 1 Axes>"
      ]
     },
     "metadata": {
      "needs_background": "light"
     },
     "output_type": "display_data"
    }
   ],
   "source": [
    "# Plot size\n",
    "fig, ax = plt.subplots(figsize=(25,4))\n",
    "\n",
    "# Use pandas to plot data frame.\n",
    "df_daily_jumpsup.plot(legend=False, ax=ax);\n",
    "plt.title(\"TIMESERIES DATA WITH ANOMALIES\");"
   ]
  },
  {
   "cell_type": "markdown",
   "id": "b2ffa39d-54a6-47bf-8c4b-ef4b3aebb4e4",
   "metadata": {},
   "source": [
    "#### OVERVIEW"
   ]
  },
  {
   "cell_type": "code",
   "execution_count": 16,
   "id": "58cd94b6-e4e6-40c1-b949-c657d268950b",
   "metadata": {},
   "outputs": [
    {
     "data": {
      "text/html": [
       "<div>\n",
       "<style scoped>\n",
       "    .dataframe tbody tr th:only-of-type {\n",
       "        vertical-align: middle;\n",
       "    }\n",
       "\n",
       "    .dataframe tbody tr th {\n",
       "        vertical-align: top;\n",
       "    }\n",
       "\n",
       "    .dataframe thead tr th {\n",
       "        text-align: left;\n",
       "    }\n",
       "</style>\n",
       "<table border=\"1\" class=\"dataframe\">\n",
       "  <thead>\n",
       "    <tr>\n",
       "      <th></th>\n",
       "      <th>NO ANOMALY</th>\n",
       "      <th>WITH ANOMALY</th>\n",
       "    </tr>\n",
       "    <tr>\n",
       "      <th></th>\n",
       "      <th>value</th>\n",
       "      <th>value</th>\n",
       "    </tr>\n",
       "  </thead>\n",
       "  <tbody>\n",
       "    <tr>\n",
       "      <th>count</th>\n",
       "      <td>4032.000000</td>\n",
       "      <td>4032.000000</td>\n",
       "    </tr>\n",
       "    <tr>\n",
       "      <th>mean</th>\n",
       "      <td>42.438353</td>\n",
       "      <td>44.494254</td>\n",
       "    </tr>\n",
       "    <tr>\n",
       "      <th>std</th>\n",
       "      <td>28.077122</td>\n",
       "      <td>32.432473</td>\n",
       "    </tr>\n",
       "    <tr>\n",
       "      <th>min</th>\n",
       "      <td>18.000964</td>\n",
       "      <td>18.001010</td>\n",
       "    </tr>\n",
       "    <tr>\n",
       "      <th>25%</th>\n",
       "      <td>19.841390</td>\n",
       "      <td>19.991382</td>\n",
       "    </tr>\n",
       "    <tr>\n",
       "      <th>50%</th>\n",
       "      <td>21.608487</td>\n",
       "      <td>21.648503</td>\n",
       "    </tr>\n",
       "    <tr>\n",
       "      <th>75%</th>\n",
       "      <td>75.450282</td>\n",
       "      <td>76.435943</td>\n",
       "    </tr>\n",
       "    <tr>\n",
       "      <th>max</th>\n",
       "      <td>87.976128</td>\n",
       "      <td>164.947481</td>\n",
       "    </tr>\n",
       "  </tbody>\n",
       "</table>\n",
       "</div>"
      ],
      "text/plain": [
       "        NO ANOMALY WITH ANOMALY\n",
       "             value        value\n",
       "count  4032.000000  4032.000000\n",
       "mean     42.438353    44.494254\n",
       "std      28.077122    32.432473\n",
       "min      18.000964    18.001010\n",
       "25%      19.841390    19.991382\n",
       "50%      21.608487    21.648503\n",
       "75%      75.450282    76.435943\n",
       "max      87.976128   164.947481"
      ]
     },
     "execution_count": 16,
     "metadata": {},
     "output_type": "execute_result"
    }
   ],
   "source": [
    "# No anomaly dataset details\n",
    "no_anomaly = df_small_noise.describe()\n",
    "# No anomaly dataset details\n",
    "with_anomaly = df_daily_jumpsup.describe() \n",
    "# Combined details\n",
    "result = pd.concat([no_anomaly, with_anomaly], axis=1, keys=[\"NO ANOMALY\", \"WITH ANOMALY\"])\n",
    "result"
   ]
  },
  {
   "cell_type": "markdown",
   "id": "4814792c-97a5-455c-adcc-54e0c97ec289",
   "metadata": {},
   "source": [
    "### PREPARE TRAINING DATA\n",
    "***"
   ]
  },
  {
   "cell_type": "markdown",
   "id": "f27fd00a-a868-45f4-9536-3f4c414235b2",
   "metadata": {},
   "source": [
    "We can see in the *describe* function outputs, that the range of the two datasets defer. The *No-anomaly* dataset ranges from ~ 18 to ~ 88, while *With anomaly* dataset ranges form ~18 to ~165. Whenever the attributes of the dataset have different ranges, it is recommended to use the normalisation or standardisation. It helps to enhance the performance and reliability of the machine learning model. [8] A good rule of thumb is that input variables should be small values, probably in the range of 0-1 or standardized with a zero mean and a standard deviation of one. [9] To standardize the dataset we'll use the formula below: [10]"
   ]
  },
  {
   "cell_type": "markdown",
   "id": "dd22bf80-b7ef-4d3b-a629-5f34eea87f3f",
   "metadata": {},
   "source": [
    "###  $$ z = {X - \\mu \\over \\sigma} $$\n",
    "\n",
    "- z - standardized value\n",
    "- X - value we calculate the z for\n",
    "- $\\mu$ - mean\n",
    "- $\\sigma$ - standard deviation"
   ]
  },
  {
   "cell_type": "code",
   "execution_count": 17,
   "id": "a9caee48-de1e-43ad-b97d-a1daabf3bcce",
   "metadata": {
    "tags": []
   },
   "outputs": [
    {
     "data": {
      "text/plain": [
       "42.438353335806646"
      ]
     },
     "execution_count": 17,
     "metadata": {},
     "output_type": "execute_result"
    }
   ],
   "source": [
    "# Get training dataset mean\n",
    "train_mean = df_small_noise.mean()\n",
    "train_mean[0]"
   ]
  },
  {
   "cell_type": "code",
   "execution_count": 18,
   "id": "df007e89-a265-4709-9e3c-ff0172313d00",
   "metadata": {},
   "outputs": [
    {
     "data": {
      "text/plain": [
       "28.077122281262515"
      ]
     },
     "execution_count": 18,
     "metadata": {},
     "output_type": "execute_result"
    }
   ],
   "source": [
    "# Get training dataset standard deviation\n",
    "train_std = df_small_noise.std()\n",
    "train_std[0]"
   ]
  },
  {
   "cell_type": "markdown",
   "id": "1c7e839a-10e7-47a9-8e5c-9658e36d914f",
   "metadata": {},
   "source": [
    "The idea is to take the value column and create a new df - Values that are equivalent to the original values, but with the mean of 0 and std of 1. That's done to standardize the effect."
   ]
  },
  {
   "cell_type": "code",
   "execution_count": 19,
   "id": "35895132-5722-4480-9f51-b874d9755d13",
   "metadata": {},
   "outputs": [],
   "source": [
    "# Calculate standardized value using the above formula\n",
    "df_train_vals = (df_small_noise - train_mean) / train_std"
   ]
  },
  {
   "cell_type": "code",
   "execution_count": 20,
   "id": "0fc10248-5b2b-4db4-82dd-508d44167cea",
   "metadata": {},
   "outputs": [
    {
     "data": {
      "text/html": [
       "<div>\n",
       "<style scoped>\n",
       "    .dataframe tbody tr th:only-of-type {\n",
       "        vertical-align: middle;\n",
       "    }\n",
       "\n",
       "    .dataframe tbody tr th {\n",
       "        vertical-align: top;\n",
       "    }\n",
       "\n",
       "    .dataframe thead th {\n",
       "        text-align: right;\n",
       "    }\n",
       "</style>\n",
       "<table border=\"1\" class=\"dataframe\">\n",
       "  <thead>\n",
       "    <tr style=\"text-align: right;\">\n",
       "      <th></th>\n",
       "      <th>value</th>\n",
       "    </tr>\n",
       "    <tr>\n",
       "      <th>timestamp</th>\n",
       "      <th></th>\n",
       "    </tr>\n",
       "  </thead>\n",
       "  <tbody>\n",
       "    <tr>\n",
       "      <th>2014-04-01 00:00:00</th>\n",
       "      <td>-0.858829</td>\n",
       "    </tr>\n",
       "    <tr>\n",
       "      <th>2014-04-01 00:05:00</th>\n",
       "      <td>-0.728993</td>\n",
       "    </tr>\n",
       "    <tr>\n",
       "      <th>2014-04-01 00:10:00</th>\n",
       "      <td>-0.848148</td>\n",
       "    </tr>\n",
       "    <tr>\n",
       "      <th>2014-04-01 00:15:00</th>\n",
       "      <td>-0.729586</td>\n",
       "    </tr>\n",
       "    <tr>\n",
       "      <th>2014-04-01 00:20:00</th>\n",
       "      <td>-0.731173</td>\n",
       "    </tr>\n",
       "  </tbody>\n",
       "</table>\n",
       "</div>"
      ],
      "text/plain": [
       "                        value\n",
       "timestamp                    \n",
       "2014-04-01 00:00:00 -0.858829\n",
       "2014-04-01 00:05:00 -0.728993\n",
       "2014-04-01 00:10:00 -0.848148\n",
       "2014-04-01 00:15:00 -0.729586\n",
       "2014-04-01 00:20:00 -0.731173"
      ]
     },
     "execution_count": 20,
     "metadata": {},
     "output_type": "execute_result"
    }
   ],
   "source": [
    "# # First 5 records of the standardized dataset\n",
    "df_train_vals.head()"
   ]
  },
  {
   "cell_type": "code",
   "execution_count": 21,
   "id": "90c3c7ff-4601-47bd-b612-6af6e08daf44",
   "metadata": {},
   "outputs": [],
   "source": [
    "# Create a column with the standardized data\n",
    "df_small_noise['standardized'] = df_train_vals"
   ]
  },
  {
   "cell_type": "code",
   "execution_count": 22,
   "id": "ab9355ba-7d88-4a66-aaeb-5e8248fbade3",
   "metadata": {},
   "outputs": [
    {
     "data": {
      "text/plain": [
       "(-2.616541242931684e-15, 1.0000000000000018)"
      ]
     },
     "execution_count": 22,
     "metadata": {},
     "output_type": "execute_result"
    }
   ],
   "source": [
    "# Get the mean and std of the standardized data\n",
    "# The idea was to get the new dataset with mean of 0 and std of 1\n",
    "df_small_noise['standardized'].mean(), df_small_noise['standardized'].std()"
   ]
  },
  {
   "cell_type": "code",
   "execution_count": 23,
   "id": "fe0c25d1-5a53-411b-a12e-e73108c85e30",
   "metadata": {},
   "outputs": [
    {
     "data": {
      "text/plain": [
       "(0, 1)"
      ]
     },
     "execution_count": 23,
     "metadata": {},
     "output_type": "execute_result"
    }
   ],
   "source": [
    "# Round the data to see that we indeed got the wanted mean and std\n",
    "round(df_small_noise['standardized'].mean()), round(df_small_noise['standardized'].std())"
   ]
  },
  {
   "cell_type": "markdown",
   "id": "1b57e70d-5573-41ba-968a-dc2fdd02a2cc",
   "metadata": {},
   "source": [
    "We can see above that the mean of the standardized dataset is ~ 0, and the standard deviation is ~ 1."
   ]
  },
  {
   "cell_type": "code",
   "execution_count": 24,
   "id": "51b7db9a-7241-4c53-a239-5028138e8251",
   "metadata": {},
   "outputs": [
    {
     "data": {
      "text/html": [
       "<div>\n",
       "<style scoped>\n",
       "    .dataframe tbody tr th:only-of-type {\n",
       "        vertical-align: middle;\n",
       "    }\n",
       "\n",
       "    .dataframe tbody tr th {\n",
       "        vertical-align: top;\n",
       "    }\n",
       "\n",
       "    .dataframe thead th {\n",
       "        text-align: right;\n",
       "    }\n",
       "</style>\n",
       "<table border=\"1\" class=\"dataframe\">\n",
       "  <thead>\n",
       "    <tr style=\"text-align: right;\">\n",
       "      <th></th>\n",
       "      <th>value</th>\n",
       "      <th>standardized</th>\n",
       "    </tr>\n",
       "    <tr>\n",
       "      <th>timestamp</th>\n",
       "      <th></th>\n",
       "      <th></th>\n",
       "    </tr>\n",
       "  </thead>\n",
       "  <tbody>\n",
       "    <tr>\n",
       "      <th>2014-04-01 00:00:00</th>\n",
       "      <td>18.324919</td>\n",
       "      <td>-0.858829</td>\n",
       "    </tr>\n",
       "    <tr>\n",
       "      <th>2014-04-01 00:05:00</th>\n",
       "      <td>21.970327</td>\n",
       "      <td>-0.728993</td>\n",
       "    </tr>\n",
       "    <tr>\n",
       "      <th>2014-04-01 00:10:00</th>\n",
       "      <td>18.624806</td>\n",
       "      <td>-0.848148</td>\n",
       "    </tr>\n",
       "    <tr>\n",
       "      <th>2014-04-01 00:15:00</th>\n",
       "      <td>21.953684</td>\n",
       "      <td>-0.729586</td>\n",
       "    </tr>\n",
       "    <tr>\n",
       "      <th>2014-04-01 00:20:00</th>\n",
       "      <td>21.909120</td>\n",
       "      <td>-0.731173</td>\n",
       "    </tr>\n",
       "  </tbody>\n",
       "</table>\n",
       "</div>"
      ],
      "text/plain": [
       "                         value  standardized\n",
       "timestamp                                   \n",
       "2014-04-01 00:00:00  18.324919     -0.858829\n",
       "2014-04-01 00:05:00  21.970327     -0.728993\n",
       "2014-04-01 00:10:00  18.624806     -0.848148\n",
       "2014-04-01 00:15:00  21.953684     -0.729586\n",
       "2014-04-01 00:20:00  21.909120     -0.731173"
      ]
     },
     "execution_count": 24,
     "metadata": {},
     "output_type": "execute_result"
    }
   ],
   "source": [
    "# # First 5 records of original and standardized dataset\n",
    "df_small_noise.head()"
   ]
  },
  {
   "cell_type": "code",
   "execution_count": 25,
   "id": "44be0cc2-f8db-44a3-ac79-243ce90015c7",
   "metadata": {},
   "outputs": [
    {
     "data": {
      "image/png": "[encoded data removed]",
      "text/plain": [
       "<Figure size 1800x288 with 1 Axes>"
      ]
     },
     "metadata": {
      "needs_background": "light"
     },
     "output_type": "display_data"
    }
   ],
   "source": [
    "# Plot size\n",
    "fig, ax = plt.subplots(figsize=(25,4))\n",
    "\n",
    "# Use pandas to plot data frame.\n",
    "df_train_vals.plot(legend=False, ax=ax);\n",
    "plt.title(\"STANDARDIZED (TRAINING) DATA \");"
   ]
  },
  {
   "cell_type": "code",
   "execution_count": 26,
   "id": "7b7b2970-2d2f-4e5d-9a95-c7694333d63e",
   "metadata": {},
   "outputs": [
    {
     "name": "stdout",
     "output_type": "stream",
     "text": [
      "Number of training samples: 4032\n"
     ]
    }
   ],
   "source": [
    "print(\"Number of training samples:\", len(df_train_vals))"
   ]
  },
  {
   "cell_type": "code",
   "execution_count": null,
   "id": "15e6673e-f8f4-4823-ab5d-d6141bfa9bc3",
   "metadata": {},
   "outputs": [],
   "source": []
  },
  {
   "cell_type": "markdown",
   "id": "926c47c3-9410-4ceb-8d69-31e57270d7a0",
   "metadata": {},
   "source": [
    "##### WINDOW SLIDING"
   ]
  },
  {
   "cell_type": "markdown",
   "id": "8100aeb8-8226-4324-af49-ed62bf906aa6",
   "metadata": {},
   "source": [
    "In order to detect anomalous points in time series, a sliding window technique is one of the powerful method due to its applicability for a real-time detection. [11] The sliding window method is useful for reducing the time complexity of certain problems. [12] When used for preprocessing time-series data, it provides an improvement in accuracy, latency, and cost of processing. A sliding window set is a way to restructure a time series dataset as a supervised learning problem. Once restructured, the data works as an input to the artificial intelligence model."
   ]
  },
  {
   "cell_type": "markdown",
   "id": "278700d3-1387-40e0-a3ef-b4281fe8b42e",
   "metadata": {},
   "source": [
    "<center><img src=\"img/window.drawio.svg\" width=\"500\"/></center>"
   ]
  },
  {
   "cell_type": "code",
   "execution_count": 27,
   "id": "cd49ca66-06fd-42a4-9d0c-1617a410ab62",
   "metadata": {},
   "outputs": [
    {
     "data": {
      "text/plain": [
       "12"
      ]
     },
     "execution_count": 27,
     "metadata": {},
     "output_type": "execute_result"
    }
   ],
   "source": [
    "# Window list example.\n",
    "L = [1, 1, 2, 4, 5, 6, 7, 1, 2, 3, 4, 5]\n",
    "# Example window size.\n",
    "win_size = 3\n",
    "# Length of L.\n",
    "len(L)"
   ]
  },
  {
   "cell_type": "code",
   "execution_count": 28,
   "id": "8cdd001a-30dd-4825-bebf-a6917a7b8306",
   "metadata": {},
   "outputs": [
    {
     "data": {
      "text/plain": [
       "10"
      ]
     },
     "execution_count": 28,
     "metadata": {},
     "output_type": "execute_result"
    }
   ],
   "source": [
    "# Number of windows from L.\n",
    "len(L) - (win_size - 1)"
   ]
  },
  {
   "cell_type": "code",
   "execution_count": 29,
   "id": "7a249fb9-4f75-4bd6-92a2-a8d790a0319d",
   "metadata": {},
   "outputs": [
    {
     "data": {
      "text/plain": [
       "10"
      ]
     },
     "execution_count": 29,
     "metadata": {},
     "output_type": "execute_result"
    }
   ],
   "source": [
    "# Remove brackets.\n",
    "len(L) - win_size + 1"
   ]
  },
  {
   "cell_type": "code",
   "execution_count": 30,
   "id": "0a4f1acc-6da2-4619-98a8-1c6cccba814b",
   "metadata": {},
   "outputs": [],
   "source": [
    "# For accumulating the windows.\n",
    "wins = []\n",
    "# Generate the windows\n",
    "for i in range(len(L) - win_size + 1):\n",
    "    wins.append(L[i:i + win_size])"
   ]
  },
  {
   "cell_type": "code",
   "execution_count": 31,
   "id": "f3910ba0-5d1d-41a4-af06-2e2e7c8d9376",
   "metadata": {},
   "outputs": [
    {
     "data": {
      "text/plain": [
       "array([[1, 1, 2],\n",
       "       [1, 2, 4],\n",
       "       [2, 4, 5],\n",
       "       [4, 5, 6],\n",
       "       [5, 6, 7],\n",
       "       [6, 7, 1],\n",
       "       [7, 1, 2],\n",
       "       [1, 2, 3],\n",
       "       [2, 3, 4],\n",
       "       [3, 4, 5]])"
      ]
     },
     "execution_count": 31,
     "metadata": {},
     "output_type": "execute_result"
    }
   ],
   "source": [
    "# Create a 2D numpy array from wins.\n",
    "wins = np.stack(wins)\n",
    "wins"
   ]
  },
  {
   "cell_type": "code",
   "execution_count": 32,
   "id": "0734f449-bed0-4114-bc5d-a6846dfb549d",
   "metadata": {},
   "outputs": [
    {
     "data": {
      "text/plain": [
       "(10, 3)"
      ]
     },
     "execution_count": 32,
     "metadata": {},
     "output_type": "execute_result"
    }
   ],
   "source": [
    "wins.shape"
   ]
  },
  {
   "cell_type": "markdown",
   "id": "9e229491-d135-4265-a6a3-8fba41ff7541",
   "metadata": {},
   "source": [
    "We'll apply the above window sliding technique to our training dataset. There is a value for every 5 min for 14 days in the dataset. If we divide the total number of records (4032) with the number of days (14) we get 288 timesteps per day. This is deemed the good size for the window."
   ]
  },
  {
   "cell_type": "code",
   "execution_count": 33,
   "id": "b59adfa9-f006-49cd-bf4c-0f38e68ba591",
   "metadata": {},
   "outputs": [],
   "source": [
    "# Window size for our training dataset \n",
    "window_size = 288"
   ]
  },
  {
   "cell_type": "code",
   "execution_count": 34,
   "id": "668e6e96-123f-4b8f-86f6-9751c8682b25",
   "metadata": {},
   "outputs": [
    {
     "data": {
      "text/plain": [
       "3745"
      ]
     },
     "execution_count": 34,
     "metadata": {},
     "output_type": "execute_result"
    }
   ],
   "source": [
    "# Number of windows\n",
    "len(df_train_vals) - window_size + 1"
   ]
  },
  {
   "cell_type": "code",
   "execution_count": 35,
   "id": "f511b384-987c-4453-be16-be28d6bbc232",
   "metadata": {},
   "outputs": [],
   "source": [
    "# Function to generate training sequences for use in the model\n",
    "def create_sequences(values, time_steps=window_size):\n",
    "    # Empty list\n",
    "    windows = []\n",
    "    # Loop through all the possible windows\n",
    "    for i in range(len(values) - time_steps + 1):\n",
    "        # Append the window to the list\n",
    "        windows.append(values[i : (i + time_steps)])\n",
    "    # Stack the result\n",
    "    return np.stack(windows)"
   ]
  },
  {
   "cell_type": "code",
   "execution_count": 36,
   "id": "7d3e6226-c4fa-40b6-abf4-7f41fa0d5801",
   "metadata": {},
   "outputs": [],
   "source": [
    "# Apply the function to the training dataset (create sequences)\n",
    "x_train = create_sequences(df_train_vals)"
   ]
  },
  {
   "cell_type": "code",
   "execution_count": 37,
   "id": "5794b2d8-04ad-4d17-9631-859098797f92",
   "metadata": {},
   "outputs": [
    {
     "data": {
      "text/plain": [
       "(3745, 288, 1)"
      ]
     },
     "execution_count": 37,
     "metadata": {},
     "output_type": "execute_result"
    }
   ],
   "source": [
    "# Get the shape of the array\n",
    "x_train.shape"
   ]
  },
  {
   "cell_type": "markdown",
   "id": "88045fc4-1f61-4528-98d2-8e92ee74bb2f",
   "metadata": {},
   "source": [
    "We can see there are 3745 windows, each of size 288."
   ]
  },
  {
   "cell_type": "markdown",
   "id": "158f6786-294c-403f-aead-635dc247fd42",
   "metadata": {},
   "source": [
    "### BUILD A MODEL\n",
    "***"
   ]
  },
  {
   "cell_type": "markdown",
   "id": "135844d8-0a0c-448d-9588-31496fb71795",
   "metadata": {},
   "source": [
    "A typical model in Keras is an aggregate of multiple training and inferential layers. [15] Keras Layers are the functional building blocks of Keras Models. Each layer is created using numerous layer_() functions. These layers are fed with input information, they process this information, do some computation and hence produce the output. Further, this output of one layer is fed to another layer as its input. [17] There are two methods to build models in Keras:\n",
    "1. Functional -  handles non-linear models with diverse functionalities.\n",
    "2. Sequential - used in a network that has a linear topology.\n",
    "\n",
    "To build our model we use the Sequential class in Keras allowing us to group a linear stack of layers into the model. Sequential is the easiest way to build a model in Keras. It allows you to build a model layer by layer. Each layer has weights that correspond to the layer that follows it. [13] Generally, all layers in Keras need to know the shape of their inputs in order to be able to create their weights. So when you create a layer like this, initially, it has no weights. It creates its weights the first time it is called on an input, since the shape of the weights depends on the shape of the inputs. This also applies to Sequential models. In general, it's a recommended to always specify the input shape of a Sequential model in advance if you know what it is. This can be done by passing an [Input](https://keras.io/api/layers/core_layers/input/) object to your model, so that it knows its input shape from the start. The input object is not a layer. [16]"
   ]
  },
  {
   "cell_type": "code",
   "execution_count": 38,
   "id": "af2dee93-cb63-4a5b-a217-e28790519878",
   "metadata": {},
   "outputs": [
    {
     "data": {
      "text/plain": [
       "(288, 1)"
      ]
     },
     "execution_count": 38,
     "metadata": {},
     "output_type": "execute_result"
    }
   ],
   "source": [
    "# Input shape\n",
    "x_train.shape[1], x_train.shape[2]"
   ]
  },
  {
   "cell_type": "code",
   "execution_count": 39,
   "id": "13a55a09-94ba-45e6-9b65-bf6913ab5869",
   "metadata": {},
   "outputs": [],
   "source": [
    "# Create sequential model (layers will be added to this below)\n",
    "model = keras.Sequential()"
   ]
  },
  {
   "cell_type": "code",
   "execution_count": 40,
   "id": "fb3ddb8f-58e7-4f02-b811-7f71fe69c459",
   "metadata": {},
   "outputs": [],
   "source": [
    "# Pass the input object\n",
    "model.add(keras.layers.Input(shape=(x_train.shape[1], x_train.shape[2])))"
   ]
  },
  {
   "cell_type": "markdown",
   "id": "2c25a810-131b-4c11-a6b8-0ec80d2ee28a",
   "metadata": {},
   "source": [
    "<br>\n",
    "\n",
    "There is a variaty of layers available to choose from in [Keras](https://keras.io/api/layers/), each with specific task. It is also possible to create own layers. There are no rules about which layers have to be used for a certain task, or how many. It is up to the user to research, experiment or copy the other existing work. Layers used for this anomaly detection are two of the Convolutional type ([Conv1D](https://keras.io/api/layers/convolution_layers/convolution1d/), [Conv1DTranspose](https://keras.io/api/layers/convolution_layers/convolution1d_transpose/)) and the [Dropout](https://keras.io/api/layers/regularization_layers/dropout/).\n",
    "\n",
    "The first layer added to our model is  of the Convolutional type - [Conv1D](https://keras.io/api/layers/convolution_layers/convolution1d/). Convolution is a mathematical operation on two functions that produces a third function that expresses how the shape of one is modified by the other. [19] Research has shown that using convultion for time series classification has several important advantages over other methods. They are highly noise-resistant models, and they are able to extract very informative, deep features, which are independent from time. [18] The following layer is the  [Dropout](https://keras.io/api/layers/regularization_layers/dropout/) layer. The main purpose of dropout layer is to remove the noise that may be present in the input of neurons. This consequently prevents over-fitting of model. The third layer type used in the model belongs to the Convolutional Type too, but is in essence the Deconvolutional. It is the proccess inverse to convolution. It is used when we want the transformation direction to go from something that has the shape of the output of some convolution to something that has the shape of its input while maintaining a connectivity pattern that is compatible with said convolution. [20)\n",
    "<br>"
   ]
  },
  {
   "cell_type": "markdown",
   "id": "9e17c848-793b-4068-aa61-89f121f4c992",
   "metadata": {},
   "source": [
    "$ LAYERS: Conv1D \\Rightarrow Dropout \\Rightarrow Conv1D \\Rightarrow Conv1DTranspose \\Rightarrow  Dropout \\Rightarrow Conv1DTranspose \\Rightarrow Conv1DTranspose $"
   ]
  },
  {
   "cell_type": "code",
   "execution_count": 41,
   "id": "6ef55b78-f428-48c0-a500-0a48733bd90f",
   "metadata": {},
   "outputs": [],
   "source": [
    "# First layer: Conv1D\n",
    "model.add(keras.layers.Conv1D(filters=32, kernel_size=7, padding=\"same\", strides=2, activation=\"relu\"))"
   ]
  },
  {
   "cell_type": "code",
   "execution_count": 42,
   "id": "2d5c5885-a10d-4e28-86d7-4e38c05cbf1d",
   "metadata": {},
   "outputs": [],
   "source": [
    "# Second layer: Dropout\n",
    "model.add(keras.layers.Dropout(rate=0.2))"
   ]
  },
  {
   "cell_type": "code",
   "execution_count": 43,
   "id": "b62920ae-a53c-461d-9609-f9496b747386",
   "metadata": {},
   "outputs": [],
   "source": [
    "# Third layer: Conv1D\n",
    "model.add(keras.layers.Conv1D(filters=16, kernel_size=7, padding=\"same\", strides=2, activation=\"relu\"))"
   ]
  },
  {
   "cell_type": "code",
   "execution_count": 44,
   "id": "53b9b354-dc6e-4f98-b4b8-720eb9b83556",
   "metadata": {},
   "outputs": [],
   "source": [
    "# Fourth layer: Conv1DTranspose\n",
    "model.add(keras.layers.Conv1DTranspose(filters=16, kernel_size=7, padding=\"same\", strides=2, activation=\"relu\"))"
   ]
  },
  {
   "cell_type": "code",
   "execution_count": 45,
   "id": "ddf77393-1541-4740-ba27-836c212dcc81",
   "metadata": {},
   "outputs": [],
   "source": [
    "# Fifth layer: Dropout\n",
    "model.add(keras.layers.Dropout(rate=0.2))"
   ]
  },
  {
   "cell_type": "code",
   "execution_count": 46,
   "id": "dddab46a-e287-4b69-a318-88c87a1e7fa8",
   "metadata": {},
   "outputs": [],
   "source": [
    "# Sixth layer: Conv1DTranspose\n",
    "model.add(keras.layers.Conv1DTranspose(filters=32, kernel_size=7, padding=\"same\", strides=2, activation=\"relu\"))"
   ]
  },
  {
   "cell_type": "code",
   "execution_count": 47,
   "id": "cafb59e6-0b6f-45e1-b756-15d30c4475ef",
   "metadata": {},
   "outputs": [],
   "source": [
    "# Seventh (final) layer: Conv1DTranspose\n",
    "model.add(keras.layers.Conv1DTranspose(filters=1, kernel_size=7, padding=\"same\"))"
   ]
  },
  {
   "cell_type": "code",
   "execution_count": 48,
   "id": "55e2ba78-f85e-4596-ae64-027184154cf9",
   "metadata": {},
   "outputs": [
    {
     "name": "stdout",
     "output_type": "stream",
     "text": [
      "Model: \"sequential\"\n",
      "_________________________________________________________________\n",
      " Layer (type)                Output Shape              Param #   \n",
      "=================================================================\n",
      " conv1d (Conv1D)             (None, 144, 32)           256       \n",
      "                                                                 \n",
      " dropout (Dropout)           (None, 144, 32)           0         \n",
      "                                                                 \n",
      " conv1d_1 (Conv1D)           (None, 72, 16)            3600      \n",
      "                                                                 \n",
      " conv1d_transpose (Conv1DTra  (None, 144, 16)          1808      \n",
      " nspose)                                                         \n",
      "                                                                 \n",
      " dropout_1 (Dropout)         (None, 144, 16)           0         \n",
      "                                                                 \n",
      " conv1d_transpose_1 (Conv1DT  (None, 288, 32)          3616      \n",
      " ranspose)                                                       \n",
      "                                                                 \n",
      " conv1d_transpose_2 (Conv1DT  (None, 288, 1)           225       \n",
      " ranspose)                                                       \n",
      "                                                                 \n",
      "=================================================================\n",
      "Total params: 9,505\n",
      "Trainable params: 9,505\n",
      "Non-trainable params: 0\n",
      "_________________________________________________________________\n"
     ]
    }
   ],
   "source": [
    "# Looking at the model architecture\n",
    "model.summary()"
   ]
  },
  {
   "cell_type": "markdown",
   "id": "12c7cb07-c085-4fd4-920d-35bd069a2008",
   "metadata": {},
   "source": [
    "The above output gives us the breakdown off all the layers used, their output and the number of parameters. We can also see the total number of parameters used in the model."
   ]
  },
  {
   "cell_type": "markdown",
   "id": "e7036fce-4fec-4e1a-aeaa-992a18d5a5ca",
   "metadata": {},
   "source": [
    "Finally, we need to compile our model. Compiling the model takes two parameters: optimizer and loss. The optimizer is used to control the learning rate. The optimizer we will use is the \"adam\" optimizer. The method is straightforward to implement, is computationally efficient, has little memory requirements, is invariant to diagonal rescaling of the gradients, and is well suited for problems that are large in terms of data and/or parameters. [21] Adam is a good optimizer for general purpose. It adjusts the learning rate throughout training. The learning rate determines how fast the optimal weights for the model are calculated. A smaller learning rate may lead to more accurate weights, but the time it takes to compute the weights will be longer. [13] For our loss function, we will use ‘mse - mean_squared_error’. It is the average squared difference between the estimated(predicted) values and the actual value. It is a popular loss function for regression problems. The closer to 0 this is, the better the model performed."
   ]
  },
  {
   "cell_type": "code",
   "execution_count": 49,
   "id": "c8cffd6a-0bc0-4067-8101-b086cc148e29",
   "metadata": {},
   "outputs": [],
   "source": [
    "# Defining the optimizer (for compiling) \n",
    "optimizer = keras.optimizers.Adam(learning_rate=0.001)"
   ]
  },
  {
   "cell_type": "code",
   "execution_count": 50,
   "id": "a88de70e-1ab5-4dba-a662-2ec2770f6659",
   "metadata": {},
   "outputs": [],
   "source": [
    "# Compiling the model (final step)\n",
    "model.compile(optimizer=optimizer, loss=\"mse\")"
   ]
  },
  {
   "cell_type": "markdown",
   "id": "84e2d2eb-c778-43ab-873f-1c74e701e8e7",
   "metadata": {},
   "source": [
    "### TRAIN THE MODEL\n",
    "***"
   ]
  },
  {
   "cell_type": "markdown",
   "id": "60e76df4-a69d-48a5-bc08-05a38db7e86a",
   "metadata": {},
   "source": [
    "Next step is to train the above built model. This is done using [*fit()*](https://keras.io/api/models/model_training_apis/) function. This function trains the model for a fixed number of epochs. Number of epochs is the number of times the model will cycle through the data. Model will improve with each epoch run, up to a certain point. We use [*EarlyStopping*](https://keras.io/api/callbacks/early_stopping/) to stop the training when the model stops improving. Please note that the number of epochs in Keras documentation is 50. The number of cycles in documentation stops on 15, but in our case it keeps running to the end. Therefore, the epochs number has been increased to 100, to allow model more cycles to get improved. *fit* function takes *x_train* as both input and the target because this is a reconstruction model. It returns an object with records of training loss values and validation loss values (see the output below)."
   ]
  },
  {
   "cell_type": "code",
   "execution_count": 51,
   "id": "d4b9b83f-35ec-4a12-8a22-8f51268a5db6",
   "metadata": {},
   "outputs": [
    {
     "name": "stdout",
     "output_type": "stream",
     "text": [
      "Epoch 1/100\n",
      "27/27 [==============================] - 2s 53ms/step - loss: 0.4532 - val_loss: 0.0611\n",
      "Epoch 2/100\n",
      "27/27 [==============================] - 1s 46ms/step - loss: 0.0772 - val_loss: 0.0475\n",
      "Epoch 3/100\n",
      "27/27 [==============================] - 1s 46ms/step - loss: 0.0574 - val_loss: 0.0350\n",
      "Epoch 4/100\n",
      "27/27 [==============================] - 1s 46ms/step - loss: 0.0470 - val_loss: 0.0310\n",
      "Epoch 5/100\n",
      "27/27 [==============================] - 1s 47ms/step - loss: 0.0406 - val_loss: 0.0285\n",
      "Epoch 6/100\n",
      "27/27 [==============================] - 1s 45ms/step - loss: 0.0361 - val_loss: 0.0266\n",
      "Epoch 7/100\n",
      "27/27 [==============================] - 1s 46ms/step - loss: 0.0328 - val_loss: 0.0245\n",
      "Epoch 8/100\n",
      "27/27 [==============================] - 1s 47ms/step - loss: 0.0305 - val_loss: 0.0237\n",
      "Epoch 9/100\n",
      "27/27 [==============================] - 1s 47ms/step - loss: 0.0286 - val_loss: 0.0233\n",
      "Epoch 10/100\n",
      "27/27 [==============================] - 1s 47ms/step - loss: 0.0270 - val_loss: 0.0219\n",
      "Epoch 11/100\n",
      "27/27 [==============================] - 1s 47ms/step - loss: 0.0256 - val_loss: 0.0222\n",
      "Epoch 12/100\n",
      "27/27 [==============================] - 1s 48ms/step - loss: 0.0243 - val_loss: 0.0211\n",
      "Epoch 13/100\n",
      "27/27 [==============================] - 1s 50ms/step - loss: 0.0233 - val_loss: 0.0200\n",
      "Epoch 14/100\n",
      "27/27 [==============================] - 1s 50ms/step - loss: 0.0221 - val_loss: 0.0208\n",
      "Epoch 15/100\n",
      "27/27 [==============================] - 1s 51ms/step - loss: 0.0212 - val_loss: 0.0208\n",
      "Epoch 16/100\n",
      "27/27 [==============================] - 1s 55ms/step - loss: 0.0204 - val_loss: 0.0206\n",
      "Epoch 17/100\n",
      "27/27 [==============================] - 2s 66ms/step - loss: 0.0197 - val_loss: 0.0204\n",
      "Epoch 18/100\n",
      "27/27 [==============================] - 2s 67ms/step - loss: 0.0190 - val_loss: 0.0198\n",
      "Epoch 19/100\n",
      "27/27 [==============================] - 2s 67ms/step - loss: 0.0183 - val_loss: 0.0191\n",
      "Epoch 20/100\n",
      "27/27 [==============================] - 2s 68ms/step - loss: 0.0176 - val_loss: 0.0188\n",
      "Epoch 21/100\n",
      "27/27 [==============================] - 2s 66ms/step - loss: 0.0170 - val_loss: 0.0180\n",
      "Epoch 22/100\n",
      "27/27 [==============================] - 2s 65ms/step - loss: 0.0164 - val_loss: 0.0179\n",
      "Epoch 23/100\n",
      "27/27 [==============================] - 2s 75ms/step - loss: 0.0157 - val_loss: 0.0175\n",
      "Epoch 24/100\n",
      "27/27 [==============================] - 2s 81ms/step - loss: 0.0152 - val_loss: 0.0176\n",
      "Epoch 25/100\n",
      "27/27 [==============================] - 2s 67ms/step - loss: 0.0147 - val_loss: 0.0170\n",
      "Epoch 26/100\n",
      "27/27 [==============================] - 2s 63ms/step - loss: 0.0141 - val_loss: 0.0161\n",
      "Epoch 27/100\n",
      "27/27 [==============================] - 2s 68ms/step - loss: 0.0136 - val_loss: 0.0160\n",
      "Epoch 28/100\n",
      "27/27 [==============================] - 2s 66ms/step - loss: 0.0130 - val_loss: 0.0152\n",
      "Epoch 29/100\n",
      "27/27 [==============================] - 2s 58ms/step - loss: 0.0125 - val_loss: 0.0146\n",
      "Epoch 30/100\n",
      "27/27 [==============================] - 2s 65ms/step - loss: 0.0121 - val_loss: 0.0131\n",
      "Epoch 31/100\n",
      "27/27 [==============================] - 2s 66ms/step - loss: 0.0117 - val_loss: 0.0125\n",
      "Epoch 32/100\n",
      "27/27 [==============================] - 2s 58ms/step - loss: 0.0112 - val_loss: 0.0118\n",
      "Epoch 33/100\n",
      "27/27 [==============================] - 2s 66ms/step - loss: 0.0108 - val_loss: 0.0116\n",
      "Epoch 34/100\n",
      "27/27 [==============================] - 2s 60ms/step - loss: 0.0105 - val_loss: 0.0101\n",
      "Epoch 35/100\n",
      "27/27 [==============================] - 2s 58ms/step - loss: 0.0101 - val_loss: 0.0102\n",
      "Epoch 36/100\n",
      "27/27 [==============================] - 2s 59ms/step - loss: 0.0097 - val_loss: 0.0095\n",
      "Epoch 37/100\n",
      "27/27 [==============================] - 2s 60ms/step - loss: 0.0094 - val_loss: 0.0086\n",
      "Epoch 38/100\n",
      "27/27 [==============================] - 2s 69ms/step - loss: 0.0092 - val_loss: 0.0083\n",
      "Epoch 39/100\n",
      "27/27 [==============================] - 2s 64ms/step - loss: 0.0089 - val_loss: 0.0078\n",
      "Epoch 40/100\n",
      "27/27 [==============================] - 2s 66ms/step - loss: 0.0086 - val_loss: 0.0076\n",
      "Epoch 41/100\n",
      "27/27 [==============================] - 2s 58ms/step - loss: 0.0084 - val_loss: 0.0070\n",
      "Epoch 42/100\n",
      "27/27 [==============================] - 2s 57ms/step - loss: 0.0082 - val_loss: 0.0071\n",
      "Epoch 43/100\n",
      "27/27 [==============================] - 1s 55ms/step - loss: 0.0080 - val_loss: 0.0069\n",
      "Epoch 44/100\n",
      "27/27 [==============================] - 2s 59ms/step - loss: 0.0078 - val_loss: 0.0064\n",
      "Epoch 45/100\n",
      "27/27 [==============================] - 2s 58ms/step - loss: 0.0076 - val_loss: 0.0063\n",
      "Epoch 46/100\n",
      "27/27 [==============================] - 1s 54ms/step - loss: 0.0075 - val_loss: 0.0063\n",
      "Epoch 47/100\n",
      "27/27 [==============================] - 1s 53ms/step - loss: 0.0073 - val_loss: 0.0062\n",
      "Epoch 48/100\n",
      "27/27 [==============================] - 2s 59ms/step - loss: 0.0072 - val_loss: 0.0062\n",
      "Epoch 49/100\n",
      "27/27 [==============================] - 1s 53ms/step - loss: 0.0070 - val_loss: 0.0059\n",
      "Epoch 50/100\n",
      "27/27 [==============================] - 2s 55ms/step - loss: 0.0069 - val_loss: 0.0060\n",
      "Epoch 51/100\n",
      "27/27 [==============================] - 2s 61ms/step - loss: 0.0068 - val_loss: 0.0055\n",
      "Epoch 52/100\n",
      "27/27 [==============================] - 2s 66ms/step - loss: 0.0067 - val_loss: 0.0060\n",
      "Epoch 53/100\n",
      "27/27 [==============================] - 2s 60ms/step - loss: 0.0066 - val_loss: 0.0057\n",
      "Epoch 54/100\n",
      "27/27 [==============================] - 2s 66ms/step - loss: 0.0065 - val_loss: 0.0057\n",
      "Epoch 55/100\n",
      "27/27 [==============================] - 2s 77ms/step - loss: 0.0064 - val_loss: 0.0056\n",
      "Epoch 56/100\n",
      "27/27 [==============================] - 2s 73ms/step - loss: 0.0063 - val_loss: 0.0052\n",
      "Epoch 57/100\n",
      "27/27 [==============================] - 2s 71ms/step - loss: 0.0062 - val_loss: 0.0057\n",
      "Epoch 58/100\n",
      "27/27 [==============================] - 2s 81ms/step - loss: 0.0061 - val_loss: 0.0056\n",
      "Epoch 59/100\n",
      "27/27 [==============================] - 2s 69ms/step - loss: 0.0061 - val_loss: 0.0057\n",
      "Epoch 60/100\n",
      "27/27 [==============================] - 2s 56ms/step - loss: 0.0060 - val_loss: 0.0057\n",
      "Epoch 61/100\n",
      "27/27 [==============================] - 1s 53ms/step - loss: 0.0059 - val_loss: 0.0055\n"
     ]
    }
   ],
   "source": [
    "history = model.fit(\n",
    "    x_train,\n",
    "    x_train,\n",
    "    epochs=100,\n",
    "    batch_size=128,\n",
    "    validation_split=0.1,\n",
    "    callbacks=[\n",
    "        keras.callbacks.EarlyStopping(monitor=\"val_loss\", patience=5, mode=\"min\")\n",
    "    ],\n",
    ")"
   ]
  },
  {
   "cell_type": "code",
   "execution_count": 83,
   "id": "31c37dc6-6e76-4c68-9df0-eb00feedff3a",
   "metadata": {},
   "outputs": [
    {
     "data": {
      "text/plain": [
       "{'loss': [0.4532090425491333,\n",
       "  0.07724568992853165,\n",
       "  0.05736980214715004,\n",
       "  0.04704101011157036,\n",
       "  0.04058390483260155,\n",
       "  0.03606739640235901,\n",
       "  0.03284970298409462,\n",
       "  0.030469615012407303,\n",
       "  0.02861892059445381,\n",
       "  0.02696237340569496,\n",
       "  0.02560635656118393,\n",
       "  0.024338161572813988,\n",
       "  0.02328302711248398,\n",
       "  0.02212543599307537,\n",
       "  0.021190589293837547,\n",
       "  0.020429620519280434,\n",
       "  0.019706960767507553,\n",
       "  0.018959471955895424,\n",
       "  0.018301066011190414,\n",
       "  0.017612509429454803,\n",
       "  0.016977747902274132,\n",
       "  0.016358649358153343,\n",
       "  0.015735184773802757,\n",
       "  0.015166773460805416,\n",
       "  0.014678219333291054,\n",
       "  0.014094598591327667,\n",
       "  0.01357225701212883,\n",
       "  0.0130431754514575,\n",
       "  0.012547985650599003,\n",
       "  0.012110465206205845,\n",
       "  0.011664272285997868,\n",
       "  0.011225459165871143,\n",
       "  0.010843317024409771,\n",
       "  0.010492177680134773,\n",
       "  0.010133344680070877,\n",
       "  0.009737399406731129,\n",
       "  0.009438946843147278,\n",
       "  0.009166095405817032,\n",
       "  0.00887308269739151,\n",
       "  0.008647575974464417,\n",
       "  0.008389631286263466,\n",
       "  0.008175785653293133,\n",
       "  0.007976368069648743,\n",
       "  0.0077613661997020245,\n",
       "  0.007634387817233801,\n",
       "  0.00746731273829937,\n",
       "  0.0073263077065348625,\n",
       "  0.007221502251923084,\n",
       "  0.007020858116447926,\n",
       "  0.006933341268450022,\n",
       "  0.006779864896088839,\n",
       "  0.00669721607118845,\n",
       "  0.006585053168237209,\n",
       "  0.006486678030341864,\n",
       "  0.0064050983637571335,\n",
       "  0.006339045241475105,\n",
       "  0.0062291668727993965,\n",
       "  0.006122814025729895,\n",
       "  0.006053321994841099,\n",
       "  0.005975659936666489,\n",
       "  0.005916549824178219],\n",
       " 'val_loss': [0.061063241213560104,\n",
       "  0.04753468185663223,\n",
       "  0.03500921651721001,\n",
       "  0.031023992225527763,\n",
       "  0.028491171076893806,\n",
       "  0.0266073327511549,\n",
       "  0.024460529908537865,\n",
       "  0.023683367297053337,\n",
       "  0.023297663778066635,\n",
       "  0.021935846656560898,\n",
       "  0.022228902205824852,\n",
       "  0.021118126809597015,\n",
       "  0.01999826729297638,\n",
       "  0.02080421894788742,\n",
       "  0.02080603502690792,\n",
       "  0.020605478435754776,\n",
       "  0.02043243870139122,\n",
       "  0.019829630851745605,\n",
       "  0.019132060930132866,\n",
       "  0.01876598224043846,\n",
       "  0.01804606430232525,\n",
       "  0.01789962686598301,\n",
       "  0.017500946298241615,\n",
       "  0.017642896622419357,\n",
       "  0.016987016424536705,\n",
       "  0.016105350106954575,\n",
       "  0.01602647639811039,\n",
       "  0.015166846103966236,\n",
       "  0.014570111408829689,\n",
       "  0.013128379359841347,\n",
       "  0.012461147271096706,\n",
       "  0.011781064793467522,\n",
       "  0.011624356731772423,\n",
       "  0.01014447771012783,\n",
       "  0.010206479579210281,\n",
       "  0.009494735859334469,\n",
       "  0.008648046292364597,\n",
       "  0.00827758014202118,\n",
       "  0.007849774323403835,\n",
       "  0.0075694904662668705,\n",
       "  0.007000545039772987,\n",
       "  0.007077469956129789,\n",
       "  0.006907493807375431,\n",
       "  0.0064320871606469154,\n",
       "  0.006336799822747707,\n",
       "  0.0062574418261647224,\n",
       "  0.006171842105686665,\n",
       "  0.00623119855299592,\n",
       "  0.005879080388695002,\n",
       "  0.005958476569503546,\n",
       "  0.005475712940096855,\n",
       "  0.005993526428937912,\n",
       "  0.005653254687786102,\n",
       "  0.005745052359998226,\n",
       "  0.005565687082707882,\n",
       "  0.005233505740761757,\n",
       "  0.005672808736562729,\n",
       "  0.005619022995233536,\n",
       "  0.005707424134016037,\n",
       "  0.0056898752227425575,\n",
       "  0.005472131073474884]}"
      ]
     },
     "execution_count": 83,
     "metadata": {},
     "output_type": "execute_result"
    }
   ],
   "source": [
    "history.history"
   ]
  },
  {
   "cell_type": "code",
   "execution_count": 52,
   "id": "70f7b891-3b2f-4b49-be4b-9e36cda92852",
   "metadata": {},
   "outputs": [
    {
     "data": {
      "text/plain": [
       "[0.4532090425491333,\n",
       " 0.07724568992853165,\n",
       " 0.05736980214715004,\n",
       " 0.04704101011157036,\n",
       " 0.04058390483260155,\n",
       " 0.03606739640235901,\n",
       " 0.03284970298409462,\n",
       " 0.030469615012407303,\n",
       " 0.02861892059445381,\n",
       " 0.02696237340569496]"
      ]
     },
     "execution_count": 52,
     "metadata": {},
     "output_type": "execute_result"
    }
   ],
   "source": [
    "# Training loss values (first 10)\n",
    "history.history[\"loss\"][0:10]"
   ]
  },
  {
   "cell_type": "code",
   "execution_count": 53,
   "id": "3107ea3e-6605-477e-8e24-3718bce96295",
   "metadata": {},
   "outputs": [
    {
     "data": {
      "text/plain": [
       "[0.061063241213560104,\n",
       " 0.04753468185663223,\n",
       " 0.03500921651721001,\n",
       " 0.031023992225527763,\n",
       " 0.028491171076893806,\n",
       " 0.0266073327511549,\n",
       " 0.024460529908537865,\n",
       " 0.023683367297053337,\n",
       " 0.023297663778066635,\n",
       " 0.021935846656560898]"
      ]
     },
     "execution_count": 53,
     "metadata": {},
     "output_type": "execute_result"
    }
   ],
   "source": [
    "# Validation loss values (first 10)\n",
    "history.history[\"val_loss\"][0:10]"
   ]
  },
  {
   "cell_type": "markdown",
   "id": "9dee1a04-e8fb-4252-95f7-f5d4eb01725d",
   "metadata": {},
   "source": [
    "explain history object"
   ]
  },
  {
   "cell_type": "code",
   "execution_count": 73,
   "id": "73be892e-2df7-4efd-9d81-b98f3572166f",
   "metadata": {},
   "outputs": [
    {
     "data": {
      "image/png": "[encoded data removed]",
      "text/plain": [
       "<Figure size 1800x432 with 1 Axes>"
      ]
     },
     "metadata": {
      "needs_background": "light"
     },
     "output_type": "display_data"
    }
   ],
   "source": [
    "# Plot size\n",
    "fig, ax = plt.subplots(figsize=(25, 6))\n",
    "# Plot training loss values\n",
    "ax.plot(history.history[\"loss\"], label=\"Training Loss\")\n",
    "# Plot validation loss values\n",
    "ax.plot(history.history[\"val_loss\"], label=\"Validation Loss\")\n",
    "# \n",
    "ax.legend();"
   ]
  },
  {
   "cell_type": "markdown",
   "id": "343ec61f-90b9-4397-958f-c00e547c282d",
   "metadata": {},
   "source": [
    "We can cofirm from the plot above that both loss values get imporved over time."
   ]
  },
  {
   "cell_type": "markdown",
   "id": "db8e2cb1-fb2c-4f4d-b137-6aca88880569",
   "metadata": {},
   "source": [
    "### ANOMALY DETECTION\n",
    "***"
   ]
  },
  {
   "cell_type": "code",
   "execution_count": 55,
   "id": "1be3b573-1478-4b72-a7bb-a045bfb8230a",
   "metadata": {},
   "outputs": [
    {
     "name": "stdout",
     "output_type": "stream",
     "text": [
      "118/118 [==============================] - 1s 5ms/step\n"
     ]
    }
   ],
   "source": [
    "# Get train MAE loss.\n",
    "x_train_pred = model.predict(x_train)"
   ]
  },
  {
   "cell_type": "code",
   "execution_count": 56,
   "id": "e36c0c3c-fb97-468b-8569-d81aa0bb5550",
   "metadata": {},
   "outputs": [],
   "source": [
    "# Calculate loss...\n",
    "train_mae_loss = np.mean(np.abs(x_train_pred - x_train), axis=1)"
   ]
  },
  {
   "cell_type": "code",
   "execution_count": 57,
   "id": "b6b75be6-666a-49a9-b404-6719fbf058f0",
   "metadata": {},
   "outputs": [
    {
     "data": {
      "image/png": "[encoded data removed]",
      "text/plain": [
       "<Figure size 720x432 with 1 Axes>"
      ]
     },
     "metadata": {
      "needs_background": "light"
     },
     "output_type": "display_data"
    }
   ],
   "source": [
    "# \n",
    "fig, ax = plt.subplots(figsize=(10, 6))\n",
    "# \n",
    "ax.hist(train_mae_loss, bins=50)\n",
    "# \n",
    "ax.set_xlabel(\"Train MAE loss\")\n",
    "#\n",
    "ax.set_ylabel(\"No of samples\");"
   ]
  },
  {
   "cell_type": "code",
   "execution_count": 58,
   "id": "dc3e9f58-803d-49a9-809d-994aa9a992f7",
   "metadata": {},
   "outputs": [
    {
     "name": "stdout",
     "output_type": "stream",
     "text": [
      "Reconstruction error threshold:  0.0698771355594658\n"
     ]
    }
   ],
   "source": [
    "# Get reconstruction loss threshold.\n",
    "threshold = np.max(train_mae_loss)\n",
    "# \n",
    "print(\"Reconstruction error threshold: \", threshold)"
   ]
  },
  {
   "cell_type": "code",
   "execution_count": 59,
   "id": "47fcbf25-a43e-41c1-8299-f8eab31604e2",
   "metadata": {},
   "outputs": [
    {
     "data": {
      "image/png": "[encoded data removed]",
      "text/plain": [
       "<Figure size 720x432 with 1 Axes>"
      ]
     },
     "metadata": {
      "needs_background": "light"
     },
     "output_type": "display_data"
    }
   ],
   "source": [
    "# \n",
    "fig, ax = plt.subplots(figsize=(10, 6))\n",
    "\n",
    "# \n",
    "ax.plot(x_train[0])\n",
    "\n",
    "# \n",
    "ax.plot(x_train_pred[0]);"
   ]
  },
  {
   "cell_type": "code",
   "execution_count": null,
   "id": "a1f15588-4809-4e2d-82dd-40a964d91a8c",
   "metadata": {},
   "outputs": [],
   "source": []
  },
  {
   "cell_type": "code",
   "execution_count": 60,
   "id": "5cbc24e7-0a68-4842-8302-af9eb3a2a20d",
   "metadata": {},
   "outputs": [],
   "source": [
    "# \n",
    "df_test_value = (df_daily_jumpsup - train_mean) / train_std"
   ]
  },
  {
   "cell_type": "code",
   "execution_count": 61,
   "id": "efed2339-86c2-4045-8c75-f4624ddcd6e4",
   "metadata": {},
   "outputs": [
    {
     "data": {
      "image/png": "[encoded data removed]",
      "text/plain": [
       "<Figure size 720x432 with 1 Axes>"
      ]
     },
     "metadata": {
      "needs_background": "light"
     },
     "output_type": "display_data"
    }
   ],
   "source": [
    "# \n",
    "fig, ax = plt.subplots(figsize=(10, 6))\n",
    "\n",
    "# \n",
    "df_test_value.plot(legend=False, ax=ax);"
   ]
  },
  {
   "cell_type": "code",
   "execution_count": 62,
   "id": "fc036814-18d9-4135-9a86-b07e3dc1e8ff",
   "metadata": {},
   "outputs": [
    {
     "name": "stdout",
     "output_type": "stream",
     "text": [
      "Test input shape:  (3745, 288, 1)\n"
     ]
    }
   ],
   "source": [
    "# Create sequences from test values.\n",
    "x_test = create_sequences(df_test_value.values)\n",
    "print(\"Test input shape: \", x_test.shape)"
   ]
  },
  {
   "cell_type": "code",
   "execution_count": 63,
   "id": "d39166c9-0124-41b2-bb66-b7167c7bdfa8",
   "metadata": {},
   "outputs": [
    {
     "name": "stdout",
     "output_type": "stream",
     "text": [
      "118/118 [==============================] - 1s 5ms/step\n"
     ]
    }
   ],
   "source": [
    "# \n",
    "x_test_pred = model.predict(x_test)"
   ]
  },
  {
   "cell_type": "code",
   "execution_count": 64,
   "id": "e403a99b-2c19-4515-9133-297745903388",
   "metadata": {},
   "outputs": [
    {
     "data": {
      "text/plain": [
       "array([[0.05252615],\n",
       "       [0.05695474],\n",
       "       [0.05405376],\n",
       "       ...,\n",
       "       [0.0560915 ],\n",
       "       [0.05710618],\n",
       "       [0.0552431 ]])"
      ]
     },
     "execution_count": 64,
     "metadata": {},
     "output_type": "execute_result"
    }
   ],
   "source": [
    "# \n",
    "test_mae_loss = np.mean(np.abs(x_test_pred - x_test), axis=1)\n",
    "\n",
    "test_mae_loss"
   ]
  },
  {
   "cell_type": "code",
   "execution_count": 65,
   "id": "9687a2e7-2bce-4898-8c74-bd3782d39c2c",
   "metadata": {},
   "outputs": [
    {
     "data": {
      "text/plain": [
       "array([0.05252615, 0.05695474, 0.05405376, ..., 0.0560915 , 0.05710618,\n",
       "       0.0552431 ])"
      ]
     },
     "execution_count": 65,
     "metadata": {},
     "output_type": "execute_result"
    }
   ],
   "source": [
    "# \n",
    "test_mae_loss = test_mae_loss.reshape((-1))\n",
    "test_mae_loss"
   ]
  },
  {
   "cell_type": "code",
   "execution_count": 66,
   "id": "3a33429b-4ad0-4096-9e5a-b0685fdad770",
   "metadata": {},
   "outputs": [
    {
     "data": {
      "image/png": "[encoded data removed]",
      "text/plain": [
       "<Figure size 720x432 with 1 Axes>"
      ]
     },
     "metadata": {
      "needs_background": "light"
     },
     "output_type": "display_data"
    }
   ],
   "source": [
    "# \n",
    "fig, ax = plt.subplots(figsize=(10, 6))\n",
    "\n",
    "#\n",
    "ax.hist(test_mae_loss, bins=50)\n",
    "\n",
    "# \n",
    "ax.set_xlabel(\"test MAE loss\")\n",
    "\n",
    "# \n",
    "ax.set_ylabel(\"No of samples\");"
   ]
  },
  {
   "cell_type": "code",
   "execution_count": 67,
   "id": "a368870a-075b-4a00-94db-76dd89ed24e6",
   "metadata": {},
   "outputs": [],
   "source": [
    "# Detect all the samples which are anomalies.\n",
    "anomalies = test_mae_loss > threshold"
   ]
  },
  {
   "cell_type": "code",
   "execution_count": 68,
   "id": "ca053d1f-af69-4f35-a76c-15b2cdb273e8",
   "metadata": {},
   "outputs": [
    {
     "name": "stdout",
     "output_type": "stream",
     "text": [
      "Number of anomaly samples:  404\n"
     ]
    }
   ],
   "source": [
    "print(\"Number of anomaly samples: \", np.sum(anomalies))"
   ]
  },
  {
   "cell_type": "code",
   "execution_count": 69,
   "id": "602bb112-b936-449c-b9af-edb3bc0f342f",
   "metadata": {
    "tags": []
   },
   "outputs": [],
   "source": [
    "# data i is an anomaly if samples [(i - timesteps + 1) to (i)] are anomalies\n",
    "inds = []\n",
    "\n",
    "for i in range(window_size - 1, len(df_test_value) - window_size + 1):\n",
    "    if np.all(anomalies[i - window_size + 1 : i]):\n",
    "        inds.append(i)"
   ]
  },
  {
   "cell_type": "code",
   "execution_count": 70,
   "id": "6afd5a9b-6144-4ce0-b697-ef8efd9efc81",
   "metadata": {},
   "outputs": [],
   "source": [
    "# \n",
    "df_subset = df_daily_jumpsup.iloc[inds]"
   ]
  },
  {
   "cell_type": "code",
   "execution_count": 71,
   "id": "4fe0b19e-8edf-466f-8a42-8f755af5af38",
   "metadata": {},
   "outputs": [
    {
     "data": {
      "image/png": "[encoded data removed]",
      "text/plain": [
       "<Figure size 720x432 with 1 Axes>"
      ]
     },
     "metadata": {
      "needs_background": "light"
     },
     "output_type": "display_data"
    }
   ],
   "source": [
    "#\n",
    "fig, ax = plt.subplots(figsize=(10, 6))\n",
    "\n",
    "# \n",
    "df_daily_jumpsup.plot(legend=False, ax=ax)\n",
    "\n",
    "# \n",
    "df_subset.plot(legend=False, ax=ax, color=\"r\");"
   ]
  },
  {
   "cell_type": "code",
   "execution_count": null,
   "id": "e93d0bf2-be94-48d5-8529-bd0fbda6ecfc",
   "metadata": {},
   "outputs": [],
   "source": []
  },
  {
   "cell_type": "code",
   "execution_count": null,
   "id": "ead4baf8-a5c3-4c13-8a17-5458ebfcd22f",
   "metadata": {},
   "outputs": [],
   "source": []
  },
  {
   "cell_type": "code",
   "execution_count": null,
   "id": "c3157415-fa8b-45d5-a139-c43846a56c39",
   "metadata": {},
   "outputs": [],
   "source": []
  },
  {
   "cell_type": "code",
   "execution_count": null,
   "id": "d0c940de-0878-479b-94dd-93635785729f",
   "metadata": {},
   "outputs": [],
   "source": []
  },
  {
   "cell_type": "markdown",
   "id": "9a65ecd8-d0f6-46a8-bbf9-0a1b3dbc1715",
   "metadata": {},
   "source": [
    "### REFERENCES"
   ]
  },
  {
   "cell_type": "markdown",
   "id": "c93f8fbc-99e0-4f22-bb50-78aa61c97bae",
   "metadata": {},
   "source": [
    "1. https://thedatascientist.com/anomaly-detection-why-you-need-it/\n",
    "2. https://keras.io/about/\n",
    "3. https://www.simplilearn.com/tutorials/deep-learning-tutorial/what-is-keras\n",
    "4. https://en.wikipedia.org/wiki/TensorFlow\n",
    "5. https://towardsdatascience.com/applied-deep-learning-part-3-autoencoders-1c083af4d798\n",
    "6. https://www.kaggle.com/datasets/boltzmannbrain/nab\n",
    "7. https://paperswithcode.com/dataset/nab\n",
    "8. https://www.javatpoint.com/normalization-in-machine-learning\n",
    "9. https://machinelearningmastery.com/how-to-improve-neural-network-stability-and-modeling-performance-with-data-scaling/\n",
    "10. https://www.statisticshowto.com/standardized-values-examples/\n",
    "11. https://www.researchgate.net/publication/353001246_Anomaly_Detection_Using_a_Sliding_Window_Technique_and_Data_Imputation_with_Machine_Learning_for_Hydrological_Time_Series\n",
    "12. https://programmathically.com/what-is-the-sliding-window-algorithm/\n",
    "13. https://towardsdatascience.com/building-a-deep-learning-model-using-keras-1548ca149d37\n",
    "14. https://github.com/knathanieltucker/a-bit-of-deep-learning-and-keras/blob/master/notebooks/Sequential.ipynb\n",
    "15. https://www.geeksforgeeks.org/how-to-create-models-in-keras/\n",
    "16. https://keras.io/guides/sequential_model/\n",
    "17. https://techvidvan.com/tutorials/keras-layers/\n",
    "18. https://towardsdatascience.com/how-to-use-convolutional-neural-networks-for-time-series-classification-56b1b0a07a57\n",
    "19. https://en.wikipedia.org/wiki/Convolution\n",
    "20. https://keras.io/api/layers/convolution_layers/convolution1d_transpose/\n",
    "21. https://arxiv.org/abs/1412.6980"
   ]
  },
  {
   "cell_type": "markdown",
   "id": "072c4acc-8476-4755-a711-0e294ecf8f7a",
   "metadata": {},
   "source": [
    "https://towardsdatascience.com/fraud-and-anomaly-detection-with-artificial-neural-networks-using-python3-and-tensorflow-44b73d8b1240"
   ]
  },
  {
   "cell_type": "code",
   "execution_count": null,
   "id": "975518a2-6cb8-4682-a8ff-3044fbbfaca8",
   "metadata": {},
   "outputs": [],
   "source": []
  }
 ],
 "metadata": {
  "kernelspec": {
   "display_name": "Python 3",
   "language": "python",
   "name": "python3"
  },
  "language_info": {
   "codemirror_mode": {
    "name": "ipython",
    "version": 3
   },
   "file_extension": ".py",
   "mimetype": "text/x-python",
   "name": "python",
   "nbconvert_exporter": "python",
   "pygments_lexer": "ipython3",
   "version": "3.8.8"
  }
 },
 "nbformat": 4,
 "nbformat_minor": 5
}
