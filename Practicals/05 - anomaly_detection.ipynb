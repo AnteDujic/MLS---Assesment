{
 "cells": [
  {
   "cell_type": "markdown",
   "id": "8eb22af3-532a-412d-aeb7-a279c507d8bc",
   "metadata": {},
   "source": [
    "# TIMESERIES ANOMALY DETECTION\n",
    "## AUTHOR: ANTE DUJIC\n",
    "<hr style=\"border:2px solid gray\"> </hr>"
   ]
  },
  {
   "cell_type": "markdown",
   "id": "57d09ce2-9948-40ab-b8c0-b3b7ce38fae0",
   "metadata": {},
   "source": [
    "<center><img src=\"https://i0.wp.com/thedatascientist.com/wp-content/uploads/2019/02/anomaly_detection.png?fit=1200%2C800&ssl=1\" width=\"400\"/></center>"
   ]
  },
  {
   "cell_type": "code",
   "execution_count": null,
   "id": "10787114-6a92-45f1-9167-25b22e0462d1",
   "metadata": {},
   "outputs": [],
   "source": []
  }
 ],
 "metadata": {
  "kernelspec": {
   "display_name": "Python 3",
   "language": "python",
   "name": "python3"
  },
  "language_info": {
   "codemirror_mode": {
    "name": "ipython",
    "version": 3
   },
   "file_extension": ".py",
   "mimetype": "text/x-python",
   "name": "python",
   "nbconvert_exporter": "python",
   "pygments_lexer": "ipython3",
   "version": "3.8.8"
  }
 },
 "nbformat": 4,
 "nbformat_minor": 5
}
