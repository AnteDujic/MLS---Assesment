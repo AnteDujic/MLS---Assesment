{
 "cells": [
  {
   "cell_type": "code",
   "execution_count": null,
   "id": "0ad749f6-d2be-4626-969b-e1f9a2aa0188",
   "metadata": {},
   "outputs": [],
   "source": []
  },
  {
   "cell_type": "markdown",
   "id": "426dd3c5-0184-4cc7-9703-49f49912cb2b",
   "metadata": {},
   "source": [
    "# PARAMETERS\n",
    "## AUTHOR: ANTE DUJIC\n",
    "<hr style=\"border:2px solid black\"> </hr>"
   ]
  },
  {
   "cell_type": "markdown",
   "id": "4d398312-5636-4dae-a857-0066b94ca446",
   "metadata": {},
   "source": [
    "<center><img src=\"https://cdn.lynda.com/course/645049/645049-636628390565991366-16x9.jpg\" width=\"500\"/></center>"
   ]
  },
  {
   "cell_type": "code",
   "execution_count": null,
   "id": "b1c1047f-de7e-443a-b8df-0450f449b362",
   "metadata": {},
   "outputs": [],
   "source": []
  }
 ],
 "metadata": {
  "kernelspec": {
   "display_name": "Python 3",
   "language": "python",
   "name": "python3"
  },
  "language_info": {
   "codemirror_mode": {
    "name": "ipython",
    "version": 3
   },
   "file_extension": ".py",
   "mimetype": "text/x-python",
   "name": "python",
   "nbconvert_exporter": "python",
   "pygments_lexer": "ipython3",
   "version": "3.8.8"
  }
 },
 "nbformat": 4,
 "nbformat_minor": 5
}
