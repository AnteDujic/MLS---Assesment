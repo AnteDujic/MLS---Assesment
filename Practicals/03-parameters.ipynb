{
 "cells": [
  {
   "cell_type": "markdown",
   "id": "426dd3c5-0184-4cc7-9703-49f49912cb2b",
   "metadata": {},
   "source": [
    "# PARAMETERS\n",
    "## AUTHOR: ANTE DUJIC\n",
    "<hr style=\"border:2px solid gray\"> </hr>"
   ]
  },
  {
   "cell_type": "markdown",
   "id": "4d398312-5636-4dae-a857-0066b94ca446",
   "metadata": {},
   "source": [
    "<center><img src=\"https://cdn.lynda.com/course/645049/645049-636628390565991366-16x9.jpg\" width=\"500\"/></center>"
   ]
  },
  {
   "cell_type": "markdown",
   "id": "86add906-35fb-4af7-a468-0dabe6037f51",
   "metadata": {},
   "source": [
    "It is impossible to talk about models and machine learning without mentioning parameters. A model parameter is a configuration variable that is internal to the model and whose value can be estimated from the given data. [1]"
   ]
  },
  {
   "cell_type": "markdown",
   "id": "bddb7ea4-6ffc-491b-b603-b125bf0ee431",
   "metadata": {},
   "source": [
    "<hr style=\"border:2px solid gray\"> </hr>"
   ]
  },
  {
   "cell_type": "code",
   "execution_count": 1,
   "id": "907e01e3-56fa-4989-a880-7649c587217b",
   "metadata": {},
   "outputs": [],
   "source": [
    "# Arrays.\n",
    "import numpy as np\n",
    "\n",
    "# Plotting.\n",
    "import matplotlib.pyplot as plt"
   ]
  },
  {
   "cell_type": "markdown",
   "id": "7cc35de1-5a7b-4e59-a7f9-74f88f6bbb96",
   "metadata": {},
   "source": [
    "The model we will use below is the one for the straight line:\n",
    "\n",
    "###  $$y = mx + c$$"
   ]
  },
  {
   "cell_type": "code",
   "execution_count": 2,
   "id": "5ee6660b-ac7c-43bf-91f4-9704696bf44f",
   "metadata": {},
   "outputs": [
    {
     "data": {
      "text/plain": [
       "array([ 0. ,  0.5,  1. ,  1.5,  2. ,  2.5,  3. ,  3.5,  4. ,  4.5,  5. ,\n",
       "        5.5,  6. ,  6.5,  7. ,  7.5,  8. ,  8.5,  9. ,  9.5, 10. ])"
      ]
     },
     "execution_count": 2,
     "metadata": {},
     "output_type": "execute_result"
    }
   ],
   "source": [
    "# x values.\n",
    "x = np.linspace(0.0, 10.0, 21)\n",
    "x"
   ]
  },
  {
   "cell_type": "code",
   "execution_count": 3,
   "id": "b32bfb60-aac7-4220-8eef-56931a3fae08",
   "metadata": {},
   "outputs": [
    {
     "data": {
      "text/plain": [
       "array([-1.66548622, -0.86112337,  2.72244484,  3.89541143,  4.42498347,\n",
       "        9.26639207, 11.80705267, 12.2971515 , 13.97737752, 18.26011223,\n",
       "       17.1919743 , 20.23524992, 21.45362644, 24.93813498, 26.87836376,\n",
       "       28.49448119, 31.07799768, 31.29811732, 33.9039566 , 35.5022474 ,\n",
       "       38.93110629])"
      ]
     },
     "execution_count": 3,
     "metadata": {},
     "output_type": "execute_result"
    }
   ],
   "source": [
    "# y values based on x.\n",
    "y = 4.0 * x - 2.0 + np.random.normal(0.0, 1.0, len(x))\n",
    "y"
   ]
  },
  {
   "cell_type": "code",
   "execution_count": 4,
   "id": "decac7e1-85a2-4e6a-aa54-45ef74470305",
   "metadata": {},
   "outputs": [
    {
     "data": {
      "image/png": "[encoded data removed]",
      "text/plain": [
       "<Figure size 864x432 with 1 Axes>"
      ]
     },
     "metadata": {
      "needs_background": "light"
     },
     "output_type": "display_data"
    }
   ],
   "source": [
    "# Create a plot.\n",
    "fig, ax = plt.subplots(figsize=(12,6))\n",
    "\n",
    "# Plot x vs y.\n",
    "ax.plot(x, y, 'k.');\n"
   ]
  },
  {
   "cell_type": "markdown",
   "id": "24567281-c2cd-488f-9047-72ce84969243",
   "metadata": {},
   "source": [
    "We can see that the data follows the straight line adjusted for some noise. If we were just given x and y values without knowing the relationship between them, we can try to find the parameters m and c (4 and -2 in the example above). Those are the values that relate x and y together."
   ]
  },
  {
   "cell_type": "markdown",
   "id": "a8b7c651-b9c3-498d-8d54-7c2e1b6e458a",
   "metadata": {},
   "source": [
    "We do that using least square fit - in python *numpy.polyfit* function. This function takes 3 values:\n",
    "- x\n",
    "- y\n",
    "- degree of the fitting polynomial\n",
    "\n",
    "x and y values are obvious and are already given. We need to decide what degree will be used.\n",
    "\n",
    "- degree 1: $ y = ax^1 + bx^0 $\n",
    "- degree 2: $ y = ax^2 + bx^1 + cx^0 $\n",
    "- degree 3: $ y = ax^3+ bx^2 + cx^1 + dx^0 $\n",
    "\n",
    "The model used in this example is the one for the straight line, therefore the degree will be 1."
   ]
  },
  {
   "cell_type": "code",
   "execution_count": 5,
   "id": "69d12b17-ad17-4e7a-8058-a9c8627bff47",
   "metadata": {},
   "outputs": [
    {
     "name": "stdout",
     "output_type": "stream",
     "text": [
      "Original parameters: (4, -2)\n",
      "Generated parameters: [ 4.0148095  -1.78692504]\n"
     ]
    }
   ],
   "source": [
    "# Use x and y to try to find the original parameters.\n",
    "origParams = 4, -2\n",
    "params = np.polyfit(x, y, 1)\n",
    "print(\"Original parameters:\", origParams)\n",
    "print(\"Generated parameters:\", params)"
   ]
  },
  {
   "cell_type": "code",
   "execution_count": 6,
   "id": "8581de05-cb8c-4622-aa2d-d7eaee8822f2",
   "metadata": {},
   "outputs": [
    {
     "data": {
      "image/png": "[encoded data removed]",
      "text/plain": [
       "<Figure size 864x432 with 1 Axes>"
      ]
     },
     "metadata": {
      "needs_background": "light"
     },
     "output_type": "display_data"
    }
   ],
   "source": [
    "# Create a plot.\n",
    "fig, ax = plt.subplots(figsize=(12,6))\n",
    "\n",
    "# Plot x vs y.\n",
    "ax.plot(x, y, 'k.')\n",
    "\n",
    "# Plot x vs parameters on x.\n",
    "ax.plot(x, params[0] * x + params[1], 'b-');"
   ]
  },
  {
   "cell_type": "code",
   "execution_count": null,
   "id": "5b67b537-ae69-49d9-b5bb-8d3465a9e038",
   "metadata": {},
   "outputs": [],
   "source": []
  },
  {
   "cell_type": "code",
   "execution_count": null,
   "id": "503a91a2-c052-4b29-b79e-fe6415179b63",
   "metadata": {
    "tags": []
   },
   "outputs": [],
   "source": []
  },
  {
   "cell_type": "code",
   "execution_count": null,
   "id": "e0a8fc89-dc9a-41b5-8ef5-af0bac05c7b7",
   "metadata": {},
   "outputs": [],
   "source": []
  },
  {
   "cell_type": "code",
   "execution_count": null,
   "id": "8d3b040e-6daa-495e-be49-d62136844302",
   "metadata": {},
   "outputs": [],
   "source": []
  },
  {
   "cell_type": "code",
   "execution_count": null,
   "id": "2efa559a-8de8-43e7-a791-a1065704204a",
   "metadata": {},
   "outputs": [],
   "source": []
  },
  {
   "cell_type": "markdown",
   "id": "cde180cf-2a6d-418c-bb02-21557cab63d8",
   "metadata": {},
   "source": [
    "<hr style=\"border:2px solid darkblue\"> </hr>\n",
    "\n",
    "<h4 style=\"color: #001a79;\">EXERCISE 1</h4>"
   ]
  },
  {
   "cell_type": "markdown",
   "id": "6d3c7c02-7845-4cc2-8b22-dca6dae33774",
   "metadata": {},
   "source": [
    "<h5 style=\"color: #001a79;\">Use numpy's polyfit to fit polynomials to the following two data sets.\n",
    "\n",
    "- Data Set 1:\n",
    "\n",
    "    - x = [0.0, 1.0, 2.0, 3.0, 4.0, 5.0, 6.0, 7.0, 8.0, 9.0, 10.0, 11.0, 12.0, 13.0, 14.0, 15.0]\n",
    "    - y = [1.3, 1.2, 9.4, 27.3, 63.1, 126.5, 217.3, 341.5, 512.8, 729.3, 1001.8, 1332.7, 1728.9, 2198.8, 2743.7, 3376.7] <br><br>\n",
    "\n",
    "    \n",
    "- Data Set 2:\n",
    "\n",
    "    - x = [0.0, 1.0, 2.0, 3.0, 4.0, 5.0, 6.0, 7.0, 8.0, 9.0, 10.0, 11.0, 12.0]\n",
    "    - y = [5.7, 16.6, 58.0, 278.9, 1069.3, 3181.4, 7844.3, 16883.9, 32854.9, 59144.2, 100106.7, 161166.3, 248958.6] </h5>\n",
    "\n",
    "<hr style=\"border-top: 1px solid #001a79;\" />"
   ]
  },
  {
   "cell_type": "markdown",
   "id": "27299088-0681-4533-bf07-3aa93b0c6a98",
   "metadata": {},
   "source": [
    "##### DATA 1"
   ]
  },
  {
   "cell_type": "code",
   "execution_count": 7,
   "id": "3d62b38a-9e91-4c33-9aa6-468287fc94e8",
   "metadata": {},
   "outputs": [],
   "source": [
    "x = [0.0, 1.0, 2.0, 3.0, 4.0, 5.0, 6.0, 7.0, 8.0, 9.0, 10.0, 11.0, 12.0, 13.0, 14.0, 15.0]\n",
    "y = [1.3, 1.2, 9.4, 27.3, 63.1, 126.5, 217.3, 341.5, 512.8, 729.3, 1001.8, 1332.7, 1728.9, 2198.8, 2743.7, 3376.7]\n",
    "\n",
    "x = np.array(x)\n",
    "y = np.array(y)"
   ]
  },
  {
   "cell_type": "code",
   "execution_count": 8,
   "id": "a857e7a1-511a-4c23-abc7-8863fcac8e81",
   "metadata": {},
   "outputs": [
    {
     "data": {
      "image/png": "[encoded data removed]",
      "text/plain": [
       "<Figure size 864x432 with 1 Axes>"
      ]
     },
     "metadata": {
      "needs_background": "light"
     },
     "output_type": "display_data"
    }
   ],
   "source": [
    "# Create a plot.\n",
    "fig, ax = plt.subplots(figsize=(12,6))\n",
    "\n",
    "# Plot x vs y.\n",
    "ax.plot(x, y, 'k.');"
   ]
  },
  {
   "cell_type": "markdown",
   "id": "d3d6bfd5-c918-4fe1-b984-4d833252c538",
   "metadata": {},
   "source": [
    "It is visible on the plot above that the y value grows faster as the x value gets higher. We will try to determine what method this is. We can discard the linear just by looking at the graph. We know the value x and will use the root of value y to see if the method is quadratic, cubic, ect."
   ]
  },
  {
   "cell_type": "markdown",
   "id": "7ada1fb9-8eda-4e9b-827d-3e9e20496747",
   "metadata": {},
   "source": [
    "#### $ y = x^2 $\n",
    "***"
   ]
  },
  {
   "cell_type": "code",
   "execution_count": 9,
   "id": "b6c714db-3ef4-4849-bb00-a69934b878e7",
   "metadata": {},
   "outputs": [
    {
     "data": {
      "text/plain": [
       "array([ 1.,  1.,  3.,  5.,  8., 11., 15., 18., 23., 27., 32., 37., 42.,\n",
       "       47., 52., 58.])"
      ]
     },
     "execution_count": 9,
     "metadata": {},
     "output_type": "execute_result"
    }
   ],
   "source": [
    "# Getting x value with square root of y\n",
    "sr = y ** (1./2.)\n",
    "np.round(sr)"
   ]
  },
  {
   "cell_type": "markdown",
   "id": "e92bf24d-01c5-44ba-b83f-f699d3dc2323",
   "metadata": {},
   "source": [
    "We can discard this method and say that is isn't quadratic. We will try the cubic below."
   ]
  },
  {
   "cell_type": "markdown",
   "id": "346dc31b-b994-481a-8fea-10f63f5b31ed",
   "metadata": {},
   "source": [
    "#### $ y = x^3 $\n",
    "***"
   ]
  },
  {
   "cell_type": "code",
   "execution_count": 10,
   "id": "d185f1d1-0f55-4b46-b5f0-a84f6826ec19",
   "metadata": {},
   "outputs": [
    {
     "data": {
      "text/plain": [
       "array([ 1.,  1.,  2.,  3.,  4.,  5.,  6.,  7.,  8.,  9., 10., 11., 12.,\n",
       "       13., 14., 15.])"
      ]
     },
     "execution_count": 10,
     "metadata": {},
     "output_type": "execute_result"
    }
   ],
   "source": [
    "# Checking method\n",
    "cr = y ** (1./3.)\n",
    "np.round(cr)"
   ]
  },
  {
   "cell_type": "markdown",
   "id": "2d975d0e-875f-43a7-a687-4632ea1a32c5",
   "metadata": {},
   "source": [
    "We see that the value *cr* matches the value *x* set before, therefore the method is cubic and the degree we will use in numpy polifit function is 3."
   ]
  },
  {
   "cell_type": "code",
   "execution_count": 11,
   "id": "10ad6213-c32a-4cc6-90c7-6fcf980327bc",
   "metadata": {},
   "outputs": [
    {
     "data": {
      "text/plain": [
       "array([ 0.99699366,  0.07781416, -0.50388419,  1.22298762])"
      ]
     },
     "execution_count": 11,
     "metadata": {},
     "output_type": "execute_result"
    }
   ],
   "source": [
    "params = np.polyfit(x, y, 3)\n",
    "params"
   ]
  },
  {
   "cell_type": "markdown",
   "id": "047126ff-862b-48d9-96f9-fb19c2226ce7",
   "metadata": {},
   "source": [
    "$ y = x^3 $ </br>\n",
    "$ \\Rightarrow y = ax^3+ bx^2 + cx^1 + dx^0 $"
   ]
  },
  {
   "cell_type": "code",
   "execution_count": 12,
   "id": "f2d51d9f-5e9e-48dd-bff5-3c0738397287",
   "metadata": {},
   "outputs": [
    {
     "data": {
      "image/png": "[encoded data removed]",
      "text/plain": [
       "<Figure size 864x432 with 1 Axes>"
      ]
     },
     "metadata": {
      "needs_background": "light"
     },
     "output_type": "display_data"
    }
   ],
   "source": [
    "# Create a plot.\n",
    "fig, ax = plt.subplots(figsize=(12,6))\n",
    "\n",
    "# Plot x vs y.\n",
    "ax.plot(x, y, 'k.')\n",
    "\n",
    "# Plot x vs parameters on x.\n",
    "ax.plot(x, params[0] * x**3 + params[1] * x**2 + params[2] * x + params[3], 'b-');"
   ]
  },
  {
   "cell_type": "markdown",
   "id": "be75fc2d-92bc-4c01-8810-71e607c3d21b",
   "metadata": {},
   "source": [
    "##### DATA 2"
   ]
  },
  {
   "cell_type": "code",
   "execution_count": 13,
   "id": "36875382-18bf-4f73-a5b8-2955b01608d4",
   "metadata": {},
   "outputs": [],
   "source": [
    "x = [0.0, 1.0, 2.0, 3.0, 4.0, 5.0, 6.0, 7.0, 8.0, 9.0, 10.0, 11.0, 12.0]\n",
    "y = [5.7, 16.6, 58.0, 278.9, 1069.3, 3181.4, 7844.3, 16883.9, 32854.9, 59144.2, 100106.7, 161166.3, 248958.6]\n",
    "x = np.array(x)\n",
    "y = np.array(y)"
   ]
  },
  {
   "cell_type": "code",
   "execution_count": 14,
   "id": "c64a3b9f-5b1e-426d-9bb4-a1f67c0fb499",
   "metadata": {},
   "outputs": [
    {
     "data": {
      "image/png": "[encoded data removed]",
      "text/plain": [
       "<Figure size 864x432 with 1 Axes>"
      ]
     },
     "metadata": {
      "needs_background": "light"
     },
     "output_type": "display_data"
    }
   ],
   "source": [
    "# Create a plot.\n",
    "fig, ax = plt.subplots(figsize=(12,6))\n",
    "\n",
    "# Plot x vs y.\n",
    "ax.plot(x, y, 'k.');"
   ]
  },
  {
   "cell_type": "markdown",
   "id": "1b656758-9245-4d88-964b-1358b8b4d060",
   "metadata": {},
   "source": [
    "Plot above is similar to the plot generated from the Data 1 values, but the value y grows faster as the value x grows. We will try to determine relationship between those values, same as we did before."
   ]
  },
  {
   "cell_type": "markdown",
   "id": "44f678bf-1e3e-423c-8d99-8442c397fcaf",
   "metadata": {},
   "source": [
    "<s> LINEAR </s> </br>\n",
    "<s> QUADRATIC </s> </br>\n",
    "<s>  CUBIC </s> </br>\n",
    "<s>  QUARTIC </s> <br>"
   ]
  },
  {
   "cell_type": "code",
   "execution_count": 15,
   "id": "c4a149a3-1470-4156-842f-6017e5c8cbb4",
   "metadata": {},
   "outputs": [
    {
     "data": {
      "text/plain": [
       "array([ 1.,  2.,  2.,  3.,  4.,  5.,  6.,  7.,  8.,  9., 10., 11., 12.])"
      ]
     },
     "execution_count": 15,
     "metadata": {},
     "output_type": "execute_result"
    }
   ],
   "source": [
    "# Checking if method is quintic\n",
    "qr = y ** (1./5.)\n",
    "np.round(qr)"
   ]
  },
  {
   "cell_type": "markdown",
   "id": "98bd718d-2b81-4735-b4d3-eb8ccf0aa5e5",
   "metadata": {},
   "source": [
    "We see that value *qr* matches value *x* from data 2, and we can say that the method is quintic."
   ]
  },
  {
   "cell_type": "code",
   "execution_count": 16,
   "id": "50489de5-673e-4560-a27e-ef5411fa611f",
   "metadata": {},
   "outputs": [
    {
     "data": {
      "text/plain": [
       "array([ 1.00057504, -0.01414627,  0.1060666 , -0.23056784, 10.08965618,\n",
       "        5.73122172])"
      ]
     },
     "execution_count": 16,
     "metadata": {},
     "output_type": "execute_result"
    }
   ],
   "source": [
    "params = np.polyfit(x, y, 5)\n",
    "params"
   ]
  },
  {
   "cell_type": "markdown",
   "id": "881bf3b4-fee6-45ae-b58a-955aef648f82",
   "metadata": {},
   "source": [
    "$ y = x^5 $ </br>\n",
    "$ \\Rightarrow y = ax^5+ bx^4 + cx^3+ dx^2 + ex^1 + fx^0 $"
   ]
  },
  {
   "cell_type": "code",
   "execution_count": 17,
   "id": "cb8367b8-55ea-423a-a3a8-c7cfb5f2a0bd",
   "metadata": {},
   "outputs": [
    {
     "data": {
      "image/png": "[encoded data removed]",
      "text/plain": [
       "<Figure size 864x432 with 1 Axes>"
      ]
     },
     "metadata": {
      "needs_background": "light"
     },
     "output_type": "display_data"
    }
   ],
   "source": [
    "# Create a plot.\n",
    "fig, ax = plt.subplots(figsize=(12,6))\n",
    "\n",
    "# Plot x vs y.\n",
    "ax.plot(x, y, 'k.')\n",
    "\n",
    "# Plot x vs parameters on x.\n",
    "ax.plot(x, params[0] * x**5 + params[1] * x**4 + params[2] * x**3 + params[3] * x**2 + params[4] * x + params[5], 'b-');"
   ]
  },
  {
   "cell_type": "markdown",
   "id": "cbacb4f9-a794-4fda-be70-46f566b4050f",
   "metadata": {},
   "source": [
    "Both methods above have no noise introduced and the best line perfectly fits the given data. This is very unlikely in the real world. "
   ]
  },
  {
   "cell_type": "markdown",
   "id": "4a77e375-95b3-4127-915d-6a868f50060e",
   "metadata": {},
   "source": [
    "<hr style=\"border:2px solid darkblue\"> </hr>"
   ]
  },
  {
   "cell_type": "markdown",
   "id": "d258b9a8-06ea-4a62-aea2-6f51a2f1e4fa",
   "metadata": {},
   "source": [
    "### EXPONENTIALS"
   ]
  },
  {
   "cell_type": "markdown",
   "id": "4ebbadbc-2333-478b-a1be-7f9ff423ae4d",
   "metadata": {},
   "source": [
    "So far we've investigated linear and polynomial methods. Very often function growth will be exponential."
   ]
  },
  {
   "cell_type": "markdown",
   "id": "44ba96db-9611-4d31-bc2e-be04ba17c3b4",
   "metadata": {},
   "source": [
    "An exponential function is a Mathematical function in the form\n",
    "- $ y = a^x$\n",
    "    - *x* is a variable\n",
    "    - *a* is a constant which is called the base of the function and it should be greater than 0\n",
    "\n",
    "The most commonly used exponential function base is the transcendental number *e* (~2.71828).\n",
    "- $ e^x $"
   ]
  },
  {
   "cell_type": "markdown",
   "id": "3c7f58b2-74a5-4710-a420-d5ca8104803a",
   "metadata": {},
   "source": [
    "### $ e^x  \\Leftrightarrow\\ ae^{bx} $\n",
    "***"
   ]
  },
  {
   "cell_type": "code",
   "execution_count": 22,
   "id": "ef831963-a0c7-4ce7-a12e-d0099edc135c",
   "metadata": {},
   "outputs": [
    {
     "name": "stdout",
     "output_type": "stream",
     "text": [
      "2.718281828459045\n",
      "2.718281828459045\n"
     ]
    }
   ],
   "source": [
    "# Numpy has e built in\n",
    "e = np.e\n",
    "e1 = np.exp(1)\n",
    "print (e)\n",
    "print (e1)"
   ]
  },
  {
   "cell_type": "code",
   "execution_count": 23,
   "id": "7adfcc75-1861-4403-8135-c047fbd19a50",
   "metadata": {},
   "outputs": [
    {
     "data": {
      "image/png": "[encoded data removed]",
      "text/plain": [
       "<Figure size 864x576 with 1 Axes>"
      ]
     },
     "metadata": {
      "needs_background": "light"
     },
     "output_type": "display_data"
    }
   ],
   "source": [
    "#  Plotting.\n",
    "a, b = 1.0, 1.0\n",
    "\n",
    "# Generate values for x.\n",
    "x = np.linspace(0.0, 10.0, 101)\n",
    "\n",
    "# Calculate y.\n",
    "y = a * np.exp(b * x)\n",
    "\n",
    "# Create a plot.\n",
    "fig, ax = plt.subplots(figsize=(12, 8))\n",
    "ax.plot(x, y);"
   ]
  },
  {
   "cell_type": "markdown",
   "id": "6ee16133-d306-4e00-9df2-504173c295de",
   "metadata": {},
   "source": [
    "It's visible how the growth rate is very high - growing exponentially. Both *a* and *b* have impact on the growth, but the effect of changing *a* is not as significant as changing *b*."
   ]
  },
  {
   "cell_type": "markdown",
   "id": "06f6e5a2-08bf-4769-b2ef-0773c6b81b0b",
   "metadata": {},
   "source": [
    "#### GENERATE DATA"
   ]
  },
  {
   "cell_type": "code",
   "execution_count": 28,
   "id": "fcd3f193-a1db-48cd-8dfb-5b561d54e6ee",
   "metadata": {},
   "outputs": [
    {
     "data": {
      "image/png": "[encoded data removed]",
      "text/plain": [
       "<Figure size 864x576 with 1 Axes>"
      ]
     },
     "metadata": {
      "needs_background": "light"
     },
     "output_type": "display_data"
    }
   ],
   "source": [
    "# Let's have a look at plot.\n",
    "a, b = 1.0, 1.0\n",
    "\n",
    "# Generate values for x.\n",
    "x = np.linspace(0.0, 5.0, 101)\n",
    "\n",
    "# Calculate y and add noise.\n",
    "y = a * np.exp(b * x) + np.random.normal(0.0, 2.0, len(x))\n",
    "\n",
    "# Create a plot.\n",
    "fig, ax = plt.subplots(figsize=(12, 8))\n",
    "ax.plot(x, y, 'k.');"
   ]
  },
  {
   "cell_type": "markdown",
   "id": "f1dd8616-ac4e-49a7-995e-0ada5ac4f9cb",
   "metadata": {},
   "source": [
    "It is important to note, and it is visible from the plot above, that the noise affects the smaller values more then the bigger values. This is because the noise is data normally distributed."
   ]
  },
  {
   "cell_type": "markdown",
   "id": "f3968955-3f72-4c49-8790-ebc0ed829a2b",
   "metadata": {},
   "source": [
    "We will try to find the values *a* and *b* in the paragraph below. The original values are both set to 1."
   ]
  },
  {
   "cell_type": "markdown",
   "id": "654cf69c-ea99-48d4-b393-6579473e7b85",
   "metadata": {},
   "source": [
    "#### FITTING EXPONENTIALS"
   ]
  },
  {
   "cell_type": "markdown",
   "id": "ea14fd9f-3a0d-45eb-a44c-eb4bc8d91d99",
   "metadata": {},
   "source": [
    "We will use polyfit to fit the exponential function. We've already stated that polyfit is used to fit polynomials, so in order to fit an exponential we need to find a way to convert the exponential function to the polynomial one. This can be done using the laws of logarithms. "
   ]
  },
  {
   "cell_type": "markdown",
   "id": "516b14ea-5142-40ac-9e86-898c02a1b2e9",
   "metadata": {},
   "source": [
    "$ y = ae^{bx} $\n",
    "\n",
    "$ \\Rightarrow \\log(y) = \\log(ae^{bx}) $\n",
    "\n",
    "$ \\Rightarrow \\log(y) = \\log(a) + \\log(e^{bx}) $\n",
    "\n",
    "$ \\Rightarrow \\log(y) = \\log(a) + bx\\log(e) $\n",
    "\n",
    "$ \\Rightarrow \\log(y) = \\log(a) + bx $\n",
    "\n",
    "$ \\Rightarrow \\log(y) = bx + \\log(a)$ = straight line"
   ]
  },
  {
   "cell_type": "code",
   "execution_count": 34,
   "id": "52c24954-74ca-4051-a0bd-39ab34558d83",
   "metadata": {
    "tags": []
   },
   "outputs": [
    {
     "name": "stderr",
     "output_type": "stream",
     "text": [
      "<ipython-input-34-6e5824098afc>:4: RuntimeWarning: invalid value encountered in log\n",
      "  ax.plot(x, np.log(y), 'k.');\n"
     ]
    },
    {
     "data": {
      "image/png": "[encoded data removed]",
      "text/plain": [
       "<Figure size 864x576 with 1 Axes>"
      ]
     },
     "metadata": {
      "needs_background": "light"
     },
     "output_type": "display_data"
    }
   ],
   "source": [
    "# Create a plot.\n",
    "fig, ax = plt.subplots(figsize=(12, 8))\n",
    "\n",
    "ax.plot(x, np.log(y), 'k.');\n",
    "\n",
    "# We'll get a warning doing the log(y) because there are values in y that are negative and the result is NaN"
   ]
  },
  {
   "cell_type": "code",
   "execution_count": 35,
   "id": "7a117de5-3325-4ac3-a8f4-85c28d41556d",
   "metadata": {},
   "outputs": [
    {
     "name": "stderr",
     "output_type": "stream",
     "text": [
      "<ipython-input-35-82b6fb7eb89b>:3: RuntimeWarning: invalid value encountered in log\n",
      "  nans = np.isnan(np.log(y))\n"
     ]
    }
   ],
   "source": [
    "# Ignore the NaN values\n",
    "# Check which values in log y are nan.\n",
    "nans = np.isnan(np.log(y))\n",
    "\n",
    "# Disregard x values where the corresponding log y value is nan.\n",
    "xnan = x[~nans]\n",
    "\n",
    "# Disregard y values where the log is nan.\n",
    "ynan = y[~nans]"
   ]
  },
  {
   "cell_type": "code",
   "execution_count": 37,
   "id": "c5086636-69d0-460f-9ec0-3a344afe8c03",
   "metadata": {},
   "outputs": [
    {
     "data": {
      "image/png": "[encoded data removed]",
      "text/plain": [
       "<Figure size 864x576 with 1 Axes>"
      ]
     },
     "metadata": {
      "needs_background": "light"
     },
     "output_type": "display_data"
    }
   ],
   "source": [
    "# Create a plot.\n",
    "fig, ax = plt.subplots(figsize=(12, 8))\n",
    "\n",
    "ax.plot(xnan, np.log(ynan), 'k.');"
   ]
  },
  {
   "cell_type": "markdown",
   "id": "f6334304-185e-4a6c-a7f3-5f88ae8d5035",
   "metadata": {},
   "source": [
    "#### POLYFIT"
   ]
  },
  {
   "cell_type": "code",
   "execution_count": 38,
   "id": "0e24daf7-c045-49b2-a0b7-3e84bd72098b",
   "metadata": {},
   "outputs": [
    {
     "data": {
      "text/plain": [
       "array([ 1.05967671, -0.23743204])"
      ]
     },
     "execution_count": 38,
     "metadata": {},
     "output_type": "execute_result"
    }
   ],
   "source": [
    "params = np.polyfit(xnan, np.log(ynan), 1)\n",
    "params"
   ]
  },
  {
   "cell_type": "code",
   "execution_count": 39,
   "id": "817c3242-574c-4885-ad65-f9a556cdea9e",
   "metadata": {},
   "outputs": [
    {
     "data": {
      "image/png": "[encoded data removed]",
      "text/plain": [
       "<Figure size 864x576 with 1 Axes>"
      ]
     },
     "metadata": {
      "needs_background": "light"
     },
     "output_type": "display_data"
    }
   ],
   "source": [
    "# Create a plot.\n",
    "fig, ax = plt.subplots(figsize=(12, 8))\n",
    "\n",
    "ax.plot(xnan, np.log(ynan), 'k.')\n",
    "\n",
    "ax.plot(xnan, params[0] * xnan + params[1], 'b-');"
   ]
  },
  {
   "cell_type": "code",
   "execution_count": 40,
   "id": "4a888cce-be1a-419d-af92-8ae4fb5131fc",
   "metadata": {},
   "outputs": [],
   "source": [
    "# Undo the effect of taking the log for the parameters.\n",
    "a_fit, b_fit = np.e**params[1], params[0]"
   ]
  },
  {
   "cell_type": "code",
   "execution_count": 41,
   "id": "16dab2d4-0427-4819-91ff-a88aa85494b1",
   "metadata": {},
   "outputs": [
    {
     "data": {
      "image/png": "[encoded data removed]",
      "text/plain": [
       "<Figure size 864x576 with 1 Axes>"
      ]
     },
     "metadata": {
      "needs_background": "light"
     },
     "output_type": "display_data"
    }
   ],
   "source": [
    "# Create a plot.\n",
    "fig, ax = plt.subplots(figsize=(12, 8))\n",
    "\n",
    "ax.plot(x, y, 'k.')\n",
    "\n",
    "ax.plot(x, a_fit * np.exp(b_fit * x), 'b-');"
   ]
  },
  {
   "cell_type": "code",
   "execution_count": null,
   "id": "3da94ccd-3b1b-4f1c-a976-c7c6a4f99939",
   "metadata": {},
   "outputs": [],
   "source": []
  },
  {
   "cell_type": "markdown",
   "id": "7ffd5e61-0707-4fcc-a9fd-974c9395c3ea",
   "metadata": {},
   "source": [
    "### REFERENCES"
   ]
  },
  {
   "cell_type": "markdown",
   "id": "1cd91d11-13ac-49dd-803e-5a9e5d170e73",
   "metadata": {},
   "source": [
    "1. https://www.datacamp.com/tutorial/parameter-optimization-machine-learning-models\n",
    "2. "
   ]
  },
  {
   "cell_type": "code",
   "execution_count": null,
   "id": "891c7fdf-7c8f-41f2-96f8-6fea0e752e97",
   "metadata": {},
   "outputs": [],
   "source": []
  },
  {
   "cell_type": "markdown",
   "id": "e8102397-6a09-4406-8f6b-8b88ede6c2e9",
   "metadata": {
    "tags": []
   },
   "source": [
    "- https://stackoverflow.com/questions/19792818/how-to-identify-exponential-growth-within-an-array-of-integer-data\n",
    "- https://rowannicholls.github.io/python/curve_fitting/exponential.html"
   ]
  },
  {
   "cell_type": "code",
   "execution_count": null,
   "id": "92c7a83e-cb4b-4ce4-9b94-7e130155fa91",
   "metadata": {},
   "outputs": [],
   "source": []
  }
 ],
 "metadata": {
  "kernelspec": {
   "display_name": "Python 3",
   "language": "python",
   "name": "python3"
  },
  "language_info": {
   "codemirror_mode": {
    "name": "ipython",
    "version": 3
   },
   "file_extension": ".py",
   "mimetype": "text/x-python",
   "name": "python",
   "nbconvert_exporter": "python",
   "pygments_lexer": "ipython3",
   "version": "3.8.8"
  }
 },
 "nbformat": 4,
 "nbformat_minor": 5
}
