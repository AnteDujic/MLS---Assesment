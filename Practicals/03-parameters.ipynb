{
 "cells": [
  {
   "cell_type": "code",
   "execution_count": null,
   "id": "0ad749f6-d2be-4626-969b-e1f9a2aa0188",
   "metadata": {},
   "outputs": [],
   "source": []
  },
  {
   "cell_type": "markdown",
   "id": "426dd3c5-0184-4cc7-9703-49f49912cb2b",
   "metadata": {},
   "source": [
    "# PARAMETERS\n",
    "## AUTHOR: ANTE DUJIC\n",
    "<hr style=\"border:2px solid gray\"> </hr>"
   ]
  },
  {
   "cell_type": "markdown",
   "id": "4d398312-5636-4dae-a857-0066b94ca446",
   "metadata": {},
   "source": [
    "<center><img src=\"https://cdn.lynda.com/course/645049/645049-636628390565991366-16x9.jpg\" width=\"500\"/></center>"
   ]
  },
  {
   "cell_type": "markdown",
   "id": "86add906-35fb-4af7-a468-0dabe6037f51",
   "metadata": {},
   "source": [
    "It is impossible to talk about models and machine learning without mentioning parameters. A model parameter is a configuration variable that is internal to the model and whose value can be estimated from the given data. [1]"
   ]
  },
  {
   "cell_type": "markdown",
   "id": "bddb7ea4-6ffc-491b-b603-b125bf0ee431",
   "metadata": {},
   "source": [
    "<hr style=\"border:2px solid gray\"> </hr>"
   ]
  },
  {
   "cell_type": "code",
   "execution_count": 1,
   "id": "907e01e3-56fa-4989-a880-7649c587217b",
   "metadata": {},
   "outputs": [],
   "source": [
    "# Arrays.\n",
    "import numpy as np\n",
    "\n",
    "# Plotting.\n",
    "import matplotlib.pyplot as plt"
   ]
  },
  {
   "cell_type": "markdown",
   "id": "7cc35de1-5a7b-4e59-a7f9-74f88f6bbb96",
   "metadata": {},
   "source": [
    "The model we will use below is the one for the straight line:\n",
    "\n",
    "###  $$y = mx + c$$"
   ]
  },
  {
   "cell_type": "code",
   "execution_count": 2,
   "id": "5ee6660b-ac7c-43bf-91f4-9704696bf44f",
   "metadata": {},
   "outputs": [
    {
     "data": {
      "text/plain": [
       "array([ 0. ,  0.5,  1. ,  1.5,  2. ,  2.5,  3. ,  3.5,  4. ,  4.5,  5. ,\n",
       "        5.5,  6. ,  6.5,  7. ,  7.5,  8. ,  8.5,  9. ,  9.5, 10. ])"
      ]
     },
     "execution_count": 2,
     "metadata": {},
     "output_type": "execute_result"
    }
   ],
   "source": [
    "# x values.\n",
    "x = np.linspace(0.0, 10.0, 21)\n",
    "x"
   ]
  },
  {
   "cell_type": "code",
   "execution_count": 3,
   "id": "b32bfb60-aac7-4220-8eef-56931a3fae08",
   "metadata": {},
   "outputs": [
    {
     "data": {
      "text/plain": [
       "array([ 0.27654759,  0.66119512,  0.51866134,  3.70305269,  6.6347431 ,\n",
       "        8.49762319, 10.39336826, 13.54672233, 13.66619268, 16.09112848,\n",
       "       18.80892905, 19.28957824, 21.67593566, 25.67185974, 26.47125146,\n",
       "       26.21047421, 29.5937273 , 30.90926922, 34.69422624, 36.38005575,\n",
       "       34.45644938])"
      ]
     },
     "execution_count": 3,
     "metadata": {},
     "output_type": "execute_result"
    }
   ],
   "source": [
    "# y values based on x.\n",
    "y = 4.0 * x - 2.0 + np.random.normal(0.0, 1.0, len(x))\n",
    "y"
   ]
  },
  {
   "cell_type": "code",
   "execution_count": 4,
   "id": "decac7e1-85a2-4e6a-aa54-45ef74470305",
   "metadata": {},
   "outputs": [
    {
     "data": {
      "image/png": "[encoded data removed]",
      "text/plain": [
       "<Figure size 1800x432 with 1 Axes>"
      ]
     },
     "metadata": {
      "needs_background": "light"
     },
     "output_type": "display_data"
    }
   ],
   "source": [
    "# Create a plot.\n",
    "fig, ax = plt.subplots(figsize=(25,6))\n",
    "\n",
    "# Plot x vs y.\n",
    "ax.plot(x, y, 'k.');\n"
   ]
  },
  {
   "cell_type": "markdown",
   "id": "24567281-c2cd-488f-9047-72ce84969243",
   "metadata": {},
   "source": [
    "We can see that the data follows the straight line adjusted for some noise. If we were just given x and y values without knowing the relationship between them, we can try to find the parameters m and c (4 and -2 in the example above). Those are the values that relate x and y together."
   ]
  },
  {
   "cell_type": "markdown",
   "id": "a8b7c651-b9c3-498d-8d54-7c2e1b6e458a",
   "metadata": {},
   "source": [
    "We do that using least square fit - in python *numpy.polyfit* function. This function takes 3 values:\n",
    "- x\n",
    "- y\n",
    "- degree of the fitting polynomial\n",
    "\n",
    "x and y values are obvious and are already given. We need to decide what degree will be used.\n",
    "\n",
    "- degree 1: $ y = ax^1 + bx^0 $\n",
    "- degree 2: $ y = ax^2 + bx^1 + cx^0 $\n",
    "- degree 3: $ y = ax^3+ bx^2 + cx^1 + dx^0 $\n",
    "\n",
    "The model used in this example is the one for the straight line, therefore the degree will be 1."
   ]
  },
  {
   "cell_type": "code",
   "execution_count": 5,
   "id": "69d12b17-ad17-4e7a-8058-a9c8627bff47",
   "metadata": {},
   "outputs": [
    {
     "name": "stdout",
     "output_type": "stream",
     "text": [
      "Original parameters: (4, -2)\n",
      "Generated parameters: [ 3.82685673 -1.12709358]\n"
     ]
    }
   ],
   "source": [
    "# Use x and y to try to find the original parameters.\n",
    "origParams = 4, -2\n",
    "params = np.polyfit(x, y, 1)\n",
    "print(\"Original parameters:\", origParams)\n",
    "print(\"Generated parameters:\", params)"
   ]
  },
  {
   "cell_type": "code",
   "execution_count": 6,
   "id": "8581de05-cb8c-4622-aa2d-d7eaee8822f2",
   "metadata": {},
   "outputs": [
    {
     "data": {
      "image/png": "[encoded data removed]",
      "text/plain": [
       "<Figure size 864x432 with 1 Axes>"
      ]
     },
     "metadata": {
      "needs_background": "light"
     },
     "output_type": "display_data"
    }
   ],
   "source": [
    "# Create a plot.\n",
    "fig, ax = plt.subplots(figsize=(12,6))\n",
    "\n",
    "# Plot x vs y.\n",
    "ax.plot(x, y, 'k.')\n",
    "\n",
    "# Plot x vs parameters on x.\n",
    "ax.plot(x, params[0] * x + params[1], 'b-');"
   ]
  },
  {
   "cell_type": "code",
   "execution_count": null,
   "id": "5b67b537-ae69-49d9-b5bb-8d3465a9e038",
   "metadata": {},
   "outputs": [],
   "source": []
  },
  {
   "cell_type": "code",
   "execution_count": null,
   "id": "503a91a2-c052-4b29-b79e-fe6415179b63",
   "metadata": {
    "tags": []
   },
   "outputs": [],
   "source": []
  },
  {
   "cell_type": "code",
   "execution_count": null,
   "id": "e0a8fc89-dc9a-41b5-8ef5-af0bac05c7b7",
   "metadata": {},
   "outputs": [],
   "source": []
  },
  {
   "cell_type": "code",
   "execution_count": null,
   "id": "8d3b040e-6daa-495e-be49-d62136844302",
   "metadata": {},
   "outputs": [],
   "source": []
  },
  {
   "cell_type": "code",
   "execution_count": null,
   "id": "2efa559a-8de8-43e7-a791-a1065704204a",
   "metadata": {},
   "outputs": [],
   "source": []
  },
  {
   "cell_type": "markdown",
   "id": "cde180cf-2a6d-418c-bb02-21557cab63d8",
   "metadata": {},
   "source": [
    "<hr style=\"border-top: 1px solid #001a79;\" />\n",
    "\n",
    "<h4 style=\"color: #001a79;\">EXERCISE 1</h4>"
   ]
  },
  {
   "cell_type": "markdown",
   "id": "6d3c7c02-7845-4cc2-8b22-dca6dae33774",
   "metadata": {},
   "source": [
    "<h5 style=\"color: #001a79;\">Use numpy's polyfit to fit polynomials to the following two data sets.\n",
    "\n",
    "- Data Set 1:\n",
    "\n",
    "    - x = [0.0, 1.0, 2.0, 3.0, 4.0, 5.0, 6.0, 7.0, 8.0, 9.0, 10.0, 11.0, 12.0, 13.0, 14.0, 15.0]\n",
    "    - y = [1.3, 1.2, 9.4, 27.3, 63.1, 126.5, 217.3, 341.5, 512.8, 729.3, 1001.8, 1332.7, 1728.9, 2198.8, 2743.7, 3376.7] <br><br>\n",
    "\n",
    "    \n",
    "- Data Set 2:\n",
    "\n",
    "    - x = [0.0, 1.0, 2.0, 3.0, 4.0, 5.0, 6.0, 7.0, 8.0, 9.0, 10.0, 11.0, 12.0]\n",
    "    - y = [5.7, 16.6, 58.0, 278.9, 1069.3, 3181.4, 7844.3, 16883.9, 32854.9, 59144.2, 100106.7, 161166.3, 248958.6] </h5>\n",
    "\n",
    "<hr style=\"border-top: 1px solid #001a79;\" />"
   ]
  },
  {
   "cell_type": "markdown",
   "id": "27299088-0681-4533-bf07-3aa93b0c6a98",
   "metadata": {},
   "source": [
    "##### DATA 1"
   ]
  },
  {
   "cell_type": "code",
   "execution_count": 7,
   "id": "3d62b38a-9e91-4c33-9aa6-468287fc94e8",
   "metadata": {},
   "outputs": [],
   "source": [
    "x = [0.0, 1.0, 2.0, 3.0, 4.0, 5.0, 6.0, 7.0, 8.0, 9.0, 10.0, 11.0, 12.0, 13.0, 14.0, 15.0]\n",
    "y = [1.3, 1.2, 9.4, 27.3, 63.1, 126.5, 217.3, 341.5, 512.8, 729.3, 1001.8, 1332.7, 1728.9, 2198.8, 2743.7, 3376.7]\n",
    "x = np.array(x)\n",
    "y = np.array(y)"
   ]
  },
  {
   "cell_type": "code",
   "execution_count": 8,
   "id": "10ad6213-c32a-4cc6-90c7-6fcf980327bc",
   "metadata": {},
   "outputs": [
    {
     "data": {
      "text/plain": [
       "array([  22.51017157, -130.81095588,  137.31262255])"
      ]
     },
     "execution_count": 8,
     "metadata": {},
     "output_type": "execute_result"
    }
   ],
   "source": [
    "params = np.polyfit(x, y, 2)\n",
    "params"
   ]
  },
  {
   "cell_type": "code",
   "execution_count": 9,
   "id": "f2d51d9f-5e9e-48dd-bff5-3c0738397287",
   "metadata": {},
   "outputs": [
    {
     "data": {
      "image/png": "[encoded data removed]",
      "text/plain": [
       "<Figure size 864x432 with 1 Axes>"
      ]
     },
     "metadata": {
      "needs_background": "light"
     },
     "output_type": "display_data"
    }
   ],
   "source": [
    "# Create a plot.\n",
    "fig, ax = plt.subplots(figsize=(12,6))\n",
    "\n",
    "# Plot x vs y.\n",
    "ax.plot(x, y, 'k.')\n",
    "\n",
    "# Plot x vs parameters on x.\n",
    "ax.plot(x, params[0] * x**2 + params[1] * x + params[2], 'b-');"
   ]
  },
  {
   "cell_type": "markdown",
   "id": "be75fc2d-92bc-4c01-8810-71e607c3d21b",
   "metadata": {},
   "source": [
    "##### DATA 2"
   ]
  },
  {
   "cell_type": "code",
   "execution_count": 13,
   "id": "36875382-18bf-4f73-a5b8-2955b01608d4",
   "metadata": {},
   "outputs": [],
   "source": [
    "x = [0.0, 1.0, 2.0, 3.0, 4.0, 5.0, 6.0, 7.0, 8.0, 9.0, 10.0, 11.0, 12.0]\n",
    "y = [5.7, 16.6, 58.0, 278.9, 1069.3, 3181.4, 7844.3, 16883.9, 32854.9, 59144.2, 100106.7, 161166.3, 248958.6]\n",
    "x = np.array(x)\n",
    "y = np.array(y)"
   ]
  },
  {
   "cell_type": "code",
   "execution_count": 14,
   "id": "50489de5-673e-4560-a27e-ef5411fa611f",
   "metadata": {},
   "outputs": [
    {
     "data": {
      "text/plain": [
       "array([  3218.5461039 , -22394.36478521,  22021.0989011 ])"
      ]
     },
     "execution_count": 14,
     "metadata": {},
     "output_type": "execute_result"
    }
   ],
   "source": [
    "params = np.polyfit(x, y, 2)\n",
    "params"
   ]
  },
  {
   "cell_type": "code",
   "execution_count": 15,
   "id": "cb8367b8-55ea-423a-a3a8-c7cfb5f2a0bd",
   "metadata": {},
   "outputs": [
    {
     "data": {
      "image/png": "[encoded data removed]",
      "text/plain": [
       "<Figure size 864x432 with 1 Axes>"
      ]
     },
     "metadata": {
      "needs_background": "light"
     },
     "output_type": "display_data"
    }
   ],
   "source": [
    "# Create a plot.\n",
    "fig, ax = plt.subplots(figsize=(12,6))\n",
    "\n",
    "# Plot x vs y.\n",
    "ax.plot(x, y, 'k.')\n",
    "\n",
    "# Plot x vs parameters on x.\n",
    "ax.plot(x, params[0] * x**2 + params[1] * x + params[2], 'b-');"
   ]
  },
  {
   "cell_type": "code",
   "execution_count": null,
   "id": "ec8e9923-545f-45a7-9a5f-dd2d73c7d494",
   "metadata": {},
   "outputs": [],
   "source": []
  },
  {
   "cell_type": "code",
   "execution_count": null,
   "id": "53454bc5-09b9-4fbc-96d0-8e698c3123c8",
   "metadata": {},
   "outputs": [],
   "source": []
  },
  {
   "cell_type": "markdown",
   "id": "7ffd5e61-0707-4fcc-a9fd-974c9395c3ea",
   "metadata": {},
   "source": [
    "### REFERENCES"
   ]
  },
  {
   "cell_type": "markdown",
   "id": "1cd91d11-13ac-49dd-803e-5a9e5d170e73",
   "metadata": {},
   "source": [
    "1. https://www.datacamp.com/tutorial/parameter-optimization-machine-learning-models\n",
    "2. "
   ]
  },
  {
   "cell_type": "code",
   "execution_count": null,
   "id": "891c7fdf-7c8f-41f2-96f8-6fea0e752e97",
   "metadata": {},
   "outputs": [],
   "source": []
  }
 ],
 "metadata": {
  "kernelspec": {
   "display_name": "Python 3",
   "language": "python",
   "name": "python3"
  },
  "language_info": {
   "codemirror_mode": {
    "name": "ipython",
    "version": 3
   },
   "file_extension": ".py",
   "mimetype": "text/x-python",
   "name": "python",
   "nbconvert_exporter": "python",
   "pygments_lexer": "ipython3",
   "version": "3.8.8"
  }
 },
 "nbformat": 4,
 "nbformat_minor": 5
}
